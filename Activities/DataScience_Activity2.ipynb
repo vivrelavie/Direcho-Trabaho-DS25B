{
 "cells": [
  {
   "cell_type": "code",
   "execution_count": 43,
   "id": "2e2027a1-2b0f-483b-8b1a-ff49297f3561",
   "metadata": {},
   "outputs": [],
   "source": [
    "input(str('Name:'))"
   ]
  },
  {
   "cell_type": "markdown",
   "id": "a5c8d4f3-bab5-4b94-8a65-52e367837e80",
   "metadata": {
    "deletable": false,
    "editable": false,
    "slideshow": {
     "slide_type": ""
    },
    "tags": []
   },
   "source": [
    "# Activity 2 (Python Fundamentals II: Data Structures)"
   ]
  },
  {
   "cell_type": "markdown",
   "id": "da89df9e-ad8a-4ca7-873c-cd8e3505fcb5",
   "metadata": {
    "deletable": false,
    "editable": false
   },
   "source": [
    "#### 1. Attendance reconciliation\n",
    "Registered vs actually arrived. Build a dict with name:\"present\"/\"absent\". Count totals and list absentees."
   ]
  },
  {
   "cell_type": "code",
   "execution_count": 12,
   "id": "aeab2b82-04a9-45ae-a019-d955a9f3731a",
   "metadata": {},
   "outputs": [],
   "source": [
    "registered = [\"Ana\",\"Ben\",\"Cara\",\"Dan\",\"Ella\"]\n",
    "arrived    = [\"Ben\",\"Ana\",\"Ella\"]"
   ]
  },
  {
   "cell_type": "code",
   "execution_count": 11,
   "id": "28966dea-0cbc-4c21-b2f4-e7d2009721cb",
   "metadata": {},
   "outputs": [],
   "source": [
    "# Solution"
   ]
  },
  {
   "cell_type": "markdown",
   "id": "b94de799-35c3-4ace-afde-22ae5b6d3746",
   "metadata": {
    "deletable": false,
    "editable": false
   },
   "source": [
    "#### 2. Simple loan pre-check\n",
    "Pass if age >= 21 and debt to income ration <= 0.4"
   ]
  },
  {
   "cell_type": "code",
   "execution_count": 13,
   "id": "1de87623-8063-4744-9979-65dec6bb0759",
   "metadata": {},
   "outputs": [],
   "source": [
    "names = [\"Ava\",\"Bo\",\"Cam\",\"Dee\"]\n",
    "ages  = [22,   20,  35,  28]\n",
    "income= [30000,15000,45000, 25000] \n",
    "debt  = [12000, 8000,10000, 12000]"
   ]
  },
  {
   "cell_type": "code",
   "execution_count": 14,
   "id": "941bb2a6-97f3-4368-9aee-f9fe47c45692",
   "metadata": {},
   "outputs": [],
   "source": [
    "# Solution"
   ]
  },
  {
   "cell_type": "markdown",
   "id": "c36fe2aa-5ee0-45bc-9b2f-bacb9f31d32b",
   "metadata": {
    "deletable": false,
    "editable": false
   },
   "source": [
    "#### 3. Packaging Compliance\n",
    "If an order’s weight_kg > 20, mark \"Split required\", else \"OK\". Show unique items that need splitting."
   ]
  },
  {
   "cell_type": "code",
   "execution_count": 15,
   "id": "36d7c74a-cdb7-49ba-a863-a4d2f3b44cee",
   "metadata": {},
   "outputs": [],
   "source": [
    "items = [\"Paper\",\"Ink\",\"Binder\",\"Paper\",\"Stand\"]\n",
    "weights = [12.0, 22.5, 3.0, 25.0, 18.0]"
   ]
  },
  {
   "cell_type": "code",
   "execution_count": 16,
   "id": "6d845236-6b48-40c3-aeda-3ea4ec55f35a",
   "metadata": {},
   "outputs": [],
   "source": [
    "#Solution"
   ]
  },
  {
   "cell_type": "markdown",
   "id": "b6a97dbb-9761-447d-8c20-566eba9a3832",
   "metadata": {
    "deletable": false,
    "editable": false
   },
   "source": [
    "#### 4. Room Capacity Snapshot\n",
    "Build room:slack record where slack = capacity - assigned. Also collect a set of full rooms."
   ]
  },
  {
   "cell_type": "code",
   "execution_count": 17,
   "id": "aa7945ca-f7e7-4bd6-91b9-6a266b3531ad",
   "metadata": {},
   "outputs": [],
   "source": [
    "rooms     = [\"A\",\"B\",\"C\",\"D\"]\n",
    "capacity  = [30, 20, 25, 10]\n",
    "assigned  = [28, 20, 26,  9]"
   ]
  },
  {
   "cell_type": "code",
   "execution_count": 20,
   "id": "368da435-e4a4-4e53-836e-4893572d7bf4",
   "metadata": {},
   "outputs": [],
   "source": [
    "# Solution"
   ]
  },
  {
   "cell_type": "markdown",
   "id": "f7b71c39-f317-463f-9c0b-f6cab4ef343f",
   "metadata": {
    "deletable": false,
    "editable": false
   },
   "source": [
    "#### 5. Survey cleanup and rate\n",
    "Clean responses (which should only be yes/no). Compute yes rate.\n",
    "Notes:\n",
    "- `.strip` method: remove leading and trailing spaces\n",
    "- `.upper()`/ `.lower()` method: converts string to uppercase/lowercase respectively"
   ]
  },
  {
   "cell_type": "code",
   "execution_count": 23,
   "id": "2db9fc65-5b51-44b4-baf8-b2bb75cbe95c",
   "metadata": {},
   "outputs": [],
   "source": [
    "raw_data = [\"Yes\",\"yes \",\" NO\",\"no\",\"YES\",\"No \", '?', 'Maybe', ' YES ']"
   ]
  },
  {
   "cell_type": "code",
   "execution_count": 24,
   "id": "b49f3bb2-773f-4b3d-ab9d-8276192175e0",
   "metadata": {},
   "outputs": [],
   "source": [
    "# Solution"
   ]
  },
  {
   "cell_type": "markdown",
   "id": "57dd3a10-a1e6-436a-ab7d-b6d284645752",
   "metadata": {
    "deletable": false,
    "editable": false
   },
   "source": [
    "### Mini Lab 1: Course Scorebook and Riskflags\n",
    "Compute weighted finals and simple risk flags without pandas.\n",
    "Do:\n",
    "- Final scores with their corresponsing weight\n",
    "- final_by_student (dict).\n",
    "- risk_flags (dict): \"At risk\" if final < pass_mark or any component < 60.\n",
    "- Class summary: average final, set of students above 85."
   ]
  },
  {
   "cell_type": "code",
   "execution_count": 25,
   "id": "299c13fd-8db7-4071-bf95-c1c8410da7b6",
   "metadata": {},
   "outputs": [],
   "source": [
    "students = [\"Ava\",\"Bo\",\"Cam\",\"Dee\"]\n",
    "quiz     = [78,    55,  92,   64]\n",
    "project  = [85,    60,  88,   70]\n",
    "exam     = [80,    58,  94,   62]\n",
    "\n",
    "weights = (0.2, 0.3, 0.5)  # (quiz, project, exam) tuple\n",
    "pass_mark = 70"
   ]
  },
  {
   "cell_type": "code",
   "execution_count": 26,
   "id": "8693b36e-60c6-44b4-a623-e663c04d03cc",
   "metadata": {},
   "outputs": [],
   "source": [
    "# Solution"
   ]
  },
  {
   "cell_type": "markdown",
   "id": "39adfec2-3396-41f4-9027-566fd9044446",
   "metadata": {
    "deletable": false,
    "editable": false
   },
   "source": [
    "### Mini Lab 2: Local Delivery Audit\n",
    "Price deliveries, summarize by zone, and check a simple fairness rule.\n",
    "\n",
    "Pricing rule\n",
    "- Fee = base_fee[size] + km * per_km.\n",
    "- If zone is in remote_zones, add surcharge + 30.\n",
    "\n",
    "Do:\n",
    "- fee_per_order (dict) and grand total.\n",
    "- revenue_per_zone (dict).\n",
    "- Simple fairness check: if average fee in S exceeds average of all other zones by more than `FAIRNESS_RULE[1] * 30`, then fairness status = \"Review fairness\" else \"OK\"."
   ]
  },
  {
   "cell_type": "code",
   "execution_count": 27,
   "id": "b580db34-d960-4547-b3c8-a976567b7858",
   "metadata": {},
   "outputs": [],
   "source": [
    "order_id = [901, 902, 903, 904, 905]\n",
    "zone     = [\"N\",\"S\",\"N\",\"E\",\"S\"]      # delivery zones\n",
    "km       = [3.0, 12.0, 6.0, 4.5, 15.0]\n",
    "size     = [\"S\",\"L\",\"M\",\"S\",\"L\"]      # parcel size\n",
    "\n",
    "base_fee = {\"S\": 60.0, \"M\": 90.0, \"L\": 120.0}\n",
    "per_km   = 8.0\n",
    "remote_zones = set([\"S\"])             # only basic membership\n",
    "FAIRNESS_RULE = (\"S\", 2)              # tuple: (zone, max allowed above other zones)"
   ]
  },
  {
   "cell_type": "code",
   "execution_count": 28,
   "id": "1c5800b5-426c-4908-9d86-ccd616a41472",
   "metadata": {},
   "outputs": [],
   "source": [
    "# Solution"
   ]
  },
  {
   "cell_type": "markdown",
   "id": "b3e2ca9c-4fa3-44d1-bc72-2aff04bd9ac7",
   "metadata": {
    "deletable": false,
    "editable": false
   },
   "source": [
    "### Mini Lab: Day of Orders\n",
    "Follow the steps and provide the report summary needed\n",
    "\n",
    "\n",
    "Report Summary:\n",
    "- Paid Orders\n",
    "- Unique Customers\n",
    "- Gross Revenue\n",
    "- Net Revenue\n",
    "- Revenue per City\n",
    "- Revenue per item\n",
    "- Revenue per channel\n",
    "- Revenue per (city, channel)\n",
    "- Order per customer\n",
    "- Top item by revenue\n",
    "- Top city by NET\n",
    "- Label status"
   ]
  },
  {
   "cell_type": "code",
   "execution_count": 1,
   "id": "a564f928-ae85-474c-b22d-ee0f2d650101",
   "metadata": {},
   "outputs": [],
   "source": [
    "# \n",
    "order_id = [2001, 2002, 2003, 2004, 2005, 2006]\n",
    "customer = [\"Ana\", \"Ben\", \"Ana\", \"Cara\", \"Don\", \"Ben\"]\n",
    "city_raw = [\"Cebu\", \"cebu \", \"Manila\", \"cebu\", \"Davao\", \" MANILA \"]\n",
    "item     = [\"Latte\", \"Muffin\", \"Latte\", \"Tea\", \"Latte\", \"Tea\"]\n",
    "qty      = [2, 3, 1, 2, 1, 4]\n",
    "channel  = [\"app\", \"web\", \"app\", \"app\", \"web\", \"web\"]\n",
    "paid     = [True, False, True, True, True, True]\n",
    "\n",
    "# Price table \n",
    "price = {\"Latte\": 150.0, \"Tea\": 90.0, \"Muffin\": 75.0}\n",
    "\n",
    "# Delivery/processing fee per channel)\n",
    "fee_by_channel = {\"app\": 20.0, \"web\": 10.0}\n",
    "\n",
    "# Target thresholds  (revenue_target, min_unique_customers)\n",
    "targets = (800.0, 4)  "
   ]
  },
  {
   "cell_type": "code",
   "execution_count": 2,
   "id": "27d3af86-79ed-48ec-aed4-cb73ebf61a2b",
   "metadata": {},
   "outputs": [],
   "source": [
    "# Helper Functions\n",
    "def add_amount(d,key,amount):\n",
    "    if key in d:\n",
    "        d[key] = d[key] + amount\n",
    "    else:\n",
    "        d[key] = amount\n",
    "\n",
    "def clean_city(city):\n",
    "    return city.strip().lower()\n",
    "\n",
    "\n",
    "# Unpacked targets\n",
    "revenuw_target, min_unique_cust = targets"
   ]
  },
  {
   "cell_type": "markdown",
   "id": "1c04b32e-96e2-4ead-a871-3150f8f07264",
   "metadata": {},
   "source": [
    "#### 1: Build a cleaned city list (use the provided function)"
   ]
  },
  {
   "cell_type": "code",
   "execution_count": 4,
   "id": "d8393734-f6e5-4f74-829f-01dc7477821a",
   "metadata": {},
   "outputs": [],
   "source": []
  },
  {
   "cell_type": "markdown",
   "id": "ec4e6dde-f361-4507-ba6f-48373c669dc0",
   "metadata": {},
   "source": [
    "#### 2. Keep only paid rows (create new filtered list)\n",
    "Loop with zip and append to filtered lists only if paid is True (*zip(order_id, customer, city, item, qty, channel, paid)*)"
   ]
  },
  {
   "cell_type": "code",
   "execution_count": null,
   "id": "67bf62fd-5f7b-420d-abc7-18c587d68e05",
   "metadata": {},
   "outputs": [],
   "source": []
  },
  {
   "cell_type": "markdown",
   "id": "c69451a3-ab8d-44c5-890c-173ff100de28",
   "metadata": {},
   "source": [
    "#### 3. Compute line totals, Aggregate\n",
    "Loop rows of the filtered list with zip"
   ]
  },
  {
   "cell_type": "code",
   "execution_count": 8,
   "id": "02e882c7-e012-4920-89c5-07a3f6f0fa83",
   "metadata": {},
   "outputs": [],
   "source": [
    "revenue_per_city = {}       # groupby city sum\n",
    "revenue_per_item = {}       # groupby item sum\n",
    "orders_per_customer = {}    # groupby customer count\n",
    "revenue_per_channel = {}    # groupby channel sum\n",
    "revenue_city_channel = {}   # pivot-lite keyed by (city, channel)\n",
    "\n",
    "grand_revenue = 0.0\n",
    "unique_customers = set()"
   ]
  },
  {
   "cell_type": "code",
   "execution_count": null,
   "id": "16fbfc7e-7d91-4a8c-b343-f7fdfaf69bd8",
   "metadata": {},
   "outputs": [],
   "source": []
  },
  {
   "cell_type": "markdown",
   "id": "ba8bdd6f-31d6-49ea-b420-997340dac170",
   "metadata": {},
   "source": [
    "#### 4. Join fee_by_channel to get NET revenue\n",
    "Loop again over filtered rows, compute  *(NET revenue = Gross - fees (channel fee))*"
   ]
  },
  {
   "cell_type": "code",
   "execution_count": 10,
   "id": "78658de0-0119-47dd-952a-a1ffefa80e28",
   "metadata": {},
   "outputs": [],
   "source": [
    "net_revenue_per_city = {}\n",
    "grand_net = 0.0"
   ]
  },
  {
   "cell_type": "code",
   "execution_count": null,
   "id": "6cbe1087-1b54-47c5-993f-06523ba97ee0",
   "metadata": {},
   "outputs": [],
   "source": []
  },
  {
   "cell_type": "markdown",
   "id": "5d0f5f46-4c2c-4583-bbc3-f0a472b52a4d",
   "metadata": {},
   "source": [
    "#### 5. Simple top findings (no sorting needed)\n",
    "Find top item by revenue and top city by net revenue (sacn dicts)"
   ]
  },
  {
   "cell_type": "code",
   "execution_count": null,
   "id": "b67e1f7c-92d5-403f-ba90-5a203918d644",
   "metadata": {},
   "outputs": [],
   "source": []
  },
  {
   "cell_type": "markdown",
   "id": "de03c649-86f1-4162-b4ce-df4c1031a505",
   "metadata": {},
   "source": [
    "#### 6. Provide label status\n",
    "If grand net is more than or equal to the revenue target and the unique customers is equal or exceed the minimum unique customer then label = Great Day.\n",
    "If not then just put Normal"
   ]
  },
  {
   "cell_type": "markdown",
   "id": "b34f367e-1174-4c3d-8fbd-58ddbda547dc",
   "metadata": {},
   "source": [
    "#### 7.Report Summary\n",
    "- Paid Orders\n",
    "- Unique Customers\n",
    "- Gross Revenue\n",
    "- Net Revenue\n",
    "- Revenue per City\n",
    "- Revenue per item\n",
    "- Revenue per channel\n",
    "- Revenue per (city, channel)\n",
    "- Order per customer\n",
    "- Top item by revenue\n",
    "- Top city by NET\n",
    "- Label status"
   ]
  },
  {
   "cell_type": "code",
   "execution_count": null,
   "id": "25482daf-910e-4954-b8f1-f6cb0764514b",
   "metadata": {},
   "outputs": [],
   "source": []
  },
  {
   "cell_type": "markdown",
   "id": "307549c8-0376-4080-ae00-03a9e279a7df",
   "metadata": {},
   "source": [
    "Provide your insight/finding on:\n",
    "- What’s the smallest tweak to hit “Great day” (more customers or more revenue)?"
   ]
  },
  {
   "cell_type": "code",
   "execution_count": null,
   "id": "9f267e35-7a08-4a67-b8e4-6efbfc260e95",
   "metadata": {},
   "outputs": [],
   "source": []
  },
  {
   "cell_type": "markdown",
   "id": "91b73f70-c297-4cb9-94e0-caf72c12360a",
   "metadata": {
    "deletable": false,
    "editable": false
   },
   "source": [
    "### Mini-Lab: Ride-Hailing Day — Fares, Payouts, and Health Check\n",
    "\n",
    "Provide your insights/findings on the ff:\n",
    "- Which city contributed the most NET and why (mix of surge, distance, channel)?\n",
    "- If the platform wants higher NET without raising prices, which lever is best (channel fees vs driver_share vs surge policy)?"
   ]
  },
  {
   "cell_type": "code",
   "execution_count": 34,
   "id": "8b4acd59-db6f-46b5-8f28-1faa53d8d888",
   "metadata": {},
   "outputs": [],
   "source": [
    "trip_id = [3101, 3102, 3103, 3104, 3105, 3106, 3107]\n",
    "rider   = [\"Ana\",\"Ben\",\"Ana\",\"Cara\",\"Don\",\"Eva\",\"Ben\"]\n",
    "driver  = [\"D1\",\"D2\",\"D1\",\"D3\",\"D2\",\"D2\",\"D3\"]\n",
    "city_raw= [\"Cebu\",\"cebu \",\"Manila\",\"Cebu\",\"Davao\",\" MANILA \",\"Davao\"]\n",
    "service = [\"eco\",\"eco\",\"premium\",\"eco\",\"premium\",\"eco\",\"eco\"]\n",
    "km      = [3.5, 12.0, 8.0, 5.0, 10.0, 4.0, 7.5]\n",
    "period  = [\"off\",\"peak\",\"off\",\"peak\",\"peak\",\"off\",\"off\"]\n",
    "channel = [\"app\",\"partner\",\"app\",\"app\",\"partner\",\"web\",\"app\"]\n",
    "paid    = [True, True, True, False, True, True, True]  # one unpaid/cancelled\n",
    "\n",
    "# Lookup tables\n",
    "rate_per_km = {\"eco\": 15.0, \"premium\": 30.0}\n",
    "surge_mult  = {\"peak\": 1.5, \"off\": 1.0}\n",
    "booking_fee_by_channel = {\"app\": 12.0, \"partner\": 8.0, \"web\": 10.0}\n",
    "\n",
    "# Payout rule: driver receives 75% of the distance component (not the booking fee)\n",
    "driver_share = 0.75\n",
    "\n",
    "# Health targets: (net_target, max_cancel_rate, min_unique_riders)\n",
    "targets = (1200.0, 0.20, 4)\n"
   ]
  },
  {
   "cell_type": "markdown",
   "id": "bdc862a1-5f9a-49db-b88f-e5361ac3bd36",
   "metadata": {},
   "source": [
    "#### 1: Build a cleaned city list (use the provided function)"
   ]
  },
  {
   "cell_type": "code",
   "execution_count": null,
   "id": "e020add8-967b-466a-bc10-dc5766bf050d",
   "metadata": {},
   "outputs": [],
   "source": []
  },
  {
   "cell_type": "markdown",
   "id": "773fc546-aa55-4878-8344-1cabbb5429bd",
   "metadata": {},
   "source": [
    "#### 2. Filter to Paid Trips\n",
    "Append to filtered list if paid and compute for the cancellation rate (% of those who cancelled)"
   ]
  },
  {
   "cell_type": "code",
   "execution_count": null,
   "id": "73ec3f1e-ab69-4530-ba62-0a02fa5efff3",
   "metadata": {},
   "outputs": [],
   "source": []
  },
  {
   "cell_type": "code",
   "execution_count": 36,
   "id": "e8cb0ae4-d437-43ad-82f8-9d799e3784d5",
   "metadata": {},
   "outputs": [],
   "source": [
    "# For cancellation rate\n"
   ]
  },
  {
   "cell_type": "markdown",
   "id": "6e267f5c-1008-4f0b-8f2a-61f037688564",
   "metadata": {},
   "source": [
    "#### 3. Compute for Gross Fare and Aggregates\n",
    "- Fare per trip: base_component = km * rate_per_km[service] * surge_mult[period]\n",
    "- gross_fare = base_component + booking_fee_by_channel[channel]"
   ]
  },
  {
   "cell_type": "code",
   "execution_count": 37,
   "id": "a9d23d99-5c4c-4e5d-9938-dc8e76d39ec3",
   "metadata": {},
   "outputs": [],
   "source": [
    "gross_per_city     = {}\n",
    "gross_per_service  = {}\n",
    "gross_per_channel  = {}\n",
    "gross_city_service = {}   # keyed by (city, service)\n",
    "payout_per_driver  = {}\n",
    "orders_per_rider   = {}\n",
    "\n",
    "grand_gross = 0.0\n",
    "unique_riders = set()"
   ]
  },
  {
   "cell_type": "code",
   "execution_count": null,
   "id": "bb4cc680-4b6c-47d6-95f1-5a739d73894e",
   "metadata": {},
   "outputs": [],
   "source": []
  },
  {
   "cell_type": "markdown",
   "id": "22452dfe-6a2f-4b10-8126-8ad270ff6a7f",
   "metadata": {},
   "source": [
    "#### 4. Compute for Platform NET\n",
    "- net per trip = (base_component - driver_payout) + booking_fee <br>\n",
    "(simplified: *base_component * (1-driver_share) + fee*)"
   ]
  },
  {
   "cell_type": "code",
   "execution_count": 38,
   "id": "9e91ecc8-eb52-486e-87bb-ec3038e728eb",
   "metadata": {},
   "outputs": [],
   "source": [
    "net_per_city = {}\n",
    "grand_net = 0.0"
   ]
  },
  {
   "cell_type": "code",
   "execution_count": null,
   "id": "6ef5f8e2-a1a4-47c1-b49f-f8576b39decf",
   "metadata": {},
   "outputs": [],
   "source": []
  },
  {
   "cell_type": "markdown",
   "id": "74b708f2-2cfe-43a6-8484-2740c6fd2335",
   "metadata": {},
   "source": [
    "#### 5. Top Findings"
   ]
  },
  {
   "cell_type": "code",
   "execution_count": 39,
   "id": "d3794ee9-2af3-4785-b804-45747daf7762",
   "metadata": {},
   "outputs": [],
   "source": [
    "top_service = None\n",
    "\n",
    "top_city_net = None"
   ]
  },
  {
   "cell_type": "code",
   "execution_count": null,
   "id": "ce1fe7b7-155c-4af7-ad57-f32a2ea1f8f2",
   "metadata": {},
   "outputs": [],
   "source": []
  },
  {
   "cell_type": "markdown",
   "id": "a79d456a-76cf-43f5-a8a5-7e4c1eff372c",
   "metadata": {},
   "source": [
    "#### 6. Label\n",
    "\"Healthy\" if \n",
    "- grand_net >= net_target AND cancel_rate <= max_cancel_rate AND unique riders >= min_unique_riders\n",
    "\n",
    "Else - label: Review"
   ]
  },
  {
   "cell_type": "code",
   "execution_count": null,
   "id": "f59cc05f-d88b-4bde-9077-3c7d4cf35ecb",
   "metadata": {},
   "outputs": [],
   "source": []
  },
  {
   "cell_type": "markdown",
   "id": "54f26e9e-bf33-4e7e-87b2-797663a85d88",
   "metadata": {},
   "source": [
    "#### Summary Report\n",
    "- Paid Trips\n",
    "- Unique Riders\n",
    "- Grand Gross\n",
    "- Grand NET\n",
    "- Gross per City\n",
    "- Gross per service\n",
    "- Gross per channel\n",
    "- Gross per (city, service)\n",
    "- Driber payout per driver\n",
    "- Orders per rider\n",
    "- Rop service by Gross\n",
    "- Top city by NET\n",
    "- Label"
   ]
  },
  {
   "cell_type": "code",
   "execution_count": null,
   "id": "17cce281-bb5e-4e84-a683-ce1066f344da",
   "metadata": {},
   "outputs": [],
   "source": []
  }
 ],
 "metadata": {
  "kernelspec": {
   "display_name": "Python 3 (ipykernel)",
   "language": "python",
   "name": "python3"
  },
  "language_info": {
   "codemirror_mode": {
    "name": "ipython",
    "version": 3
   },
   "file_extension": ".py",
   "mimetype": "text/x-python",
   "name": "python",
   "nbconvert_exporter": "python",
   "pygments_lexer": "ipython3",
   "version": "3.12.7"
  }
 },
 "nbformat": 4,
 "nbformat_minor": 5
}
