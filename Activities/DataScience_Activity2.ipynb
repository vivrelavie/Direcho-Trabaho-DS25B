{
  "cells": [
    {
      "cell_type": "markdown",
      "metadata": {
        "id": "view-in-github",
        "colab_type": "text"
      },
      "source": [
        "<a href=\"https://colab.research.google.com/github/vivrelavie/Direcho-Trabaho-DS25B/blob/main/Activities/DataScience_Activity2.ipynb\" target=\"_parent\"><img src=\"https://colab.research.google.com/assets/colab-badge.svg\" alt=\"Open In Colab\"/></a>"
      ]
    },
    {
      "cell_type": "code",
      "execution_count": 32,
      "id": "2e2027a1-2b0f-483b-8b1a-ff49297f3561",
      "metadata": {
        "id": "2e2027a1-2b0f-483b-8b1a-ff49297f3561",
        "outputId": "a31eb431-f868-4fcf-8eb8-dcc64c681e8e",
        "colab": {
          "base_uri": "https://localhost:8080/",
          "height": 53
        }
      },
      "outputs": [
        {
          "name": "stdout",
          "output_type": "stream",
          "text": [
            "Name:stefanie\n"
          ]
        },
        {
          "output_type": "execute_result",
          "data": {
            "text/plain": [
              "'stefanie'"
            ],
            "application/vnd.google.colaboratory.intrinsic+json": {
              "type": "string"
            }
          },
          "metadata": {},
          "execution_count": 32
        }
      ],
      "source": [
        "input(str('Name:'))"
      ]
    },
    {
      "cell_type": "markdown",
      "id": "a5c8d4f3-bab5-4b94-8a65-52e367837e80",
      "metadata": {
        "deletable": false,
        "editable": false,
        "tags": [],
        "id": "a5c8d4f3-bab5-4b94-8a65-52e367837e80"
      },
      "source": [
        "# Activity 2 (Python Fundamentals II: Data Structures)"
      ]
    },
    {
      "cell_type": "markdown",
      "id": "da89df9e-ad8a-4ca7-873c-cd8e3505fcb5",
      "metadata": {
        "deletable": false,
        "editable": false,
        "id": "da89df9e-ad8a-4ca7-873c-cd8e3505fcb5"
      },
      "source": [
        "#### 1. Attendance reconciliation\n",
        "Registered vs actually arrived. Build a dict with name:\"present\"/\"absent\". Count totals and list absentees."
      ]
    },
    {
      "cell_type": "code",
      "execution_count": 33,
      "id": "aeab2b82-04a9-45ae-a019-d955a9f3731a",
      "metadata": {
        "id": "aeab2b82-04a9-45ae-a019-d955a9f3731a"
      },
      "outputs": [],
      "source": [
        "registered = [\"Ana\",\"Ben\",\"Cara\",\"Dan\",\"Ella\"]\n",
        "arrived    = [\"Ben\",\"Ana\",\"Ella\"]"
      ]
    },
    {
      "cell_type": "code",
      "source": [
        "def count(reference, criteria: str):\n",
        "  return sum(x == criteria for x in reference)"
      ],
      "metadata": {
        "id": "pTi88Jelq6Bw"
      },
      "id": "pTi88Jelq6Bw",
      "execution_count": 34,
      "outputs": []
    },
    {
      "cell_type": "code",
      "execution_count": 35,
      "id": "28966dea-0cbc-4c21-b2f4-e7d2009721cb",
      "metadata": {
        "id": "28966dea-0cbc-4c21-b2f4-e7d2009721cb",
        "outputId": "23cb2e45-746c-4b27-db7d-f0d02c38801a",
        "colab": {
          "base_uri": "https://localhost:8080/"
        }
      },
      "outputs": [
        {
          "output_type": "stream",
          "name": "stdout",
          "text": [
            "Total Number of Present: 3\n",
            "Total Number of Absent: 2\n",
            "\n",
            "Detailed Attendance\n",
            "Name       Status         \n",
            "--------------------\n",
            "Ana        Present        \n",
            "Ben        Present        \n",
            "Cara       Absent         \n",
            "Dan        Absent         \n",
            "Ella       Present        \n"
          ]
        }
      ],
      "source": [
        "attendance_dict = {\n",
        "    name: \"Present\" if name in arrived else \"Absent\"\n",
        "    for name in registered\n",
        "}\n",
        "\n",
        "count_present = count(attendance_dict.values(), \"Present\")\n",
        "count_absent  = count(attendance_dict.values(), \"Absent\")\n",
        "\n",
        "print(f\"Total Number of Present: {count_present}\")\n",
        "print(f\"Total Number of Absent: {count_absent}\", end=\"\\n\\n\")\n",
        "\n",
        "print(\"Detailed Attendance\")\n",
        "print(f\"{'Name':<10} {'Status':<15}\\n\" + \"-\" * 20)\n",
        "for name, status in attendance_dict.items():\n",
        "  print(f\"{name:<10} {status:<15}\")"
      ]
    },
    {
      "cell_type": "markdown",
      "id": "b94de799-35c3-4ace-afde-22ae5b6d3746",
      "metadata": {
        "deletable": false,
        "editable": false,
        "id": "b94de799-35c3-4ace-afde-22ae5b6d3746"
      },
      "source": [
        "#### 2. Simple loan pre-check\n",
        "Pass if age >= 21 and debt to income ration <= 0.4"
      ]
    },
    {
      "cell_type": "code",
      "execution_count": 36,
      "id": "1de87623-8063-4744-9979-65dec6bb0759",
      "metadata": {
        "id": "1de87623-8063-4744-9979-65dec6bb0759"
      },
      "outputs": [],
      "source": [
        "names = [\"Ava\",\"Bo\",\"Cam\",\"Dee\"]\n",
        "ages  = [22,   20,  35,  28]\n",
        "income= [30000,15000,45000, 25000]\n",
        "debt  = [12000, 8000,10000, 12000]"
      ]
    },
    {
      "cell_type": "code",
      "source": [
        "def check_eligibility(age, income, dti_ratio):\n",
        "  MIN_AGE = 21\n",
        "  MAX_DTI_RATIO = 0.4\n",
        "\n",
        "  is_age_eligible = age >= MIN_AGE\n",
        "  is_dti_eligible = dti_ratio <= MAX_DTI_RATIO\n",
        "\n",
        "  return is_age_eligible and is_dti_eligible"
      ],
      "metadata": {
        "id": "XM84nri_ct-_"
      },
      "id": "XM84nri_ct-_",
      "execution_count": 37,
      "outputs": []
    },
    {
      "cell_type": "code",
      "execution_count": 38,
      "id": "941bb2a6-97f3-4368-9aee-f9fe47c45692",
      "metadata": {
        "id": "941bb2a6-97f3-4368-9aee-f9fe47c45692",
        "outputId": "d4fca6ca-5e1e-4c5b-9fc9-e4601505de36",
        "colab": {
          "base_uri": "https://localhost:8080/"
        }
      },
      "outputs": [
        {
          "output_type": "stream",
          "name": "stdout",
          "text": [
            " Name         Age     Income    Debt\tStatus    \n",
            " Ava           22      30000   12000\tEligible  \n",
            "  Bo           20      15000    8000\tNot Eligible\n",
            " Cam           35      45000   10000\tEligible  \n",
            " Dee           28      25000   12000\tNot Eligible\n"
          ]
        }
      ],
      "source": [
        "print(f\"{'Name':^6} {'Age':>10} {'Income':>10} {'Debt':>7}\\t{'Status':<10}\")\n",
        "\n",
        "for name, age, personal_income, personal_debt in zip(names, ages, income, debt):\n",
        "\n",
        "  dti_ratio = personal_debt / personal_income\n",
        "  is_eligible = check_eligibility(age, personal_income, dti_ratio)\n",
        "  status = \"Eligible\" if is_eligible else \"Not Eligible\"\n",
        "\n",
        "  print(f\"{name:^6} {age:>10} {personal_income:>10} {personal_debt:>7}\\t{status:<10}\")\n"
      ]
    },
    {
      "cell_type": "markdown",
      "id": "c36fe2aa-5ee0-45bc-9b2f-bacb9f31d32b",
      "metadata": {
        "deletable": false,
        "editable": false,
        "id": "c36fe2aa-5ee0-45bc-9b2f-bacb9f31d32b"
      },
      "source": [
        "#### 3. Packaging Compliance\n",
        "If an order’s weight_kg > 20, mark \"Split required\", else \"OK\". Show unique items that need splitting."
      ]
    },
    {
      "cell_type": "code",
      "execution_count": 39,
      "id": "36d7c74a-cdb7-49ba-a863-a4d2f3b44cee",
      "metadata": {
        "id": "36d7c74a-cdb7-49ba-a863-a4d2f3b44cee"
      },
      "outputs": [],
      "source": [
        "items = [\"Paper\",\"Ink\",\"Binder\",\"Paper\",\"Stand\"]\n",
        "weights = [12.0, 22.5, 3.0, 25.0, 18.0]"
      ]
    },
    {
      "cell_type": "code",
      "source": [
        "MAX_WEIGHT = 20\n",
        "unique_items_to_split = set()\n",
        "\n",
        "total_weight = sum(weights)\n",
        "\n",
        "print(f\"Total Combined Order Weight: {total_weight:.2f} kg\\n\")\n",
        "print(f\"{'Order #':<10} {'Name':<7} {'Weight':>5}\\t{'Status':<15}\\n\" + \"-\" * 50)\n",
        "\n",
        "for index, (item_name, weight) in enumerate(zip(items, weights), start=1):\n",
        "\n",
        "    is_overweight = weight > MAX_WEIGHT\n",
        "    item_status = \"Split required\" if is_overweight else \"OK\"\n",
        "\n",
        "    print(f\"{index:^10} {item_name:<7} {weight:>5.1f}\\t{item_status:<15}\")\n",
        "\n",
        "    if is_overweight:\n",
        "        unique_items_to_split.add(item_name) # Add overweight items to the set\n",
        "\n",
        "print(\"-\" * 50)\n",
        "if unique_items_to_split:\n",
        "    print(f\"Items that need splitting\")\n",
        "    for item in sorted(unique_items_to_split):\n",
        "        print(f\"- {item}\")\n",
        "else:\n",
        "    print(\"All individual items are within the allowed weight limit. No splits required.\")\n",
        "\n"
      ],
      "metadata": {
        "id": "vXKaBK2fXI7m",
        "outputId": "3e0b877c-4f7b-40ac-d6b5-08b5b2e67ddc",
        "colab": {
          "base_uri": "https://localhost:8080/"
        }
      },
      "id": "vXKaBK2fXI7m",
      "execution_count": 40,
      "outputs": [
        {
          "output_type": "stream",
          "name": "stdout",
          "text": [
            "Total Combined Order Weight: 80.50 kg\n",
            "\n",
            "Order #    Name    Weight\tStatus         \n",
            "--------------------------------------------------\n",
            "    1      Paper    12.0\tOK             \n",
            "    2      Ink      22.5\tSplit required \n",
            "    3      Binder    3.0\tOK             \n",
            "    4      Paper    25.0\tSplit required \n",
            "    5      Stand    18.0\tOK             \n",
            "--------------------------------------------------\n",
            "Items that need splitting\n",
            "- Ink\n",
            "- Paper\n"
          ]
        }
      ]
    },
    {
      "cell_type": "markdown",
      "id": "b6a97dbb-9761-447d-8c20-566eba9a3832",
      "metadata": {
        "deletable": false,
        "editable": false,
        "id": "b6a97dbb-9761-447d-8c20-566eba9a3832"
      },
      "source": [
        "#### 4. Room Capacity Snapshot\n",
        "Build room:slack record where slack = capacity - assigned. Also collect a set of full rooms."
      ]
    },
    {
      "cell_type": "code",
      "execution_count": 41,
      "id": "aa7945ca-f7e7-4bd6-91b9-6a266b3531ad",
      "metadata": {
        "id": "aa7945ca-f7e7-4bd6-91b9-6a266b3531ad"
      },
      "outputs": [],
      "source": [
        "rooms     = [\"A\",\"B\",\"C\",\"D\"]\n",
        "capacity  = [30, 20, 25, 10]\n",
        "assigned  = [28, 20, 26,  9]"
      ]
    },
    {
      "cell_type": "code",
      "source": [
        "def print_room_summary(rooms):\n",
        "  for rooms_list, header, empty_msg in rooms:\n",
        "      print()\n",
        "\n",
        "      if rooms_list: # This checks the set object itself\n",
        "          print(f\"{header}:\")\n",
        "          for room in sorted(rooms_list):\n",
        "              print(f\"- {room}\")\n",
        "      else:\n",
        "          print(empty_msg)"
      ],
      "metadata": {
        "id": "A7VbBMFq8leP"
      },
      "id": "A7VbBMFq8leP",
      "execution_count": 42,
      "outputs": []
    },
    {
      "cell_type": "code",
      "execution_count": 43,
      "id": "368da435-e4a4-4e53-836e-4893572d7bf4",
      "metadata": {
        "id": "368da435-e4a4-4e53-836e-4893572d7bf4",
        "outputId": "8ad58504-a722-459c-eeff-7af6c513ad87",
        "colab": {
          "base_uri": "https://localhost:8080/"
        }
      },
      "outputs": [
        {
          "output_type": "stream",
          "name": "stdout",
          "text": [
            "\n",
            "Rooms with space left:\n",
            "- A\n",
            "- D\n",
            "\n",
            "Full Rooms:\n",
            "- B\n",
            "\n",
            "Overloaded Rooms:\n",
            "- C\n"
          ]
        }
      ],
      "source": [
        "full_rooms = set()\n",
        "overloaded_rooms = set()\n",
        "under_capacity_rooms = set()\n",
        "slacks = [cap - ass for cap, ass in zip(capacity, assigned)]\n",
        "\n",
        "room_slack = { room : slack for room, slack in zip(rooms, slacks)}\n",
        "\n",
        "# Group room slacks into 3 categories\n",
        "for room, slack in room_slack.items():\n",
        "  if slack == 0:\n",
        "    full_rooms.add(room)\n",
        "  elif slack < 0:\n",
        "    overloaded_rooms.add(room)\n",
        "  else:\n",
        "    under_capacity_rooms.add(room)\n",
        "\n",
        "room_data = [\n",
        "    (under_capacity_rooms, \"Rooms with space left\", \"No rooms with space left.\"),\n",
        "    (full_rooms, \"Full Rooms\", \"No full rooms.\"),\n",
        "    (overloaded_rooms, \"Overloaded Rooms\", \"No overloaded rooms.\")\n",
        "]\n",
        "\n",
        "print_room_summary(room_data)"
      ]
    },
    {
      "cell_type": "markdown",
      "id": "f7b71c39-f317-463f-9c0b-f6cab4ef343f",
      "metadata": {
        "deletable": false,
        "editable": false,
        "id": "f7b71c39-f317-463f-9c0b-f6cab4ef343f"
      },
      "source": [
        "#### 5. Survey cleanup and rate\n",
        "Clean responses (which should only be yes/no). Compute yes rate.\n",
        "Notes:\n",
        "- `.strip` method: remove leading and trailing spaces\n",
        "- `.upper()`/ `.lower()` method: converts string to uppercase/lowercase respectively"
      ]
    },
    {
      "cell_type": "code",
      "execution_count": 44,
      "id": "2db9fc65-5b51-44b4-baf8-b2bb75cbe95c",
      "metadata": {
        "id": "2db9fc65-5b51-44b4-baf8-b2bb75cbe95c"
      },
      "outputs": [],
      "source": [
        "raw_data = [\"Yes\",\"yes \",\" NO\",\"no\",\"YES\",\"No \", '?', 'Maybe', ' YES ']"
      ]
    },
    {
      "cell_type": "code",
      "execution_count": 58,
      "id": "b49f3bb2-773f-4b3d-ab9d-8276192175e0",
      "metadata": {
        "id": "b49f3bb2-773f-4b3d-ab9d-8276192175e0",
        "outputId": "1db426c1-0333-4706-dd45-c69c283fa9a5",
        "colab": {
          "base_uri": "https://localhost:8080/"
        }
      },
      "outputs": [
        {
          "output_type": "stream",
          "name": "stdout",
          "text": [
            "#\tVote\n",
            "---------------\n",
            "1\tyes\n",
            "2\tyes\n",
            "3\tno\n",
            "4\tno\n",
            "5\tyes\n",
            "6\tno\n",
            "7\t?\n",
            "8\tmaybe\n",
            "9\tyes\n",
            "\n",
            "Number of Yes Votes: 4\n",
            "Yes Rate: 44.44%\n"
          ]
        }
      ],
      "source": [
        "clean_data = [data.strip().lower() for data in raw_data]\n",
        "\n",
        "yes_count = count(clean_data, \"yes\") # Reused the count function from problem 1\n",
        "\n",
        "print(f\"#\\tVote\")\n",
        "print(\"-\"*15)\n",
        "for index, answer in enumerate(clean_data, start=1):\n",
        "  print(f\"{index}\\t{answer}\")\n",
        "\n",
        "yes_rate = yes_count / len(clean_data)\n",
        "\n",
        "print(f\"\\nNumber of Yes Votes: {yes_count}\")\n",
        "print(f\"Yes Rate: {yes_rate * 100:.2f}%\")"
      ]
    },
    {
      "cell_type": "markdown",
      "id": "57dd3a10-a1e6-436a-ab7d-b6d284645752",
      "metadata": {
        "deletable": false,
        "editable": false,
        "id": "57dd3a10-a1e6-436a-ab7d-b6d284645752"
      },
      "source": [
        "### Mini Lab 1: Course Scorebook and Riskflags\n",
        "Compute weighted finals and simple risk flags without pandas.\n",
        "Do:\n",
        "- Final scores with their corresponsing weight\n",
        "- final_by_student (dict).\n",
        "- risk_flags (dict): \"At risk\" if final < pass_mark or any component < 60.\n",
        "- Class summary: average final, set of students above 85."
      ]
    },
    {
      "cell_type": "code",
      "execution_count": 69,
      "id": "299c13fd-8db7-4071-bf95-c1c8410da7b6",
      "metadata": {
        "id": "299c13fd-8db7-4071-bf95-c1c8410da7b6"
      },
      "outputs": [],
      "source": [
        "students = [\"Ava\",\"Bo\",\"Cam\",\"Dee\"]\n",
        "quiz     = [78,    55,  92,   64]\n",
        "project  = [85,    60,  88,   70]\n",
        "exam     = [80,    58,  94,   62]\n",
        "\n",
        "WEIGHTS = (0.2, 0.3, 0.5)  # (quiz, project, exam) tuple\n",
        "PASS_MARK = 70\n",
        "ACHIEVERS_GRADE = 85"
      ]
    },
    {
      "cell_type": "code",
      "execution_count": 59,
      "id": "8693b36e-60c6-44b4-a623-e663c04d03cc",
      "metadata": {
        "id": "8693b36e-60c6-44b4-a623-e663c04d03cc"
      },
      "outputs": [],
      "source": [
        "def compute_weighted_grade(student_list, quiz_raw, project_raw, exam_raw, weights):\n",
        "  quiz_weight, project_weight, exam_weight = weights\n",
        "\n",
        "  student_data = zip(student_list, quiz_raw, project_raw, exam_raw)\n",
        "\n",
        "  return {student_name : (q * quiz_weight) +\\\n",
        "          (p * project_weight) + (e * exam_weight) \\\n",
        "          for student_name, q, p, e in student_data}"
      ]
    },
    {
      "cell_type": "code",
      "source": [
        "final_by_student = compute_weighted_grade(students, quiz, project, exam, WEIGHTS)\n",
        "\n",
        "class_sum_grade = 0\n",
        "achievers = set()\n",
        "\n",
        "for student, fgrade in final_by_student.items():\n",
        "  risk_status = fgrade < PASS_MARK\n",
        "  class_sum_grade += fgrade\n",
        "\n",
        "  if fgrade > ACHIEVERS_GRADE:\n",
        "    achievers.add(student)\n",
        "\n",
        "  print(f\"{student}: {fgrade} - {'At Risk' if risk_status else 'OK'}\")\n",
        "\n",
        "print()\n",
        "print(\"CLASS SUMMARY\")\n",
        "print(f\"Class Average: {class_sum_grade / len(students):.2f}\")\n",
        "print(f\"Achievers:  {sorted(achievers)}\")"
      ],
      "metadata": {
        "id": "aC9UKKunD8To",
        "outputId": "83ca38f2-5235-4ed1-b295-fc17a4873913",
        "colab": {
          "base_uri": "https://localhost:8080/"
        }
      },
      "id": "aC9UKKunD8To",
      "execution_count": 70,
      "outputs": [
        {
          "output_type": "stream",
          "name": "stdout",
          "text": [
            "Ava: 81.1 - OK\n",
            "Bo: 58.0 - At Risk\n",
            "Cam: 91.8 - OK\n",
            "Dee: 64.8 - At Risk\n",
            "\n",
            "CLASS SUMMARY\n",
            "Class Average: 73.92\n",
            "Achievers:  ['Cam']\n"
          ]
        }
      ]
    },
    {
      "cell_type": "markdown",
      "id": "39adfec2-3396-41f4-9027-566fd9044446",
      "metadata": {
        "deletable": false,
        "editable": false,
        "id": "39adfec2-3396-41f4-9027-566fd9044446"
      },
      "source": [
        "### Mini Lab 2: Local Delivery Audit\n",
        "Price deliveries, summarize by zone, and check a simple fairness rule.\n",
        "\n",
        "Pricing rule\n",
        "- Fee = base_fee[size] + km * per_km.\n",
        "- If zone is in remote_zones, add surcharge + 30.\n",
        "\n",
        "Do:\n",
        "- fee_per_order (dict) and grand total.\n",
        "- revenue_per_zone (dict).\n",
        "- Simple fairness check: if average fee in S exceeds average of all other zones by more than `FAIRNESS_RULE[1] * 30`, then fairness status = \"Review fairness\" else \"OK\"."
      ]
    },
    {
      "cell_type": "code",
      "execution_count": 73,
      "id": "b580db34-d960-4547-b3c8-a976567b7858",
      "metadata": {
        "id": "b580db34-d960-4547-b3c8-a976567b7858"
      },
      "outputs": [],
      "source": [
        "orders_id = [901, 902, 903, 904, 905]\n",
        "zone     = [\"N\",\"S\",\"N\",\"E\",\"S\"]      # delivery zones\n",
        "km       = [3.0, 12.0, 6.0, 4.5, 15.0]\n",
        "size     = [\"S\",\"L\",\"M\",\"S\",\"L\"]      # parcel size\n",
        "\n",
        "base_fee = {\"S\": 60.0, \"M\": 90.0, \"L\": 120.0}\n",
        "per_km   = 8.0\n",
        "remote_zones = set([\"S\"])             # only basic membership\n",
        "FAIRNESS_RULE = (\"S\", 2)              # tuple: (zone, max allowed above other zones)"
      ]
    },
    {
      "cell_type": "code",
      "execution_count": 74,
      "id": "1c5800b5-426c-4908-9d86-ccd616a41472",
      "metadata": {
        "id": "1c5800b5-426c-4908-9d86-ccd616a41472",
        "outputId": "bfeca835-68f1-420f-d6bc-dab26fda2d55",
        "colab": {
          "base_uri": "https://localhost:8080/"
        }
      },
      "outputs": [
        {
          "output_type": "stream",
          "name": "stdout",
          "text": [
            "Order ID: 901\n",
            "Zone: N\n",
            "Size: S\n",
            "Fee: 84.00\n",
            "\n",
            "Order ID: 902\n",
            "Zone: S\n",
            "Size: L\n",
            "Fee: 246.00\n",
            "\n",
            "Order ID: 903\n",
            "Zone: N\n",
            "Size: M\n",
            "Fee: 138.00\n",
            "\n",
            "Order ID: 904\n",
            "Zone: E\n",
            "Size: S\n",
            "Fee: 96.00\n",
            "\n",
            "Order ID: 905\n",
            "Zone: S\n",
            "Size: L\n",
            "Fee: 270.00\n",
            "\n"
          ]
        }
      ],
      "source": [
        "order_data = zip(orders_id, zone, km, size)\n",
        "\n",
        "fee_per_order = {}\n",
        "revenue_per_zone = {}\n",
        "grand_total = 0\n",
        "\n",
        "for o_id, z, k, s in order_data:\n",
        "  is_remote = z in remote_zones\n",
        "  fee = base_fee[s] + (k * per_km) + (30 if is_remote else 0)\n",
        "\n",
        "  fee_per_order[o_id] = fee\n",
        "  grand_total += fee\n",
        "\n",
        "  if z in revenue_per_zone:\n",
        "    revenue_per_zone[z] += fee\n",
        "  else:\n",
        "    revenue_per_zone[z] = fee\n",
        "\n",
        "  print(f\"Order ID: {o_id}\\nZone: {z}\\nSize: {s}\\nFee: {fee:.2f}\\n\")\n"
      ]
    },
    {
      "cell_type": "code",
      "source": [],
      "metadata": {
        "id": "i0Z-d-zAI3NP"
      },
      "id": "i0Z-d-zAI3NP",
      "execution_count": null,
      "outputs": []
    },
    {
      "cell_type": "markdown",
      "id": "b3e2ca9c-4fa3-44d1-bc72-2aff04bd9ac7",
      "metadata": {
        "deletable": false,
        "editable": false,
        "id": "b3e2ca9c-4fa3-44d1-bc72-2aff04bd9ac7"
      },
      "source": [
        "### Mini Lab: Day of Orders\n",
        "Follow the steps and provide the report summary needed\n",
        "\n",
        "\n",
        "Report Summary:\n",
        "- Paid Orders\n",
        "- Unique Customers\n",
        "- Gross Revenue\n",
        "- Net Revenue\n",
        "- Revenue per City\n",
        "- Revenue per item\n",
        "- Revenue per channel\n",
        "- Revenue per (city, channel)\n",
        "- Order per customer\n",
        "- Top item by revenue\n",
        "- Top city by NET\n",
        "- Label status"
      ]
    },
    {
      "cell_type": "code",
      "execution_count": 49,
      "id": "a564f928-ae85-474c-b22d-ee0f2d650101",
      "metadata": {
        "id": "a564f928-ae85-474c-b22d-ee0f2d650101"
      },
      "outputs": [],
      "source": [
        "#\n",
        "order_id = [2001, 2002, 2003, 2004, 2005, 2006]\n",
        "customer = [\"Ana\", \"Ben\", \"Ana\", \"Cara\", \"Don\", \"Ben\"]\n",
        "city_raw = [\"Cebu\", \"cebu \", \"Manila\", \"cebu\", \"Davao\", \" MANILA \"]\n",
        "item     = [\"Latte\", \"Muffin\", \"Latte\", \"Tea\", \"Latte\", \"Tea\"]\n",
        "qty      = [2, 3, 1, 2, 1, 4]\n",
        "channel  = [\"app\", \"web\", \"app\", \"app\", \"web\", \"web\"]\n",
        "paid     = [True, False, True, True, True, True]\n",
        "\n",
        "# Price table\n",
        "price = {\"Latte\": 150.0, \"Tea\": 90.0, \"Muffin\": 75.0}\n",
        "\n",
        "# Delivery/processing fee per channel)\n",
        "fee_by_channel = {\"app\": 20.0, \"web\": 10.0}\n",
        "\n",
        "# Target thresholds  (revenue_target, min_unique_customers)\n",
        "targets = (800.0, 4)"
      ]
    },
    {
      "cell_type": "code",
      "execution_count": 50,
      "id": "27d3af86-79ed-48ec-aed4-cb73ebf61a2b",
      "metadata": {
        "id": "27d3af86-79ed-48ec-aed4-cb73ebf61a2b"
      },
      "outputs": [],
      "source": [
        "# Helper Functions\n",
        "def add_amount(d,key,amount):\n",
        "    if key in d:\n",
        "        d[key] = d[key] + amount\n",
        "    else:\n",
        "        d[key] = amount\n",
        "\n",
        "def clean_city(city):\n",
        "    return city.strip().lower()\n",
        "\n",
        "\n",
        "# Unpacked targets\n",
        "revenuw_target, min_unique_cust = targets"
      ]
    },
    {
      "cell_type": "markdown",
      "id": "1c04b32e-96e2-4ead-a871-3150f8f07264",
      "metadata": {
        "id": "1c04b32e-96e2-4ead-a871-3150f8f07264"
      },
      "source": [
        "#### 1: Build a cleaned city list (use the provided function)"
      ]
    },
    {
      "cell_type": "code",
      "execution_count": 50,
      "id": "d8393734-f6e5-4f74-829f-01dc7477821a",
      "metadata": {
        "id": "d8393734-f6e5-4f74-829f-01dc7477821a"
      },
      "outputs": [],
      "source": []
    },
    {
      "cell_type": "markdown",
      "id": "ec4e6dde-f361-4507-ba6f-48373c669dc0",
      "metadata": {
        "id": "ec4e6dde-f361-4507-ba6f-48373c669dc0"
      },
      "source": [
        "#### 2. Keep only paid rows (create new filtered list)\n",
        "Loop with zip and append to filtered lists only if paid is True (*zip(order_id, customer, city, item, qty, channel, paid)*)"
      ]
    },
    {
      "cell_type": "code",
      "execution_count": 50,
      "id": "67bf62fd-5f7b-420d-abc7-18c587d68e05",
      "metadata": {
        "id": "67bf62fd-5f7b-420d-abc7-18c587d68e05"
      },
      "outputs": [],
      "source": []
    },
    {
      "cell_type": "markdown",
      "id": "c69451a3-ab8d-44c5-890c-173ff100de28",
      "metadata": {
        "id": "c69451a3-ab8d-44c5-890c-173ff100de28"
      },
      "source": [
        "#### 3. Compute line totals, Aggregate\n",
        "Loop rows of the filtered list with zip"
      ]
    },
    {
      "cell_type": "code",
      "execution_count": 51,
      "id": "02e882c7-e012-4920-89c5-07a3f6f0fa83",
      "metadata": {
        "id": "02e882c7-e012-4920-89c5-07a3f6f0fa83"
      },
      "outputs": [],
      "source": [
        "revenue_per_city = {}       # groupby city sum\n",
        "revenue_per_item = {}       # groupby item sum\n",
        "orders_per_customer = {}    # groupby customer count\n",
        "revenue_per_channel = {}    # groupby channel sum\n",
        "revenue_city_channel = {}   # pivot-lite keyed by (city, channel)\n",
        "\n",
        "grand_revenue = 0.0\n",
        "unique_customers = set()"
      ]
    },
    {
      "cell_type": "code",
      "execution_count": 51,
      "id": "16fbfc7e-7d91-4a8c-b343-f7fdfaf69bd8",
      "metadata": {
        "id": "16fbfc7e-7d91-4a8c-b343-f7fdfaf69bd8"
      },
      "outputs": [],
      "source": []
    },
    {
      "cell_type": "markdown",
      "id": "ba8bdd6f-31d6-49ea-b420-997340dac170",
      "metadata": {
        "id": "ba8bdd6f-31d6-49ea-b420-997340dac170"
      },
      "source": [
        "#### 4. Join fee_by_channel to get NET revenue\n",
        "Loop again over filtered rows, compute  *(NET revenue = Gross - fees (channel fee))*"
      ]
    },
    {
      "cell_type": "code",
      "execution_count": 52,
      "id": "78658de0-0119-47dd-952a-a1ffefa80e28",
      "metadata": {
        "id": "78658de0-0119-47dd-952a-a1ffefa80e28"
      },
      "outputs": [],
      "source": [
        "net_revenue_per_city = {}\n",
        "grand_net = 0.0"
      ]
    },
    {
      "cell_type": "code",
      "execution_count": 52,
      "id": "6cbe1087-1b54-47c5-993f-06523ba97ee0",
      "metadata": {
        "id": "6cbe1087-1b54-47c5-993f-06523ba97ee0"
      },
      "outputs": [],
      "source": []
    },
    {
      "cell_type": "markdown",
      "id": "5d0f5f46-4c2c-4583-bbc3-f0a472b52a4d",
      "metadata": {
        "id": "5d0f5f46-4c2c-4583-bbc3-f0a472b52a4d"
      },
      "source": [
        "#### 5. Simple top findings (no sorting needed)\n",
        "Find top item by revenue and top city by net revenue (sacn dicts)"
      ]
    },
    {
      "cell_type": "code",
      "execution_count": 52,
      "id": "b67e1f7c-92d5-403f-ba90-5a203918d644",
      "metadata": {
        "id": "b67e1f7c-92d5-403f-ba90-5a203918d644"
      },
      "outputs": [],
      "source": []
    },
    {
      "cell_type": "markdown",
      "id": "de03c649-86f1-4162-b4ce-df4c1031a505",
      "metadata": {
        "id": "de03c649-86f1-4162-b4ce-df4c1031a505"
      },
      "source": [
        "#### 6. Provide label status\n",
        "If grand net is more than or equal to the revenue target and the unique customers is equal or exceed the minimum unique customer then label = Great Day.\n",
        "If not then just put Normal"
      ]
    },
    {
      "cell_type": "markdown",
      "id": "b34f367e-1174-4c3d-8fbd-58ddbda547dc",
      "metadata": {
        "id": "b34f367e-1174-4c3d-8fbd-58ddbda547dc"
      },
      "source": [
        "#### 7.Report Summary\n",
        "- Paid Orders\n",
        "- Unique Customers\n",
        "- Gross Revenue\n",
        "- Net Revenue\n",
        "- Revenue per City\n",
        "- Revenue per item\n",
        "- Revenue per channel\n",
        "- Revenue per (city, channel)\n",
        "- Order per customer\n",
        "- Top item by revenue\n",
        "- Top city by NET\n",
        "- Label status"
      ]
    },
    {
      "cell_type": "code",
      "execution_count": 52,
      "id": "25482daf-910e-4954-b8f1-f6cb0764514b",
      "metadata": {
        "id": "25482daf-910e-4954-b8f1-f6cb0764514b"
      },
      "outputs": [],
      "source": []
    },
    {
      "cell_type": "markdown",
      "id": "307549c8-0376-4080-ae00-03a9e279a7df",
      "metadata": {
        "id": "307549c8-0376-4080-ae00-03a9e279a7df"
      },
      "source": [
        "Provide your insight/finding on:\n",
        "- What’s the smallest tweak to hit “Great day” (more customers or more revenue)?"
      ]
    },
    {
      "cell_type": "code",
      "execution_count": 52,
      "id": "9f267e35-7a08-4a67-b8e4-6efbfc260e95",
      "metadata": {
        "id": "9f267e35-7a08-4a67-b8e4-6efbfc260e95"
      },
      "outputs": [],
      "source": []
    },
    {
      "cell_type": "markdown",
      "id": "91b73f70-c297-4cb9-94e0-caf72c12360a",
      "metadata": {
        "deletable": false,
        "editable": false,
        "id": "91b73f70-c297-4cb9-94e0-caf72c12360a"
      },
      "source": [
        "### Mini-Lab: Ride-Hailing Day — Fares, Payouts, and Health Check\n",
        "\n",
        "Provide your insights/findings on the ff:\n",
        "- Which city contributed the most NET and why (mix of surge, distance, channel)?\n",
        "- If the platform wants higher NET without raising prices, which lever is best (channel fees vs driver_share vs surge policy)?"
      ]
    },
    {
      "cell_type": "code",
      "execution_count": 53,
      "id": "8b4acd59-db6f-46b5-8f28-1faa53d8d888",
      "metadata": {
        "id": "8b4acd59-db6f-46b5-8f28-1faa53d8d888"
      },
      "outputs": [],
      "source": [
        "trip_id = [3101, 3102, 3103, 3104, 3105, 3106, 3107]\n",
        "rider   = [\"Ana\",\"Ben\",\"Ana\",\"Cara\",\"Don\",\"Eva\",\"Ben\"]\n",
        "driver  = [\"D1\",\"D2\",\"D1\",\"D3\",\"D2\",\"D2\",\"D3\"]\n",
        "city_raw= [\"Cebu\",\"cebu \",\"Manila\",\"Cebu\",\"Davao\",\" MANILA \",\"Davao\"]\n",
        "service = [\"eco\",\"eco\",\"premium\",\"eco\",\"premium\",\"eco\",\"eco\"]\n",
        "km      = [3.5, 12.0, 8.0, 5.0, 10.0, 4.0, 7.5]\n",
        "period  = [\"off\",\"peak\",\"off\",\"peak\",\"peak\",\"off\",\"off\"]\n",
        "channel = [\"app\",\"partner\",\"app\",\"app\",\"partner\",\"web\",\"app\"]\n",
        "paid    = [True, True, True, False, True, True, True]  # one unpaid/cancelled\n",
        "\n",
        "# Lookup tables\n",
        "rate_per_km = {\"eco\": 15.0, \"premium\": 30.0}\n",
        "surge_mult  = {\"peak\": 1.5, \"off\": 1.0}\n",
        "booking_fee_by_channel = {\"app\": 12.0, \"partner\": 8.0, \"web\": 10.0}\n",
        "\n",
        "# Payout rule: driver receives 75% of the distance component (not the booking fee)\n",
        "driver_share = 0.75\n",
        "\n",
        "# Health targets: (net_target, max_cancel_rate, min_unique_riders)\n",
        "targets = (1200.0, 0.20, 4)\n"
      ]
    },
    {
      "cell_type": "markdown",
      "id": "bdc862a1-5f9a-49db-b88f-e5361ac3bd36",
      "metadata": {
        "id": "bdc862a1-5f9a-49db-b88f-e5361ac3bd36"
      },
      "source": [
        "#### 1: Build a cleaned city list (use the provided function)"
      ]
    },
    {
      "cell_type": "code",
      "execution_count": 53,
      "id": "e020add8-967b-466a-bc10-dc5766bf050d",
      "metadata": {
        "id": "e020add8-967b-466a-bc10-dc5766bf050d"
      },
      "outputs": [],
      "source": []
    },
    {
      "cell_type": "markdown",
      "id": "773fc546-aa55-4878-8344-1cabbb5429bd",
      "metadata": {
        "id": "773fc546-aa55-4878-8344-1cabbb5429bd"
      },
      "source": [
        "#### 2. Filter to Paid Trips\n",
        "Append to filtered list if paid and compute for the cancellation rate (% of those who cancelled)"
      ]
    },
    {
      "cell_type": "code",
      "execution_count": 53,
      "id": "73ec3f1e-ab69-4530-ba62-0a02fa5efff3",
      "metadata": {
        "id": "73ec3f1e-ab69-4530-ba62-0a02fa5efff3"
      },
      "outputs": [],
      "source": []
    },
    {
      "cell_type": "code",
      "execution_count": 54,
      "id": "e8cb0ae4-d437-43ad-82f8-9d799e3784d5",
      "metadata": {
        "id": "e8cb0ae4-d437-43ad-82f8-9d799e3784d5"
      },
      "outputs": [],
      "source": [
        "# For cancellation rate\n"
      ]
    },
    {
      "cell_type": "markdown",
      "id": "6e267f5c-1008-4f0b-8f2a-61f037688564",
      "metadata": {
        "id": "6e267f5c-1008-4f0b-8f2a-61f037688564"
      },
      "source": [
        "#### 3. Compute for Gross Fare and Aggregates\n",
        "- Fare per trip: base_component = km * rate_per_km[service] * surge_mult[period]\n",
        "- gross_fare = base_component + booking_fee_by_channel[channel]"
      ]
    },
    {
      "cell_type": "code",
      "execution_count": 55,
      "id": "a9d23d99-5c4c-4e5d-9938-dc8e76d39ec3",
      "metadata": {
        "id": "a9d23d99-5c4c-4e5d-9938-dc8e76d39ec3"
      },
      "outputs": [],
      "source": [
        "gross_per_city     = {}\n",
        "gross_per_service  = {}\n",
        "gross_per_channel  = {}\n",
        "gross_city_service = {}   # keyed by (city, service)\n",
        "payout_per_driver  = {}\n",
        "orders_per_rider   = {}\n",
        "\n",
        "grand_gross = 0.0\n",
        "unique_riders = set()"
      ]
    },
    {
      "cell_type": "code",
      "execution_count": 55,
      "id": "bb4cc680-4b6c-47d6-95f1-5a739d73894e",
      "metadata": {
        "id": "bb4cc680-4b6c-47d6-95f1-5a739d73894e"
      },
      "outputs": [],
      "source": []
    },
    {
      "cell_type": "markdown",
      "id": "22452dfe-6a2f-4b10-8126-8ad270ff6a7f",
      "metadata": {
        "id": "22452dfe-6a2f-4b10-8126-8ad270ff6a7f"
      },
      "source": [
        "#### 4. Compute for Platform NET\n",
        "- net per trip = (base_component - driver_payout) + booking_fee <br>\n",
        "(simplified: *base_component * (1-driver_share) + fee*)"
      ]
    },
    {
      "cell_type": "code",
      "execution_count": 56,
      "id": "9e91ecc8-eb52-486e-87bb-ec3038e728eb",
      "metadata": {
        "id": "9e91ecc8-eb52-486e-87bb-ec3038e728eb"
      },
      "outputs": [],
      "source": [
        "net_per_city = {}\n",
        "grand_net = 0.0"
      ]
    },
    {
      "cell_type": "code",
      "execution_count": 56,
      "id": "6ef5f8e2-a1a4-47c1-b49f-f8576b39decf",
      "metadata": {
        "id": "6ef5f8e2-a1a4-47c1-b49f-f8576b39decf"
      },
      "outputs": [],
      "source": []
    },
    {
      "cell_type": "markdown",
      "id": "74b708f2-2cfe-43a6-8484-2740c6fd2335",
      "metadata": {
        "id": "74b708f2-2cfe-43a6-8484-2740c6fd2335"
      },
      "source": [
        "#### 5. Top Findings"
      ]
    },
    {
      "cell_type": "code",
      "execution_count": 57,
      "id": "d3794ee9-2af3-4785-b804-45747daf7762",
      "metadata": {
        "id": "d3794ee9-2af3-4785-b804-45747daf7762"
      },
      "outputs": [],
      "source": [
        "top_service = None\n",
        "\n",
        "top_city_net = None"
      ]
    },
    {
      "cell_type": "code",
      "execution_count": 57,
      "id": "ce1fe7b7-155c-4af7-ad57-f32a2ea1f8f2",
      "metadata": {
        "id": "ce1fe7b7-155c-4af7-ad57-f32a2ea1f8f2"
      },
      "outputs": [],
      "source": []
    },
    {
      "cell_type": "markdown",
      "id": "a79d456a-76cf-43f5-a8a5-7e4c1eff372c",
      "metadata": {
        "id": "a79d456a-76cf-43f5-a8a5-7e4c1eff372c"
      },
      "source": [
        "#### 6. Label\n",
        "\"Healthy\" if\n",
        "- grand_net >= net_target AND cancel_rate <= max_cancel_rate AND unique riders >= min_unique_riders\n",
        "\n",
        "Else - label: Review"
      ]
    },
    {
      "cell_type": "code",
      "execution_count": 57,
      "id": "f59cc05f-d88b-4bde-9077-3c7d4cf35ecb",
      "metadata": {
        "id": "f59cc05f-d88b-4bde-9077-3c7d4cf35ecb"
      },
      "outputs": [],
      "source": []
    },
    {
      "cell_type": "markdown",
      "id": "54f26e9e-bf33-4e7e-87b2-797663a85d88",
      "metadata": {
        "id": "54f26e9e-bf33-4e7e-87b2-797663a85d88"
      },
      "source": [
        "#### Summary Report\n",
        "- Paid Trips\n",
        "- Unique Riders\n",
        "- Grand Gross\n",
        "- Grand NET\n",
        "- Gross per City\n",
        "- Gross per service\n",
        "- Gross per channel\n",
        "- Gross per (city, service)\n",
        "- Driber payout per driver\n",
        "- Orders per rider\n",
        "- Rop service by Gross\n",
        "- Top city by NET\n",
        "- Label"
      ]
    },
    {
      "cell_type": "code",
      "execution_count": 57,
      "id": "17cce281-bb5e-4e84-a683-ce1066f344da",
      "metadata": {
        "id": "17cce281-bb5e-4e84-a683-ce1066f344da"
      },
      "outputs": [],
      "source": []
    }
  ],
  "metadata": {
    "kernelspec": {
      "display_name": "Python 3 (ipykernel)",
      "language": "python",
      "name": "python3"
    },
    "language_info": {
      "codemirror_mode": {
        "name": "ipython",
        "version": 3
      },
      "file_extension": ".py",
      "mimetype": "text/x-python",
      "name": "python",
      "nbconvert_exporter": "python",
      "pygments_lexer": "ipython3",
      "version": "3.12.7"
    },
    "colab": {
      "provenance": [],
      "include_colab_link": true
    }
  },
  "nbformat": 4,
  "nbformat_minor": 5
}