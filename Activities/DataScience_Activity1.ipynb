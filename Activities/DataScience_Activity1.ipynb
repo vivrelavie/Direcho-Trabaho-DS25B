{
  "cells": [
    {
      "cell_type": "markdown",
      "metadata": {
        "id": "view-in-github",
        "colab_type": "text"
      },
      "source": [
        "<a href=\"https://colab.research.google.com/github/vivrelavie/Direcho-Trabaho-DS25B/blob/main/Activities/DataScience_Activity1.ipynb\" target=\"_parent\"><img src=\"https://colab.research.google.com/assets/colab-badge.svg\" alt=\"Open In Colab\"/></a>"
      ]
    },
    {
      "cell_type": "markdown",
      "id": "776a96c9-f0d3-405d-8d09-02be835993e3",
      "metadata": {
        "editable": true,
        "tags": [],
        "id": "776a96c9-f0d3-405d-8d09-02be835993e3"
      },
      "source": [
        "# Data Science\n",
        "## Activity 1: Python Fundamentals"
      ]
    },
    {
      "cell_type": "markdown",
      "id": "f6e2f584-c346-42fb-8e81-24f429ec51b5",
      "metadata": {
        "deletable": false,
        "editable": false,
        "tags": [],
        "id": "f6e2f584-c346-42fb-8e81-24f429ec51b5"
      },
      "source": [
        "----"
      ]
    },
    {
      "cell_type": "markdown",
      "id": "29d0b1d4-a6e8-481e-8273-33d5a0bf00e5",
      "metadata": {
        "editable": true,
        "tags": [],
        "id": "29d0b1d4-a6e8-481e-8273-33d5a0bf00e5"
      },
      "source": [
        "**Name**: Stefanie S. Gabion"
      ]
    },
    {
      "cell_type": "markdown",
      "id": "34c1d9c3-0ed0-4a3d-9e10-cc75327a348a",
      "metadata": {
        "deletable": false,
        "editable": false,
        "tags": [],
        "id": "34c1d9c3-0ed0-4a3d-9e10-cc75327a348a"
      },
      "source": [
        "-----"
      ]
    },
    {
      "cell_type": "markdown",
      "id": "23d9896e-1976-4a0c-8e3f-ad7a4aefd66c",
      "metadata": {
        "deletable": false,
        "editable": false,
        "tags": [],
        "id": "23d9896e-1976-4a0c-8e3f-ad7a4aefd66c"
      },
      "source": [
        "#### 0. Warm-up Exercise\n",
        "- Write a function that prints out all the prime numbers up to some number `n`.\n",
        "    - Use iteration to check if each number is prime.\n",
        "    - Use a conditional to print out numbers only if they are prime.\n",
        "    - Break up the task into small pieces so the code is easy to read and understand. (This means we will use (or _call_) helper functions inside of our solution."
      ]
    },
    {
      "cell_type": "markdown",
      "id": "5d65c898-4518-493e-b8ee-208e02cc4fff",
      "metadata": {
        "editable": true,
        "tags": [],
        "id": "5d65c898-4518-493e-b8ee-208e02cc4fff"
      },
      "source": [
        "##### Solution:"
      ]
    },
    {
      "cell_type": "code",
      "execution_count": 13,
      "id": "593456ce-9aef-436b-80df-e8268e285069",
      "metadata": {
        "editable": true,
        "tags": [],
        "id": "593456ce-9aef-436b-80df-e8268e285069"
      },
      "outputs": [],
      "source": []
    },
    {
      "cell_type": "code",
      "source": [
        "print_prime_numbers(20)"
      ],
      "metadata": {
        "id": "sF-VfdMICLUY",
        "outputId": "eaa96dfb-b6c5-4088-ae81-873f4a6fa7c1",
        "colab": {
          "base_uri": "https://localhost:8080/"
        }
      },
      "id": "sF-VfdMICLUY",
      "execution_count": 14,
      "outputs": [
        {
          "output_type": "stream",
          "name": "stdout",
          "text": [
            "2\n",
            "3\n",
            "5\n",
            "7\n",
            "9\n",
            "11\n",
            "13\n",
            "15\n",
            "17\n",
            "19\n"
          ]
        }
      ]
    },
    {
      "cell_type": "code",
      "execution_count": 2,
      "id": "90a6d6b2-f0d9-4618-9a71-4bd809a217b9",
      "metadata": {
        "deletable": true,
        "editable": false,
        "tags": [],
        "id": "90a6d6b2-f0d9-4618-9a71-4bd809a217b9"
      },
      "outputs": [],
      "source": []
    },
    {
      "cell_type": "markdown",
      "id": "2c34dfea-c6c1-4326-9379-5f5a44fc7c42",
      "metadata": {
        "editable": true,
        "tags": [],
        "id": "2c34dfea-c6c1-4326-9379-5f5a44fc7c42"
      },
      "source": [
        "------"
      ]
    },
    {
      "cell_type": "markdown",
      "id": "5aaeecec-46ff-4d7e-98ae-9053f7443404",
      "metadata": {
        "deletable": false,
        "editable": false,
        "tags": [],
        "id": "5aaeecec-46ff-4d7e-98ae-9053f7443404"
      },
      "source": [
        "#### 1. Sales Performance Check\n",
        "- Given sales_day1 = 150, sales_day2 = 175, sales_day3 = 160, write a function `check_performance()` that:\n",
        "    - Compares each day’s sales to the previous day.\n",
        "    - Prints \"Better\" if the sales are higher, \"Worse\" if lower, and \"Same\" if the same."
      ]
    },
    {
      "cell_type": "markdown",
      "id": "254bfb5f-b5af-4be8-bdb7-293a889bc73d",
      "metadata": {
        "editable": true,
        "tags": [],
        "id": "254bfb5f-b5af-4be8-bdb7-293a889bc73d"
      },
      "source": [
        "##### Solution:"
      ]
    },
    {
      "cell_type": "code",
      "execution_count": 2,
      "id": "1a12aa8b-ad11-46ae-9214-4a3ed0d66ad2",
      "metadata": {
        "editable": true,
        "tags": [],
        "id": "1a12aa8b-ad11-46ae-9214-4a3ed0d66ad2"
      },
      "outputs": [],
      "source": []
    },
    {
      "cell_type": "code",
      "source": [],
      "metadata": {
        "id": "2Y_hVsiXCIaH"
      },
      "id": "2Y_hVsiXCIaH",
      "execution_count": null,
      "outputs": []
    },
    {
      "cell_type": "code",
      "execution_count": 2,
      "id": "5c61f1f3-d6a5-4ca3-9329-3e9268979f8b",
      "metadata": {
        "editable": true,
        "tags": [],
        "id": "5c61f1f3-d6a5-4ca3-9329-3e9268979f8b"
      },
      "outputs": [],
      "source": []
    },
    {
      "cell_type": "markdown",
      "id": "1095638b-692d-4c5b-9788-9a6fa863e273",
      "metadata": {
        "deletable": false,
        "editable": false,
        "tags": [],
        "id": "1095638b-692d-4c5b-9788-9a6fa863e273"
      },
      "source": [
        "#### 2. Simple Discount Calculator\n",
        "- You are given an item price price = 200 and a discount rate (*discount_rate = 0.15*) (15%). <br>\n",
        "Write a function `calculate_discount(price, discount_rate)` to:\n",
        "    - Compute the discount amount (price * discount_rate)\n",
        "    - Subtract it from the price to find the final price."
      ]
    },
    {
      "cell_type": "markdown",
      "id": "a552e83b-45b4-49bb-844e-f7e83e0e167f",
      "metadata": {
        "id": "a552e83b-45b4-49bb-844e-f7e83e0e167f"
      },
      "source": [
        "##### Solution:"
      ]
    },
    {
      "cell_type": "code",
      "execution_count": 2,
      "id": "bc3faab1-c8e3-48f3-9353-7c47b18c176a",
      "metadata": {
        "id": "bc3faab1-c8e3-48f3-9353-7c47b18c176a"
      },
      "outputs": [],
      "source": []
    },
    {
      "cell_type": "code",
      "execution_count": 2,
      "id": "ff0f3043-4541-4b09-92bb-4417663f2fe1",
      "metadata": {
        "id": "ff0f3043-4541-4b09-92bb-4417663f2fe1"
      },
      "outputs": [],
      "source": []
    },
    {
      "cell_type": "markdown",
      "id": "40a58f5b-19ab-45e2-b0c5-be1ce837e32c",
      "metadata": {
        "deletable": false,
        "editable": false,
        "tags": [],
        "id": "40a58f5b-19ab-45e2-b0c5-be1ce837e32c"
      },
      "source": [
        "#### 3. Customer Satisfaction Survey\n",
        "A customer satisfaction score is calculated by averaging responses from 3 surveys. The scores are: <br>\n",
        "|survery|score|\n",
        "|-------|------|\n",
        "|Survey1|4|\n",
        "|Survey2|3.5|\n",
        "|Survery3|5|\n",
        "      \n",
        "<br>\n",
        "\n",
        "- Write a function `average_score()` to:\n",
        "    - Compute the average score.\n",
        "    - Print whether the score is \"Good\" (average ≥ 4), \"Neutral\" (3 ≤ average < 4), or \"Bad\" (average < 3)"
      ]
    },
    {
      "cell_type": "markdown",
      "id": "f103dede-92e7-486a-8a6b-5901e811b401",
      "metadata": {
        "id": "f103dede-92e7-486a-8a6b-5901e811b401"
      },
      "source": [
        "##### Solution:"
      ]
    },
    {
      "cell_type": "code",
      "execution_count": 2,
      "id": "7e9433be-e784-4986-9d1e-5f1f3ef79114",
      "metadata": {
        "id": "7e9433be-e784-4986-9d1e-5f1f3ef79114"
      },
      "outputs": [],
      "source": []
    },
    {
      "cell_type": "code",
      "execution_count": 2,
      "id": "951f9f8f-f826-493e-b156-5c692573e27e",
      "metadata": {
        "id": "951f9f8f-f826-493e-b156-5c692573e27e"
      },
      "outputs": [],
      "source": []
    },
    {
      "cell_type": "markdown",
      "id": "284b4020-fba6-4794-a6d9-96e71e6cdcd0",
      "metadata": {
        "deletable": false,
        "editable": false,
        "tags": [],
        "id": "284b4020-fba6-4794-a6d9-96e71e6cdcd0"
      },
      "source": [
        "#### 4. Revenue vs Target Comparison\n",
        "The target revenue for the week is target_revenue = 10000. The actual revenue for the week is:\n",
        "|Revenue Day|Amount|\n",
        "|-------|------|\n",
        "|revenue_day1|2000|\n",
        "|revenue_day2|3000|\n",
        "|revenue_day3|5000|\n",
        "\n",
        "- Write a function `check_revenue(target, actual)` to:\n",
        "    - Compute the total actual revenue.\n",
        "    - Compare it to the target and print:\n",
        "        - \"On Track\" if actual revenue is at least 90% of the target.\n",
        "        - \"Behind\" if actual revenue is less than 90% of the target."
      ]
    },
    {
      "cell_type": "markdown",
      "id": "396e1100-b10d-4223-b272-f24f076bf641",
      "metadata": {
        "id": "396e1100-b10d-4223-b272-f24f076bf641"
      },
      "source": [
        "##### Solution:"
      ]
    },
    {
      "cell_type": "code",
      "execution_count": 2,
      "id": "80162dab-d1e5-498b-90f6-6a129d316c0b",
      "metadata": {
        "id": "80162dab-d1e5-498b-90f6-6a129d316c0b"
      },
      "outputs": [],
      "source": []
    },
    {
      "cell_type": "code",
      "execution_count": 2,
      "id": "38b5683b-bd96-4505-a3c0-60207879639c",
      "metadata": {
        "id": "38b5683b-bd96-4505-a3c0-60207879639c"
      },
      "outputs": [],
      "source": []
    },
    {
      "cell_type": "markdown",
      "id": "d217b674-05d1-44de-954a-7c14c3a8b0df",
      "metadata": {
        "deletable": false,
        "editable": false,
        "tags": [],
        "id": "d217b674-05d1-44de-954a-7c14c3a8b0df"
      },
      "source": [
        "#### 5. Product Inventory Check\n",
        "For a product, you are given:\n",
        "|Tagging|Count|\n",
        "|-----|------|\n",
        "|initial_stock|50|\n",
        "|sold_today|15|\n",
        "|received_shipment|20|\n",
        "\n",
        "- Write a function `calculate_remaining_stock()` to:\n",
        "    - Calculate the remaining stock after today’s sales and the new shipment received.\n",
        "    - Print \"Restocking Needed\" if the remaining stock is below 10.\n",
        "    - Print \"Stock is Good\" if the remaining stock is at least 10."
      ]
    },
    {
      "cell_type": "markdown",
      "id": "d9fd1b2c-4572-4836-842a-b3aa05c3a00f",
      "metadata": {
        "id": "d9fd1b2c-4572-4836-842a-b3aa05c3a00f"
      },
      "source": [
        "##### Solution:"
      ]
    },
    {
      "cell_type": "code",
      "execution_count": 2,
      "id": "91c05923-1803-4abf-af45-67bc6885491d",
      "metadata": {
        "id": "91c05923-1803-4abf-af45-67bc6885491d"
      },
      "outputs": [],
      "source": []
    },
    {
      "cell_type": "code",
      "execution_count": 2,
      "id": "76197e8f-b173-4625-bce6-207882dfaf98",
      "metadata": {
        "id": "76197e8f-b173-4625-bce6-207882dfaf98"
      },
      "outputs": [],
      "source": []
    },
    {
      "cell_type": "markdown",
      "id": "fed56114-7701-41b7-b01b-abc109c77f26",
      "metadata": {
        "deletable": false,
        "editable": false,
        "tags": [],
        "id": "fed56114-7701-41b7-b01b-abc109c77f26"
      },
      "source": [
        "#### 6. Daily Expense Summary\n",
        "You are tracking daily expenses. The daily expenses for the week are:\n",
        "|Day|Amount Spent (Php)|\n",
        "|--|--|\n",
        "|1|250|\n",
        "|2|185|\n",
        "|3|450|\n",
        "|4|170|\n",
        "|5|348|\n",
        "|6|70|\n",
        "|7|99|\n",
        "\n",
        "- Write a function `average_expenses()` to:\n",
        "    - Calculate the average daily expense for the week.\n",
        "    - Print if the expenses are \"Within Budget\" (average ≤ 250) or \"Over Budget\" (average >250).\n",
        "\n",
        "*(You can try to do this with your own daily expenses and the amount that you think should only (your limit) be your daily expense)*"
      ]
    },
    {
      "cell_type": "markdown",
      "id": "6c835458-33fa-467a-b2aa-5c74b5b507a1",
      "metadata": {
        "id": "6c835458-33fa-467a-b2aa-5c74b5b507a1"
      },
      "source": [
        "##### Solution:"
      ]
    },
    {
      "cell_type": "code",
      "execution_count": 2,
      "id": "37b93138-372a-4c10-adf2-29ccabd34988",
      "metadata": {
        "id": "37b93138-372a-4c10-adf2-29ccabd34988"
      },
      "outputs": [],
      "source": []
    },
    {
      "cell_type": "code",
      "execution_count": 2,
      "id": "6e9ffaca-a5cd-4a9b-9891-2d72ac2b3e44",
      "metadata": {
        "id": "6e9ffaca-a5cd-4a9b-9891-2d72ac2b3e44"
      },
      "outputs": [],
      "source": []
    },
    {
      "cell_type": "markdown",
      "id": "218d22c9-be77-4182-9127-cf07f5509655",
      "metadata": {
        "deletable": false,
        "editable": false,
        "tags": [],
        "id": "218d22c9-be77-4182-9127-cf07f5509655"
      },
      "source": [
        "#### 7. Product Profit Calculator\n",
        "You are selling a product with:\n",
        "|   |   |\n",
        "|---|---|\n",
        "|cost_price|50|\n",
        "|selling_price|75|\n",
        "\n",
        "- Write a `function profit_margin()` to:\n",
        "    - Calculate the profit (selling_price - cost_price)\n",
        "    - Print \"Good Profit\" if the profit is at least 20% of the selling price, else print \"Low Profit\"."
      ]
    },
    {
      "cell_type": "markdown",
      "id": "eb652560-bf55-45d3-ac72-62cae060b384",
      "metadata": {
        "id": "eb652560-bf55-45d3-ac72-62cae060b384"
      },
      "source": [
        "##### Solution:"
      ]
    },
    {
      "cell_type": "code",
      "execution_count": 2,
      "id": "6abb73d7-7a26-447b-ba67-555e1499a297",
      "metadata": {
        "id": "6abb73d7-7a26-447b-ba67-555e1499a297"
      },
      "outputs": [],
      "source": []
    },
    {
      "cell_type": "code",
      "execution_count": 2,
      "id": "e741be86-0db7-4358-b1d1-6b134a5c64e7",
      "metadata": {
        "id": "e741be86-0db7-4358-b1d1-6b134a5c64e7"
      },
      "outputs": [],
      "source": []
    },
    {
      "cell_type": "markdown",
      "id": "1f52b5a4-d00d-4912-81d5-519444c25c92",
      "metadata": {
        "deletable": false,
        "editable": false,
        "tags": [],
        "id": "1f52b5a4-d00d-4912-81d5-519444c25c92"
      },
      "source": [
        "#### Mini Lab: Grocery Basket & Budget Check\n",
        "Create a program that can compute/predict if a grocery basket stays within budget after discounts and tax.\n",
        "- With the given prices and quantity below, do you expect the final total to be over a ₱350 budget?\n",
        "|Price|Quantity|\n",
        "|-----|--------|\n",
        "|₱75.99|2|\n",
        "|₱25.50|3|\n",
        "|₱120.00|1|\n",
        "\n",
        "- Which discount applies:\n",
        "    - 10% (subtotal ≥ 100)\n",
        "    - 5% (subtotal ≥ 50)\n",
        "    - or 0%"
      ]
    },
    {
      "cell_type": "markdown",
      "id": "8ff12746-2683-4de9-bec8-929e4b583fc8",
      "metadata": {
        "id": "8ff12746-2683-4de9-bec8-929e4b583fc8"
      },
      "source": [
        "##### Solution"
      ]
    },
    {
      "cell_type": "markdown",
      "source": [
        "For this solution, I used a list (`grocery_basket_dict`) containing 3 dictionaries to store the given values for price and quantity. The variable `budget` contians the given value for the budget.\n",
        "\n",
        "---\n",
        "\n",
        "**Functions**\n",
        "1. `calculate_total`\n",
        "  - Loops through the items inside the list.\n",
        "  - Accesses individual price and quantity for each item.\n",
        "  - Calculates the total amount for each item and the subtotal.\n",
        "  - Prints the Unit Price, Quantity, and Total Amount for each item.\n",
        "  - Return the subtotal\n",
        "\n",
        "> **Note: Discount is not applied in this function because its job is to only compute for the total price of each item in the basket.**\n",
        "\n",
        "\n",
        "2. `apply_discount`\n",
        "  - Calls the function `calculate_total` to get the subtotal value.\n",
        "  - Performs the 3 conditions for applying the discount.\n",
        "  - Prints the subtotal, discount, and discounted price.\n",
        "  - Returns the discounted price if applicable, else it will return the subtotal.\n",
        "\n",
        "3. `is_within_budget`"
      ],
      "metadata": {
        "id": "ePeGJM_bRLhB"
      },
      "id": "ePeGJM_bRLhB"
    },
    {
      "cell_type": "code",
      "source": [
        "def calculat_total(grocery_basket):\n",
        "  # Used to reset the values of subtotal and index every function call\n",
        "  subtotal = 0\n",
        "  index = 0\n",
        "\n",
        "  # Print the header and separator\n",
        "  print(f\"{'Item #':^10}{'Unit Price':^15}{'Quantity':^10}{'Total':>15}\")\n",
        "  print(\"-\" * 50)\n",
        "\n",
        "  # Iterate the items in the list\n",
        "  for item in grocery_basket:\n",
        "    index += 1\n",
        "    # Using the disctionary keys, we'll get the item's price and quantity\n",
        "    price = item[\"price\"]\n",
        "    quantity = item[\"quantity\"]\n",
        "\n",
        "    # Compute for the total price for the item and add that to the subtotal\n",
        "    item_total_price = price * quantity\n",
        "    subtotal += item_total_price\n",
        "\n",
        "    # Print the item's index, unit price, quantity in basket and the total amount for the item\n",
        "    print(f\"{index:^10}{price:^15.2f}{quantity:^10}{item_total_price:>15.2f}\")\n",
        "\n",
        "  # Print a separator line and the subtotal\n",
        "  print(\"-\" * 50)\n",
        "  print(f\"Subtotal: {subtotal}\")\n",
        "  return subtotal"
      ],
      "metadata": {
        "id": "doJvIx6oKJmL"
      },
      "id": "doJvIx6oKJmL",
      "execution_count": 74,
      "outputs": []
    },
    {
      "cell_type": "code",
      "execution_count": 75,
      "id": "ff2f77f1-42a1-438f-b406-276aadb72e36",
      "metadata": {
        "id": "ff2f77f1-42a1-438f-b406-276aadb72e36"
      },
      "outputs": [],
      "source": [
        "def apply_discount(grocery_basket):\n",
        "\n",
        "  # Call the function to calculate the total and assign the value to subtotal\n",
        "  subtotal = calculat_total(grocery_basket)\n",
        "\n",
        "  # Checks the conditions and assigns the appropriate discount\n",
        "  if subtotal >= 100:\n",
        "    discount_percent = \"10\"\n",
        "    discount = subtotal * 0.1\n",
        "  elif subtotal >= 50:\n",
        "    discount_percent = \"5\"\n",
        "    discount = subtotal * 0.05\n",
        "  else:\n",
        "    print(\"Discount not applicable\")\n",
        "    return subtotal\n",
        "\n",
        "  # Subtract the discount from the subtotal and print the values\n",
        "  discounted_price = subtotal - discount\n",
        "  print(f\"{discount_percent}% Discount: {discount} \\nDiscounted Price: {discounted_price}\")\n",
        "\n",
        "  return discounted_price"
      ]
    },
    {
      "cell_type": "code",
      "source": [
        "def is_within_budget(budget, basket):\n",
        "  discounted_basket = apply_discount(basket)\n",
        "\n",
        "  # Expected to only return a boolean value\n",
        "  return (budget - discounted_basket) >= 0"
      ],
      "metadata": {
        "id": "ICUESAZwLZNB"
      },
      "id": "ICUESAZwLZNB",
      "execution_count": 73,
      "outputs": []
    },
    {
      "cell_type": "code",
      "execution_count": 71,
      "id": "e5aef225-e37f-4ee3-9cda-f26b31d3cb84",
      "metadata": {
        "editable": true,
        "tags": [],
        "id": "e5aef225-e37f-4ee3-9cda-f26b31d3cb84",
        "outputId": "8f8cbbf9-4d87-4a81-89a1-6042f23aa8df",
        "colab": {
          "base_uri": "https://localhost:8080/"
        }
      },
      "outputs": [
        {
          "output_type": "stream",
          "name": "stdout",
          "text": [
            "  Item #    Unit Price    Quantity           Total\n",
            "--------------------------------------------------\n",
            "    1          5.00          4               20.00\n",
            "    2          20.00         1               20.00\n",
            "    3          2.50          2                5.00\n",
            "--------------------------------------------------\n",
            "Subtotal: 45.0\n",
            "Discount not applicable\n",
            "The basket stays within the budget\n"
          ]
        }
      ],
      "source": [
        "budget = 350\n",
        "grocery_basket_dict = [{\"price\": 5, \"quantity\": 4},\n",
        "                  {\"price\": 20, \"quantity\": 1},\n",
        "                  {\"price\": 2.5, \"quantity\": 2}]\n",
        "\n",
        "budget_status = \"The basket stays within the budget\" if is_within_budget(budget, grocery_basket_dict) else \"The basket exceeds the budget\"\n",
        "\n",
        "print(budget_status)"
      ]
    },
    {
      "cell_type": "markdown",
      "id": "eb6aae9d-29b7-4f44-9126-24e6b41ce587",
      "metadata": {
        "deletable": false,
        "editable": false,
        "tags": [],
        "id": "eb6aae9d-29b7-4f44-9126-24e6b41ce587"
      },
      "source": [
        "#### Extra question:\n",
        "#### 8. Are there any topic(s) you’re struggling to understand? If yes, list them or briefly describe what’s unclear. If none, just type “N/A”."
      ]
    },
    {
      "cell_type": "markdown",
      "id": "ab441802-b3df-404d-a846-8b99dc41949e",
      "metadata": {
        "id": "ab441802-b3df-404d-a846-8b99dc41949e"
      },
      "source": [
        "##### Answer: *(you can either put it in a Markdown or in a Comment)*"
      ]
    },
    {
      "cell_type": "code",
      "execution_count": 2,
      "id": "55c76644-988f-4f9a-827d-9f4c31323288",
      "metadata": {
        "editable": true,
        "tags": [],
        "id": "55c76644-988f-4f9a-827d-9f4c31323288"
      },
      "outputs": [],
      "source": []
    },
    {
      "cell_type": "markdown",
      "id": "b10971d4-ede3-498a-9410-3b1301a4f284",
      "metadata": {
        "deletable": false,
        "editable": false,
        "tags": [],
        "id": "b10971d4-ede3-498a-9410-3b1301a4f284"
      },
      "source": [
        "----"
      ]
    },
    {
      "cell_type": "markdown",
      "id": "c706538d-d076-4929-b35c-8975410216ea",
      "metadata": {
        "deletable": false,
        "editable": false,
        "tags": [],
        "id": "c706538d-d076-4929-b35c-8975410216ea"
      },
      "source": [
        "#### -----\n",
        "*End of Code*"
      ]
    }
  ],
  "metadata": {
    "kernelspec": {
      "display_name": "Python 3 (ipykernel)",
      "language": "python",
      "name": "python3"
    },
    "language_info": {
      "codemirror_mode": {
        "name": "ipython",
        "version": 3
      },
      "file_extension": ".py",
      "mimetype": "text/x-python",
      "name": "python",
      "nbconvert_exporter": "python",
      "pygments_lexer": "ipython3",
      "version": "3.12.7"
    },
    "colab": {
      "provenance": [],
      "include_colab_link": true
    }
  },
  "nbformat": 4,
  "nbformat_minor": 5
}