{
  "cells": [
    {
      "cell_type": "markdown",
      "metadata": {
        "id": "view-in-github",
        "colab_type": "text"
      },
      "source": [
        "<a href=\"https://colab.research.google.com/github/vivrelavie/Direcho-Trabaho-DS25B/blob/main/Activities/DataScience_Activity1.ipynb\" target=\"_parent\"><img src=\"https://colab.research.google.com/assets/colab-badge.svg\" alt=\"Open In Colab\"/></a>"
      ]
    },
    {
      "cell_type": "markdown",
      "id": "776a96c9-f0d3-405d-8d09-02be835993e3",
      "metadata": {
        "editable": true,
        "tags": [],
        "id": "776a96c9-f0d3-405d-8d09-02be835993e3"
      },
      "source": [
        "# Data Science\n",
        "## Activity 1: Python Fundamentals"
      ]
    },
    {
      "cell_type": "markdown",
      "id": "f6e2f584-c346-42fb-8e81-24f429ec51b5",
      "metadata": {
        "deletable": false,
        "editable": false,
        "tags": [],
        "id": "f6e2f584-c346-42fb-8e81-24f429ec51b5"
      },
      "source": [
        "----"
      ]
    },
    {
      "cell_type": "markdown",
      "id": "29d0b1d4-a6e8-481e-8273-33d5a0bf00e5",
      "metadata": {
        "editable": true,
        "tags": [],
        "id": "29d0b1d4-a6e8-481e-8273-33d5a0bf00e5"
      },
      "source": [
        "**Name**: Stefanie S. Gabion"
      ]
    },
    {
      "cell_type": "markdown",
      "id": "34c1d9c3-0ed0-4a3d-9e10-cc75327a348a",
      "metadata": {
        "deletable": false,
        "editable": false,
        "tags": [],
        "id": "34c1d9c3-0ed0-4a3d-9e10-cc75327a348a"
      },
      "source": [
        "-----"
      ]
    },
    {
      "cell_type": "markdown",
      "id": "23d9896e-1976-4a0c-8e3f-ad7a4aefd66c",
      "metadata": {
        "deletable": false,
        "editable": false,
        "tags": [],
        "id": "23d9896e-1976-4a0c-8e3f-ad7a4aefd66c"
      },
      "source": [
        "#### 0. Warm-up Exercise\n",
        "- Write a function that prints out all the prime numbers up to some number `n`.\n",
        "    - Use iteration to check if each number is prime.\n",
        "    - Use a conditional to print out numbers only if they are prime.\n",
        "    - Break up the task into small pieces so the code is easy to read and understand. (This means we will use (or _call_) helper functions inside of our solution."
      ]
    },
    {
      "cell_type": "markdown",
      "id": "5d65c898-4518-493e-b8ee-208e02cc4fff",
      "metadata": {
        "editable": true,
        "tags": [],
        "id": "5d65c898-4518-493e-b8ee-208e02cc4fff"
      },
      "source": [
        "##### Solution:"
      ]
    },
    {
      "cell_type": "code",
      "execution_count": 649,
      "id": "593456ce-9aef-436b-80df-e8268e285069",
      "metadata": {
        "editable": true,
        "tags": [],
        "id": "593456ce-9aef-436b-80df-e8268e285069"
      },
      "outputs": [],
      "source": [
        "import math\n",
        "\n",
        "def is_prime(number: int) -> bool:\n",
        "    \"\"\"\n",
        "    A number is prime if it is greater than 1 and is not divisible\n",
        "    by any positive integer other than 1 and itself.\n",
        "\n",
        "    Args:\n",
        "        number (int): The integer to check.\n",
        "\n",
        "    Returns:\n",
        "        bool: True if the number is prime, False otherwise.\n",
        "    \"\"\"\n",
        "    # Numbers less than or equal to 1 are not prime.\n",
        "    if number <= 1:\n",
        "        return False\n",
        "\n",
        "    # 2. Optimization: Check divisibility only up to the square root of the number.\n",
        "    # If a number 'n' has a factor larger than its square root, it must also have\n",
        "    # a factor smaller than its square root. We only need to check the smaller factors.\n",
        "    limit = int(math.sqrt(number))\n",
        "\n",
        "    # 3. Iterate through possible divisors starting from 2\n",
        "    for divisor in range(2, limit + 1):\n",
        "        # Use the modulo operator (%) to check for even divisibility.\n",
        "        if number % divisor == 0:\n",
        "            # If divisible, it is not prime.\n",
        "            return False\n",
        "\n",
        "    # 4. If the loop completes without finding any divisors, the number is prime.\n",
        "    return True"
      ]
    },
    {
      "cell_type": "code",
      "source": [
        "def print_primes(n: int) -> None:\n",
        "    \"\"\"\n",
        "    Prints all prime numbers from 2 up to a given number n.\n",
        "\n",
        "    This function iterates through all numbers and uses the helper function\n",
        "    'is_prime' to apply the conditional check.\n",
        "\n",
        "    Args:\n",
        "        n (int): The upper limit (inclusive) for finding prime numbers.\n",
        "    \"\"\"\n",
        "    if n < 2:\n",
        "        print(\"There are no prime numbers less than 2.\")\n",
        "        return\n",
        "\n",
        "    print(f\"\\n--- Prime Numbers up to {n} ---\")\n",
        "\n",
        "    # Store primes to print in a nice list at the end\n",
        "    primes_found = []\n",
        "\n",
        "    # Iterate through every number from 2 up to n (inclusive)\n",
        "    for i in range(2, n + 1):\n",
        "        # Use the conditional check provided by the helper function\n",
        "        if is_prime(i):\n",
        "            primes_found.append(i)\n",
        "\n",
        "    # Print the results separated by commas\n",
        "    print(f\"Total found: {len(primes_found)}\")\n",
        "    print(\", \".join(map(str, primes_found)))\n",
        "    print(\"---------------------------------\")"
      ],
      "metadata": {
        "id": "sF-VfdMICLUY"
      },
      "id": "sF-VfdMICLUY",
      "execution_count": 650,
      "outputs": []
    },
    {
      "cell_type": "code",
      "source": [
        "max_number = 50\n",
        "\n",
        "print_primes(max_number)\n",
        "print_primes(1700)"
      ],
      "metadata": {
        "id": "NbceCyXoXzLG",
        "outputId": "d62cb5c8-7da2-4f1f-f245-5a683f68f7fc",
        "colab": {
          "base_uri": "https://localhost:8080/"
        }
      },
      "id": "NbceCyXoXzLG",
      "execution_count": 651,
      "outputs": [
        {
          "output_type": "stream",
          "name": "stdout",
          "text": [
            "\n",
            "--- Prime Numbers up to 50 ---\n",
            "Total found: 15\n",
            "2, 3, 5, 7, 11, 13, 17, 19, 23, 29, 31, 37, 41, 43, 47\n",
            "---------------------------------\n",
            "\n",
            "--- Prime Numbers up to 1700 ---\n",
            "Total found: 266\n",
            "2, 3, 5, 7, 11, 13, 17, 19, 23, 29, 31, 37, 41, 43, 47, 53, 59, 61, 67, 71, 73, 79, 83, 89, 97, 101, 103, 107, 109, 113, 127, 131, 137, 139, 149, 151, 157, 163, 167, 173, 179, 181, 191, 193, 197, 199, 211, 223, 227, 229, 233, 239, 241, 251, 257, 263, 269, 271, 277, 281, 283, 293, 307, 311, 313, 317, 331, 337, 347, 349, 353, 359, 367, 373, 379, 383, 389, 397, 401, 409, 419, 421, 431, 433, 439, 443, 449, 457, 461, 463, 467, 479, 487, 491, 499, 503, 509, 521, 523, 541, 547, 557, 563, 569, 571, 577, 587, 593, 599, 601, 607, 613, 617, 619, 631, 641, 643, 647, 653, 659, 661, 673, 677, 683, 691, 701, 709, 719, 727, 733, 739, 743, 751, 757, 761, 769, 773, 787, 797, 809, 811, 821, 823, 827, 829, 839, 853, 857, 859, 863, 877, 881, 883, 887, 907, 911, 919, 929, 937, 941, 947, 953, 967, 971, 977, 983, 991, 997, 1009, 1013, 1019, 1021, 1031, 1033, 1039, 1049, 1051, 1061, 1063, 1069, 1087, 1091, 1093, 1097, 1103, 1109, 1117, 1123, 1129, 1151, 1153, 1163, 1171, 1181, 1187, 1193, 1201, 1213, 1217, 1223, 1229, 1231, 1237, 1249, 1259, 1277, 1279, 1283, 1289, 1291, 1297, 1301, 1303, 1307, 1319, 1321, 1327, 1361, 1367, 1373, 1381, 1399, 1409, 1423, 1427, 1429, 1433, 1439, 1447, 1451, 1453, 1459, 1471, 1481, 1483, 1487, 1489, 1493, 1499, 1511, 1523, 1531, 1543, 1549, 1553, 1559, 1567, 1571, 1579, 1583, 1597, 1601, 1607, 1609, 1613, 1619, 1621, 1627, 1637, 1657, 1663, 1667, 1669, 1693, 1697, 1699\n",
            "---------------------------------\n"
          ]
        }
      ]
    },
    {
      "cell_type": "code",
      "execution_count": 651,
      "id": "90a6d6b2-f0d9-4618-9a71-4bd809a217b9",
      "metadata": {
        "deletable": true,
        "editable": false,
        "tags": [],
        "id": "90a6d6b2-f0d9-4618-9a71-4bd809a217b9"
      },
      "outputs": [],
      "source": []
    },
    {
      "cell_type": "markdown",
      "id": "2c34dfea-c6c1-4326-9379-5f5a44fc7c42",
      "metadata": {
        "editable": true,
        "tags": [],
        "id": "2c34dfea-c6c1-4326-9379-5f5a44fc7c42"
      },
      "source": [
        "------"
      ]
    },
    {
      "cell_type": "markdown",
      "id": "5aaeecec-46ff-4d7e-98ae-9053f7443404",
      "metadata": {
        "deletable": false,
        "editable": false,
        "tags": [],
        "id": "5aaeecec-46ff-4d7e-98ae-9053f7443404"
      },
      "source": [
        "#### 1. Sales Performance Check\n",
        "- Given sales_day1 = 150, sales_day2 = 175, sales_day3 = 160, write a function `check_performance()` that:\n",
        "    - Compares each day’s sales to the previous day.\n",
        "    - Prints \"Better\" if the sales are higher, \"Worse\" if lower, and \"Same\" if the same."
      ]
    },
    {
      "cell_type": "markdown",
      "id": "254bfb5f-b5af-4be8-bdb7-293a889bc73d",
      "metadata": {
        "editable": true,
        "tags": [],
        "id": "254bfb5f-b5af-4be8-bdb7-293a889bc73d"
      },
      "source": [
        "##### Solution:"
      ]
    },
    {
      "cell_type": "code",
      "execution_count": 652,
      "id": "1a12aa8b-ad11-46ae-9214-4a3ed0d66ad2",
      "metadata": {
        "editable": true,
        "tags": [],
        "id": "1a12aa8b-ad11-46ae-9214-4a3ed0d66ad2"
      },
      "outputs": [],
      "source": [
        "def check_performance(sales):\n",
        "\n",
        "  # Iterate through the list starting from index 1 (Sales day 2) up to the last index\n",
        "  for i in range(1, len(sales)):\n",
        "\n",
        "    # For readability: sales[i] is the current day sales & sales[i-1] is the previos day sales\n",
        "    current_day_sales = sales[i]\n",
        "    previous_day_sales = sales[i-1]\n",
        "\n",
        "    if current_day_sales > previous_day_sales:\n",
        "      status = \"Better\"\n",
        "    elif current_day_sales < previous_day_sales:\n",
        "      status = \"Worse\"\n",
        "    else:\n",
        "        status = \"Same\"\n",
        "\n",
        "    current_day = i + 1\n",
        "    print(f\"Day {current_day} sales: {status}\")"
      ]
    },
    {
      "cell_type": "code",
      "source": [
        "# Given sales values\n",
        "sales_day1 = 150\n",
        "sales_day2 = 175\n",
        "sales_day3 = 160\n",
        "# sales_day4 = 160\n",
        "\n",
        "# Put data in a list to be able to iterate through the data\n",
        "sales_data = [sales_day1, sales_day2, sales_day3]\n",
        "\n",
        "check_performance(sales_data)"
      ],
      "metadata": {
        "id": "2Y_hVsiXCIaH",
        "outputId": "69193cf8-8ed5-47d6-96c7-7192efaa3372",
        "colab": {
          "base_uri": "https://localhost:8080/"
        }
      },
      "id": "2Y_hVsiXCIaH",
      "execution_count": 653,
      "outputs": [
        {
          "output_type": "stream",
          "name": "stdout",
          "text": [
            "Day 2 sales: Better\n",
            "Day 3 sales: Worse\n"
          ]
        }
      ]
    },
    {
      "cell_type": "markdown",
      "id": "1095638b-692d-4c5b-9788-9a6fa863e273",
      "metadata": {
        "deletable": false,
        "editable": false,
        "tags": [],
        "id": "1095638b-692d-4c5b-9788-9a6fa863e273"
      },
      "source": [
        "#### 2. Simple Discount Calculator\n",
        "- You are given an item price price = 200 and a discount rate (*discount_rate = 0.15*) (15%). <br>\n",
        "Write a function `calculate_discount(price, discount_rate)` to:\n",
        "    - Compute the discount amount (price * discount_rate)\n",
        "    - Subtract it from the price to find the final price."
      ]
    },
    {
      "cell_type": "markdown",
      "id": "a552e83b-45b4-49bb-844e-f7e83e0e167f",
      "metadata": {
        "id": "a552e83b-45b4-49bb-844e-f7e83e0e167f"
      },
      "source": [
        "##### Solution:"
      ]
    },
    {
      "cell_type": "code",
      "execution_count": 654,
      "id": "bc3faab1-c8e3-48f3-9353-7c47b18c176a",
      "metadata": {
        "id": "bc3faab1-c8e3-48f3-9353-7c47b18c176a"
      },
      "outputs": [],
      "source": [
        "def calculate_discount(price, discount_rate):\n",
        "  discount_amount = price * discount_rate\n",
        "  discounted_price = price - discount_amount\n",
        "\n",
        "  return discount_amount, discounted_price"
      ]
    },
    {
      "cell_type": "code",
      "execution_count": 655,
      "id": "ff0f3043-4541-4b09-92bb-4417663f2fe1",
      "metadata": {
        "id": "ff0f3043-4541-4b09-92bb-4417663f2fe1",
        "outputId": "5c00f592-fd4a-48cc-c066-0a67af7556ec",
        "colab": {
          "base_uri": "https://localhost:8080/"
        }
      },
      "outputs": [
        {
          "output_type": "stream",
          "name": "stdout",
          "text": [
            "Discount Amount: 30.0\n",
            "Final Price: 170.0\n"
          ]
        }
      ],
      "source": [
        "# Given values of price and discount rate\n",
        "price = 200\n",
        "discount_rate = 0.15\n",
        "\n",
        "discount_amount, final_price = calculate_discount(price, discount_rate)\n",
        "\n",
        "print(f\"Discount Amount: {discount_amount}\")\n",
        "print(f\"Final Price: {final_price}\")"
      ]
    },
    {
      "cell_type": "markdown",
      "id": "40a58f5b-19ab-45e2-b0c5-be1ce837e32c",
      "metadata": {
        "deletable": false,
        "editable": false,
        "tags": [],
        "id": "40a58f5b-19ab-45e2-b0c5-be1ce837e32c"
      },
      "source": [
        "#### 3. Customer Satisfaction Survey\n",
        "A customer satisfaction score is calculated by averaging responses from 3 surveys. The scores are: <br>\n",
        "|survery|score|\n",
        "|-------|------|\n",
        "|Survey1|4|\n",
        "|Survey2|3.5|\n",
        "|Survery3|5|\n",
        "      \n",
        "<br>\n",
        "\n",
        "- Write a function `average_score()` to:\n",
        "    - Compute the average score.\n",
        "    - Print whether the score is \"Good\" (average ≥ 4), \"Neutral\" (3 ≤ average < 4), or \"Bad\" (average < 3)"
      ]
    },
    {
      "cell_type": "markdown",
      "id": "f103dede-92e7-486a-8a6b-5901e811b401",
      "metadata": {
        "id": "f103dede-92e7-486a-8a6b-5901e811b401"
      },
      "source": [
        "##### Solution:"
      ]
    },
    {
      "cell_type": "code",
      "execution_count": 656,
      "id": "7e9433be-e784-4986-9d1e-5f1f3ef79114",
      "metadata": {
        "id": "7e9433be-e784-4986-9d1e-5f1f3ef79114"
      },
      "outputs": [],
      "source": [
        "def average_score(scores):\n",
        "  # Compute for the average\n",
        "  average = sum(scores) / len(scores)\n",
        "  print(f\"Average Score: {average:.2f}\")\n",
        "\n",
        "  if average >= 4:\n",
        "    print(\"Good\")\n",
        "  elif average >= 3:\n",
        "    print(\"Neutral\")\n",
        "  else:\n",
        "    print(\"Bad\")"
      ]
    },
    {
      "cell_type": "code",
      "execution_count": 657,
      "id": "951f9f8f-f826-493e-b156-5c692573e27e",
      "metadata": {
        "id": "951f9f8f-f826-493e-b156-5c692573e27e",
        "outputId": "059002d1-426a-4dfe-8bb5-02c348a82dcd",
        "colab": {
          "base_uri": "https://localhost:8080/"
        }
      },
      "outputs": [
        {
          "output_type": "stream",
          "name": "stdout",
          "text": [
            "Average Score: 4.17\n",
            "Good\n"
          ]
        }
      ],
      "source": [
        "# Given scores for 3 surveys\n",
        "Survey1 = 4\n",
        "Survey2 = 3.5\n",
        "Survey3 = 5\n",
        "\n",
        "# Scores put in a list for easy calculation\n",
        "survey_scores = [Survey1, Survey2, Survey3]\n",
        "\n",
        "average_score(survey_scores)"
      ]
    },
    {
      "cell_type": "markdown",
      "id": "284b4020-fba6-4794-a6d9-96e71e6cdcd0",
      "metadata": {
        "deletable": false,
        "editable": false,
        "tags": [],
        "id": "284b4020-fba6-4794-a6d9-96e71e6cdcd0"
      },
      "source": [
        "#### 4. Revenue vs Target Comparison\n",
        "The target revenue for the week is target_revenue = 10000. The actual revenue for the week is:\n",
        "|Revenue Day|Amount|\n",
        "|-------|------|\n",
        "|revenue_day1|2000|\n",
        "|revenue_day2|3000|\n",
        "|revenue_day3|5000|\n",
        "\n",
        "- Write a function `check_revenue(target, actual)` to:\n",
        "    - Compute the total actual revenue.\n",
        "    - Compare it to the target and print:\n",
        "        - \"On Track\" if actual revenue is at least 90% of the target.\n",
        "        - \"Behind\" if actual revenue is less than 90% of the target."
      ]
    },
    {
      "cell_type": "markdown",
      "id": "396e1100-b10d-4223-b272-f24f076bf641",
      "metadata": {
        "id": "396e1100-b10d-4223-b272-f24f076bf641"
      },
      "source": [
        "##### Solution:"
      ]
    },
    {
      "cell_type": "code",
      "execution_count": 658,
      "id": "80162dab-d1e5-498b-90f6-6a129d316c0b",
      "metadata": {
        "id": "80162dab-d1e5-498b-90f6-6a129d316c0b"
      },
      "outputs": [],
      "source": [
        "def check_revenue(target, actual):\n",
        "  total_actual = sum(actual)\n",
        "\n",
        "  print(f\"Target Revenue: {target}\")\n",
        "  print(f\"Actual Revenue: {total_actual}\")\n",
        "\n",
        "  # Ternary operator to compare the target revenue with the actual revenue\n",
        "  print(\"On Track\" if total_actual >= (target * 0.9) else \"Behind\")"
      ]
    },
    {
      "cell_type": "code",
      "execution_count": 659,
      "id": "38b5683b-bd96-4505-a3c0-60207879639c",
      "metadata": {
        "id": "38b5683b-bd96-4505-a3c0-60207879639c",
        "outputId": "c1cb5cbb-8eaa-4e23-de4b-46e247a431c0",
        "colab": {
          "base_uri": "https://localhost:8080/"
        }
      },
      "outputs": [
        {
          "output_type": "stream",
          "name": "stdout",
          "text": [
            "Target Revenue: 10000\n",
            "Actual Revenue: 10000\n",
            "On Track\n"
          ]
        }
      ],
      "source": [
        "# Given values for target revenue and actual revenue\n",
        "target_revenue = 10000\n",
        "revenue_day1 = 2000\n",
        "revenue_day2 = 3000\n",
        "revenue_day3 = 5000\n",
        "\n",
        "actual_revenue = [revenue_day1, revenue_day2, revenue_day3]\n",
        "\n",
        "check_revenue(target_revenue, actual_revenue)"
      ]
    },
    {
      "cell_type": "markdown",
      "id": "d217b674-05d1-44de-954a-7c14c3a8b0df",
      "metadata": {
        "deletable": false,
        "editable": false,
        "tags": [],
        "id": "d217b674-05d1-44de-954a-7c14c3a8b0df"
      },
      "source": [
        "#### 5. Product Inventory Check\n",
        "For a product, you are given:\n",
        "|Tagging|Count|\n",
        "|-----|------|\n",
        "|initial_stock|50|\n",
        "|sold_today|15|\n",
        "|received_shipment|20|\n",
        "\n",
        "- Write a function `calculate_remaining_stock()` to:\n",
        "    - Calculate the remaining stock after today’s sales and the new shipment received.\n",
        "    - Print \"Restocking Needed\" if the remaining stock is below 10.\n",
        "    - Print \"Stock is Good\" if the remaining stock is at least 10."
      ]
    },
    {
      "cell_type": "markdown",
      "id": "d9fd1b2c-4572-4836-842a-b3aa05c3a00f",
      "metadata": {
        "id": "d9fd1b2c-4572-4836-842a-b3aa05c3a00f"
      },
      "source": [
        "##### Solution:"
      ]
    },
    {
      "cell_type": "code",
      "execution_count": 660,
      "id": "91c05923-1803-4abf-af45-67bc6885491d",
      "metadata": {
        "id": "91c05923-1803-4abf-af45-67bc6885491d"
      },
      "outputs": [],
      "source": [
        "def calculate_remaining_stock(init_stock, sold, new_shipment):\n",
        "  remaining_stock = init_stock - sold + new_shipment\n",
        "\n",
        "  return f\"Remaining Stock: {remaining_stock}\\n\" \\\n",
        "   + (\"Restocking Needed\" if remaining_stock < 10 else \"Stock is Good\")"
      ]
    },
    {
      "cell_type": "code",
      "execution_count": 661,
      "id": "76197e8f-b173-4625-bce6-207882dfaf98",
      "metadata": {
        "id": "76197e8f-b173-4625-bce6-207882dfaf98",
        "outputId": "c25a648c-956c-4456-c455-fbbc5c18891b",
        "colab": {
          "base_uri": "https://localhost:8080/"
        }
      },
      "outputs": [
        {
          "output_type": "stream",
          "name": "stdout",
          "text": [
            "Remaining Stock: 55\n",
            "Stock is Good\n"
          ]
        }
      ],
      "source": [
        "# Given values\n",
        "initial_stock = 50\n",
        "sold_today = 15\n",
        "received_shipment = 20\n",
        "\n",
        "stock_status = calculate_remaining_stock(initial_stock, sold_today, received_shipment)\n",
        "\n",
        "print(stock_status)"
      ]
    },
    {
      "cell_type": "markdown",
      "id": "fed56114-7701-41b7-b01b-abc109c77f26",
      "metadata": {
        "deletable": false,
        "editable": false,
        "tags": [],
        "id": "fed56114-7701-41b7-b01b-abc109c77f26"
      },
      "source": [
        "#### 6. Daily Expense Summary\n",
        "You are tracking daily expenses. The daily expenses for the week are:\n",
        "|Day|Amount Spent (Php)|\n",
        "|--|--|\n",
        "|1|250|\n",
        "|2|185|\n",
        "|3|450|\n",
        "|4|170|\n",
        "|5|348|\n",
        "|6|70|\n",
        "|7|99|\n",
        "\n",
        "- Write a function `average_expenses()` to:\n",
        "    - Calculate the average daily expense for the week.\n",
        "    - Print if the expenses are \"Within Budget\" (average ≤ 250) or \"Over Budget\" (average >250).\n",
        "\n",
        "*(You can try to do this with your own daily expenses and the amount that you think should only (your limit) be your daily expense)*"
      ]
    },
    {
      "cell_type": "markdown",
      "id": "6c835458-33fa-467a-b2aa-5c74b5b507a1",
      "metadata": {
        "id": "6c835458-33fa-467a-b2aa-5c74b5b507a1"
      },
      "source": [
        "##### Solution:"
      ]
    },
    {
      "cell_type": "code",
      "execution_count": 662,
      "id": "37b93138-372a-4c10-adf2-29ccabd34988",
      "metadata": {
        "id": "37b93138-372a-4c10-adf2-29ccabd34988"
      },
      "outputs": [],
      "source": [
        "def average_expenses(expenses):\n",
        "  average_daily_expense = sum(expenses) / len(expenses)\n",
        "\n",
        "  return f\"Average Daily Expense: {average_daily_expense:.2f}\\n\" \\\n",
        "  + (\"Within Budget\" if average_daily_expense <= 250 else \"Over Budget\")"
      ]
    },
    {
      "cell_type": "code",
      "execution_count": 663,
      "id": "6e9ffaca-a5cd-4a9b-9891-2d72ac2b3e44",
      "metadata": {
        "id": "6e9ffaca-a5cd-4a9b-9891-2d72ac2b3e44",
        "outputId": "19cca864-c285-4a76-e8ff-e4521b9e2e52",
        "colab": {
          "base_uri": "https://localhost:8080/"
        }
      },
      "outputs": [
        {
          "output_type": "stream",
          "name": "stdout",
          "text": [
            "Average Daily Expense: 224.57\n",
            "Within Budget\n"
          ]
        }
      ],
      "source": [
        "day1 = 250\n",
        "day2 = 185\n",
        "day3 = 450\n",
        "day4 = 170\n",
        "day5 = 348\n",
        "day6 = 70\n",
        "day7 = 99\n",
        "\n",
        "daily_expenses = [day1, day2, day3, day4, day5, day6, day7]\n",
        "\n",
        "print(average_expenses(daily_expenses))"
      ]
    },
    {
      "cell_type": "markdown",
      "id": "218d22c9-be77-4182-9127-cf07f5509655",
      "metadata": {
        "deletable": false,
        "editable": false,
        "tags": [],
        "id": "218d22c9-be77-4182-9127-cf07f5509655"
      },
      "source": [
        "#### 7. Product Profit Calculator\n",
        "You are selling a product with:\n",
        "|   |   |\n",
        "|---|---|\n",
        "|cost_price|50|\n",
        "|selling_price|75|\n",
        "\n",
        "- Write a `function profit_margin()` to:\n",
        "    - Calculate the profit (selling_price - cost_price)\n",
        "    - Print \"Good Profit\" if the profit is at least 20% of the selling price, else print \"Low Profit\"."
      ]
    },
    {
      "cell_type": "markdown",
      "id": "eb652560-bf55-45d3-ac72-62cae060b384",
      "metadata": {
        "id": "eb652560-bf55-45d3-ac72-62cae060b384"
      },
      "source": [
        "##### Solution:"
      ]
    },
    {
      "cell_type": "code",
      "execution_count": 664,
      "id": "6abb73d7-7a26-447b-ba67-555e1499a297",
      "metadata": {
        "id": "6abb73d7-7a26-447b-ba67-555e1499a297"
      },
      "outputs": [],
      "source": [
        "def profit_margin(selling_price, cost_price):\n",
        "  profit = selling_price - cost_price\n",
        "  target_profit = selling_price * 0.2\n",
        "\n",
        "  return f\"Profit: {profit} \\nTarget Profit: {target_profit}\\n\" \\\n",
        "  + (\"Good Profit\" if profit >= target_profit else \"Low Profit\")"
      ]
    },
    {
      "cell_type": "code",
      "execution_count": 665,
      "id": "e741be86-0db7-4358-b1d1-6b134a5c64e7",
      "metadata": {
        "id": "e741be86-0db7-4358-b1d1-6b134a5c64e7",
        "outputId": "ff239464-d430-4886-868e-07c6db0f9a4c",
        "colab": {
          "base_uri": "https://localhost:8080/"
        }
      },
      "outputs": [
        {
          "output_type": "stream",
          "name": "stdout",
          "text": [
            "Profit: 25 \n",
            "Target Profit: 15.0\n",
            "Good Profit\n"
          ]
        }
      ],
      "source": [
        "cost_price = 50\n",
        "selling_price = 75\n",
        "\n",
        "print(profit_margin(selling_price, cost_price))"
      ]
    },
    {
      "cell_type": "markdown",
      "id": "1f52b5a4-d00d-4912-81d5-519444c25c92",
      "metadata": {
        "deletable": false,
        "editable": false,
        "tags": [],
        "id": "1f52b5a4-d00d-4912-81d5-519444c25c92"
      },
      "source": [
        "#### Mini Lab: Grocery Basket & Budget Check\n",
        "Create a program that can compute/predict if a grocery basket stays within budget after discounts and tax.\n",
        "- With the given prices and quantity below, do you expect the final total to be over a ₱350 budget?\n",
        "|Price|Quantity|\n",
        "|-----|--------|\n",
        "|₱75.99|2|\n",
        "|₱25.50|3|\n",
        "|₱120.00|1|\n",
        "\n",
        "- Which discount applies:\n",
        "    - 10% (subtotal ≥ 100)\n",
        "    - 5% (subtotal ≥ 50)\n",
        "    - or 0%"
      ]
    },
    {
      "cell_type": "markdown",
      "id": "8ff12746-2683-4de9-bec8-929e4b583fc8",
      "metadata": {
        "id": "8ff12746-2683-4de9-bec8-929e4b583fc8"
      },
      "source": [
        "##### Solution"
      ]
    },
    {
      "cell_type": "markdown",
      "source": [
        "For my solution, I used a list (`grocery_basket_dict`) containing 3 dictionaries to store the given values for price and quantity. The variable `budget` contians the given value for the budget.\n",
        "\n",
        "---\n",
        "\n",
        "**Functions**\n",
        "1. `calculate_total`\n",
        "  - Loops through the items inside the list.\n",
        "  - Accesses individual price and quantity for each item.\n",
        "  - Calculates the total amount for each item and the subtotal.\n",
        "  - Prints the Unit Price, Quantity, and Total Amount for each item.\n",
        "  - Returns the subtotal\n",
        "\n",
        "> **Note: Discount is not applied in this function because its job is to only compute for the total price of each item in the basket and the subtotal.**\n",
        "\n",
        "\n",
        "2. `apply_discount`\n",
        "  - Performs the 3 conditions for applying the discount.\n",
        "  - Computes for the discount and applies the amount to the subtotal.\n",
        "  - Prints the subtotal, discount amount, and discounted price.\n",
        "  - Returns the discounted price if applicable, else it will return the subtotal.\n",
        "\n",
        "3. `is_within_budget`\n",
        "  - Calls the function `calculate_total` to get the subtotal.\n",
        "  - Calls the function `apply_discount` to apply the appropriate discount to the subtotal.\n",
        "  - Returns `True` if the discounted amount is less than or equal to the budget.\n",
        "  - Returns `False` if the discounted amount is greater than the budget."
      ],
      "metadata": {
        "id": "ePeGJM_bRLhB"
      },
      "id": "ePeGJM_bRLhB"
    },
    {
      "cell_type": "code",
      "source": [
        "def calculate_total(grocery_basket):\n",
        "  # Initialize the value of the accumulator\n",
        "  subtotal = 0\n",
        "\n",
        "  # Print the header and separator\n",
        "  print(f\"{'Item #':^10}{'Unit Price':^15}{'Quantity':^10}{'Total':>15}\")\n",
        "  print(\"-\" * 50)\n",
        "\n",
        "  for item_num, item in enumerate(grocery_basket, start=1):\n",
        "\n",
        "    # Using the disctionary keys, we'll get the item's price and quantity\n",
        "    price = item[\"price\"]\n",
        "    quantity = item[\"quantity\"]\n",
        "\n",
        "    # Compute for the total price for the item and add that to the subtotal\n",
        "    item_total_price = price * quantity\n",
        "    subtotal += item_total_price\n",
        "\n",
        "    # Print the item's index, unit price, quantity in basket and the total amount for the item\n",
        "    print(f\"{item_num:^10}{price:^15.2f}{quantity:^10}{item_total_price:>15.2f}\")\n",
        "\n",
        "  # Print a separator line and the subtotal\n",
        "  print(\"-\" * 50)\n",
        "  print(f\"Subtotal: {subtotal}\")\n",
        "\n",
        "  return subtotal"
      ],
      "metadata": {
        "id": "doJvIx6oKJmL"
      },
      "id": "doJvIx6oKJmL",
      "execution_count": 666,
      "outputs": []
    },
    {
      "cell_type": "code",
      "execution_count": 667,
      "id": "ff2f77f1-42a1-438f-b406-276aadb72e36",
      "metadata": {
        "id": "ff2f77f1-42a1-438f-b406-276aadb72e36"
      },
      "outputs": [],
      "source": [
        "def apply_discount(subtotal):\n",
        "\n",
        "  if subtotal >= 100:\n",
        "      discount_percent = 10\n",
        "  elif subtotal >= 50:\n",
        "      discount_percent = 5\n",
        "  else:\n",
        "      discount_percent = 0\n",
        "\n",
        "  # Early exit and returns the subtotal if discount is not applicable\n",
        "  if(discount_percent == 0):\n",
        "    print(\"Discount not applicable\")\n",
        "    return subtotal\n",
        "\n",
        "  # Compute for the discount and apply the discount to the subtotal\n",
        "  discount = (subtotal * discount_percent) / 100\n",
        "  discounted_price = subtotal - discount\n",
        "\n",
        "  print(f\"{discount_percent}% Discount: {discount:.2f}\")\n",
        "  print(f\"Discounted Price: {discounted_price:.2f}\")\n",
        "\n",
        "  return discounted_price"
      ]
    },
    {
      "cell_type": "code",
      "source": [
        "def is_within_budget(budget, basket):\n",
        "  subtotal = calculate_total(basket)\n",
        "  discounted_basket = apply_discount(subtotal)\n",
        "\n",
        "  # Expected to only return a boolean value\n",
        "  return discounted_basket <= budget"
      ],
      "metadata": {
        "id": "ICUESAZwLZNB"
      },
      "id": "ICUESAZwLZNB",
      "execution_count": 668,
      "outputs": []
    },
    {
      "cell_type": "code",
      "execution_count": 669,
      "id": "e5aef225-e37f-4ee3-9cda-f26b31d3cb84",
      "metadata": {
        "editable": true,
        "tags": [],
        "id": "e5aef225-e37f-4ee3-9cda-f26b31d3cb84",
        "outputId": "af49c699-1cad-417d-abd9-8e8ad1c89e57",
        "colab": {
          "base_uri": "https://localhost:8080/"
        }
      },
      "outputs": [
        {
          "output_type": "stream",
          "name": "stdout",
          "text": [
            "  Item #    Unit Price    Quantity           Total\n",
            "--------------------------------------------------\n",
            "    1          75.99         2              151.98\n",
            "    2          25.50         3               76.50\n",
            "    3         120.00         1              120.00\n",
            "--------------------------------------------------\n",
            "Subtotal: 348.48\n",
            "10% Discount: 34.85\n",
            "Discounted Price: 313.63\n",
            "The basket stays within the budget\n"
          ]
        }
      ],
      "source": [
        "# Given values for the budget and grocery basket\n",
        "budget = 350\n",
        "grocery_basket_dict = [{\"price\": 75.99, \"quantity\": 2},\n",
        "                  {\"price\": 25.5, \"quantity\": 3},\n",
        "                  {\"price\": 120.0, \"quantity\": 1}]\n",
        "\n",
        "budget_status = \"The basket stays within the budget\" if is_within_budget(budget, grocery_basket_dict) else \"The basket exceeds the budget\"\n",
        "\n",
        "print(budget_status)"
      ]
    },
    {
      "cell_type": "markdown",
      "id": "eb6aae9d-29b7-4f44-9126-24e6b41ce587",
      "metadata": {
        "deletable": false,
        "editable": false,
        "tags": [],
        "id": "eb6aae9d-29b7-4f44-9126-24e6b41ce587"
      },
      "source": [
        "#### Extra question:\n",
        "#### 8. Are there any topic(s) you’re struggling to understand? If yes, list them or briefly describe what’s unclear. If none, just type “N/A”."
      ]
    },
    {
      "cell_type": "markdown",
      "id": "ab441802-b3df-404d-a846-8b99dc41949e",
      "metadata": {
        "id": "ab441802-b3df-404d-a846-8b99dc41949e"
      },
      "source": [
        "##### Answer: I think the Warm-up Exercise is the most difficult one to do"
      ]
    },
    {
      "cell_type": "markdown",
      "id": "b10971d4-ede3-498a-9410-3b1301a4f284",
      "metadata": {
        "deletable": false,
        "editable": false,
        "tags": [],
        "id": "b10971d4-ede3-498a-9410-3b1301a4f284"
      },
      "source": [
        "----"
      ]
    },
    {
      "cell_type": "markdown",
      "id": "c706538d-d076-4929-b35c-8975410216ea",
      "metadata": {
        "deletable": false,
        "editable": false,
        "tags": [],
        "id": "c706538d-d076-4929-b35c-8975410216ea"
      },
      "source": [
        "#### -----\n",
        "*End of Code*"
      ]
    }
  ],
  "metadata": {
    "kernelspec": {
      "display_name": "Python 3 (ipykernel)",
      "language": "python",
      "name": "python3"
    },
    "language_info": {
      "codemirror_mode": {
        "name": "ipython",
        "version": 3
      },
      "file_extension": ".py",
      "mimetype": "text/x-python",
      "name": "python",
      "nbconvert_exporter": "python",
      "pygments_lexer": "ipython3",
      "version": "3.12.7"
    },
    "colab": {
      "provenance": [],
      "include_colab_link": true
    }
  },
  "nbformat": 4,
  "nbformat_minor": 5
}