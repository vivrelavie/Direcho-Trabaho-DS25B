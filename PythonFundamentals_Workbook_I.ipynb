{
 "cells": [
  {
   "cell_type": "markdown",
   "id": "db679f4e-4b63-49f4-9807-c71a4d23201d",
   "metadata": {},
   "source": [
    "# Python Fundamentals\n",
    "---"
   ]
  },
  {
   "cell_type": "markdown",
   "id": "d1c7b23a-1f21-4f31-884b-1d3267cb4bab",
   "metadata": {},
   "source": [
    "- Attendance\n",
    "- Activity/Mini Projects\n",
    "- Capstone"
   ]
  },
  {
   "cell_type": "markdown",
   "id": "be36b1a5-c3b3-4e33-add5-fd5c49c53711",
   "metadata": {},
   "source": [
    "---\n",
    "## Common Python Symbols"
   ]
  },
  {
   "cell_type": "markdown",
   "id": "cf03be92-48e2-4a16-a372-ca0fd8e29a06",
   "metadata": {},
   "source": [
    "- `=` *assignment*\n",
    "- `==` *equality test*\n",
    "- `!=` *not equal*\n",
    "\n",
    "#### Comparisons\n",
    "- `<`, `<=`, `>`, `>=`\n",
    "\n",
    "#### Arithmetic\n",
    "- `+`, `-`, `*`, `/` *add, subtract, multiply, true division (/ keeps float/with decimal)*\n",
    "- `//` *floor division (drops fractional part)*\n",
    "- `%` *modulo (remainder)*\n",
    "- `**` *exponent*\n",
    "- `+=`, `-=`, `*=`, `/=`, `//=`, `%=` *augmented assignment (ex: `x+=1` == `x = x + 1`)*\n",
    "\n",
    "#### Logic and Membership\n",
    "- `and`, `or`, `not`\n",
    "- `in`, `not in`"
   ]
  },
  {
   "cell_type": "markdown",
   "id": "56154634-6501-4e4b-86fb-e745d919fb70",
   "metadata": {},
   "source": [
    "   "
   ]
  },
  {
   "cell_type": "markdown",
   "id": "d322de43-9e71-42a2-8363-c0c0a9c5f902",
   "metadata": {},
   "source": [
    "## Variables\n",
    "- names that point to values"
   ]
  },
  {
   "cell_type": "code",
   "execution_count": 11,
   "id": "aa2af775-3c35-4f41-9565-1473ecbbe97c",
   "metadata": {},
   "outputs": [],
   "source": [
    "# Variables\n",
    "city = 'Cebu'\n",
    "year = 2025"
   ]
  },
  {
   "cell_type": "markdown",
   "id": "d24023c2-8a3a-4c42-8938-ea19a21cec1e",
   "metadata": {},
   "source": [
    "## Data Types"
   ]
  },
  {
   "cell_type": "code",
   "execution_count": 12,
   "id": "4bdeab4e-b7ac-46e6-90dc-7bb205b24045",
   "metadata": {},
   "outputs": [],
   "source": [
    "# Data Types\n",
    "integer = 7  ## int\n",
    "float_num = 3.14 ## float\n",
    "message = 'hi!' ## str\n",
    "is_sick = False ## bool"
   ]
  },
  {
   "cell_type": "code",
   "execution_count": 13,
   "id": "35e8b73b-d511-467c-a2bb-629f3cb017a1",
   "metadata": {},
   "outputs": [
    {
     "data": {
      "text/plain": [
       "float"
      ]
     },
     "execution_count": 13,
     "metadata": {},
     "output_type": "execute_result"
    }
   ],
   "source": [
    "# Checking Data type\n",
    "type(3.0) ## This is a float -- because of the decimal"
   ]
  },
  {
   "cell_type": "code",
   "execution_count": 14,
   "id": "3d195d4f-43b3-4ef8-8b82-a80616098b53",
   "metadata": {},
   "outputs": [
    {
     "data": {
      "text/plain": [
       "5.0"
      ]
     },
     "execution_count": 14,
     "metadata": {},
     "output_type": "execute_result"
    }
   ],
   "source": [
    "# Type Conversion\n",
    "int('42') # str to int\n",
    "str(3.17) # float to str\n",
    "float(5) # float to int"
   ]
  },
  {
   "cell_type": "markdown",
   "id": "23924dac-a842-4bf6-9016-9d657cd8a338",
   "metadata": {},
   "source": [
    "## Basic Python Syntax"
   ]
  },
  {
   "cell_type": "code",
   "execution_count": 15,
   "id": "4485431f-9bb1-428a-955b-2ce940a217bc",
   "metadata": {},
   "outputs": [
    {
     "name": "stdout",
     "output_type": "stream",
     "text": [
      "Metro Manila\n"
     ]
    }
   ],
   "source": [
    "city = 'Metro Manila'\n",
    "print(city)"
   ]
  },
  {
   "cell_type": "code",
   "execution_count": 16,
   "id": "970def33-5063-462c-b420-6df8abc1b96f",
   "metadata": {},
   "outputs": [
    {
     "name": "stdout",
     "output_type": "stream",
     "text": [
      "NOT the same!\n"
     ]
    }
   ],
   "source": [
    "if city == 'metro manila':\n",
    "    print('The same!')\n",
    "else:\n",
    "    print('NOT the same!')"
   ]
  },
  {
   "cell_type": "markdown",
   "id": "bed66af3-fc1d-43da-9030-75560065d23a",
   "metadata": {},
   "source": [
    "### Printing/Formatting in Python"
   ]
  },
  {
   "cell_type": "code",
   "execution_count": 17,
   "id": "e54328b1-8725-4a27-8e6a-33802ddb5981",
   "metadata": {},
   "outputs": [
    {
     "name": "stdout",
     "output_type": "stream",
     "text": [
      "fstring style\n",
      "I was born in the year 1997\n",
      "I will be 33 in 2030\n",
      "I was born in the year 1997. I will be 33 in 2030\n",
      "\n",
      ".format() style\n",
      "I was born in the year 1997\n",
      "I will be 28 in 2030\n",
      "I was born in the year 1997 and I will be 28 in 2030\n"
     ]
    }
   ],
   "source": [
    "birthyear = 1997\n",
    "age = 28\n",
    "\n",
    "# fstring\n",
    "print('fstring style')\n",
    "print(f'I was born in the year {birthyear}')\n",
    "print(f'I will be {age + 5} in 2030')\n",
    "print(f'I was born in the year {birthyear}. I will be {age+5} in 2030')\n",
    "print()\n",
    "# str.format\n",
    "print('.format() style')\n",
    "print('I was born in the year {}'.format(birthyear))\n",
    "print('I will be {} in 2030'.format(age))\n",
    "print('I was born in the year {} and I will be {} in 2030'.format(birthyear, age))"
   ]
  },
  {
   "cell_type": "markdown",
   "id": "c9dd81ca-bee7-492e-8f00-4221ed62e0a5",
   "metadata": {},
   "source": [
    "## Function"
   ]
  },
  {
   "cell_type": "code",
   "execution_count": 18,
   "id": "cc3e8760-f4d3-465d-8868-ece75271a74c",
   "metadata": {},
   "outputs": [],
   "source": [
    "# Simple function - converting dollars to peso (USD1 = PHP58.30)\n",
    "def dollars_to_peso(dollars): # use def keyword + name of function + (parameter)\n",
    "    return dollars * 58.30"
   ]
  },
  {
   "cell_type": "markdown",
   "id": "22f6027d-9259-4807-9a0c-cb9fc44ff6fc",
   "metadata": {},
   "source": [
    "## Comparison and Logical Operations"
   ]
  },
  {
   "cell_type": "code",
   "execution_count": 19,
   "id": "00f36090-8a8f-411a-aacc-904798dce476",
   "metadata": {},
   "outputs": [
    {
     "ename": "NameError",
     "evalue": "name 'genz' is not defined",
     "output_type": "error",
     "traceback": [
      "\u001b[31m---------------------------------------------------------------------------\u001b[39m",
      "\u001b[31mNameError\u001b[39m                                 Traceback (most recent call last)",
      "\u001b[36mCell\u001b[39m\u001b[36m \u001b[39m\u001b[32mIn[19]\u001b[39m\u001b[32m, line 2\u001b[39m\n\u001b[32m      1\u001b[39m joseph = \u001b[32m28\u001b[39m\n\u001b[32m----> \u001b[39m\u001b[32m2\u001b[39m is_senior = \u001b[43mgenz\u001b[49m >= \u001b[32m60\u001b[39m\n\u001b[32m      3\u001b[39m with_discount = \u001b[38;5;28;01mTrue\u001b[39;00m \u001b[38;5;129;01mand\u001b[39;00m is_senior\n",
      "\u001b[31mNameError\u001b[39m: name 'genz' is not defined"
     ]
    }
   ],
   "source": [
    "joseph = 28\n",
    "is_senior = genz >= 60\n",
    "with_discount = True and is_senior"
   ]
  },
  {
   "cell_type": "markdown",
   "id": "ba23c94c-30bf-4039-bc98-f4a0d0f3816b",
   "metadata": {},
   "source": [
    "## Conditionals (IF/ELIF/ELSE)"
   ]
  },
  {
   "cell_type": "code",
   "execution_count": null,
   "id": "f70126f0-4904-4613-b1c3-2e6b95d48241",
   "metadata": {},
   "outputs": [],
   "source": [
    "score = 87\n",
    "if score >= 95:\n",
    "    grade = 'A'\n",
    "elif score >= 80:\n",
    "    grade = 'B'"
   ]
  },
  {
   "cell_type": "markdown",
   "id": "e18f4469-c2da-4c73-9010-41d346c4945a",
   "metadata": {},
   "source": [
    "## For Loops\n",
    "- range: creates an immutable (can't be changed) sequence of integers"
   ]
  },
  {
   "cell_type": "code",
   "execution_count": null,
   "id": "2dc84152-259b-4cf9-8f58-9d3f483f4d52",
   "metadata": {},
   "outputs": [],
   "source": [
    "# with range\n",
    "## range(n1,n2): Will provide numbers from n1 to n2-1\n",
    "total = 0\n",
    "for i in range(1,4): ## 1,2,3 \n",
    "    total += i ## total = total + i"
   ]
  },
  {
   "cell_type": "code",
   "execution_count": null,
   "id": "49886013-ca89-4c1f-9b5a-77ea25ad3536",
   "metadata": {},
   "outputs": [
    {
     "data": {
      "text/plain": [
       "3"
      ]
     },
     "execution_count": 32,
     "metadata": {},
     "output_type": "execute_result"
    }
   ],
   "source": [
    "# over a strinng\n",
    "count = 0\n",
    "for letter in 'banana':\n",
    "    if letter == 'a':\n",
    "        count +=1"
   ]
  },
  {
   "cell_type": "code",
   "execution_count": null,
   "id": "ef1f22a0-4074-4e44-a01e-0a366e5c641d",
   "metadata": {},
   "outputs": [],
   "source": [
    "# iterate elements on a list (data structure)\n",
    "list_of_cats = ['1:tuxedo', '2:ginger', '3:tilapia', '4:calico']\n",
    "for cat in list_of_cats:\n",
    "    print(cat)"
   ]
  },
  {
   "cell_type": "code",
   "execution_count": null,
   "id": "c606c55e-5b8b-448c-b2be-8fa9018a2f08",
   "metadata": {},
   "outputs": [],
   "source": []
  },
  {
   "cell_type": "markdown",
   "id": "7c4a19f4-ff41-4fe0-a628-6b956d9e278c",
   "metadata": {},
   "source": [
    "------\n",
    "## Practice Exercises"
   ]
  },
  {
   "cell_type": "markdown",
   "id": "8d1b13f7-3bee-4385-82a5-99e86bc6438f",
   "metadata": {},
   "source": [
    "#### Variable and Types\n",
    "- Create variables: `first_name`, `age`, `height_m`, `is_happy`. Then print a sentence and provide the type of each."
   ]
  },
  {
   "cell_type": "code",
   "execution_count": null,
   "id": "0f0d9dd8-62e8-4dc0-a007-4a14041e66aa",
   "metadata": {},
   "outputs": [
    {
     "name": "stdout",
     "output_type": "stream",
     "text": [
      "My name is Stefanie. I am 20 years old. My height is 1.47 meters. It's True that I am happy.\n"
     ]
    }
   ],
   "source": [
    "first_name = 'Stefanie'\n",
    "age = 20\n",
    "height_m = 1.47\n",
    "is_happy = True\n",
    "\n",
    "print(f\"My name is {first_name}. I am {age} years old. My height is {height_m} meters. It's {is_happy} that I am happy.\")"
   ]
  },
  {
   "cell_type": "markdown",
   "id": "f427b8a7-591b-4dbb-98e1-26d010bd84ee",
   "metadata": {},
   "source": [
    "#### Type Conversion and Printing/Formatting\n",
    "- Convert '42' (string) to an integer, add 7 then convert the result back to string."
   ]
  },
  {
   "cell_type": "code",
   "execution_count": null,
   "id": "f2006f81-2a9e-481f-8458-2a5598b4a651",
   "metadata": {},
   "outputs": [],
   "source": []
  },
  {
   "cell_type": "markdown",
   "id": "c98e6c41-d919-4c47-8635-4107a5b0d4a0",
   "metadata": {},
   "source": [
    "#### If conditions\n",
    "- Write a program to prompt for a score between 0 and 1. If the score is out of range print an error message.\n",
    "If the score is between 0 and 1, print a grade using the following score-guide equivalent:\n",
    "\n",
    "|Score   |Grade |\n",
    "|--------|------|\n",
    "| >= 0.9 |   A  |\n",
    "| >= 0.8 |   B  |\n",
    "| >= 0.7 |   C  |\n",
    "| >= 0.6 |   D  |\n",
    "|  < 0.6 |   F  |\n"
   ]
  },
  {
   "cell_type": "code",
   "execution_count": null,
   "id": "921c6101-16ec-4b2c-bad2-8a84538f0be4",
   "metadata": {},
   "outputs": [],
   "source": []
  },
  {
   "cell_type": "markdown",
   "id": "d483e070-db7e-4d34-beaf-c5323e26d79a",
   "metadata": {},
   "source": [
    "#### For Loop + Logic\n",
    "- Sum all numbers from 1 to 20 that are multiples of 3 or 5. Print the sum."
   ]
  },
  {
   "cell_type": "code",
   "execution_count": null,
   "id": "c1a383d2-6ca1-44ae-9dfa-f7993968e666",
   "metadata": {},
   "outputs": [],
   "source": []
  },
  {
   "cell_type": "markdown",
   "id": "f8d10851-9f7a-438f-87ca-b0f1276eb008",
   "metadata": {},
   "source": [
    "-----\n",
    "## More Exercises"
   ]
  },
  {
   "cell_type": "markdown",
   "id": "df1eeb10-13a9-4e05-b312-2e7653964550",
   "metadata": {},
   "source": [
    "#### 1. Sales Performance Check\n",
    "- Given sales_day1 = 150, sales_day2 = 175, sales_day3 = 160, write a function `check_performance()` that:\n",
    "    - Compares each day’s sales to the previous day.\n",
    "    - Prints \"Better\" if the sales are higher, \"Worse\" if lower, and \"Same\" if the same."
   ]
  },
  {
   "cell_type": "code",
   "execution_count": null,
   "id": "1a12aa8b-ad11-46ae-9214-4a3ed0d66ad2",
   "metadata": {},
   "outputs": [],
   "source": []
  },
  {
   "cell_type": "code",
   "execution_count": null,
   "id": "5c61f1f3-d6a5-4ca3-9329-3e9268979f8b",
   "metadata": {},
   "outputs": [],
   "source": []
  },
  {
   "cell_type": "markdown",
   "id": "1095638b-692d-4c5b-9788-9a6fa863e273",
   "metadata": {},
   "source": [
    "#### 2. Simple Discount Calculator\n",
    "- You are given an item price price = 200 and a discount rate (*discount_rate = 0.15*) (15%). <br>\n",
    "Write a function `calculate_discount(price, discount_rate)` to:\n",
    "    - Compute the discount amount (price * discount_rate)\n",
    "    - Subtract it from the price to find the final price."
   ]
  },
  {
   "cell_type": "code",
   "execution_count": null,
   "id": "bc3faab1-c8e3-48f3-9353-7c47b18c176a",
   "metadata": {},
   "outputs": [],
   "source": []
  },
  {
   "cell_type": "code",
   "execution_count": null,
   "id": "ff0f3043-4541-4b09-92bb-4417663f2fe1",
   "metadata": {},
   "outputs": [],
   "source": []
  },
  {
   "cell_type": "markdown",
   "id": "40a58f5b-19ab-45e2-b0c5-be1ce837e32c",
   "metadata": {},
   "source": [
    "#### 3. Customer Satisfaction Survey\n",
    "A customer satisfaction score is calculated by averaging responses from 3 surveys. The scores are: <br>\n",
    "|survery|score|\n",
    "|-------|------|\n",
    "|Survey1|4|\n",
    "|Survey2|3.5|\n",
    "|Survery3|5|\n",
    "      \n",
    "<br>\n",
    "\n",
    "- Write a function `average_score()` to:\n",
    "    - Compute the average score.\n",
    "    - Print whether the score is \"Good\" (average ≥ 4), \"Neutral\" (3 ≤ average < 4), or \"Bad\" (average < 3)"
   ]
  },
  {
   "cell_type": "code",
   "execution_count": null,
   "id": "7e9433be-e784-4986-9d1e-5f1f3ef79114",
   "metadata": {},
   "outputs": [],
   "source": []
  },
  {
   "cell_type": "code",
   "execution_count": null,
   "id": "951f9f8f-f826-493e-b156-5c692573e27e",
   "metadata": {},
   "outputs": [],
   "source": []
  },
  {
   "cell_type": "markdown",
   "id": "284b4020-fba6-4794-a6d9-96e71e6cdcd0",
   "metadata": {},
   "source": [
    "#### 4. Revenue vs Target Comparison\n",
    "The target revenue for the week is target_revenue = 10000. The actual revenue for the week is:\n",
    "|Revenue Day|Amount|\n",
    "|-------|------|\n",
    "|revenue_day1|2000|\n",
    "|revenue_day2|3000|\n",
    "|revenue_day3|5000|\n",
    "\n",
    "- Write a function `check_revenue(target, actual)` to:\n",
    "    - Compute the total actual revenue.\n",
    "    - Compare it to the target and print:\n",
    "        - \"On Track\" if actual revenue is at least 90% of the target.\n",
    "        - \"Behind\" if actual revenue is less than 90% of the target."
   ]
  },
  {
   "cell_type": "code",
   "execution_count": null,
   "id": "80162dab-d1e5-498b-90f6-6a129d316c0b",
   "metadata": {},
   "outputs": [],
   "source": []
  },
  {
   "cell_type": "code",
   "execution_count": null,
   "id": "38b5683b-bd96-4505-a3c0-60207879639c",
   "metadata": {},
   "outputs": [],
   "source": []
  },
  {
   "cell_type": "markdown",
   "id": "d217b674-05d1-44de-954a-7c14c3a8b0df",
   "metadata": {},
   "source": [
    "#### 5. Product Inventory Check\n",
    "For a product, you are given:\n",
    "|Tagging|Count|\n",
    "|-----|------|\n",
    "|initial_stock|50|\n",
    "|sold_today|15|\n",
    "|received_shipment|20|\n",
    "\n",
    "- Write a function `calculate_remaining_stock()` to:\n",
    "    - Calculate the remaining stock after today’s sales and the new shipment received.\n",
    "    - Print \"Restocking Needed\" if the remaining stock is below 10.\n",
    "    - Print \"Stock is Good\" if the remaining stock is at least 10."
   ]
  },
  {
   "cell_type": "code",
   "execution_count": null,
   "id": "91c05923-1803-4abf-af45-67bc6885491d",
   "metadata": {},
   "outputs": [],
   "source": []
  },
  {
   "cell_type": "code",
   "execution_count": null,
   "id": "76197e8f-b173-4625-bce6-207882dfaf98",
   "metadata": {},
   "outputs": [],
   "source": []
  },
  {
   "cell_type": "markdown",
   "id": "fed56114-7701-41b7-b01b-abc109c77f26",
   "metadata": {},
   "source": [
    "#### 6. Daily Expense Summary\n",
    "You are tracking daily expenses. The daily expenses for the week are:\n",
    "|Day|Amount Spent (Php)|\n",
    "|--|--|\n",
    "|1|250|\n",
    "|2|185|\n",
    "|3|450|\n",
    "|4|170|\n",
    "|5|348|\n",
    "|6|70|\n",
    "|7|99|\n",
    "\n",
    "- Write a function `average_expenses()` to:\n",
    "    - Calculate the average daily expense for the week.\n",
    "    - Print if the expenses are \"Within Budget\" (average ≤ 250) or \"Over Budget\" (average >250).\n",
    "\n",
    "*(You can try to do this with your own daily expenses and the amount that you think should only (your limit) be your daily expense)*"
   ]
  },
  {
   "cell_type": "code",
   "execution_count": null,
   "id": "37b93138-372a-4c10-adf2-29ccabd34988",
   "metadata": {},
   "outputs": [],
   "source": []
  },
  {
   "cell_type": "code",
   "execution_count": null,
   "id": "6e9ffaca-a5cd-4a9b-9891-2d72ac2b3e44",
   "metadata": {},
   "outputs": [],
   "source": []
  },
  {
   "cell_type": "markdown",
   "id": "218d22c9-be77-4182-9127-cf07f5509655",
   "metadata": {},
   "source": [
    "#### 7. Product Profit Calculator\n",
    "You are selling a product with:\n",
    "|   |   |\n",
    "|---|---|\n",
    "|cost_price|50|\n",
    "|selling_price|75|\n",
    "\n",
    "- Write a `function profit_margin()` to:\n",
    "    - Calculate the profit (selling_price - cost_price)\n",
    "    - Print \"Good Profit\" if the profit is at least 20% of the selling price, else print \"Low Profit\"."
   ]
  },
  {
   "cell_type": "code",
   "execution_count": null,
   "id": "f267ed2f-9d4c-45c0-a4cc-39041b4350e6",
   "metadata": {},
   "outputs": [],
   "source": []
  },
  {
   "cell_type": "code",
   "execution_count": null,
   "id": "6abb73d7-7a26-447b-ba67-555e1499a297",
   "metadata": {},
   "outputs": [],
   "source": []
  },
  {
   "cell_type": "code",
   "execution_count": null,
   "id": "e741be86-0db7-4358-b1d1-6b134a5c64e7",
   "metadata": {},
   "outputs": [],
   "source": []
  },
  {
   "cell_type": "markdown",
   "id": "c706538d-d076-4929-b35c-8975410216ea",
   "metadata": {},
   "source": [
    "*End of Code*"
   ]
  }
 ],
 "metadata": {
  "kernelspec": {
   "display_name": "Python 3",
   "language": "python",
   "name": "python3"
  },
  "language_info": {
   "codemirror_mode": {
    "name": "ipython",
    "version": 3
   },
   "file_extension": ".py",
   "mimetype": "text/x-python",
   "name": "python",
   "nbconvert_exporter": "python",
   "pygments_lexer": "ipython3",
   "version": "3.13.1"
  }
 },
 "nbformat": 4,
 "nbformat_minor": 5
}
