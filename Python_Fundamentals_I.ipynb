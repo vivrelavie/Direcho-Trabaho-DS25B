{
 "cells": [
  {
   "cell_type": "markdown",
   "metadata": {},
   "source": [
    "\n",
    "# **Progamming and Python Fundamentals**"
   ]
  },
  {
   "cell_type": "markdown",
   "metadata": {},
   "source": [
    "## What is a computer program?\n",
    "a program is a list of instructions that a computer carries out in order. "
   ]
  },
  {
   "cell_type": "code",
   "execution_count": 3,
   "metadata": {},
   "outputs": [],
   "source": [
    "1 + 1"
   ]
  },
  {
   "cell_type": "code",
   "execution_count": null,
   "metadata": {},
   "outputs": [],
   "source": [
    "2 * 3.5"
   ]
  },
  {
   "cell_type": "code",
   "execution_count": null,
   "metadata": {},
   "outputs": [],
   "source": [
    "1 + 1\n",
    "2 * 3.5"
   ]
  },
  {
   "cell_type": "code",
   "execution_count": 4,
   "metadata": {},
   "outputs": [],
   "source": [
    "print(1 + 1)\n",
    "print(2 * 3.5)"
   ]
  },
  {
   "cell_type": "markdown",
   "metadata": {},
   "source": [
    "### **Comments**\n",
    "- lines in the code that the computer won't execute. <br>\n",
    "- `#` to indicate that we are making a comment."
   ]
  },
  {
   "cell_type": "code",
   "execution_count": null,
   "metadata": {},
   "outputs": [],
   "source": [
    "print('1 + 1 is', 1 + 1)\n",
    "# this is a comment, Python won't try to execute it\n",
    "print('All done!')"
   ]
  },
  {
   "cell_type": "markdown",
   "metadata": {},
   "source": [
    "### **Variable**"
   ]
  },
  {
   "cell_type": "code",
   "execution_count": null,
   "metadata": {},
   "outputs": [],
   "source": [
    "first_result = 1 + 1\n",
    "final_result = first_result * 3.5\n",
    "\n",
    "print(final_result)"
   ]
  },
  {
   "cell_type": "markdown",
   "metadata": {},
   "source": [
    "### Example"
   ]
  },
  {
   "cell_type": "code",
   "execution_count": null,
   "metadata": {},
   "outputs": [],
   "source": [
    "my_name = 'John'\n",
    "my_age = 29\n",
    "my_favorite_number = 3.14\n",
    "has_dog = True\n",
    "\n",
    "print('My name is', my_name)\n",
    "print('My age is', my_age)\n",
    "print('My favorite number is', my_favorite_number)\n",
    "print('I own a dog:', has_dog)"
   ]
  },
  {
   "cell_type": "code",
   "execution_count": null,
   "metadata": {},
   "outputs": [],
   "source": [
    "print(type(my_name))\n",
    "print(type(my_age))\n",
    "print(type(my_favorite_number))\n",
    "print(type(has_dog))"
   ]
  },
  {
   "cell_type": "markdown",
   "metadata": {},
   "source": [
    "----\n",
    "## Data Types\n",
    "- **String** (`str`): a sequence of characters.\n",
    "  \n",
    "- **Integer** (`int`): whole number. \n",
    "- **Float** or **Floating point number** (`float`): a decimal number\n",
    "- **Bool** or **Boolean** (`bool`): refers to a variable that is either `true` or `false`."
   ]
  },
  {
   "cell_type": "markdown",
   "metadata": {},
   "source": [
    "### Exercises\n",
    "\n",
    "1. Define `my_name` and `my_age` variables with values corresponding to your own name and age and print them.\n",
    "1. Use your `my_age` variable to print out how old you will be in 10 years."
   ]
  },
  {
   "cell_type": "markdown",
   "metadata": {},
   "source": [
    "### Solution"
   ]
  },
  {
   "cell_type": "code",
   "execution_count": null,
   "metadata": {},
   "outputs": [],
   "source": []
  },
  {
   "cell_type": "code",
   "execution_count": null,
   "metadata": {},
   "outputs": [],
   "source": []
  },
  {
   "cell_type": "markdown",
   "metadata": {},
   "source": [
    "## **Functions**\n",
    "- allow us to define a task we would like the computer to carry out based on input.\n",
    "- define functions using the`def` keyword\n",
    "\n",
    "Sample functions:"
   ]
  },
  {
   "cell_type": "markdown",
   "metadata": {},
   "source": [
    "$ $ f(x) = 3x + 2\n"
   ]
  },
  {
   "cell_type": "markdown",
   "metadata": {},
   "source": [
    "$ $ f(6) = 20"
   ]
  },
  {
   "cell_type": "markdown",
   "metadata": {},
   "source": [
    "$ $ y = 2\n",
    "\n",
    "$ $ f(y) = 8\n"
   ]
  },
  {
   "cell_type": "code",
   "execution_count": null,
   "metadata": {},
   "outputs": [],
   "source": [
    "def square(number):\n",
    "    return number**2"
   ]
  },
  {
   "cell_type": "code",
   "execution_count": null,
   "metadata": {},
   "outputs": [],
   "source": [
    "# we can store function output in variables\n",
    "squared = square(5.5)\n",
    "\n",
    "print(squared)\n",
    "\n",
    "my_number = 6\n",
    "\n",
    "# we can also use variables as function input\n",
    "print(square(my_number))"
   ]
  },
  {
   "cell_type": "code",
   "execution_count": 1,
   "metadata": {},
   "outputs": [
    {
     "name": "stderr",
     "output_type": "stream",
     "text": [
      "UsageError: Cell magic `%%expect_exception` not found.\n"
     ]
    }
   ],
   "source": [
    "%%expect_exception TypeError\n",
    "\n",
    "print(square('banana'))"
   ]
  },
  {
   "cell_type": "markdown",
   "metadata": {},
   "source": [
    "### Exercises\n",
    "\n",
    "1. Write a function to cube a number.\n",
    "2. Write a function, `say_hello` which takes in a name variable and print out \"Hello name\".  `say_hello(\"Dean\")` should print `\"Hello Dean\"`."
   ]
  },
  {
   "cell_type": "markdown",
   "metadata": {},
   "source": [
    "### Solution"
   ]
  },
  {
   "cell_type": "markdown",
   "metadata": {},
   "source": [
    "1."
   ]
  },
  {
   "cell_type": "code",
   "execution_count": null,
   "metadata": {},
   "outputs": [],
   "source": []
  },
  {
   "cell_type": "code",
   "execution_count": null,
   "metadata": {},
   "outputs": [],
   "source": []
  },
  {
   "cell_type": "markdown",
   "metadata": {},
   "source": [
    "2."
   ]
  },
  {
   "cell_type": "code",
   "execution_count": null,
   "metadata": {},
   "outputs": [],
   "source": []
  },
  {
   "cell_type": "code",
   "execution_count": null,
   "metadata": {},
   "outputs": [],
   "source": []
  },
  {
   "cell_type": "markdown",
   "metadata": {},
   "source": [
    "### **Why Functions?**"
   ]
  },
  {
   "cell_type": "code",
   "execution_count": null,
   "metadata": {},
   "outputs": [],
   "source": [
    "1**2\n",
    "2**2\n",
    "3**2\n",
    "4**2\n",
    "5**2\n",
    "6**2\n",
    "7**2\n",
    "8**2\n",
    "9**2"
   ]
  },
  {
   "cell_type": "markdown",
   "metadata": {},
   "source": [
    "Forgot to Print?"
   ]
  },
  {
   "cell_type": "code",
   "execution_count": null,
   "metadata": {},
   "outputs": [],
   "source": [
    "print(1**2)\n",
    "print(2**2)\n",
    "print(3**2)\n",
    "print(4**2)\n",
    "print(5**2)\n",
    "print(6**2)\n",
    "print(7**2)\n",
    "print(8**2)\n",
    "print(9**2)"
   ]
  },
  {
   "cell_type": "markdown",
   "metadata": {},
   "source": [
    "In function:"
   ]
  },
  {
   "cell_type": "code",
   "execution_count": null,
   "metadata": {},
   "outputs": [],
   "source": [
    "def do_it(x):\n",
    "    print(x**2 + 2)"
   ]
  },
  {
   "cell_type": "code",
   "execution_count": null,
   "metadata": {},
   "outputs": [],
   "source": [
    "do_it(1)\n",
    "do_it(2)\n",
    "do_it(3)\n",
    "do_it(4)\n",
    "do_it(5)\n",
    "do_it(6)\n",
    "do_it(7)\n",
    "do_it(8)\n",
    "do_it(9)"
   ]
  },
  {
   "cell_type": "markdown",
   "metadata": {},
   "source": [
    "### More About Functions"
   ]
  },
  {
   "cell_type": "code",
   "execution_count": 7,
   "metadata": {},
   "outputs": [],
   "source": [
    "def print_this(a):\n",
    "    print('inside print_this: ', a)\n",
    "\n",
    "a = 5\n",
    "print_this(2)\n",
    "print('a = ', a)"
   ]
  },
  {
   "cell_type": "markdown",
   "metadata": {},
   "source": [
    "Notice that even though `print_this` was printing the variable `a` inside the function and there was a variable `a` defined outside of the function, the `print` function inside `print_this` still printed what was passed in."
   ]
  },
  {
   "cell_type": "code",
   "execution_count": 9,
   "metadata": {},
   "outputs": [],
   "source": [
    "def print_it():\n",
    "    print('inside print_it: ', a)\n",
    "    \n",
    "a = 5\n",
    "print_it()\n",
    "print('a = ', a)"
   ]
  },
  {
   "cell_type": "code",
   "execution_count": null,
   "metadata": {},
   "outputs": [],
   "source": [
    "def some_exponent(exponent):\n",
    "    def func(x):\n",
    "        return x**exponent\n",
    "    return func"
   ]
  },
  {
   "cell_type": "markdown",
   "metadata": {},
   "source": [
    "### Exercises\n",
    "\n",
    "1. Modify the `do_it` function to print the square of the value it currently prints."
   ]
  },
  {
   "cell_type": "markdown",
   "metadata": {},
   "source": [
    "### Solution"
   ]
  },
  {
   "cell_type": "code",
   "execution_count": null,
   "metadata": {},
   "outputs": [],
   "source": []
  },
  {
   "cell_type": "code",
   "execution_count": null,
   "metadata": {},
   "outputs": [],
   "source": []
  },
  {
   "cell_type": "markdown",
   "metadata": {},
   "source": [
    "## **Syntax**\n",
    "- the rules for organizing code the programming language's\n",
    "- Python's syntax is very streamlined so that the code is readable and intuitive"
   ]
  },
  {
   "cell_type": "code",
   "execution_count": null,
   "metadata": {},
   "outputs": [],
   "source": [
    "def example_a():\n",
    "    print('example_a is running')\n",
    "    print('returning value \"a\"')\n",
    "    return 'a'\n",
    "\n",
    "example_a()"
   ]
  },
  {
   "cell_type": "code",
   "execution_count": null,
   "metadata": {},
   "outputs": [],
   "source": [
    "def example_b():\n",
    "    print('example_b is running')\n",
    "    print('exiting without returning a value')\n",
    "\n",
    "example_b()"
   ]
  },
  {
   "cell_type": "markdown",
   "metadata": {},
   "source": [
    "## **Conditionals and logic**"
   ]
  },
  {
   "cell_type": "code",
   "execution_count": 22,
   "metadata": {},
   "outputs": [],
   "source": [
    "def test_high_score(player_score, high_score):\n",
    "    if player_score > high_score:\n",
    "        print('High score!')\n",
    "        high_score = player_score\n",
    "\n",
    "    return high_score"
   ]
  },
  {
   "cell_type": "code",
   "execution_count": 1,
   "metadata": {},
   "outputs": [],
   "source": [
    "print(test_high_score(83, 98))"
   ]
  },
  {
   "cell_type": "code",
   "execution_count": 2,
   "metadata": {},
   "outputs": [],
   "source": [
    "print(test_high_score(95, 93))"
   ]
  },
  {
   "cell_type": "markdown",
   "metadata": {},
   "source": [
    "Conditional statements are used to control program flow. We can visualize our example, `test_high_score`, in a decision tree.\n",
    "\n",
    "![simple_logic_flowchart](images/high_score_flowchart.png)\n",
    "\n",
    "We can nest `if` statements to make more complicated trees."
   ]
  },
  {
   "cell_type": "code",
   "execution_count": null,
   "metadata": {},
   "outputs": [],
   "source": [
    "def nested_example(x):\n",
    "    if x < 50:\n",
    "        if x % 2 == 0:\n",
    "            return 'branch a'\n",
    "        else:\n",
    "            return 'branch b'\n",
    "    else:\n",
    "        return 'branch c'\n",
    "\n",
    "print(nested_example(42))\n",
    "print(nested_example(51))\n",
    "print(nested_example(37))"
   ]
  },
  {
   "cell_type": "markdown",
   "metadata": {},
   "source": [
    "In this example, we have an `if` statement nested under another `if` statement. As we change the input, we end up on different branches of the tree.\n",
    "\n",
    "![nested_logic_flowchart](images/nested_logic_flowchart.png)\n",
    "\n",
    "The statement that follows the `if` is called the **condition**. The condition can be either true or false."
   ]
  },
  {
   "cell_type": "code",
   "execution_count": null,
   "metadata": {},
   "outputs": [],
   "source": [
    "print(50 > 10)\n",
    "print(2 + 2 == 4)\n",
    "print(-3 > 2)"
   ]
  },
  {
   "cell_type": "markdown",
   "metadata": {},
   "source": [
    "Conditions are evaluated as booleans, which are `True` or `False`. We can combine conditions by asking of condition A _and_ condition B are true. We could also ask if condition A *or* condition B are true. Let's consider whether such statements are true overall based on the possible values of condition A and condition B.\n",
    "\n",
    "|Condition A|Condition B|Condition A and Condition B|Condition A or Condition B|\n",
    "|:---------:|:---------:|:-------------------------:|:------------------------:|\n",
    "|True|True|True|True|\n",
    "|True|False|False|True|\n",
    "|False|True|False|True|\n",
    "|False|False|False|False|"
   ]
  },
  {
   "cell_type": "code",
   "execution_count": null,
   "metadata": {},
   "outputs": [],
   "source": [
    "print(True and True)\n",
    "print(True and False)\n",
    "print(False and True)\n",
    "print(False and False)"
   ]
  },
  {
   "cell_type": "code",
   "execution_count": null,
   "metadata": {},
   "outputs": [],
   "source": [
    "print(True or True)\n",
    "print(True or False)\n",
    "print(False or True)\n",
    "print(False or False)"
   ]
  },
  {
   "cell_type": "code",
   "execution_count": null,
   "metadata": {},
   "outputs": [],
   "source": [
    "x = 5\n",
    "y = 3\n",
    "\n",
    "print(x > 4 and y > 2)\n",
    "print(x > 7 and y > 2)\n",
    "print(x > 7 or y > 2)"
   ]
  },
  {
   "cell_type": "markdown",
   "metadata": {},
   "source": [
    "## Logical Operations\n",
    "- `or`\n",
    "- `and`\n",
    "- `not` (Not True = False, Not False = True)"
   ]
  },
  {
   "cell_type": "code",
   "execution_count": null,
   "metadata": {},
   "outputs": [],
   "source": [
    "print(not True)\n",
    "print(not False)"
   ]
  },
  {
   "cell_type": "code",
   "execution_count": null,
   "metadata": {},
   "outputs": [],
   "source": [
    "x = 10\n",
    "y = 8\n",
    "\n",
    "print(x > 7 or y < 7)\n",
    "print(not x > 7 or y < 7)\n",
    "print(not x > 7 or not y < 7)\n",
    "print(not (x > 7 or y < 7))"
   ]
  },
  {
   "cell_type": "markdown",
   "metadata": {},
   "source": [
    "### Exercises\n",
    "\n",
    "1. Write a function which takes in a number and returns True if it is greater than 10 but less than 20 or it is less than -100.\n",
    "2. In the code above we have used the `%` operator.  What does this do?"
   ]
  },
  {
   "cell_type": "markdown",
   "metadata": {},
   "source": [
    "### Solution"
   ]
  },
  {
   "cell_type": "code",
   "execution_count": null,
   "metadata": {},
   "outputs": [],
   "source": []
  },
  {
   "cell_type": "code",
   "execution_count": null,
   "metadata": {},
   "outputs": [],
   "source": []
  },
  {
   "cell_type": "markdown",
   "metadata": {},
   "source": [
    "\n",
    "- `%`: return the remainder of the given number in which number divided to any other number."
   ]
  },
  {
   "cell_type": "markdown",
   "metadata": {},
   "source": [
    "## **Iteration**\n",
    "- use repetitive loops to execute the same code many times."
   ]
  },
  {
   "cell_type": "markdown",
   "metadata": {},
   "source": [
    "### **While Loop**\n",
    "- most basic kind of iteration\n",
    "- will keep executing so long as the condition after the `while` is `True`."
   ]
  },
  {
   "cell_type": "code",
   "execution_count": 10,
   "metadata": {
    "scrolled": true
   },
   "outputs": [
    {
     "name": "stdout",
     "output_type": "stream",
     "text": [
      "Enter any positive integer number:7\n",
      "0\n",
      "1\n",
      "1\n",
      "2\n",
      "3\n",
      "5\n",
      "8\n"
     ]
    }
   ],
   "source": [
    "n = int(input(\"Enter any positive integer number:\"))\n",
    "f0 = 0\n",
    "f1 = 1\n",
    "print(f0)\n",
    "print(f1)\n",
    "\n",
    "count = 2\n",
    "\n",
    "while count < n:\n",
    "    next_f = f0 + f1\n",
    "    print(next_f)\n",
    "    \n",
    "    f0 = f1\n",
    "    f1 = next_f\n",
    "    count += 1\n",
    "    "
   ]
  },
  {
   "cell_type": "code",
   "execution_count": 25,
   "metadata": {},
   "outputs": [
    {
     "name": "stdout",
     "output_type": "stream",
     "text": [
      "0\n",
      "1\n",
      "2\n",
      "3\n",
      "4\n"
     ]
    }
   ],
   "source": [
    "x = 0\n",
    "while x < 5:\n",
    "    print(x)\n",
    "    x = x + 1"
   ]
  },
  {
   "cell_type": "markdown",
   "metadata": {},
   "source": [
    "Sometimes we will want our program to take a repeated action, but we won't know how many repetitions we will have to do, or it might be difficult to know ahead of time when the program should stop. How are we going to solve the problem?\n",
    "\n",
    "### Example\n",
    "Instructions for making bread:  \n",
    "1) Dissolve salt in water  \n",
    "2) Mix yeast into water  \n",
    "3) Mix water with flour to form dough  \n",
    "4) Knead dough  \n",
    "5) Let dough rise  \n",
    "6) Shape dough  \n",
    "7) Bake  \n",
    "\n",
    "The recipe has an ordered `list` of instructions."
   ]
  },
  {
   "cell_type": "code",
   "execution_count": null,
   "metadata": {},
   "outputs": [],
   "source": [
    "bread_recipe = ['Dissolve salt in water', 'Mix yeast into water', 'Mix water with flour to form dough', \n",
    "                'Knead dough', 'Let dough rise', 'Shape dough', 'Bake']"
   ]
  },
  {
   "cell_type": "code",
   "execution_count": null,
   "metadata": {},
   "outputs": [],
   "source": [
    "soup_recipe = ['Dissolve salt in water', 'Boil  water', 'Add bones to boiling water', 'Chop onions', \n",
    "               'Chop garlic', 'Chop carrot', 'Chop celery', 'Remove bones from water', \n",
    "               'Add vegetables to boiling water', 'Add meat to boiling water']\n",
    "\n",
    "beans_recipe = ['Soak beans in water', 'Dissolve salt in water', 'Heat water and beans to boil', \n",
    "                'Drain beans when done cooking']"
   ]
  },
  {
   "cell_type": "markdown",
   "metadata": {},
   "source": [
    "## **For Loop**\n",
    "- used for executing a set of statements for each item in a list"
   ]
  },
  {
   "cell_type": "code",
   "execution_count": null,
   "metadata": {},
   "outputs": [],
   "source": [
    "def print_recipe(instructions):\n",
    "    for step in instructions:\n",
    "        print(step)"
   ]
  },
  {
   "cell_type": "code",
   "execution_count": null,
   "metadata": {},
   "outputs": [],
   "source": [
    "print_recipe(soup_recipe)"
   ]
  },
  {
   "cell_type": "code",
   "execution_count": null,
   "metadata": {},
   "outputs": [],
   "source": [
    "print_recipe(bread_recipe)"
   ]
  },
  {
   "cell_type": "code",
   "execution_count": null,
   "metadata": {},
   "outputs": [],
   "source": [
    "print_recipe(beans_recipe)"
   ]
  },
  {
   "cell_type": "markdown",
   "metadata": {},
   "source": [
    "## Putting it all together\n",
    "\n",
    "- Major components of programs: **variables** and **functions**.\n",
    "- Two of the major components of program control: **conditionals** (`if` statements) and **iteration** (`for` and `while` loops). <br>\n",
    "\n",
    "We can use these ideas and tools to write code to perform complex tasks. \n",
    "\n",
    "\n",
    "### Exercise\n",
    "Below we write a function that prints out all the prime numbers up to some number `n`. \n",
    "- Use iteration to check if each number is prime.\n",
    "- Use a conditional to print out numbers only if they are prime.\n",
    "- Break up the task into small pieces so the code is easy to read and understand. (This means we will use (or _call_) helper functions inside of our solution."
   ]
  },
  {
   "cell_type": "code",
   "execution_count": null,
   "metadata": {},
   "outputs": [],
   "source": []
  },
  {
   "cell_type": "code",
   "execution_count": null,
   "metadata": {},
   "outputs": [],
   "source": []
  },
  {
   "cell_type": "code",
   "execution_count": null,
   "metadata": {},
   "outputs": [],
   "source": []
  },
  {
   "cell_type": "markdown",
   "metadata": {},
   "source": [
    "---"
   ]
  }
 ],
 "metadata": {
  "kernelspec": {
   "display_name": "Python 3",
   "language": "python",
   "name": "python3"
  },
  "language_info": {
   "codemirror_mode": {
    "name": "ipython",
    "version": 3
   },
   "file_extension": ".py",
   "mimetype": "text/x-python",
   "name": "python",
   "nbconvert_exporter": "python",
   "pygments_lexer": "ipython3",
   "version": "3.11.9"
  },
  "nbclean": true
 },
 "nbformat": 4,
 "nbformat_minor": 4
}
