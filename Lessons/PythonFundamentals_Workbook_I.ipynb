{
  "cells": [
    {
      "cell_type": "markdown",
      "metadata": {
        "id": "view-in-github",
        "colab_type": "text"
      },
      "source": [
        "<a href=\"https://colab.research.google.com/github/vivrelavie/Direcho-Trabaho-DS25B/blob/main/PythonFundamentals_Workbook_I.ipynb\" target=\"_parent\"><img src=\"https://colab.research.google.com/assets/colab-badge.svg\" alt=\"Open In Colab\"/></a>"
      ]
    },
    {
      "cell_type": "markdown",
      "id": "db679f4e-4b63-49f4-9807-c71a4d23201d",
      "metadata": {
        "id": "db679f4e-4b63-49f4-9807-c71a4d23201d"
      },
      "source": [
        "# Python Fundamentals\n",
        "---"
      ]
    },
    {
      "cell_type": "markdown",
      "id": "d1c7b23a-1f21-4f31-884b-1d3267cb4bab",
      "metadata": {
        "id": "d1c7b23a-1f21-4f31-884b-1d3267cb4bab"
      },
      "source": [
        "- Attendance\n",
        "- Activity/Mini Projects\n",
        "- Capstone"
      ]
    },
    {
      "cell_type": "markdown",
      "id": "be36b1a5-c3b3-4e33-add5-fd5c49c53711",
      "metadata": {
        "id": "be36b1a5-c3b3-4e33-add5-fd5c49c53711"
      },
      "source": [
        "---\n",
        "## Common Python Symbols"
      ]
    },
    {
      "cell_type": "markdown",
      "id": "cf03be92-48e2-4a16-a372-ca0fd8e29a06",
      "metadata": {
        "id": "cf03be92-48e2-4a16-a372-ca0fd8e29a06"
      },
      "source": [
        "- `=` *assignment*\n",
        "- `==` *equality test*\n",
        "- `!=` *not equal*\n",
        "\n",
        "#### Comparisons\n",
        "- `<`, `<=`, `>`, `>=`\n",
        "\n",
        "#### Arithmetic\n",
        "- `+`, `-`, `*`, `/` *add, subtract, multiply, true division (/ keeps float/with decimal)*\n",
        "- `//` *floor division (drops fractional part)*\n",
        "- `%` *modulo (remainder)*\n",
        "- `**` *exponent*\n",
        "- `+=`, `-=`, `*=`, `/=`, `//=`, `%=` *augmented assignment (ex: `x+=1` == `x = x + 1`)*\n",
        "\n",
        "#### Logic and Membership\n",
        "- `and`, `or`, `not`\n",
        "- `in`, `not in`"
      ]
    },
    {
      "cell_type": "markdown",
      "id": "d322de43-9e71-42a2-8363-c0c0a9c5f902",
      "metadata": {
        "id": "d322de43-9e71-42a2-8363-c0c0a9c5f902"
      },
      "source": [
        "## Variables\n",
        "- names that point to values"
      ]
    },
    {
      "cell_type": "code",
      "execution_count": 1,
      "id": "aa2af775-3c35-4f41-9565-1473ecbbe97c",
      "metadata": {
        "id": "aa2af775-3c35-4f41-9565-1473ecbbe97c"
      },
      "outputs": [],
      "source": [
        "# Variables\n",
        "city = 'Cebu'\n",
        "year = 2025"
      ]
    },
    {
      "cell_type": "markdown",
      "id": "d24023c2-8a3a-4c42-8938-ea19a21cec1e",
      "metadata": {
        "id": "d24023c2-8a3a-4c42-8938-ea19a21cec1e"
      },
      "source": [
        "## Data Types"
      ]
    },
    {
      "cell_type": "code",
      "execution_count": 2,
      "id": "4bdeab4e-b7ac-46e6-90dc-7bb205b24045",
      "metadata": {
        "id": "4bdeab4e-b7ac-46e6-90dc-7bb205b24045"
      },
      "outputs": [],
      "source": [
        "# Data Types\n",
        "integer = 7  ## int\n",
        "float_num = 3.14 ## float\n",
        "message = 'hi!' ## str\n",
        "is_sick = False ## bool"
      ]
    },
    {
      "cell_type": "code",
      "execution_count": 3,
      "id": "35e8b73b-d511-467c-a2bb-629f3cb017a1",
      "metadata": {
        "colab": {
          "base_uri": "https://localhost:8080/"
        },
        "id": "35e8b73b-d511-467c-a2bb-629f3cb017a1",
        "outputId": "a4089296-2e28-4023-a097-bf311492b2cb"
      },
      "outputs": [
        {
          "output_type": "execute_result",
          "data": {
            "text/plain": [
              "float"
            ]
          },
          "metadata": {},
          "execution_count": 3
        }
      ],
      "source": [
        "# Checking Data type\n",
        "type(3.0) ## This is a float -- because of the decimal"
      ]
    },
    {
      "cell_type": "code",
      "execution_count": 4,
      "id": "3d195d4f-43b3-4ef8-8b82-a80616098b53",
      "metadata": {
        "colab": {
          "base_uri": "https://localhost:8080/"
        },
        "id": "3d195d4f-43b3-4ef8-8b82-a80616098b53",
        "outputId": "8bba78fb-3d9f-4380-d0dd-eddbb59391d3"
      },
      "outputs": [
        {
          "output_type": "execute_result",
          "data": {
            "text/plain": [
              "5.0"
            ]
          },
          "metadata": {},
          "execution_count": 4
        }
      ],
      "source": [
        "# Type Conversion\n",
        "int('42') # str to int\n",
        "str(3.17) # float to str\n",
        "float(5) # float to int"
      ]
    },
    {
      "cell_type": "markdown",
      "id": "23924dac-a842-4bf6-9016-9d657cd8a338",
      "metadata": {
        "id": "23924dac-a842-4bf6-9016-9d657cd8a338"
      },
      "source": [
        "## Basic Python Syntax"
      ]
    },
    {
      "cell_type": "code",
      "execution_count": 5,
      "id": "4485431f-9bb1-428a-955b-2ce940a217bc",
      "metadata": {
        "colab": {
          "base_uri": "https://localhost:8080/"
        },
        "id": "4485431f-9bb1-428a-955b-2ce940a217bc",
        "outputId": "9e88cdab-b266-4186-d29f-47f825e2fc34"
      },
      "outputs": [
        {
          "output_type": "stream",
          "name": "stdout",
          "text": [
            "Metro Manila\n"
          ]
        }
      ],
      "source": [
        "city = 'Metro Manila'\n",
        "print(city)"
      ]
    },
    {
      "cell_type": "code",
      "execution_count": 6,
      "id": "970def33-5063-462c-b420-6df8abc1b96f",
      "metadata": {
        "colab": {
          "base_uri": "https://localhost:8080/"
        },
        "id": "970def33-5063-462c-b420-6df8abc1b96f",
        "outputId": "7d664c75-4a19-4ab0-b49f-88f6b1fc5a61"
      },
      "outputs": [
        {
          "output_type": "stream",
          "name": "stdout",
          "text": [
            "NOT the same!\n"
          ]
        }
      ],
      "source": [
        "if city == 'metro manila':\n",
        "    print('The same!')\n",
        "else:\n",
        "    print('NOT the same!')"
      ]
    },
    {
      "cell_type": "markdown",
      "id": "bed66af3-fc1d-43da-9030-75560065d23a",
      "metadata": {
        "id": "bed66af3-fc1d-43da-9030-75560065d23a"
      },
      "source": [
        "### Printing/Formatting in Python"
      ]
    },
    {
      "cell_type": "code",
      "execution_count": 7,
      "id": "e54328b1-8725-4a27-8e6a-33802ddb5981",
      "metadata": {
        "colab": {
          "base_uri": "https://localhost:8080/"
        },
        "id": "e54328b1-8725-4a27-8e6a-33802ddb5981",
        "outputId": "e87bfcbf-5868-4c75-9519-65a1febe98e2"
      },
      "outputs": [
        {
          "output_type": "stream",
          "name": "stdout",
          "text": [
            "fstring style\n",
            "I was born in the year 1997\n",
            "I will be 33 in 2030\n",
            "I was born in the year 1997. I will be 33 in 2030\n",
            "\n",
            ".format() style\n",
            "I was born in the year 1997\n",
            "I will be 28 in 2030\n",
            "I was born in the year 1997 and I will be 28 in 2030\n"
          ]
        }
      ],
      "source": [
        "birthyear = 1997\n",
        "age = 28\n",
        "\n",
        "# fstring\n",
        "print('fstring style')\n",
        "print(f'I was born in the year {birthyear}')\n",
        "print(f'I will be {age + 5} in 2030')\n",
        "print(f'I was born in the year {birthyear}. I will be {age+5} in 2030')\n",
        "print()\n",
        "# str.format\n",
        "print('.format() style')\n",
        "print('I was born in the year {}'.format(birthyear))\n",
        "print('I will be {} in 2030'.format(age))\n",
        "print('I was born in the year {} and I will be {} in 2030'.format(birthyear, age))"
      ]
    },
    {
      "cell_type": "markdown",
      "id": "c9dd81ca-bee7-492e-8f00-4221ed62e0a5",
      "metadata": {
        "id": "c9dd81ca-bee7-492e-8f00-4221ed62e0a5"
      },
      "source": [
        "## Function"
      ]
    },
    {
      "cell_type": "code",
      "execution_count": 8,
      "id": "cc3e8760-f4d3-465d-8868-ece75271a74c",
      "metadata": {
        "id": "cc3e8760-f4d3-465d-8868-ece75271a74c"
      },
      "outputs": [],
      "source": [
        "# Simple function - converting dollars to peso (USD1 = PHP58.30)\n",
        "def dollars_to_peso(dollars): # use def keyword + name of function + (parameter)\n",
        "    return dollars * 58.30"
      ]
    },
    {
      "cell_type": "markdown",
      "id": "22f6027d-9259-4807-9a0c-cb9fc44ff6fc",
      "metadata": {
        "id": "22f6027d-9259-4807-9a0c-cb9fc44ff6fc"
      },
      "source": [
        "## Comparison and Logical Operations"
      ]
    },
    {
      "cell_type": "code",
      "execution_count": 9,
      "id": "00f36090-8a8f-411a-aacc-904798dce476",
      "metadata": {
        "id": "00f36090-8a8f-411a-aacc-904798dce476"
      },
      "outputs": [],
      "source": [
        "genz = 28\n",
        "is_senior = genz >= 60\n",
        "with_discount = True and is_senior"
      ]
    },
    {
      "cell_type": "markdown",
      "id": "ba23c94c-30bf-4039-bc98-f4a0d0f3816b",
      "metadata": {
        "id": "ba23c94c-30bf-4039-bc98-f4a0d0f3816b"
      },
      "source": [
        "## Conditionals (IF/ELIF/ELSE)"
      ]
    },
    {
      "cell_type": "code",
      "execution_count": 10,
      "id": "f70126f0-4904-4613-b1c3-2e6b95d48241",
      "metadata": {
        "id": "f70126f0-4904-4613-b1c3-2e6b95d48241"
      },
      "outputs": [],
      "source": [
        "score = 87\n",
        "if score >= 95:\n",
        "    grade = 'A'\n",
        "elif score >= 80:\n",
        "    grade = 'B'"
      ]
    },
    {
      "cell_type": "markdown",
      "id": "e18f4469-c2da-4c73-9010-41d346c4945a",
      "metadata": {
        "id": "e18f4469-c2da-4c73-9010-41d346c4945a"
      },
      "source": [
        "## For Loops\n",
        "- range: creates an immutable (can't be changed) sequence of integers"
      ]
    },
    {
      "cell_type": "code",
      "execution_count": 11,
      "id": "2dc84152-259b-4cf9-8f58-9d3f483f4d52",
      "metadata": {
        "id": "2dc84152-259b-4cf9-8f58-9d3f483f4d52"
      },
      "outputs": [],
      "source": [
        "# with range\n",
        "## range(n1,n2): Will provide numbers from n1 to n2-1\n",
        "total = 0\n",
        "for i in range(1,4): ## 1,2,3\n",
        "    total += i ## total = total + i"
      ]
    },
    {
      "cell_type": "code",
      "execution_count": 12,
      "id": "49886013-ca89-4c1f-9b5a-77ea25ad3536",
      "metadata": {
        "id": "49886013-ca89-4c1f-9b5a-77ea25ad3536"
      },
      "outputs": [],
      "source": [
        "# over a strinng\n",
        "count = 0\n",
        "for letter in 'banana':\n",
        "    if letter == 'a':\n",
        "        count +=1"
      ]
    },
    {
      "cell_type": "code",
      "execution_count": 13,
      "id": "ef1f22a0-4074-4e44-a01e-0a366e5c641d",
      "metadata": {
        "colab": {
          "base_uri": "https://localhost:8080/"
        },
        "id": "ef1f22a0-4074-4e44-a01e-0a366e5c641d",
        "outputId": "30292f00-45e0-40f9-dc8b-8f698db92611"
      },
      "outputs": [
        {
          "output_type": "stream",
          "name": "stdout",
          "text": [
            "1:tuxedo\n",
            "2:ginger\n",
            "3:tilapia\n",
            "4:calico\n"
          ]
        }
      ],
      "source": [
        "# iterate elements on a list (data structure)\n",
        "list_of_cats = ['1:tuxedo', '2:ginger', '3:tilapia', '4:calico']\n",
        "for cat in list_of_cats:\n",
        "    print(cat)"
      ]
    },
    {
      "cell_type": "markdown",
      "id": "7c4a19f4-ff41-4fe0-a628-6b956d9e278c",
      "metadata": {
        "id": "7c4a19f4-ff41-4fe0-a628-6b956d9e278c"
      },
      "source": [
        "------\n",
        "## Practice Exercises"
      ]
    },
    {
      "cell_type": "markdown",
      "id": "8d1b13f7-3bee-4385-82a5-99e86bc6438f",
      "metadata": {
        "id": "8d1b13f7-3bee-4385-82a5-99e86bc6438f"
      },
      "source": [
        "#### Variable and Types\n",
        "- Create variables: `first_name`, `age`, `height_m`, `is_happy`. Then print a sentence and provide the type of each."
      ]
    },
    {
      "cell_type": "code",
      "execution_count": 14,
      "id": "0f0d9dd8-62e8-4dc0-a007-4a14041e66aa",
      "metadata": {
        "colab": {
          "base_uri": "https://localhost:8080/"
        },
        "id": "0f0d9dd8-62e8-4dc0-a007-4a14041e66aa",
        "outputId": "4fd80834-39af-4f8e-cca2-bb22e0bd3d9e"
      },
      "outputs": [
        {
          "output_type": "stream",
          "name": "stdout",
          "text": [
            "My name is Stefanie. I am 20 years old. My height is 1.47 meters. It's True that I am happy.\n"
          ]
        }
      ],
      "source": [
        "first_name = 'Stefanie'\n",
        "age = 20\n",
        "height_m = 1.47\n",
        "is_happy = True\n",
        "\n",
        "print(f\"My name is {first_name}. I am {age} years old. My height is {height_m} meters. It's {is_happy} that I am happy.\")"
      ]
    },
    {
      "cell_type": "markdown",
      "id": "f427b8a7-591b-4dbb-98e1-26d010bd84ee",
      "metadata": {
        "id": "f427b8a7-591b-4dbb-98e1-26d010bd84ee"
      },
      "source": [
        "#### Type Conversion and Printing/Formatting\n",
        "- Convert '42' (string) to an integer, add 7 then convert the result back to string."
      ]
    },
    {
      "cell_type": "code",
      "execution_count": 15,
      "id": "f2006f81-2a9e-481f-8458-2a5598b4a651",
      "metadata": {
        "colab": {
          "base_uri": "https://localhost:8080/"
        },
        "id": "f2006f81-2a9e-481f-8458-2a5598b4a651",
        "outputId": "7afe3196-4110-4038-8386-c77cb4fb73cc"
      },
      "outputs": [
        {
          "output_type": "stream",
          "name": "stdout",
          "text": [
            "Number Type: <class 'int'>\n",
            "Number: 42\n",
            "\n",
            "Number + 7 = 49\n",
            "Number Type: <class 'str'>\n"
          ]
        }
      ],
      "source": [
        "number = int('42')\n",
        "print(f\"Number Type: {type(number)}\")\n",
        "print(f\"Number: {number}\\n\")\n",
        "\n",
        "number += 7\n",
        "str_number = str(number)\n",
        "print(f\"Number + 7 = {str_number}\")\n",
        "print(f\"Number Type: {type(str_number)}\")"
      ]
    },
    {
      "cell_type": "markdown",
      "id": "c98e6c41-d919-4c47-8635-4107a5b0d4a0",
      "metadata": {
        "id": "c98e6c41-d919-4c47-8635-4107a5b0d4a0"
      },
      "source": [
        "#### If conditions\n",
        "- Write a program to prompt for a score between 0 and 1. If the score is out of range print an error message.\n",
        "If the score is between 0 and 1, print a grade using the following score-guide equivalent:\n",
        "\n",
        "|Score   |Grade |\n",
        "|--------|------|\n",
        "| >= 0.9 |   A  |\n",
        "| >= 0.8 |   B  |\n",
        "| >= 0.7 |   C  |\n",
        "| >= 0.6 |   D  |\n",
        "|  < 0.6 |   F  |\n"
      ]
    },
    {
      "cell_type": "code",
      "metadata": {
        "id": "VNZEbPRhIIJO"
      },
      "source": [
        "\"\"\"\n",
        "Function: 'get_score' will get and validate user input.\n",
        "\n",
        "Input Validation:\n",
        "- Check if the input is a number\n",
        "- Check if the number is between 0 and 1\n",
        "\"\"\"\n",
        "\n",
        "def get_score():\n",
        "  score_input = input(\"Enter your score (Between 0 and 1): \")\n",
        "\n",
        "  # Check if the input can be converted to a float\n",
        "  # Try except block added for error handling in case of value mismatch\n",
        "  try:\n",
        "    score = float(score_input)\n",
        "  except ValueError:\n",
        "    print(\"Invalid Input. Please enter only numeric values between 0 and 1.\")\n",
        "    return None\n",
        "\n",
        "  if score < 0 or score > 1:\n",
        "    print(\"Input out of range. Please enter only values between 0 and 1.\")\n",
        "    return None\n",
        "  else:\n",
        "    return score"
      ],
      "execution_count": 16,
      "outputs": [],
      "id": "VNZEbPRhIIJO"
    },
    {
      "cell_type": "code",
      "source": [
        "score = get_score()\n",
        "\n",
        "# Check if score is not None before proceeding\n",
        "if score is not None:\n",
        "    if score >= 0.9:\n",
        "        grade = 'A'\n",
        "    elif score >= 0.8:\n",
        "        grade = 'B'\n",
        "    elif score >= 0.7:\n",
        "        grade = 'C'\n",
        "    elif score >= 0.6:\n",
        "        grade = 'D'\n",
        "    else:\n",
        "        grade = 'F'\n",
        "    print(f\"Your grade is: {grade}\")"
      ],
      "metadata": {
        "colab": {
          "base_uri": "https://localhost:8080/"
        },
        "id": "D2nMnXJYTlcQ",
        "outputId": "0690cb5b-f117-4cba-a14f-52dc42450a9b"
      },
      "id": "D2nMnXJYTlcQ",
      "execution_count": 17,
      "outputs": [
        {
          "output_type": "stream",
          "name": "stdout",
          "text": [
            "Enter your score (Between 0 and 1): 1\n",
            "Your grade is: A\n"
          ]
        }
      ]
    },
    {
      "cell_type": "markdown",
      "id": "d483e070-db7e-4d34-beaf-c5323e26d79a",
      "metadata": {
        "id": "d483e070-db7e-4d34-beaf-c5323e26d79a"
      },
      "source": [
        "#### For Loop + Logic\n",
        "- Sum all numbers from 1 to 20 that are multiples of 3 or 5. Print the sum."
      ]
    },
    {
      "cell_type": "code",
      "execution_count": 18,
      "id": "c1a383d2-6ca1-44ae-9dfa-f7993968e666",
      "metadata": {
        "colab": {
          "base_uri": "https://localhost:8080/"
        },
        "id": "c1a383d2-6ca1-44ae-9dfa-f7993968e666",
        "outputId": "95119b9b-d18a-46fa-8889-efde0dc03eff"
      },
      "outputs": [
        {
          "output_type": "stream",
          "name": "stdout",
          "text": [
            "Number: 3\n",
            "Number: 5\n",
            "Number: 6\n",
            "Number: 9\n",
            "Number: 10\n",
            "Number: 12\n",
            "Number: 15\n",
            "Number: 18\n",
            "Number: 20\n",
            "Final Sum: 98\n"
          ]
        }
      ],
      "source": [
        "# Given and sum equated to 0 to reset value every run\n",
        "total = 0\n",
        "n = 20\n",
        "\n",
        "for number in range(1,n+1):\n",
        "  if number % 3 == 0 or number % 5 == 0:\n",
        "    total += number\n",
        "    print(f\"Number: {number}\")\n",
        "\n",
        "print(f\"Final Sum: {total}\")"
      ]
    },
    {
      "cell_type": "markdown",
      "id": "f8d10851-9f7a-438f-87ca-b0f1276eb008",
      "metadata": {
        "id": "f8d10851-9f7a-438f-87ca-b0f1276eb008"
      },
      "source": [
        "-----\n",
        "## More Exercises"
      ]
    },
    {
      "cell_type": "markdown",
      "id": "df1eeb10-13a9-4e05-b312-2e7653964550",
      "metadata": {
        "id": "df1eeb10-13a9-4e05-b312-2e7653964550"
      },
      "source": [
        "#### 1. Sales Performance Check\n",
        "- Given sales_day1 = 150, sales_day2 = 175, sales_day3 = 160, write a function `check_performance()` that:\n",
        "    - Compares each day’s sales to the previous day.\n",
        "    - Prints \"Better\" if the sales are higher, \"Worse\" if lower, and \"Same\" if the same."
      ]
    },
    {
      "cell_type": "code",
      "execution_count": 19,
      "id": "1a12aa8b-ad11-46ae-9214-4a3ed0d66ad2",
      "metadata": {
        "id": "1a12aa8b-ad11-46ae-9214-4a3ed0d66ad2"
      },
      "outputs": [],
      "source": [
        "def check_performance(sales):\n",
        "\n",
        "  for i in range(1, len(sales)):\n",
        "    # For readability: sales[i] is the current day sales & sales[i-1] is the previos day sales\n",
        "    current_day_sales = sales[i]\n",
        "    previous_day_sales = sales[i-1]\n",
        "\n",
        "    if current_day_sales > previous_day_sales:\n",
        "      print(f\"Day {i+1} sales: Better\")\n",
        "    elif current_day_sales < previous_day_sales:\n",
        "      print(f\"Day {i+1} sales: Worse\")\n",
        "    else:\n",
        "      print(f\"Day {i+1} sales: Same\")"
      ]
    },
    {
      "cell_type": "code",
      "execution_count": 20,
      "id": "5c61f1f3-d6a5-4ca3-9329-3e9268979f8b",
      "metadata": {
        "colab": {
          "base_uri": "https://localhost:8080/"
        },
        "id": "5c61f1f3-d6a5-4ca3-9329-3e9268979f8b",
        "outputId": "e7cf89ab-073f-4b42-f217-ff7d0897b9cb"
      },
      "outputs": [
        {
          "output_type": "stream",
          "name": "stdout",
          "text": [
            "Day 2 sales: Better\n",
            "Day 3 sales: Worse\n"
          ]
        }
      ],
      "source": [
        "# Given sales values\n",
        "sales_day1 = 150\n",
        "sales_day2 = 175\n",
        "sales_day3 = 160\n",
        "\n",
        "# sales_day4 = 160\n",
        "\n",
        "sales_data = [sales_day1, sales_day2, sales_day3]\n",
        "\n",
        "check_performance(sales_data)"
      ]
    },
    {
      "cell_type": "markdown",
      "id": "1095638b-692d-4c5b-9788-9a6fa863e273",
      "metadata": {
        "id": "1095638b-692d-4c5b-9788-9a6fa863e273"
      },
      "source": [
        "#### 2. Simple Discount Calculator\n",
        "- You are given an item price price = 200 and a discount rate (*discount_rate = 0.15*) (15%). <br>\n",
        "Write a function `calculate_discount(price, discount_rate)` to:\n",
        "    - Compute the discount amount (price * discount_rate)\n",
        "    - Subtract it from the price to find the final price."
      ]
    },
    {
      "cell_type": "code",
      "execution_count": 21,
      "id": "bc3faab1-c8e3-48f3-9353-7c47b18c176a",
      "metadata": {
        "id": "bc3faab1-c8e3-48f3-9353-7c47b18c176a"
      },
      "outputs": [],
      "source": [
        "def calculate_discount(price, discount_rate):\n",
        "  discount_amount = price * discount_rate\n",
        "  discounted_price = price - discount_amount\n",
        "  return discount_amount, discounted_price"
      ]
    },
    {
      "cell_type": "code",
      "execution_count": 22,
      "id": "ff0f3043-4541-4b09-92bb-4417663f2fe1",
      "metadata": {
        "colab": {
          "base_uri": "https://localhost:8080/"
        },
        "id": "ff0f3043-4541-4b09-92bb-4417663f2fe1",
        "outputId": "27d04f5d-ef7f-422a-daee-0ce0c99d2b1f"
      },
      "outputs": [
        {
          "output_type": "stream",
          "name": "stdout",
          "text": [
            "Discount Amount: 30.0\n",
            "Final Price: 170.0\n"
          ]
        }
      ],
      "source": [
        "# Given values of price and discount rate\n",
        "price = 200\n",
        "discount_rate = 0.15\n",
        "\n",
        "discount_amount, final_price = calculate_discount(price, discount_rate)\n",
        "\n",
        "print(f\"Discount Amount: {discount_amount}\")\n",
        "print(f\"Final Price: {final_price}\")"
      ]
    },
    {
      "cell_type": "markdown",
      "id": "40a58f5b-19ab-45e2-b0c5-be1ce837e32c",
      "metadata": {
        "id": "40a58f5b-19ab-45e2-b0c5-be1ce837e32c"
      },
      "source": [
        "#### 3. Customer Satisfaction Survey\n",
        "A customer satisfaction score is calculated by averaging responses from 3 surveys. The scores are: <br>\n",
        "|survery|score|\n",
        "|-------|------|\n",
        "|Survey1|4|\n",
        "|Survey2|3.5|\n",
        "|Survery3|5|\n",
        "      \n",
        "<br>\n",
        "\n",
        "- Write a function `average_score()` to:\n",
        "    - Compute the average score.\n",
        "    - Print whether the score is \"Good\" (average ≥ 4), \"Neutral\" (3 ≤ average < 4), or \"Bad\" (average < 3)"
      ]
    },
    {
      "cell_type": "code",
      "execution_count": 23,
      "id": "7e9433be-e784-4986-9d1e-5f1f3ef79114",
      "metadata": {
        "id": "7e9433be-e784-4986-9d1e-5f1f3ef79114"
      },
      "outputs": [],
      "source": [
        "def average_score(scores):\n",
        "  # Compute for the average\n",
        "  average = sum(scores) / len(scores)\n",
        "\n",
        "  if average >= 4:\n",
        "    print(\"Good\")\n",
        "  elif average >= 3:\n",
        "    print(\"Neutral\")\n",
        "  else:\n",
        "    print(\"Bad\")"
      ]
    },
    {
      "cell_type": "code",
      "execution_count": 24,
      "id": "951f9f8f-f826-493e-b156-5c692573e27e",
      "metadata": {
        "colab": {
          "base_uri": "https://localhost:8080/"
        },
        "id": "951f9f8f-f826-493e-b156-5c692573e27e",
        "outputId": "07fef4ae-2d54-4c76-d9a7-b37d3d71c567"
      },
      "outputs": [
        {
          "output_type": "stream",
          "name": "stdout",
          "text": [
            "Good\n"
          ]
        }
      ],
      "source": [
        "# Given scores for 3 surveys\n",
        "Survey1 = 4\n",
        "Survey2 = 3.5\n",
        "Survey3 = 5\n",
        "\n",
        "survey_scores = [Survey1, Survey2, Survey3]\n",
        "\n",
        "average_score(survey_scores)"
      ]
    },
    {
      "cell_type": "markdown",
      "id": "284b4020-fba6-4794-a6d9-96e71e6cdcd0",
      "metadata": {
        "id": "284b4020-fba6-4794-a6d9-96e71e6cdcd0"
      },
      "source": [
        "#### 4. Revenue vs Target Comparison\n",
        "The target revenue for the week is target_revenue = 10000. The actual revenue for the week is:\n",
        "|Revenue Day|Amount|\n",
        "|-------|------|\n",
        "|revenue_day1|2000|\n",
        "|revenue_day2|3000|\n",
        "|revenue_day3|5000|\n",
        "\n",
        "- Write a function `check_revenue(target, actual)` to:\n",
        "    - Compute the total actual revenue.\n",
        "    - Compare it to the target and print:\n",
        "        - \"On Track\" if actual revenue is at least 90% of the target.\n",
        "        - \"Behind\" if actual revenue is less than 90% of the target."
      ]
    },
    {
      "cell_type": "code",
      "execution_count": 83,
      "id": "80162dab-d1e5-498b-90f6-6a129d316c0b",
      "metadata": {
        "id": "80162dab-d1e5-498b-90f6-6a129d316c0b"
      },
      "outputs": [],
      "source": [
        "def check_revenue(target, actual):\n",
        "  total_actual = sum(actual)\n",
        "  print(\"On Track\" if total_actual >= target * 0.9 else \"Behind\")"
      ]
    },
    {
      "cell_type": "code",
      "execution_count": 84,
      "id": "38b5683b-bd96-4505-a3c0-60207879639c",
      "metadata": {
        "colab": {
          "base_uri": "https://localhost:8080/"
        },
        "id": "38b5683b-bd96-4505-a3c0-60207879639c",
        "outputId": "b43f4fa6-0615-47ae-d09a-991dc50c06ae"
      },
      "outputs": [
        {
          "output_type": "stream",
          "name": "stdout",
          "text": [
            "On Track\n"
          ]
        }
      ],
      "source": [
        "# Given values for revenue\n",
        "target_revenue = 10000\n",
        "revenue_day1 = 2000\n",
        "revenue_day2 = 3000\n",
        "revenue_day3 = 5000\n",
        "\n",
        "actual_revenue = [revenue_day1, revenue_day2, revenue_day3]\n",
        "\n",
        "check_revenue(target_revenue, actual_revenue)"
      ]
    },
    {
      "cell_type": "markdown",
      "id": "d217b674-05d1-44de-954a-7c14c3a8b0df",
      "metadata": {
        "id": "d217b674-05d1-44de-954a-7c14c3a8b0df"
      },
      "source": [
        "#### 5. Product Inventory Check\n",
        "For a product, you are given:\n",
        "|Tagging|Count|\n",
        "|-----|------|\n",
        "|initial_stock|50|\n",
        "|sold_today|15|\n",
        "|received_shipment|20|\n",
        "\n",
        "- Write a function `calculate_remaining_stock()` to:\n",
        "    - Calculate the remaining stock after today’s sales and the new shipment received.\n",
        "    - Print \"Restocking Needed\" if the remaining stock is below 10.\n",
        "    - Print \"Stock is Good\" if the remaining stock is at least 10."
      ]
    },
    {
      "cell_type": "code",
      "execution_count": 70,
      "id": "91c05923-1803-4abf-af45-67bc6885491d",
      "metadata": {
        "id": "91c05923-1803-4abf-af45-67bc6885491d"
      },
      "outputs": [],
      "source": [
        "def calculate_remaining_stock(init_stock, sold, new_shipment):\n",
        "  remaining_stock = init_stock - sold + new_shipment\n",
        "\n",
        "  return f\"Remaining Stock: {remaining_stock}\\n\" + (\"Restocking Needed\" if remaining_stock < 10 else \"Stock is Good\")"
      ]
    },
    {
      "cell_type": "code",
      "execution_count": 71,
      "id": "76197e8f-b173-4625-bce6-207882dfaf98",
      "metadata": {
        "id": "76197e8f-b173-4625-bce6-207882dfaf98",
        "outputId": "7a4eecb2-a766-4fa5-c27e-15205d4423c7",
        "colab": {
          "base_uri": "https://localhost:8080/"
        }
      },
      "outputs": [
        {
          "output_type": "stream",
          "name": "stdout",
          "text": [
            "Remaining Stock: 55\n",
            "Stock is Good\n"
          ]
        }
      ],
      "source": [
        "initial_stock = 50\n",
        "sold_today = 15\n",
        "received_shipment = 20\n",
        "\n",
        "print(calculate_remaining_stock(initial_stock, sold_today, received_shipment))"
      ]
    },
    {
      "cell_type": "markdown",
      "id": "fed56114-7701-41b7-b01b-abc109c77f26",
      "metadata": {
        "id": "fed56114-7701-41b7-b01b-abc109c77f26"
      },
      "source": [
        "#### 6. Daily Expense Summary\n",
        "You are tracking daily expenses. The daily expenses for the week are:\n",
        "|Day|Amount Spent (Php)|\n",
        "|--|--|\n",
        "|1|250|\n",
        "|2|185|\n",
        "|3|450|\n",
        "|4|170|\n",
        "|5|348|\n",
        "|6|70|\n",
        "|7|99|\n",
        "\n",
        "- Write a function `average_expenses()` to:\n",
        "    - Calculate the average daily expense for the week.\n",
        "    - Print if the expenses are \"Within Budget\" (average ≤ 250) or \"Over Budget\" (average >250).\n",
        "\n",
        "*(You can try to do this with your own daily expenses and the amount that you think should only (your limit) be your daily expense)*"
      ]
    },
    {
      "cell_type": "code",
      "execution_count": 72,
      "id": "37b93138-372a-4c10-adf2-29ccabd34988",
      "metadata": {
        "id": "37b93138-372a-4c10-adf2-29ccabd34988"
      },
      "outputs": [],
      "source": [
        "def average_expenses(expenses):\n",
        "  average_daily_expense = sum(expenses) / len(expenses)\n",
        "\n",
        "  return f\"Average Daily Expense: {average_daily_expense:.2f}\\n\" + (\"Within Budget\" if average_daily_expense <= 250 else \"Over Budget\")"
      ]
    },
    {
      "cell_type": "code",
      "execution_count": 73,
      "id": "6e9ffaca-a5cd-4a9b-9891-2d72ac2b3e44",
      "metadata": {
        "id": "6e9ffaca-a5cd-4a9b-9891-2d72ac2b3e44",
        "outputId": "cee23694-fda9-4e2b-cc24-13385a46603b",
        "colab": {
          "base_uri": "https://localhost:8080/"
        }
      },
      "outputs": [
        {
          "output_type": "stream",
          "name": "stdout",
          "text": [
            "Average Daily Expense: 224.57\n",
            "Within Budget\n"
          ]
        }
      ],
      "source": [
        "day1 = 250\n",
        "day2 = 185\n",
        "day3 = 450\n",
        "day4 = 170\n",
        "day5 = 348\n",
        "day6 = 70\n",
        "day7 = 99\n",
        "\n",
        "daily_expenses = [day1, day2, day3, day4, day5, day6, day7]\n",
        "\n",
        "print(average_expenses(daily_expenses))"
      ]
    },
    {
      "cell_type": "markdown",
      "id": "218d22c9-be77-4182-9127-cf07f5509655",
      "metadata": {
        "id": "218d22c9-be77-4182-9127-cf07f5509655"
      },
      "source": [
        "#### 7. Product Profit Calculator\n",
        "You are selling a product with:\n",
        "|   |   |\n",
        "|---|---|\n",
        "|cost_price|50|\n",
        "|selling_price|75|\n",
        "\n",
        "- Write a `function profit_margin()` to:\n",
        "    - Calculate the profit (selling_price - cost_price)\n",
        "    - Print \"Good Profit\" if the profit is at least 20% of the selling price, else print \"Low Profit\"."
      ]
    },
    {
      "cell_type": "code",
      "execution_count": 78,
      "id": "f267ed2f-9d4c-45c0-a4cc-39041b4350e6",
      "metadata": {
        "id": "f267ed2f-9d4c-45c0-a4cc-39041b4350e6"
      },
      "outputs": [],
      "source": [
        "def profit_margin(selling_price, cost_price):\n",
        "  profit = selling_price - cost_price\n",
        "  profit_margin = selling_price * 0.2\n",
        "\n",
        "  return f\"Profit: {profit} \\nProfit Margin: {profit_margin}\\n\" + (\"Good Profit\" if profit >= profit_margin else \"Low Profit\")"
      ]
    },
    {
      "cell_type": "code",
      "execution_count": 82,
      "id": "6abb73d7-7a26-447b-ba67-555e1499a297",
      "metadata": {
        "id": "6abb73d7-7a26-447b-ba67-555e1499a297",
        "outputId": "d2d1007e-5b09-4eee-aa17-7247f157925d",
        "colab": {
          "base_uri": "https://localhost:8080/"
        }
      },
      "outputs": [
        {
          "output_type": "stream",
          "name": "stdout",
          "text": [
            "Profit: 25 \n",
            "Profit Margin: 15.0\n",
            "Good Profit\n"
          ]
        }
      ],
      "source": [
        "cost_price = 50\n",
        "selling_price = 75\n",
        "\n",
        "print(profit_margin(selling_price, cost_price))"
      ]
    },
    {
      "cell_type": "markdown",
      "id": "c706538d-d076-4929-b35c-8975410216ea",
      "metadata": {
        "id": "c706538d-d076-4929-b35c-8975410216ea"
      },
      "source": [
        "*End of Code*"
      ]
    }
  ],
  "metadata": {
    "kernelspec": {
      "display_name": "Python 3",
      "language": "python",
      "name": "python3"
    },
    "language_info": {
      "codemirror_mode": {
        "name": "ipython",
        "version": 3
      },
      "file_extension": ".py",
      "mimetype": "text/x-python",
      "name": "python",
      "nbconvert_exporter": "python",
      "pygments_lexer": "ipython3",
      "version": "3.13.1"
    },
    "colab": {
      "provenance": [],
      "include_colab_link": true
    }
  },
  "nbformat": 4,
  "nbformat_minor": 5
}