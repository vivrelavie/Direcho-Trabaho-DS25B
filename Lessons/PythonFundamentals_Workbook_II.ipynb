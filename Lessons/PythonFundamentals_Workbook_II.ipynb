{
  "cells": [
    {
      "cell_type": "markdown",
      "id": "39d93fa6-a62b-4a76-bf66-4d3e917e76fc",
      "metadata": {
        "deletable": false,
        "editable": false,
        "id": "39d93fa6-a62b-4a76-bf66-4d3e917e76fc"
      },
      "source": [
        "# Python Fundamentals II\n",
        "---\n",
        "- Collection of data that logically belongs together: **Data Set**\n",
        "- Type of variable that we use to store it in Python: **Data Structure**"
      ]
    },
    {
      "cell_type": "markdown",
      "id": "9fb5bd33-91fc-4b02-b03b-a311596025d7",
      "metadata": {
        "deletable": false,
        "editable": false,
        "id": "9fb5bd33-91fc-4b02-b03b-a311596025d7"
      },
      "source": [
        "## Lists\n",
        "- a collection of data that stores multiple items in a single variable.\n",
        "- these items must be ordered, able to be changed after they are created (mutable), and can be duplicated. (very flexible)\n",
        "- can store data of multiple types (not all the items in the list need to be the same type)\n",
        "\n",
        "\n",
        "#### Creating Lists\n",
        "- written with square brackets (`[]`)"
      ]
    },
    {
      "cell_type": "code",
      "execution_count": 431,
      "id": "48b20e1a-2568-442d-8a99-9f0b4525f77f",
      "metadata": {
        "id": "48b20e1a-2568-442d-8a99-9f0b4525f77f",
        "outputId": "e3dcde38-702f-44a7-e324-6d7df5e0b73b",
        "colab": {
          "base_uri": "https://localhost:8080/"
        }
      },
      "outputs": [
        {
          "output_type": "stream",
          "name": "stdout",
          "text": [
            "[17000, 8000, 22000, 15000]\n"
          ]
        }
      ],
      "source": [
        "price_php = [17000, 8000, 22000, 15000]\n",
        "print(price_php)"
      ]
    },
    {
      "cell_type": "markdown",
      "id": "c9113eda-c488-4a9f-9a78-5b06152ec3a4",
      "metadata": {
        "deletable": false,
        "editable": false,
        "id": "c9113eda-c488-4a9f-9a78-5b06152ec3a4"
      },
      "source": [
        "#### Working with Lists\n",
        "- access any time on the list by referring to the item's **index number**. <br>\n",
        "- access an item at the end of the list, you can use **negative indexing**. (-1: last item, -2, 2nd to the last and so on)\n",
        "- to add an item to a list that already exists, use the **`append`** method\n",
        "- items on a lits can be **aggregated** to make analyzing more useful\n",
        "- **`len`** method: tells the size of the list, how many items the list have (count does not start with zero (0))\n",
        "  \n",
        "*Note: In Python, the first item in a list is always zero (0)*"
      ]
    },
    {
      "cell_type": "code",
      "execution_count": 432,
      "id": "be1aeba6-114d-483f-845c-55bfe0ad3a1d",
      "metadata": {
        "id": "be1aeba6-114d-483f-845c-55bfe0ad3a1d",
        "outputId": "b7677101-a92e-43b3-8915-39759e435c4b",
        "colab": {
          "base_uri": "https://localhost:8080/"
        }
      },
      "outputs": [
        {
          "output_type": "stream",
          "name": "stdout",
          "text": [
            "8000\n"
          ]
        }
      ],
      "source": [
        "# Access the 2nd item of the price_php list\n",
        "print(price_php[1])"
      ]
    },
    {
      "cell_type": "code",
      "execution_count": 433,
      "id": "89e067fa-3fd1-40ed-a926-73f2e7a6cde1",
      "metadata": {
        "id": "89e067fa-3fd1-40ed-a926-73f2e7a6cde1",
        "outputId": "1cf41b05-1889-4476-bcf4-0a7dded4d44b",
        "colab": {
          "base_uri": "https://localhost:8080/"
        }
      },
      "outputs": [
        {
          "output_type": "stream",
          "name": "stdout",
          "text": [
            "15000\n"
          ]
        }
      ],
      "source": [
        "# Access the last item in the price_php_list\n",
        "print(price_php[-1])"
      ]
    },
    {
      "cell_type": "code",
      "execution_count": 434,
      "id": "dabb798a-676f-42b8-8b27-58d1d5abaa8a",
      "metadata": {
        "id": "dabb798a-676f-42b8-8b27-58d1d5abaa8a",
        "outputId": "14034fb9-8057-4e67-b470-61ccde5e4742",
        "colab": {
          "base_uri": "https://localhost:8080/"
        }
      },
      "outputs": [
        {
          "output_type": "stream",
          "name": "stdout",
          "text": [
            "[17000, 8000, 22000, 15000, 12500]\n"
          ]
        }
      ],
      "source": [
        "# Append 12500 price to the price_php list\n",
        "price_php.append(12500)\n",
        "print(price_php)"
      ]
    },
    {
      "cell_type": "code",
      "execution_count": 435,
      "id": "62757a96-76c8-4f3a-8629-ca0581ab493e",
      "metadata": {
        "id": "62757a96-76c8-4f3a-8629-ca0581ab493e",
        "outputId": "05f41f1c-2987-45a7-9978-299c90e2a5be",
        "colab": {
          "base_uri": "https://localhost:8080/"
        }
      },
      "outputs": [
        {
          "output_type": "stream",
          "name": "stdout",
          "text": [
            "[8000, 22000, 15000]\n",
            "[8000, 22000, 15000, 12500]\n",
            "[17000]\n"
          ]
        }
      ],
      "source": [
        "# Retrieving a slice of items from a list\n",
        "print(price_php[1:4])\n",
        "print(price_php[1:])\n",
        "print(price_php[:1])"
      ]
    },
    {
      "cell_type": "code",
      "execution_count": 436,
      "id": "5759cfe0-ab11-413a-a10b-c6cd24b38552",
      "metadata": {
        "id": "5759cfe0-ab11-413a-a10b-c6cd24b38552",
        "outputId": "e954f327-85ce-4b1e-f60f-9e9b2b901bb0",
        "colab": {
          "base_uri": "https://localhost:8080/"
        }
      },
      "outputs": [
        {
          "output_type": "stream",
          "name": "stdout",
          "text": [
            "[1, 3, 5, 7, 9, 11]\n",
            "[5, 4, 3]\n"
          ]
        }
      ],
      "source": [
        "# Slice using a step size\n",
        "nums = [1,2,3,4,5,6,7,8,9,10,11,12]\n",
        "\n",
        "print(nums[::2])\n",
        "print(nums[4:1:-1])"
      ]
    },
    {
      "cell_type": "code",
      "execution_count": 437,
      "id": "a49b8cbb-7116-4fc9-97a3-c8a838636bd5",
      "metadata": {
        "id": "a49b8cbb-7116-4fc9-97a3-c8a838636bd5",
        "outputId": "f4652c4b-1f09-4e31-85b8-e57b409bd883",
        "colab": {
          "base_uri": "https://localhost:8080/"
        }
      },
      "outputs": [
        {
          "output_type": "execute_result",
          "data": {
            "text/plain": [
              "74500"
            ]
          },
          "metadata": {},
          "execution_count": 437
        }
      ],
      "source": [
        "# Aggregating the price_php list: total value in Peso of the houses in the list\n",
        "total_php = sum(price_php)\n",
        "total_php"
      ]
    },
    {
      "cell_type": "code",
      "execution_count": 438,
      "id": "b1fbdc25-c7e2-4fa6-9f27-8308dedfce67",
      "metadata": {
        "id": "b1fbdc25-c7e2-4fa6-9f27-8308dedfce67",
        "outputId": "51e918d6-1be3-43d3-daad-e1c4b8179d3a",
        "colab": {
          "base_uri": "https://localhost:8080/"
        }
      },
      "outputs": [
        {
          "output_type": "execute_result",
          "data": {
            "text/plain": [
              "14900.0"
            ]
          },
          "metadata": {},
          "execution_count": 438
        }
      ],
      "source": [
        "# Average Value in Peso of the houses on the list (ave = sum/total count)\n",
        "average_php = sum(price_php)/len(price_php)\n",
        "average_php"
      ]
    },
    {
      "cell_type": "code",
      "execution_count": 439,
      "id": "89e0b5b8-32fd-4972-93e5-b877c6f50265",
      "metadata": {
        "id": "89e0b5b8-32fd-4972-93e5-b877c6f50265",
        "outputId": "ecd832d9-60b6-4357-cb9a-2ae57703ce35",
        "colab": {
          "base_uri": "https://localhost:8080/"
        }
      },
      "outputs": [
        {
          "output_type": "stream",
          "name": "stdout",
          "text": [
            "[2, 6, 3049, 18, 37]\n",
            "[3.7, 8.2, 178.245, 63.1]\n",
            "[26, False, 'some words', 1.264]\n"
          ]
        }
      ],
      "source": [
        "# Can store any type of data\n",
        "int_list = [2, 6, 3049, 18, 37]\n",
        "float_list = [3.7, 8.2, 178.245, 63.1]\n",
        "mixed_list = [26, False, 'some words', 1.264]\n",
        "\n",
        "print(int_list)\n",
        "print(float_list)\n",
        "print(mixed_list)"
      ]
    },
    {
      "cell_type": "code",
      "execution_count": 440,
      "id": "5fff826a-3685-460d-a24a-f1128bdb3b4c",
      "metadata": {
        "id": "5fff826a-3685-460d-a24a-f1128bdb3b4c",
        "outputId": "3a373ad1-039d-46ca-8ec2-0778d24ee68d",
        "colab": {
          "base_uri": "https://localhost:8080/"
        }
      },
      "outputs": [
        {
          "output_type": "stream",
          "name": "stdout",
          "text": [
            "[['a', 'list', 'of', 'words'], [1, 5, 209], [True, True, False]]\n"
          ]
        }
      ],
      "source": [
        "# a list inside of a list\n",
        "list_of_lists = [['a', 'list', 'of', 'words'], [1, 5, 209], [True, True, False]]\n",
        "print(list_of_lists)"
      ]
    },
    {
      "cell_type": "code",
      "execution_count": 441,
      "id": "c8d544ce-9e47-4acc-b2f6-400d1e4825f5",
      "metadata": {
        "id": "c8d544ce-9e47-4acc-b2f6-400d1e4825f5",
        "outputId": "3160785b-0943-47df-974a-c7b7b13ae094",
        "colab": {
          "base_uri": "https://localhost:8080/"
        }
      },
      "outputs": [
        {
          "output_type": "stream",
          "name": "stdout",
          "text": [
            "chicken\n",
            "onions\n",
            "rice\n",
            "peppers\n",
            "bananas\n"
          ]
        }
      ],
      "source": [
        "grocery_list = ['chicken', 'onions', 'rice', 'peppers', 'bananas']\n",
        "\n",
        "# for loop in iterating items in a list\n",
        "for item in grocery_list:\n",
        "    print(item)"
      ]
    },
    {
      "cell_type": "markdown",
      "id": "a775eafe-bf5b-4a11-add5-fc3ef82be551",
      "metadata": {
        "deletable": false,
        "editable": false,
        "id": "a775eafe-bf5b-4a11-add5-fc3ef82be551"
      },
      "source": [
        "Sometimes we will combine a for loop with indexing.<br>\n",
        "The `range` function is useful for this. (Range function: returns a sequece of integers between the 1st and 2nd argument-1, using the 3rd argument as the stepsize."
      ]
    },
    {
      "cell_type": "code",
      "execution_count": 442,
      "id": "0dd64380-5a65-4d74-a4dd-85218dcae06a",
      "metadata": {
        "id": "0dd64380-5a65-4d74-a4dd-85218dcae06a",
        "outputId": "6b503931-b3f3-4b4d-a655-47c0e3d9b43f",
        "colab": {
          "base_uri": "https://localhost:8080/"
        }
      },
      "outputs": [
        {
          "output_type": "stream",
          "name": "stdout",
          "text": [
            "0 chicken\n",
            "1 onions\n",
            "2 rice\n",
            "3 peppers\n",
            "4 bananas\n"
          ]
        }
      ],
      "source": [
        "for i in range(0, len(grocery_list)):\n",
        "    print(i, grocery_list[i])"
      ]
    },
    {
      "cell_type": "code",
      "execution_count": 443,
      "id": "7e5cc4f5-f975-4240-93da-03b83a5d9798",
      "metadata": {
        "id": "7e5cc4f5-f975-4240-93da-03b83a5d9798",
        "outputId": "c25eb40e-0d81-43f0-9be8-a0c95d044110",
        "colab": {
          "base_uri": "https://localhost:8080/"
        }
      },
      "outputs": [
        {
          "output_type": "stream",
          "name": "stdout",
          "text": [
            "0 chicken\n",
            "2 rice\n",
            "4 bananas\n"
          ]
        }
      ],
      "source": [
        "for i in range(0, len(grocery_list),2):\n",
        "    print(i, grocery_list[i])"
      ]
    },
    {
      "cell_type": "code",
      "execution_count": 444,
      "id": "9dd139c0-b942-4846-8914-8fbf2215b75b",
      "metadata": {
        "id": "9dd139c0-b942-4846-8914-8fbf2215b75b",
        "outputId": "49d94e87-412f-4ae8-9f1f-0fa850e5e2af",
        "colab": {
          "base_uri": "https://localhost:8080/"
        }
      },
      "outputs": [
        {
          "output_type": "stream",
          "name": "stdout",
          "text": [
            "range(0, 10, 3)\n",
            "range(104, 100, -1)\n",
            "range(0, 5)\n"
          ]
        }
      ],
      "source": [
        "print(range(0, 10, 3))\n",
        "print(range(104, 100, -1))\n",
        "print(range(5)) # starts at 0 and counts by 1 by default"
      ]
    },
    {
      "cell_type": "code",
      "execution_count": 445,
      "id": "50088502-e62b-4490-8b74-1175df1aabd2",
      "metadata": {
        "id": "50088502-e62b-4490-8b74-1175df1aabd2",
        "outputId": "70217dc5-af7d-4637-8483-0e87bd9c4ecc",
        "colab": {
          "base_uri": "https://localhost:8080/"
        }
      },
      "outputs": [
        {
          "output_type": "stream",
          "name": "stdout",
          "text": [
            "['chicken', 'onions', 'rice', 'peppers', 'bananas']\n",
            "['chicken', 'onions', 'rice', 'peppers', 'grapes']\n",
            "['chicken', 'carrots', 'pasta', 'peppers', 'grapes']\n"
          ]
        }
      ],
      "source": [
        "# Using indexing/slicing to replace items in the list\n",
        "grocery_list = ['chicken', 'onions', 'rice', 'peppers', 'bananas']\n",
        "print(grocery_list)\n",
        "\n",
        "grocery_list[-1] = 'grapes'\n",
        "print(grocery_list)\n",
        "\n",
        "grocery_list[1:3] = ['carrots', 'pasta']\n",
        "print(grocery_list)"
      ]
    },
    {
      "cell_type": "code",
      "execution_count": 446,
      "id": "9b9ef4be-6aa2-408d-8a9b-c61bfbd53cdf",
      "metadata": {
        "id": "9b9ef4be-6aa2-408d-8a9b-c61bfbd53cdf",
        "outputId": "a6472697-5a4d-4f6c-f1c1-07e89c2880f4",
        "colab": {
          "base_uri": "https://localhost:8080/"
        }
      },
      "outputs": [
        {
          "output_type": "stream",
          "name": "stdout",
          "text": [
            "['chicken', 'onions', 'rice', 'peppers', 'bananas']\n",
            "['chicken', 'onions', 'rice', 'peppers', 'bananas', 'squash']\n",
            "['chicken', 'onions', 'rice', 'peppers', 'bananas', 'squash', ['bread', 'salt']]\n"
          ]
        }
      ],
      "source": [
        "# Adding items on a list\n",
        "grocery_list = ['chicken', 'onions', 'rice', 'peppers', 'bananas']\n",
        "print(grocery_list)\n",
        "grocery_list.append('squash')\n",
        "print(grocery_list)\n",
        "grocery_list.append(['bread', 'salt'])\n",
        "print(grocery_list)"
      ]
    },
    {
      "cell_type": "code",
      "execution_count": 447,
      "id": "e1c94de2-fa8d-42f5-bef4-0927cbea1186",
      "metadata": {
        "id": "e1c94de2-fa8d-42f5-bef4-0927cbea1186",
        "outputId": "3f736613-d4ae-4568-dd57-72ba0b3bccb4",
        "colab": {
          "base_uri": "https://localhost:8080/"
        }
      },
      "outputs": [
        {
          "output_type": "stream",
          "name": "stdout",
          "text": [
            "['chicken', 'onions', 'rice', 'peppers', 'bananas']\n",
            "['chicken', 'onions', 'rice', 'peppers', 'bananas', 'bread', 'salt']\n"
          ]
        }
      ],
      "source": [
        "grocery_list = ['chicken', 'onions', 'rice', 'peppers', 'bananas']\n",
        "print(grocery_list)\n",
        "grocery_list.extend(['bread', 'salt'])\n",
        "print(grocery_list)"
      ]
    },
    {
      "cell_type": "code",
      "execution_count": 448,
      "id": "0b1b8063-9a41-43e9-97d6-4be20c8699b9",
      "metadata": {
        "id": "0b1b8063-9a41-43e9-97d6-4be20c8699b9",
        "outputId": "e9fec33a-cd34-4fd4-a39e-8530e13884e2",
        "colab": {
          "base_uri": "https://localhost:8080/"
        }
      },
      "outputs": [
        {
          "output_type": "stream",
          "name": "stdout",
          "text": [
            "['chicken', 'onions', 'rice', 'peppers', 'bananas', 'bread', 'salt']\n",
            "['chicken', 'onions', 'rice', 'peppers', 'bananas', 'bread']\n"
          ]
        }
      ],
      "source": [
        "# Removing items on a list\n",
        "print(grocery_list)\n",
        "del grocery_list[-1]\n",
        "print(grocery_list)"
      ]
    },
    {
      "cell_type": "code",
      "execution_count": 449,
      "id": "c29dc68f-9a74-4816-9528-2218efac47a5",
      "metadata": {
        "id": "c29dc68f-9a74-4816-9528-2218efac47a5",
        "outputId": "8c46c15a-23ad-4b72-aece-a8ec011e574f",
        "colab": {
          "base_uri": "https://localhost:8080/"
        }
      },
      "outputs": [
        {
          "output_type": "stream",
          "name": "stdout",
          "text": [
            "['chicken', 'onions', 'rice', 'peppers', 'bananas', 'bread']\n",
            "bread\n",
            "['chicken', 'onions', 'rice', 'peppers', 'bananas']\n"
          ]
        }
      ],
      "source": [
        "print(grocery_list)\n",
        "print(grocery_list.pop(-1)) # default: removes and returns last item of a list\n",
        "print(grocery_list)"
      ]
    },
    {
      "cell_type": "code",
      "execution_count": 450,
      "id": "4cf5c1ca-3521-426d-9641-2b4a0e6ab22a",
      "metadata": {
        "id": "4cf5c1ca-3521-426d-9641-2b4a0e6ab22a",
        "outputId": "c17d58d8-c509-4cc5-fb83-07be75d17285",
        "colab": {
          "base_uri": "https://localhost:8080/"
        }
      },
      "outputs": [
        {
          "output_type": "stream",
          "name": "stdout",
          "text": [
            "['bananas', 'chicken', 'onions', 'peppers', 'rice']\n"
          ]
        }
      ],
      "source": [
        "# Sorting a list\n",
        "grocery_list.sort()\n",
        "print(grocery_list)"
      ]
    },
    {
      "cell_type": "markdown",
      "id": "ece1d9bd-23f3-4670-a5cc-b22faf08be0b",
      "metadata": {
        "deletable": false,
        "editable": false,
        "id": "ece1d9bd-23f3-4670-a5cc-b22faf08be0b"
      },
      "source": [
        "### Exercises\n",
        "\n",
        "1. Make a list of 10 elements and select only the last 2 elements\n",
        "2. Take that same list of 10 elements and select every other element starting with the very first element.\n",
        "3. Select every other element starting with the second element."
      ]
    },
    {
      "cell_type": "code",
      "execution_count": 451,
      "id": "d2b06028-83fc-44ea-b5b3-3eaae0f998b0",
      "metadata": {
        "id": "d2b06028-83fc-44ea-b5b3-3eaae0f998b0",
        "outputId": "ff162ec8-25db-42ca-a024-4a63a26f8dd3",
        "colab": {
          "base_uri": "https://localhost:8080/"
        }
      },
      "outputs": [
        {
          "output_type": "stream",
          "name": "stdout",
          "text": [
            "Original List: [0, 1, 2, 3, 4, 5, 6, 7, 8, 9]\n",
            "\n",
            "Solution 1: [8, 9]\n",
            "Solution 2: [0, 2, 4, 6, 8]\n",
            "Solution 3: [1, 3, 5, 7, 9]\n"
          ]
        }
      ],
      "source": [
        "# Solution\n",
        "lst = list(range(0,10))\n",
        "print(f\"Original List: {lst}\", end=\"\\n\\n\")\n",
        "print(f\"Solution 1: {lst[-2:]}\")\n",
        "print(f\"Solution 2: {lst[::2]}\")\n",
        "print(f\"Solution 3: {lst[1::2]}\")"
      ]
    },
    {
      "cell_type": "markdown",
      "id": "d14ace91-f4b3-48a3-9af8-8cb05fcc4a07",
      "metadata": {
        "deletable": false,
        "editable": false,
        "id": "d14ace91-f4b3-48a3-9af8-8cb05fcc4a07"
      },
      "source": [
        "---\n",
        "## Tuple\n",
        "- very similar to a `list` with 1 major difference -- it is **immutable**\n",
        "- we create a `tuple` using parentheses `()`\n",
        "  "
      ]
    },
    {
      "cell_type": "code",
      "execution_count": 452,
      "id": "b436b77b-e0d0-4871-bbdf-7970c1f81904",
      "metadata": {
        "id": "b436b77b-e0d0-4871-bbdf-7970c1f81904",
        "outputId": "a7d530a9-02b7-4a8c-9f3b-6593928daab9",
        "colab": {
          "base_uri": "https://localhost:8080/"
        }
      },
      "outputs": [
        {
          "output_type": "stream",
          "name": "stdout",
          "text": [
            "('L', 26, 167.6, True)\n"
          ]
        }
      ],
      "source": [
        "example_tuple = ('L', 26, 167.6, True)\n",
        "print(example_tuple)"
      ]
    },
    {
      "cell_type": "markdown",
      "id": "4a48192a-32cb-4f17-80db-d951c5d31a0f",
      "metadata": {
        "deletable": false,
        "editable": false,
        "id": "4a48192a-32cb-4f17-80db-d951c5d31a0f"
      },
      "source": [
        "- While we can retrieve data through indexing (because `tuple` is ordered), we cannot modify it as it is immutable."
      ]
    },
    {
      "cell_type": "code",
      "execution_count": 453,
      "id": "22413bda-6cd0-4531-bcb7-b0f8145c1a72",
      "metadata": {
        "id": "22413bda-6cd0-4531-bcb7-b0f8145c1a72",
        "outputId": "fc20e162-ab47-44af-b38d-799ebd839cf4",
        "colab": {
          "base_uri": "https://localhost:8080/"
        }
      },
      "outputs": [
        {
          "output_type": "stream",
          "name": "stdout",
          "text": [
            "167.6\n",
            "(26, 167.6)\n",
            "167.6\n"
          ]
        }
      ],
      "source": [
        "print(example_tuple[2])\n",
        "print(example_tuple[1:3])\n",
        "print(example_tuple[-2])"
      ]
    },
    {
      "cell_type": "code",
      "execution_count": 454,
      "id": "e65916e1-9819-40d3-b1c7-84b6f2cd81be",
      "metadata": {
        "id": "e65916e1-9819-40d3-b1c7-84b6f2cd81be"
      },
      "outputs": [],
      "source": [
        "# # EXPECT ERROR\n",
        "# del example_tuple[-1]"
      ]
    },
    {
      "cell_type": "markdown",
      "id": "de3191d9-4c12-49fa-acaf-b4d531b2323d",
      "metadata": {
        "deletable": false,
        "editable": false,
        "id": "de3191d9-4c12-49fa-acaf-b4d531b2323d"
      },
      "source": [
        "- While for clarity we should enclose tuples with `()`, Python will assume we want a `tuple` if we don't use any symbols to enclose comma separated values"
      ]
    },
    {
      "cell_type": "code",
      "execution_count": 455,
      "id": "1853876d-f441-496c-bf2b-b8bb4b9b88e1",
      "metadata": {
        "id": "1853876d-f441-496c-bf2b-b8bb4b9b88e1",
        "outputId": "c30cb566-3745-47cf-8156-f01974b98bf9",
        "colab": {
          "base_uri": "https://localhost:8080/"
        }
      },
      "outputs": [
        {
          "output_type": "stream",
          "name": "stdout",
          "text": [
            "('Nate', 36, 162.3, True)\n",
            "<class 'tuple'>\n"
          ]
        }
      ],
      "source": [
        "example_tuple = 'Nate', 36, 162.3, True\n",
        "print(example_tuple)\n",
        "print(type(example_tuple))"
      ]
    },
    {
      "cell_type": "markdown",
      "id": "d2527c8d-a94d-404a-afdd-fb9781ca4037",
      "metadata": {
        "deletable": false,
        "editable": false,
        "id": "d2527c8d-a94d-404a-afdd-fb9781ca4037"
      },
      "source": [
        "- One common mistake people make with immutability, especially with tuples is to assume data structures inside the tuple are immutable because the tuple is immutable."
      ]
    },
    {
      "cell_type": "code",
      "execution_count": 456,
      "id": "3246fc7b-2eb3-40e8-9456-fff2fd062728",
      "metadata": {
        "id": "3246fc7b-2eb3-40e8-9456-fff2fd062728",
        "outputId": "48a3dfaa-92cb-490f-a73e-623571def5a7",
        "colab": {
          "base_uri": "https://localhost:8080/"
        }
      },
      "outputs": [
        {
          "output_type": "stream",
          "name": "stdout",
          "text": [
            "([], 'a')\n",
            "([1], 'a')\n"
          ]
        }
      ],
      "source": [
        "tup = tuple([[], 'a'])\n",
        "print(tup)\n",
        "tup[0].append(1)\n",
        "print(tup)"
      ]
    },
    {
      "cell_type": "markdown",
      "id": "8fad060f-0cf6-45e9-a469-642f0a842373",
      "metadata": {
        "deletable": false,
        "editable": false,
        "id": "8fad060f-0cf6-45e9-a469-642f0a842373"
      },
      "source": [
        "---\n",
        "## Set\n",
        "- Similar to a `list`, except it is **unordered**\n",
        "- Removes duplicates\n",
        "- Created by enclosing data with curly brackets `{}`"
      ]
    },
    {
      "cell_type": "code",
      "execution_count": 457,
      "id": "1613db51-9654-4908-9207-2999a0f68708",
      "metadata": {
        "id": "1613db51-9654-4908-9207-2999a0f68708",
        "outputId": "260d15c8-b179-4d18-e442-54f8c9027988",
        "colab": {
          "base_uri": "https://localhost:8080/"
        }
      },
      "outputs": [
        {
          "output_type": "stream",
          "name": "stdout",
          "text": [
            "{27, 'L', 3.14, True}\n"
          ]
        }
      ],
      "source": [
        "example_set = {'L', 27, 3.14, True}\n",
        "print(example_set)"
      ]
    },
    {
      "cell_type": "code",
      "execution_count": 458,
      "id": "2637bc91-d8ce-4404-a657-bf827ed9142b",
      "metadata": {
        "id": "2637bc91-d8ce-4404-a657-bf827ed9142b"
      },
      "outputs": [],
      "source": [
        "# Expect error\n",
        "# print(example_set[0])"
      ]
    },
    {
      "cell_type": "markdown",
      "id": "f38d519e-7921-4df2-ba3f-e6d7de4be909",
      "metadata": {
        "deletable": false,
        "editable": false,
        "id": "f38d519e-7921-4df2-ba3f-e6d7de4be909"
      },
      "source": [
        "- Items can still be added and deleted from a set"
      ]
    },
    {
      "cell_type": "code",
      "execution_count": 459,
      "id": "842074ba-8bf0-464f-9205-9cf9354b1afb",
      "metadata": {
        "id": "842074ba-8bf0-464f-9205-9cf9354b1afb",
        "outputId": "b7f8742f-733e-40b2-8b70-0b030ddb47dd",
        "colab": {
          "base_uri": "https://localhost:8080/"
        }
      },
      "outputs": [
        {
          "output_type": "stream",
          "name": "stdout",
          "text": [
            "{27, 'L', 3.14, True}\n",
            "27\n",
            "{'L', 3.14, True}\n"
          ]
        }
      ],
      "source": [
        "print(example_set)\n",
        "print(example_set.pop())\n",
        "print(example_set)"
      ]
    },
    {
      "cell_type": "code",
      "execution_count": 460,
      "id": "46168fa5-93b3-4716-8122-d9ef1ffdd578",
      "metadata": {
        "id": "46168fa5-93b3-4716-8122-d9ef1ffdd578",
        "outputId": "0d64de69-2298-499a-9910-25de7714f6f0",
        "colab": {
          "base_uri": "https://localhost:8080/"
        }
      },
      "outputs": [
        {
          "output_type": "stream",
          "name": "stdout",
          "text": [
            "{True, 3.14, 'L', 'True'}\n",
            "{True, 3.14, 58.1, 'brown', 'L', 'True'}\n"
          ]
        }
      ],
      "source": [
        "example_set.add('True')\n",
        "print(example_set)\n",
        "example_set.update([58.1, 'brown'])\n",
        "print(example_set)"
      ]
    },
    {
      "cell_type": "markdown",
      "id": "8063e182-109a-4e0a-84a6-6bc977f78654",
      "metadata": {
        "deletable": false,
        "editable": false,
        "id": "8063e182-109a-4e0a-84a6-6bc977f78654"
      },
      "source": [
        "- **`add`** method of `set` = **`append`** method of a `list`\n",
        "= **`update`** method of `set` = **`extend`** method of a `list`"
      ]
    },
    {
      "cell_type": "markdown",
      "id": "318d90ca-c0e9-4683-ad52-fbeb0c8169b1",
      "metadata": {
        "deletable": false,
        "editable": false,
        "id": "318d90ca-c0e9-4683-ad52-fbeb0c8169b1"
      },
      "source": [
        "----\n",
        "## Dictionaries (dict)\n",
        "- a collection of data that occurs in an order, is able to be changed and does not allow duplicates.\n",
        "- data in a dictionary is always presented as **keys** and **values** *(key-value pair)*\n",
        "\n",
        "#### Creating Dictionaries\n",
        "- Dictionaries are written in curly brackets `{}`, with key-value pairs inside: `dct = {key1:value1}`"
      ]
    },
    {
      "cell_type": "code",
      "execution_count": 461,
      "id": "3eb21e44-54ff-420f-9813-809887578629",
      "metadata": {
        "id": "3eb21e44-54ff-420f-9813-809887578629"
      },
      "outputs": [],
      "source": [
        "work_details = {\n",
        "    \"company\": \"GoTyme\",\n",
        "    \"department\": \"Data and Analytics\",\n",
        "    \"members\": 10\n",
        "}"
      ]
    },
    {
      "cell_type": "markdown",
      "id": "feaeacc7-8893-406e-8a71-8a1db9d56c44",
      "metadata": {
        "deletable": false,
        "editable": false,
        "id": "feaeacc7-8893-406e-8a71-8a1db9d56c44"
      },
      "source": [
        "#### Working with Dictionaries\n",
        "- one can **access any item** in a dictionary by using its key name inside square brackets.\n",
        "- use **`get`**: to **retrieve a value**\n",
        "- use **`keys`** method: to access all keys in a dictionary"
      ]
    },
    {
      "cell_type": "code",
      "execution_count": 462,
      "id": "5648a99a-ab2a-473c-8e45-973312ca729f",
      "metadata": {
        "id": "5648a99a-ab2a-473c-8e45-973312ca729f",
        "outputId": "a25a813b-1aec-4808-f6d9-f32e390903dc",
        "colab": {
          "base_uri": "https://localhost:8080/"
        }
      },
      "outputs": [
        {
          "output_type": "stream",
          "name": "stdout",
          "text": [
            "Data and Analytics\n"
          ]
        }
      ],
      "source": [
        "dept = work_details['department']\n",
        "print(dept)"
      ]
    },
    {
      "cell_type": "code",
      "execution_count": 463,
      "id": "0d30b3f0-8bcb-4f4e-ac45-1ccdf5fe562b",
      "metadata": {
        "id": "0d30b3f0-8bcb-4f4e-ac45-1ccdf5fe562b",
        "outputId": "1139842b-714a-4b76-b42f-1000025fdff8",
        "colab": {
          "base_uri": "https://localhost:8080/",
          "height": 36
        }
      },
      "outputs": [
        {
          "output_type": "execute_result",
          "data": {
            "text/plain": [
              "'Data and Analytics'"
            ],
            "application/vnd.google.colaboratory.intrinsic+json": {
              "type": "string"
            }
          },
          "metadata": {},
          "execution_count": 463
        }
      ],
      "source": [
        "work_details.get('department')"
      ]
    },
    {
      "cell_type": "code",
      "execution_count": 464,
      "id": "74e30b7f-b1db-4811-bdaf-4b2a4c37336f",
      "metadata": {
        "id": "74e30b7f-b1db-4811-bdaf-4b2a4c37336f",
        "outputId": "55b90646-bb58-4f15-80ca-05c4a1bee3a8",
        "colab": {
          "base_uri": "https://localhost:8080/"
        }
      },
      "outputs": [
        {
          "output_type": "execute_result",
          "data": {
            "text/plain": [
              "dict_keys(['company', 'department', 'members'])"
            ]
          },
          "metadata": {},
          "execution_count": 464
        }
      ],
      "source": [
        "work_details.keys()"
      ]
    },
    {
      "cell_type": "code",
      "execution_count": 465,
      "id": "5c42c24a-0b94-4c13-8e60-b6c0df0b0f5a",
      "metadata": {
        "id": "5c42c24a-0b94-4c13-8e60-b6c0df0b0f5a",
        "outputId": "200cfe44-33b3-4d84-d081-0f06e2b9bb35",
        "colab": {
          "base_uri": "https://localhost:8080/"
        }
      },
      "outputs": [
        {
          "output_type": "execute_result",
          "data": {
            "text/plain": [
              "['company', 'department', 'members']"
            ]
          },
          "metadata": {},
          "execution_count": 465
        }
      ],
      "source": [
        "# To use keys in a list\n",
        "list(work_details.keys())"
      ]
    },
    {
      "cell_type": "code",
      "execution_count": 466,
      "id": "f9a0b6d1-55f7-4ac9-a2b2-8ce92e6fc4e6",
      "metadata": {
        "id": "f9a0b6d1-55f7-4ac9-a2b2-8ce92e6fc4e6",
        "outputId": "f043a8fc-5e9d-40ad-967a-f23d9e5e5066",
        "colab": {
          "base_uri": "https://localhost:8080/"
        }
      },
      "outputs": [
        {
          "output_type": "stream",
          "name": "stdout",
          "text": [
            "company\n",
            "department\n",
            "members\n"
          ]
        }
      ],
      "source": [
        "# Iterate over keys\n",
        "for k in work_details.keys():\n",
        "    print(k)"
      ]
    },
    {
      "cell_type": "code",
      "execution_count": 467,
      "id": "19e3955c-8322-440a-af32-5562f6540041",
      "metadata": {
        "id": "19e3955c-8322-440a-af32-5562f6540041",
        "outputId": "d7bd6089-0c2b-458a-fda7-20b7c6c2cb70",
        "colab": {
          "base_uri": "https://localhost:8080/"
        }
      },
      "outputs": [
        {
          "output_type": "stream",
          "name": "stdout",
          "text": [
            "GoTyme\n",
            "Data and Analytics\n",
            "10\n"
          ]
        }
      ],
      "source": [
        "# Iterate over values\n",
        "for v in work_details.values():\n",
        "    print(v)"
      ]
    },
    {
      "cell_type": "code",
      "execution_count": 468,
      "id": "a36e5a5e-9cf7-44ee-b1e7-3f96c06725e1",
      "metadata": {
        "id": "a36e5a5e-9cf7-44ee-b1e7-3f96c06725e1",
        "outputId": "e2df331e-51f3-4254-b5e5-b789b3cbc32e",
        "colab": {
          "base_uri": "https://localhost:8080/"
        }
      },
      "outputs": [
        {
          "output_type": "stream",
          "name": "stdout",
          "text": [
            "company: GoTyme\n",
            "department: Data and Analytics\n",
            "members: 10\n"
          ]
        }
      ],
      "source": [
        "# Iterate over key-value pairs\n",
        "for k, v in work_details.items():\n",
        "    print(f'{k}: {v}')"
      ]
    },
    {
      "cell_type": "code",
      "execution_count": 469,
      "id": "e6591d81-59d7-4998-a782-1f85b98eae6a",
      "metadata": {
        "id": "e6591d81-59d7-4998-a782-1f85b98eae6a",
        "outputId": "e0eb2a3d-bd07-4988-e4d8-0685231e1de6",
        "colab": {
          "base_uri": "https://localhost:8080/",
          "height": 36
        }
      },
      "outputs": [
        {
          "output_type": "execute_result",
          "data": {
            "text/plain": [
              "'Data and Analytics'"
            ],
            "application/vnd.google.colaboratory.intrinsic+json": {
              "type": "string"
            }
          },
          "metadata": {},
          "execution_count": 469
        }
      ],
      "source": [
        "# using .get method to retrieve value of a specific key\n",
        "work_details.get('department')"
      ]
    },
    {
      "cell_type": "markdown",
      "id": "abad032d-7ef6-4f88-bc5c-f27365961519",
      "metadata": {
        "deletable": false,
        "editable": false,
        "id": "abad032d-7ef6-4f88-bc5c-f27365961519"
      },
      "source": [
        "#### Zipping items\n",
        "Given area_m2 = [235.0, 135.0, 260.0, 170.5]\n",
        "- it might be useful to combine -- or **zip**-- 2 lists together. For example, we might want to create a new list that pairs the house price list  with their corresponding area in the area_m2 list. To do this, we use the **`zip`** method\n",
        "- `Keys` must be immutab;e and unique similar to the elements of a set\n",
        "- can be very handy for creating a dictionary"
      ]
    },
    {
      "cell_type": "code",
      "execution_count": 470,
      "id": "bb7713c0-5f5a-42b7-bb6a-53fc9667cce9",
      "metadata": {
        "id": "bb7713c0-5f5a-42b7-bb6a-53fc9667cce9"
      },
      "outputs": [],
      "source": [
        "price_php = [17000, 8000, 22000, 15000]\n",
        "area_m2 = [235.0, 135.0, 260.0, 150.5]"
      ]
    },
    {
      "cell_type": "code",
      "execution_count": 471,
      "id": "29d9fcca-ae40-4e31-a159-14f30cc63f88",
      "metadata": {
        "id": "29d9fcca-ae40-4e31-a159-14f30cc63f88",
        "outputId": "5c7bbcaa-9478-45d7-c97c-bf850a6c6659",
        "colab": {
          "base_uri": "https://localhost:8080/"
        }
      },
      "outputs": [
        {
          "output_type": "execute_result",
          "data": {
            "text/plain": [
              "<zip at 0x7c1544abcdc0>"
            ]
          },
          "metadata": {},
          "execution_count": 471
        }
      ],
      "source": [
        "new_list = zip(price_php, area_m2)\n",
        "new_list"
      ]
    },
    {
      "cell_type": "code",
      "execution_count": 472,
      "id": "7cd634da-96cc-4a17-924d-1d9cc62af49b",
      "metadata": {
        "id": "7cd634da-96cc-4a17-924d-1d9cc62af49b",
        "outputId": "c9d66873-fd00-4732-c721-3157dededf1d",
        "colab": {
          "base_uri": "https://localhost:8080/"
        }
      },
      "outputs": [
        {
          "output_type": "execute_result",
          "data": {
            "text/plain": [
              "[(17000, 235.0), (8000, 135.0), (22000, 260.0), (15000, 150.5)]"
            ]
          },
          "metadata": {},
          "execution_count": 472
        }
      ],
      "source": [
        "zipped_list = list(new_list) # to convert it to a legit list\n",
        "zipped_list"
      ]
    },
    {
      "cell_type": "code",
      "execution_count": 473,
      "id": "c00c4f72-2a33-4a57-a8ba-7294bfef0720",
      "metadata": {
        "id": "c00c4f72-2a33-4a57-a8ba-7294bfef0720"
      },
      "outputs": [],
      "source": [
        "person = ['L', 27, 164.5, 50.0, 'black', 'brown', True]"
      ]
    },
    {
      "cell_type": "code",
      "execution_count": 474,
      "id": "b09f1c32-5450-42b4-ae57-7df12d952aa6",
      "metadata": {
        "id": "b09f1c32-5450-42b4-ae57-7df12d952aa6",
        "outputId": "5feaa0e8-8380-4079-9051-d69e1b5d26f9",
        "colab": {
          "base_uri": "https://localhost:8080/"
        }
      },
      "outputs": [
        {
          "output_type": "stream",
          "name": "stdout",
          "text": [
            "['L', 27, 164.5, 50.0, 'black', 'brown', True]\n",
            "['name', 'age', 'height', 'weight', 'hair', 'eyes', 'has dog']\n"
          ]
        }
      ],
      "source": [
        "value_list = person\n",
        "key_list = ['name', 'age', 'height', 'weight', 'hair', 'eyes', 'has dog']\n",
        "\n",
        "print(value_list)\n",
        "print(key_list)"
      ]
    },
    {
      "cell_type": "code",
      "execution_count": 475,
      "id": "29d87469-0732-4e84-8b5e-b5581255b99d",
      "metadata": {
        "id": "29d87469-0732-4e84-8b5e-b5581255b99d",
        "outputId": "016a8e45-c501-4e80-bdc2-eeb1185be6b9",
        "colab": {
          "base_uri": "https://localhost:8080/"
        }
      },
      "outputs": [
        {
          "output_type": "stream",
          "name": "stdout",
          "text": [
            "[('name', 'L'), ('age', 27), ('height', 164.5), ('weight', 50.0), ('hair', 'black'), ('eyes', 'brown'), ('has dog', True)]\n"
          ]
        }
      ],
      "source": [
        "key_value_pairs = list(zip(key_list, value_list))\n",
        "print(key_value_pairs)"
      ]
    },
    {
      "cell_type": "code",
      "execution_count": 476,
      "id": "e7d0a994-0776-4a1a-87e2-5c0b2115420b",
      "metadata": {
        "id": "e7d0a994-0776-4a1a-87e2-5c0b2115420b",
        "outputId": "26105632-5380-423f-a609-71a41eb231f1",
        "colab": {
          "base_uri": "https://localhost:8080/"
        }
      },
      "outputs": [
        {
          "output_type": "stream",
          "name": "stdout",
          "text": [
            "{'name': 'L', 'age': 27, 'height': 164.5, 'weight': 50.0, 'hair': 'black', 'eyes': 'brown', 'has dog': True}\n"
          ]
        }
      ],
      "source": [
        "me_dict = dict(key_value_pairs)\n",
        "print(me_dict)"
      ]
    },
    {
      "cell_type": "code",
      "execution_count": 477,
      "id": "0006ee02-2e67-4141-97cc-99b45814f83d",
      "metadata": {
        "id": "0006ee02-2e67-4141-97cc-99b45814f83d"
      },
      "outputs": [],
      "source": [
        "# invalid key\n",
        "# invalid_dict = {[1, 5]: 'a', 5: 23}"
      ]
    },
    {
      "cell_type": "code",
      "execution_count": 478,
      "id": "ad1d734b-fc22-4af4-8813-210978c8ed9d",
      "metadata": {
        "id": "ad1d734b-fc22-4af4-8813-210978c8ed9d",
        "outputId": "94f0d2e2-6067-40a2-ce44-5d16a30d3875",
        "colab": {
          "base_uri": "https://localhost:8080/"
        }
      },
      "outputs": [
        {
          "output_type": "stream",
          "name": "stdout",
          "text": [
            "{(1, 5): 'a', 5: [23, 6]}\n"
          ]
        }
      ],
      "source": [
        "valid_dict = {(1, 5): 'a', 5: [23, 6]}\n",
        "print(valid_dict)"
      ]
    },
    {
      "cell_type": "code",
      "execution_count": 479,
      "id": "2d671ca5-fdb8-4f7d-b002-655899ddd08b",
      "metadata": {
        "id": "2d671ca5-fdb8-4f7d-b002-655899ddd08b",
        "outputId": "586ae698-2a09-42ea-da1a-78a4c88931b7",
        "colab": {
          "base_uri": "https://localhost:8080/"
        }
      },
      "outputs": [
        {
          "output_type": "stream",
          "name": "stdout",
          "text": [
            "{'name': 'L', 'age': 27, 'height': 164.5, 'weight': 50.0, 'hair': 'black', 'eyes': 'brown', 'has dog': True}\n",
            "{'name': 'L', 'age': 27, 'height': 164.5, 'weight': 50.0, 'hair': 'black', 'eyes': 'brown', 'has dog': True, 'favorite book': 'The Little Prince'}\n"
          ]
        }
      ],
      "source": [
        "# Adding key-value pair in a dict.\n",
        "print(me_dict)\n",
        "me_dict['favorite book'] =  'The Little Prince'\n",
        "print(me_dict)"
      ]
    },
    {
      "cell_type": "code",
      "execution_count": 480,
      "id": "530ca721-2fb2-44a1-8d29-3b7a44bb8b7e",
      "metadata": {
        "id": "530ca721-2fb2-44a1-8d29-3b7a44bb8b7e",
        "outputId": "067392c5-0b01-463a-8564-de5b2d6bc568",
        "colab": {
          "base_uri": "https://localhost:8080/"
        }
      },
      "outputs": [
        {
          "output_type": "stream",
          "name": "stdout",
          "text": [
            "{'name': 'L', 'age': 27, 'height': 164.5, 'weight': 50.0, 'hair': 'black', 'eyes': 'brown', 'has dog': True, 'favorite book': 'The Little Prince'}\n",
            "{'name': 'L', 'age': 27, 'height': 164.5, 'weight': 50.0, 'hair': 'black', 'eyes': 'brown', 'has dog': True, 'favorite book': 'The Little Prince', 'favorite color': 'white/black', 'siblings': 2}\n"
          ]
        }
      ],
      "source": [
        "# Update/extend existing dictionary\n",
        "print(me_dict)\n",
        "me_dict.update({'favorite color': 'white/black', 'siblings': 2})\n",
        "print(me_dict)"
      ]
    },
    {
      "cell_type": "code",
      "execution_count": 481,
      "id": "1275c356-bab9-4cf3-b8c7-32a19ceda289",
      "metadata": {
        "id": "1275c356-bab9-4cf3-b8c7-32a19ceda289",
        "outputId": "51db7e69-1139-4dc9-d5f4-91171b4be299",
        "colab": {
          "base_uri": "https://localhost:8080/"
        }
      },
      "outputs": [
        {
          "output_type": "stream",
          "name": "stdout",
          "text": [
            "{'name': 'L', 'age': 27, 'height': 164.5, 'weight': 50.0, 'hair': 'black', 'eyes': 'brown', 'has dog': True, 'favorite book': 'The Little Prince', 'favorite color': 'white/black', 'siblings': 2}\n",
            "{'name': 'L', 'age': 27, 'height': 164.5, 'weight': 50.0, 'hair': 'blonde', 'eyes': 'brown', 'has dog': True, 'favorite book': 'The Little Prince', 'favorite color': 'white/black', 'siblings': 2}\n"
          ]
        }
      ],
      "source": [
        "# Replacing or deleting key-valye pairs\n",
        "print(me_dict)\n",
        "me_dict['hair'] = 'blonde'\n",
        "print(me_dict)"
      ]
    },
    {
      "cell_type": "code",
      "execution_count": 482,
      "id": "ce2e4260-bb7f-4fb0-bce3-60cc16c6f6a5",
      "metadata": {
        "id": "ce2e4260-bb7f-4fb0-bce3-60cc16c6f6a5",
        "outputId": "1d14210e-a21e-4c23-81b6-b0a1b21f3a7d",
        "colab": {
          "base_uri": "https://localhost:8080/"
        }
      },
      "outputs": [
        {
          "output_type": "stream",
          "name": "stdout",
          "text": [
            "{'name': 'L', 'age': 27, 'height': 164.5, 'weight': 50.0, 'hair': 'blonde', 'eyes': 'brown', 'has dog': True, 'favorite color': 'white/black', 'siblings': 2}\n"
          ]
        }
      ],
      "source": [
        "del me_dict['favorite book']\n",
        "print(me_dict)"
      ]
    },
    {
      "cell_type": "code",
      "execution_count": 483,
      "id": "8f6bc251-a894-4408-ab55-3cbe552b103e",
      "metadata": {
        "id": "8f6bc251-a894-4408-ab55-3cbe552b103e",
        "outputId": "bd9dfaca-cf9a-4047-fd23-62e9634a943f",
        "colab": {
          "base_uri": "https://localhost:8080/"
        }
      },
      "outputs": [
        {
          "output_type": "stream",
          "name": "stdout",
          "text": [
            "2\n",
            "{'name': 'L', 'age': 27, 'height': 164.5, 'weight': 50.0, 'hair': 'blonde', 'eyes': 'brown', 'has dog': True, 'favorite color': 'white/black'}\n"
          ]
        }
      ],
      "source": [
        "print(me_dict.pop('siblings'))\n",
        "print(me_dict)"
      ]
    },
    {
      "cell_type": "markdown",
      "id": "2b25e35f-3d9b-4a02-8713-d979e0235a85",
      "metadata": {
        "deletable": false,
        "editable": false,
        "id": "2b25e35f-3d9b-4a02-8713-d979e0235a85"
      },
      "source": [
        "## Switching Data Structures"
      ]
    },
    {
      "cell_type": "code",
      "execution_count": 484,
      "id": "5738072b-a482-4af7-814d-2ab0c5ef9353",
      "metadata": {
        "id": "5738072b-a482-4af7-814d-2ab0c5ef9353",
        "outputId": "0dc2b6ae-37eb-4834-e70a-164fa564adaa",
        "colab": {
          "base_uri": "https://localhost:8080/"
        }
      },
      "outputs": [
        {
          "output_type": "stream",
          "name": "stdout",
          "text": [
            "('a', 'b', 23, 10, True, 'a', 10)\n",
            "{True, 'b', 'a', 10, 23}\n",
            "[True, 'b', 'a', 10, 23]\n"
          ]
        }
      ],
      "source": [
        "example_list = ['a', 'b', 23, 10, True, 'a', 10]\n",
        "example_tuple = tuple(example_list)\n",
        "example_set = set(example_tuple)\n",
        "example_list = list(example_set)\n",
        "\n",
        "print(example_tuple)\n",
        "print(example_set)\n",
        "print(example_list) # lost the duplicates because of set"
      ]
    },
    {
      "cell_type": "markdown",
      "id": "5b1b60bc-d276-4745-9bc1-868d563a12ac",
      "metadata": {
        "deletable": false,
        "editable": false,
        "id": "5b1b60bc-d276-4745-9bc1-868d563a12ac"
      },
      "source": [
        "### Search"
      ]
    },
    {
      "cell_type": "code",
      "execution_count": 485,
      "id": "6de33126-7635-4768-8814-262a4c46df00",
      "metadata": {
        "id": "6de33126-7635-4768-8814-262a4c46df00",
        "outputId": "7503febb-f6ce-4063-9c31-a5f05a05d4f9",
        "colab": {
          "base_uri": "https://localhost:8080/"
        }
      },
      "outputs": [
        {
          "output_type": "stream",
          "name": "stdout",
          "text": [
            "[True, 'b', 'a', 10, 23]\n",
            "True\n",
            "False\n"
          ]
        }
      ],
      "source": [
        "print(example_list)\n",
        "print('a' in example_list)\n",
        "print('c' in example_list)"
      ]
    },
    {
      "cell_type": "markdown",
      "id": "0c64987a-45aa-4262-99d5-79d494637ed6",
      "metadata": {
        "deletable": false,
        "editable": false,
        "id": "0c64987a-45aa-4262-99d5-79d494637ed6"
      },
      "source": [
        "- When dealing with dictionary, we can search keys, but not values"
      ]
    },
    {
      "cell_type": "code",
      "execution_count": 486,
      "id": "836a0415-86f7-439a-acc4-25cc30f72c1d",
      "metadata": {
        "id": "836a0415-86f7-439a-acc4-25cc30f72c1d",
        "outputId": "7798d6b3-c98a-416f-c2d7-be1bd023465b",
        "colab": {
          "base_uri": "https://localhost:8080/"
        }
      },
      "outputs": [
        {
          "output_type": "stream",
          "name": "stdout",
          "text": [
            "{'name': 'L', 'age': 27, 'height': 164.5, 'weight': 50.0, 'hair': 'blonde', 'eyes': 'brown', 'has dog': True, 'favorite color': 'white/black'}\n",
            "True\n",
            "False\n",
            "False\n"
          ]
        }
      ],
      "source": [
        "print(me_dict)\n",
        "print('hair' in me_dict)\n",
        "print('has cat' in me_dict)\n",
        "print('brown' in me_dict)"
      ]
    },
    {
      "cell_type": "markdown",
      "id": "2fac8b46-1237-4785-bb17-a3fef4046f16",
      "metadata": {
        "deletable": false,
        "editable": false,
        "id": "2fac8b46-1237-4785-bb17-a3fef4046f16"
      },
      "source": [
        "## Comprehensions\n",
        "- Python has a special syntax called **comprehension** for combining iteration with the creation of a data structure.\n",
        "- essentially a `for` loop wrapped in the appropriate brackets for creating the data structure"
      ]
    },
    {
      "cell_type": "code",
      "execution_count": 487,
      "id": "47531676-be93-47ec-aab6-5a0530a4d97e",
      "metadata": {
        "id": "47531676-be93-47ec-aab6-5a0530a4d97e",
        "outputId": "6b77add4-1c1b-4927-aec5-f913716a3548",
        "colab": {
          "base_uri": "https://localhost:8080/"
        }
      },
      "outputs": [
        {
          "output_type": "stream",
          "name": "stdout",
          "text": [
            "[0, 1, 4, 9, 16, 25, 36, 49, 64, 81]\n",
            "{0: 0, 1: 1, 2: 4, 3: 9, 4: 16, 5: 25, 6: 36, 7: 49, 8: 64, 9: 81}\n"
          ]
        }
      ],
      "source": [
        "squares = [x**2 for x in range(10)]\n",
        "square_lut = {x: x**2 for x in range(10)}\n",
        "\n",
        "print(squares)\n",
        "print(square_lut)"
      ]
    },
    {
      "cell_type": "code",
      "execution_count": 488,
      "id": "22f4058a-7b98-49b4-bbe8-875fe42c9f26",
      "metadata": {
        "id": "22f4058a-7b98-49b4-bbe8-875fe42c9f26",
        "outputId": "e0846158-d40c-4af5-d3eb-27269336cd2a",
        "colab": {
          "base_uri": "https://localhost:8080/"
        }
      },
      "outputs": [
        {
          "output_type": "stream",
          "name": "stdout",
          "text": [
            "{'name': <class 'str'>, 'age': <class 'int'>, 'height': <class 'float'>, 'weight': <class 'float'>, 'hair': <class 'str'>, 'eyes': <class 'str'>, 'has dog': <class 'bool'>, 'favorite color': <class 'str'>}\n"
          ]
        }
      ],
      "source": [
        "me_dict_dtypes = {k: type(v) for k, v in me_dict.items()}\n",
        "print(me_dict_dtypes)"
      ]
    },
    {
      "cell_type": "markdown",
      "id": "c3b1792d-765c-4f19-b486-04b0a201f8ab",
      "metadata": {
        "deletable": false,
        "editable": false,
        "id": "c3b1792d-765c-4f19-b486-04b0a201f8ab"
      },
      "source": [
        "- Comparing for loop implementation with comprehension"
      ]
    },
    {
      "cell_type": "code",
      "execution_count": 489,
      "id": "cd7d607d-c217-4a41-aec5-9137144a578c",
      "metadata": {
        "id": "cd7d607d-c217-4a41-aec5-9137144a578c",
        "outputId": "e3ee33a6-2ca6-4487-8971-e9c660be61c5",
        "colab": {
          "base_uri": "https://localhost:8080/"
        }
      },
      "outputs": [
        {
          "output_type": "stream",
          "name": "stdout",
          "text": [
            "{0: 0, 1: 1, 2: 4, 3: 9, 4: 16, 5: 25, 6: 36, 7: 49, 8: 64, 9: 81}\n"
          ]
        }
      ],
      "source": [
        "# For Loop\n",
        "square_lut = {}\n",
        "for x in range(10):\n",
        "    square_lut[x] = x**2\n",
        "\n",
        "print(square_lut)"
      ]
    },
    {
      "cell_type": "code",
      "execution_count": 490,
      "id": "f51f80b6-6f24-4570-bb70-22699649da59",
      "metadata": {
        "id": "f51f80b6-6f24-4570-bb70-22699649da59",
        "outputId": "aa9b404c-d371-46b3-eae0-9ae253b1a14c",
        "colab": {
          "base_uri": "https://localhost:8080/"
        }
      },
      "outputs": [
        {
          "output_type": "stream",
          "name": "stdout",
          "text": [
            "{0: 0, 1: 1, 2: 4, 3: 9, 4: 16, 5: 25, 6: 36, 7: 49, 8: 64, 9: 81}\n"
          ]
        }
      ],
      "source": [
        "# COmprehension\n",
        "square_lut = {x: x**2 for x in range(10)}\n",
        "\n",
        "print(square_lut)"
      ]
    },
    {
      "cell_type": "code",
      "execution_count": 491,
      "id": "01c04f4e-8a72-4ece-890a-691d61be27b7",
      "metadata": {
        "id": "01c04f4e-8a72-4ece-890a-691d61be27b7",
        "outputId": "8954764e-68c6-49af-9f5b-c838928510a6",
        "colab": {
          "base_uri": "https://localhost:8080/"
        }
      },
      "outputs": [
        {
          "output_type": "stream",
          "name": "stdout",
          "text": [
            "Line totals:\n",
            "Ana Pen 2 -> 25.0\n",
            "Ben Pen 1 -> 12.5\n",
            "Ana Notebook 3 -> 120.0\n",
            "Cara Pen 4 -> 50.0\n",
            "Revenue per product: {'Pen': 87.5, 'Notebook': 120.0}\n",
            "Unique customers: {'Ana', 'Cara', 'Ben'}\n",
            "Rule product: Pen Min stock: 5\n"
          ]
        }
      ],
      "source": [
        "# Parallel lists = toy \"rows\"\n",
        "customers = [\"Ana\", \"Ben\", \"Ana\", \"Cara\"]\n",
        "products  = [\"Pen\", \"Pen\", \"Notebook\", \"Pen\"]\n",
        "qtys      = [2, 1, 3, 4]\n",
        "unit_price = {\"Pen\": 12.5, \"Notebook\": 40.0}  # dictionary lookup\n",
        "\n",
        "# 1) Compute line totals and aggregate revenue per product using a dict\n",
        "revenue_per_product = {}          # e.g., {\"Pen\": 75.0, \"Notebook\": 120.0}\n",
        "print(\"Line totals:\")\n",
        "for cust, prod, q in zip(customers, products, qtys):\n",
        "    line_total = q * unit_price.get(prod, 0)\n",
        "    print(cust, prod, q, \"->\", line_total)\n",
        "    revenue_per_product[prod] = revenue_per_product.get(prod, 0) + line_total\n",
        "\n",
        "# 2) Unique customers (set)\n",
        "unique_customers = set(customers)\n",
        "\n",
        "# 3) Tuple to represent an immutable (product, min_stock) rule\n",
        "min_stock_rule = (\"Pen\", 5)   # don’t mutate this\n",
        "rule_product, rule_min = min_stock_rule\n",
        "\n",
        "print(\"Revenue per product:\", revenue_per_product)\n",
        "print(\"Unique customers:\", unique_customers)\n",
        "print(\"Rule product:\", rule_product, \"Min stock:\", rule_min)\n"
      ]
    },
    {
      "cell_type": "markdown",
      "id": "dd3fe278-1497-4bc1-95b0-5691b4d861f0",
      "metadata": {
        "deletable": false,
        "editable": false,
        "id": "dd3fe278-1497-4bc1-95b0-5691b4d861f0"
      },
      "source": [
        "----\n",
        "## JSON\n",
        "- stands for Java Script Object Notation\n",
        "- a text format for storing and transporting data"
      ]
    },
    {
      "cell_type": "markdown",
      "id": "459fcb3f-4858-466c-8b59-44cf16a42d49",
      "metadata": {
        "deletable": false,
        "editable": false,
        "id": "459fcb3f-4858-466c-8b59-44cf16a42d49"
      },
      "source": [
        "#### Working with JSON\n",
        "- works by creating key-value pairs, where kay is data that can be represented by letters (string).\n",
        "- JSON values can be strings, numbers, objects, arrays, boolean data, or null.\n",
        "- usually comes as a list of dictionaries"
      ]
    },
    {
      "cell_type": "code",
      "execution_count": 492,
      "id": "62c6ec27-2369-482b-9b5a-76f9ed09ed4c",
      "metadata": {
        "id": "62c6ec27-2369-482b-9b5a-76f9ed09ed4c",
        "outputId": "d0906e77-56d2-4dcd-df4a-505c4e51e901",
        "colab": {
          "base_uri": "https://localhost:8080/"
        }
      },
      "outputs": [
        {
          "output_type": "execute_result",
          "data": {
            "text/plain": [
              "[{'company': 'GoTyme', 'department': 'Data and Analytics'},\n",
              " {'company': 'GoTyme', 'department': 'Data and Analytics'},\n",
              " {'company': 'GoTyme', 'department': 'Data and Analytics'}]"
            ]
          },
          "metadata": {},
          "execution_count": 492
        }
      ],
      "source": [
        "# Json example\n",
        "[\n",
        "    {\"company\": \"GoTyme\", \"department\": \"Data and Analytics\"},\n",
        "    {\"company\": \"GoTyme\", \"department\": \"Data and Analytics\"},\n",
        "    {\"company\": \"GoTyme\", \"department\": \"Data and Analytics\"},\n",
        "]"
      ]
    },
    {
      "cell_type": "markdown",
      "id": "0494e86c-8195-4272-863b-65fd928f8c00",
      "metadata": {
        "deletable": false,
        "editable": false,
        "id": "0494e86c-8195-4272-863b-65fd928f8c00"
      },
      "source": [
        "----\n",
        "## Exercises"
      ]
    },
    {
      "cell_type": "markdown",
      "id": "26db429f-c504-4f97-9047-934538b8a370",
      "metadata": {
        "deletable": false,
        "editable": false,
        "id": "26db429f-c504-4f97-9047-934538b8a370"
      },
      "source": [
        "#### 1. Clean product names to lowercase, get unique names, and count occurrences."
      ]
    },
    {
      "cell_type": "code",
      "execution_count": 493,
      "id": "b67debb8-6914-4034-9b58-8e365b375f68",
      "metadata": {
        "id": "b67debb8-6914-4034-9b58-8e365b375f68"
      },
      "outputs": [],
      "source": [
        "# Given data\n",
        "raw = [\"Pen\", \"pen\", \"PEN\", \"Notebook\", \"Pen\"]"
      ]
    },
    {
      "cell_type": "markdown",
      "source": [
        "##### Function: `to_lower`\n",
        "- Accepts a list as the argument.\n",
        "- Utilize list comprehension to make a new list and return the list.\n",
        "- The list comprehension will iterate through `str_list` and append the lowercase values of each element."
      ],
      "metadata": {
        "id": "OeKeSopjW-BO"
      },
      "id": "OeKeSopjW-BO"
    },
    {
      "cell_type": "code",
      "execution_count": 494,
      "id": "634066c6-5344-4bd6-a90d-ff4aae495089",
      "metadata": {
        "id": "634066c6-5344-4bd6-a90d-ff4aae495089"
      },
      "outputs": [],
      "source": [
        "def to_lower(str_list: list) -> list:\n",
        "  return [x.lower() for x in str_list]  # List comprehension"
      ]
    },
    {
      "cell_type": "markdown",
      "source": [
        "##### Function: `get_unique`\n",
        "- Converts `str_list` to a set, leaving only the unique names.\n",
        "- Converts the set back into a list and returns the list."
      ],
      "metadata": {
        "id": "3-kzcVtZZSQ5"
      },
      "id": "3-kzcVtZZSQ5"
    },
    {
      "cell_type": "code",
      "source": [
        "def get_unique(str_list) -> list:\n",
        "  return list(set(str_list))"
      ],
      "metadata": {
        "id": "pVwVhJubRFEB"
      },
      "id": "pVwVhJubRFEB",
      "execution_count": 495,
      "outputs": []
    },
    {
      "cell_type": "markdown",
      "source": [
        "##### Function: `count_occurences`\n",
        "- Utilize dictionary comprehension and return the dictionary.\n",
        "- The dictionary comprehension will iterate through `str_list` and add the results as the key value pair of `x` as the key where x is an element from `str_list` and the value as the value returned by the method `str_list.count()`"
      ],
      "metadata": {
        "id": "z82vaKaeaX9M"
      },
      "id": "z82vaKaeaX9M"
    },
    {
      "cell_type": "code",
      "source": [
        "def count_occurrences(str_list) -> dict:\n",
        "  return {x: str_list.count(x) for x in str_list} # Dictionary Comprehension"
      ],
      "metadata": {
        "id": "GunveCYbRFTj"
      },
      "id": "GunveCYbRFTj",
      "execution_count": 496,
      "outputs": []
    },
    {
      "cell_type": "code",
      "source": [
        "lowercase_data = to_lower(raw)\n",
        "unique_data = get_unique(lowercase_data)\n",
        "occurrences_dict = count_occurrences(lowercase_data)\n",
        "\n",
        "print(f\"Product Names changed to lowercase: {lowercase_data}\")\n",
        "print(f\"Unique product names: {unique_data}\")\n",
        "print(f\"Occurrences of each product: {occurrences_dict}\")"
      ],
      "metadata": {
        "id": "2xGUNoGBRyrI",
        "outputId": "704abe16-710b-44a2-ec91-52240d1be3bf",
        "colab": {
          "base_uri": "https://localhost:8080/"
        }
      },
      "id": "2xGUNoGBRyrI",
      "execution_count": 497,
      "outputs": [
        {
          "output_type": "stream",
          "name": "stdout",
          "text": [
            "Product Names changed to lowercase: ['pen', 'pen', 'pen', 'notebook', 'pen']\n",
            "Unique product names: ['pen', 'notebook']\n",
            "Occurrences of each product: {'pen': 4, 'notebook': 1}\n"
          ]
        }
      ]
    },
    {
      "cell_type": "markdown",
      "id": "75bbc7ca-5b66-4209-ae69-9e78aea9c15d",
      "metadata": {
        "deletable": false,
        "editable": false,
        "id": "75bbc7ca-5b66-4209-ae69-9e78aea9c15d"
      },
      "source": [
        "#### 2. You have tuples (name, sku, price). Build a dict sku -> price and look up one SKU safely.\n",
        "(sku: just a product code)"
      ]
    },
    {
      "cell_type": "code",
      "execution_count": 509,
      "id": "da225951-1ef9-4714-95b6-9bd80c8c3e2d",
      "metadata": {
        "id": "da225951-1ef9-4714-95b6-9bd80c8c3e2d"
      },
      "outputs": [],
      "source": [
        "p1 = (\"Pen\", \"SKU001\", 12.5)\n",
        "p2 = (\"Notebook\", \"SKU002\", 40.0)"
      ]
    },
    {
      "cell_type": "code",
      "execution_count": 523,
      "id": "b001d60b-8495-4c60-bfe5-183a39143bcc",
      "metadata": {
        "id": "b001d60b-8495-4c60-bfe5-183a39143bcc"
      },
      "outputs": [],
      "source": [
        "def to_dict(p_tuples) -> dict:\n",
        "  # sku_map = {}\n",
        "  # for name, sku, price in p_tuples:\n",
        "  #   sku_map[sku] = price\n",
        "  # return sku_map\n",
        "  return {sku : price for name, sku, price in p_tuples}"
      ]
    },
    {
      "cell_type": "code",
      "source": [
        "def lookup_price(sku_map, sku: str) -> float:\n",
        "  return sku_map.get(sku, None)"
      ],
      "metadata": {
        "id": "YhTZ431Yq_eu"
      },
      "id": "YhTZ431Yq_eu",
      "execution_count": 557,
      "outputs": []
    },
    {
      "cell_type": "code",
      "source": [
        "product_list = [p1, p2]\n",
        "\n",
        "skumap = to_dict(product_list)\n",
        "\n",
        "print(f\"Product List\")\n",
        "print(\"-\" * 50)\n",
        "\n",
        "print(f\"   {'Product Name':<20} {'Product Code':<15} {'Price':>10}\")\n",
        "for name, sku, price in product_list:\n",
        "  print(f\"-> {name:<20} {sku:<15} {price:>10}\")\n",
        "\n",
        "print(\"-\" * 50)\n",
        "\n",
        "print(f\"Price of SKU001: {lookup_price(skumap, \"SKU001\")}\")"
      ],
      "metadata": {
        "id": "5PP0nelNjTB_",
        "outputId": "497d834f-e131-462b-bd20-ac74854957cc",
        "colab": {
          "base_uri": "https://localhost:8080/"
        }
      },
      "id": "5PP0nelNjTB_",
      "execution_count": 558,
      "outputs": [
        {
          "output_type": "stream",
          "name": "stdout",
          "text": [
            "Product List\n",
            "--------------------------------------------------\n",
            "   Product Name         Product Code         Price\n",
            "-> Pen                  SKU001                12.5\n",
            "-> Notebook             SKU002                40.0\n",
            "--------------------------------------------------\n",
            "Price of SKU001: 12.5\n"
          ]
        }
      ]
    },
    {
      "cell_type": "markdown",
      "id": "7b301070-6cf0-4c3d-91e8-65886139ff16",
      "metadata": {
        "deletable": false,
        "editable": false,
        "id": "7b301070-6cf0-4c3d-91e8-65886139ff16"
      },
      "source": [
        "#### 3. Use zip to walk parallel lists and compute per-row totals and a grand total."
      ]
    },
    {
      "cell_type": "code",
      "execution_count": 578,
      "id": "5219cd3f-bdc0-4c8b-9878-aa8bfb4ac44f",
      "metadata": {
        "id": "5219cd3f-bdc0-4c8b-9878-aa8bfb4ac44f"
      },
      "outputs": [],
      "source": [
        "items = [\"Pen\",\"Pen\",\"Notebook\"]\n",
        "qty   = [2, 1, 3]\n",
        "price = [12.5, 12.5, 40.0]"
      ]
    },
    {
      "cell_type": "code",
      "source": [
        "def compute_item_total(tuple_data):\n",
        "  grand_total = 0\n",
        "  for name, quantity, item_price in tuple_data:\n",
        "    row_total = qty * price\n",
        "    grand_total += row_total\n",
        "    print(f\"{qty} * {price} = {row_total}\")\n",
        "  return grand_total"
      ],
      "metadata": {
        "id": "8WBJU-VexhML"
      },
      "id": "8WBJU-VexhML",
      "execution_count": 584,
      "outputs": []
    },
    {
      "cell_type": "code",
      "execution_count": 575,
      "id": "a0dd9133-b00c-4354-bb50-1c8a3b0dcba2",
      "metadata": {
        "id": "a0dd9133-b00c-4354-bb50-1c8a3b0dcba2",
        "outputId": "f418c0f6-7705-4936-ad92-8466123684b8",
        "colab": {
          "base_uri": "https://localhost:8080/"
        }
      },
      "outputs": [
        {
          "output_type": "stream",
          "name": "stdout",
          "text": [
            "{'Pen': (1, 12.5), 'Notebook': (3, 40.0)}\n",
            "{'Pen': (1, 12.5), 'Notebook': (3, 40.0)}\n",
            "<class 'tuple'>\n"
          ]
        }
      ],
      "source": [
        "testvar1 = list(zip(qty, price))\n",
        "testdict1 = dict(zip(items, testvar1))\n",
        "print(data_dict2)\n",
        "# print(data)\n",
        "\n",
        "data_dict = {key : (q, p) for key, q, p in zip(items, qty, price)}\n",
        "print(data_dict)\n",
        "print(type(data_dict['Notebook']))"
      ]
    },
    {
      "cell_type": "code",
      "source": [
        "data = zip(items, qty, price)\n",
        "\n",
        "print(f\"   {'Product Name':<20} {'Product Quantity':<15} {'Price':>10}\")\n",
        "compute_item_total(data)"
      ],
      "metadata": {
        "id": "gcooDs_B22mp",
        "outputId": "a7e42ee7-b0f9-4cb9-a87f-c215ac06800c",
        "colab": {
          "base_uri": "https://localhost:8080/",
          "height": 315
        }
      },
      "id": "gcooDs_B22mp",
      "execution_count": 586,
      "outputs": [
        {
          "output_type": "stream",
          "name": "stdout",
          "text": [
            "   Product Name         Product Quantity      Price\n"
          ]
        },
        {
          "output_type": "error",
          "ename": "TypeError",
          "evalue": "can't multiply sequence by non-int of type 'list'",
          "traceback": [
            "\u001b[0;31m---------------------------------------------------------------------------\u001b[0m",
            "\u001b[0;31mTypeError\u001b[0m                                 Traceback (most recent call last)",
            "\u001b[0;32m/tmp/ipython-input-71995602.py\u001b[0m in \u001b[0;36m<cell line: 0>\u001b[0;34m()\u001b[0m\n\u001b[1;32m      2\u001b[0m \u001b[0;34m\u001b[0m\u001b[0m\n\u001b[1;32m      3\u001b[0m \u001b[0mprint\u001b[0m\u001b[0;34m(\u001b[0m\u001b[0;34mf\"   {'Product Name':<20} {'Product Quantity':<15} {'Price':>10}\"\u001b[0m\u001b[0;34m)\u001b[0m\u001b[0;34m\u001b[0m\u001b[0;34m\u001b[0m\u001b[0m\n\u001b[0;32m----> 4\u001b[0;31m \u001b[0mcompute_item_total\u001b[0m\u001b[0;34m(\u001b[0m\u001b[0mdata\u001b[0m\u001b[0;34m)\u001b[0m\u001b[0;34m\u001b[0m\u001b[0;34m\u001b[0m\u001b[0m\n\u001b[0m",
            "\u001b[0;32m/tmp/ipython-input-786953246.py\u001b[0m in \u001b[0;36mcompute_item_total\u001b[0;34m(tuple_data)\u001b[0m\n\u001b[1;32m      2\u001b[0m   \u001b[0mgrand_total\u001b[0m \u001b[0;34m=\u001b[0m \u001b[0;36m0\u001b[0m\u001b[0;34m\u001b[0m\u001b[0;34m\u001b[0m\u001b[0m\n\u001b[1;32m      3\u001b[0m   \u001b[0;32mfor\u001b[0m \u001b[0mname\u001b[0m\u001b[0;34m,\u001b[0m \u001b[0mquantity\u001b[0m\u001b[0;34m,\u001b[0m \u001b[0mitem_price\u001b[0m \u001b[0;32min\u001b[0m \u001b[0mtuple_data\u001b[0m\u001b[0;34m:\u001b[0m\u001b[0;34m\u001b[0m\u001b[0;34m\u001b[0m\u001b[0m\n\u001b[0;32m----> 4\u001b[0;31m     \u001b[0mrow_total\u001b[0m \u001b[0;34m=\u001b[0m \u001b[0mqty\u001b[0m \u001b[0;34m*\u001b[0m \u001b[0mprice\u001b[0m\u001b[0;34m\u001b[0m\u001b[0;34m\u001b[0m\u001b[0m\n\u001b[0m\u001b[1;32m      5\u001b[0m     \u001b[0mgrand_total\u001b[0m \u001b[0;34m+=\u001b[0m \u001b[0mrow_total\u001b[0m\u001b[0;34m\u001b[0m\u001b[0;34m\u001b[0m\u001b[0m\n\u001b[1;32m      6\u001b[0m     \u001b[0mprint\u001b[0m\u001b[0;34m(\u001b[0m\u001b[0;34mf\"{qty} * {price} = {row_total}\"\u001b[0m\u001b[0;34m)\u001b[0m\u001b[0;34m\u001b[0m\u001b[0;34m\u001b[0m\u001b[0m\n",
            "\u001b[0;31mTypeError\u001b[0m: can't multiply sequence by non-int of type 'list'"
          ]
        }
      ]
    },
    {
      "cell_type": "markdown",
      "id": "9bb50a6f-fcab-463c-8f74-332ac55dfb69",
      "metadata": {
        "deletable": false,
        "editable": false,
        "id": "9bb50a6f-fcab-463c-8f74-332ac55dfb69"
      },
      "source": [
        "#### 4. Compare old vs new prices and label Up/Down/No change."
      ]
    },
    {
      "cell_type": "code",
      "execution_count": 501,
      "id": "cd70f463-102b-41dc-a2fa-ea61094b57dd",
      "metadata": {
        "id": "cd70f463-102b-41dc-a2fa-ea61094b57dd"
      },
      "outputs": [],
      "source": [
        "products = [\"Pen\", \"Notebook\", \"Marker\"]\n",
        "old_p    = [10.0, 40.0, 20.0]\n",
        "new_p    = [12.0, 40.0, 18.0]"
      ]
    },
    {
      "cell_type": "code",
      "execution_count": 502,
      "id": "9d0ff0c8-11e3-4b81-8027-a4cb9757c68a",
      "metadata": {
        "id": "9d0ff0c8-11e3-4b81-8027-a4cb9757c68a"
      },
      "outputs": [],
      "source": [
        "# Sol'n"
      ]
    },
    {
      "cell_type": "markdown",
      "id": "9e0b1d9a-10b6-4543-b3d2-b31c4dc1026f",
      "metadata": {
        "deletable": false,
        "editable": false,
        "id": "9e0b1d9a-10b6-4543-b3d2-b31c4dc1026f"
      },
      "source": [
        "#### 5. Sum amounts by category"
      ]
    },
    {
      "cell_type": "code",
      "execution_count": 503,
      "id": "dca238bd-72a1-48ff-894c-f241ec38e8f8",
      "metadata": {
        "id": "dca238bd-72a1-48ff-894c-f241ec38e8f8"
      },
      "outputs": [],
      "source": [
        "cats   = [\"food\",\"transport\",\"food\",\"other\",\"food\"]\n",
        "amount = [120,50,80,30,60]"
      ]
    },
    {
      "cell_type": "code",
      "execution_count": 504,
      "id": "7d3df238-11c7-4fd3-b577-2c775191d15b",
      "metadata": {
        "id": "7d3df238-11c7-4fd3-b577-2c775191d15b"
      },
      "outputs": [],
      "source": [
        "# Sol'n"
      ]
    },
    {
      "cell_type": "markdown",
      "id": "cdf2eb52-3009-40a7-8c3c-dd4aec7e9342",
      "metadata": {
        "deletable": false,
        "editable": false,
        "id": "cdf2eb52-3009-40a7-8c3c-dd4aec7e9342"
      },
      "source": [
        "#### 6. Build a quick inventory dict from parallel lists"
      ]
    },
    {
      "cell_type": "code",
      "execution_count": 505,
      "id": "9e6fc26c-a0f8-47c1-8b90-1bc809be789a",
      "metadata": {
        "id": "9e6fc26c-a0f8-47c1-8b90-1bc809be789a"
      },
      "outputs": [],
      "source": [
        "items = [\"Mug\", \"T-Shirt\", \"Sticker\"]\n",
        "qtys  = [10, 4, 25]"
      ]
    },
    {
      "cell_type": "code",
      "execution_count": 506,
      "id": "2245cd1f-c743-4163-8aa1-dada03a94289",
      "metadata": {
        "id": "2245cd1f-c743-4163-8aa1-dada03a94289"
      },
      "outputs": [],
      "source": [
        "# Sol'n"
      ]
    },
    {
      "cell_type": "markdown",
      "id": "00f5906a-ef9b-4191-a5ab-18b70b72a050",
      "metadata": {
        "deletable": false,
        "editable": false,
        "id": "00f5906a-ef9b-4191-a5ab-18b70b72a050"
      },
      "source": [
        "#### 7. Budget vs Actual (Category Labels). Label each category as \"Under\", \"On\", or \"Over\" budget."
      ]
    },
    {
      "cell_type": "code",
      "execution_count": 507,
      "id": "20f6587a-74f2-421c-914e-08eccfa41aea",
      "metadata": {
        "id": "20f6587a-74f2-421c-914e-08eccfa41aea"
      },
      "outputs": [],
      "source": [
        "cats   = [\"Rent\", \"Groceries\", \"Transport\", \"Phone\"]\n",
        "budget = [8000,     3500,        1200,        600]\n",
        "actual = [8000,     3700,        900,         650]"
      ]
    },
    {
      "cell_type": "code",
      "execution_count": 508,
      "id": "da897070-0bbd-4ba7-aca2-c7d49779fe44",
      "metadata": {
        "id": "da897070-0bbd-4ba7-aca2-c7d49779fe44"
      },
      "outputs": [],
      "source": [
        "# Sol'n"
      ]
    },
    {
      "cell_type": "markdown",
      "id": "0776ef34-3042-482b-a68e-d2716354c028",
      "metadata": {
        "deletable": false,
        "editable": false,
        "id": "0776ef34-3042-482b-a68e-d2716354c028"
      },
      "source": [
        "---\n",
        "*End of Code*"
      ]
    }
  ],
  "metadata": {
    "kernelspec": {
      "display_name": "Python 3 (ipykernel)",
      "language": "python",
      "name": "python3"
    },
    "language_info": {
      "codemirror_mode": {
        "name": "ipython",
        "version": 3
      },
      "file_extension": ".py",
      "mimetype": "text/x-python",
      "name": "python",
      "nbconvert_exporter": "python",
      "pygments_lexer": "ipython3",
      "version": "3.12.7"
    },
    "colab": {
      "provenance": []
    }
  },
  "nbformat": 4,
  "nbformat_minor": 5
}