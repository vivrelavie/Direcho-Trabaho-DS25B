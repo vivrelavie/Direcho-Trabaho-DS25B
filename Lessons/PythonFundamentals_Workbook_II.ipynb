{
 "cells": [
  {
   "cell_type": "markdown",
   "id": "39d93fa6-a62b-4a76-bf66-4d3e917e76fc",
   "metadata": {
    "deletable": false,
    "editable": false
   },
   "source": [
    "# Python Fundamentals II\n",
    "---\n",
    "- Collection of data that logically belongs together: **Data Set**\n",
    "- Type of variable that we use to store it in Python: **Data Structure**"
   ]
  },
  {
   "cell_type": "markdown",
   "id": "9fb5bd33-91fc-4b02-b03b-a311596025d7",
   "metadata": {
    "deletable": false,
    "editable": false
   },
   "source": [
    "## Lists\n",
    "- a collection of data that stores multiple items in a single variable.\n",
    "- these items must be ordered, able to be changed after they are created (mutable), and can be duplicated. (very flexible)\n",
    "- can store data of multiple types (not all the items in the list need to be the same type)\n",
    "\n",
    "\n",
    "#### Creating Lists\n",
    "- written with square brackets (`[]`)"
   ]
  },
  {
   "cell_type": "code",
   "execution_count": null,
   "id": "48b20e1a-2568-442d-8a99-9f0b4525f77f",
   "metadata": {},
   "outputs": [],
   "source": [
    "price_php = [17000, 8000, 22000, 15000]\n",
    "print(price_php)"
   ]
  },
  {
   "cell_type": "markdown",
   "id": "c9113eda-c488-4a9f-9a78-5b06152ec3a4",
   "metadata": {
    "deletable": false,
    "editable": false
   },
   "source": [
    "#### Working with Lists\n",
    "- access any time on the list by referring to the item's **index number**. <br>\n",
    "- access an item at the end of the list, you can use **negative indexing**. (-1: last item, -2, 2nd to the last and so on)\n",
    "- to add an item to a list that already exists, use the **`append`** method\n",
    "- items on a lits can be **aggregated** to make analyzing more useful\n",
    "- **`len`** method: tells the size of the list, how many items the list have (count does not start with zero (0))\n",
    "  \n",
    "*Note: In Python, the first item in a list is always zero (0)*"
   ]
  },
  {
   "cell_type": "code",
   "execution_count": null,
   "id": "be1aeba6-114d-483f-845c-55bfe0ad3a1d",
   "metadata": {},
   "outputs": [],
   "source": [
    "# Access the 2nd item of the price_php list\n",
    "print(price_php[1])"
   ]
  },
  {
   "cell_type": "code",
   "execution_count": null,
   "id": "89e067fa-3fd1-40ed-a926-73f2e7a6cde1",
   "metadata": {},
   "outputs": [],
   "source": [
    "# Access the last item in the price_php_list\n",
    "print(price_php[-1])"
   ]
  },
  {
   "cell_type": "code",
   "execution_count": null,
   "id": "dabb798a-676f-42b8-8b27-58d1d5abaa8a",
   "metadata": {},
   "outputs": [],
   "source": [
    "# Append 12500 price to the price_php list\n",
    "price_php.append(12500)\n",
    "print(price_php)"
   ]
  },
  {
   "cell_type": "code",
   "execution_count": null,
   "id": "62757a96-76c8-4f3a-8629-ca0581ab493e",
   "metadata": {},
   "outputs": [],
   "source": [
    "# Retrieving a slice of items from a list\n",
    "print(price_php[1:4])\n",
    "print(price_php[1:])\n",
    "print(price_php[:1])"
   ]
  },
  {
   "cell_type": "code",
   "execution_count": null,
   "id": "5759cfe0-ab11-413a-a10b-c6cd24b38552",
   "metadata": {},
   "outputs": [],
   "source": [
    "# Slice using a step size\n",
    "nums = [1,2,3,4,5,6,7,8,9,10,11,12]\n",
    "\n",
    "print(nums[::2])\n",
    "print(nums[4:1:-1])"
   ]
  },
  {
   "cell_type": "code",
   "execution_count": null,
   "id": "a49b8cbb-7116-4fc9-97a3-c8a838636bd5",
   "metadata": {},
   "outputs": [],
   "source": [
    "# Aggregating the price_php list: total value in Peso of the houses in the list\n",
    "total_php = sum(price_php)\n",
    "total_php"
   ]
  },
  {
   "cell_type": "code",
   "execution_count": null,
   "id": "b1fbdc25-c7e2-4fa6-9f27-8308dedfce67",
   "metadata": {},
   "outputs": [],
   "source": [
    "# Average Value in Peso of the houses on the list (ave = sum/total count)\n",
    "average_php = sum(price_php)/len(price_php)\n",
    "average_php"
   ]
  },
  {
   "cell_type": "code",
   "execution_count": null,
   "id": "89e0b5b8-32fd-4972-93e5-b877c6f50265",
   "metadata": {},
   "outputs": [],
   "source": [
    "# Can store any type of data\n",
    "int_list = [2, 6, 3049, 18, 37]\n",
    "float_list = [3.7, 8.2, 178.245, 63.1]\n",
    "mixed_list = [26, False, 'some words', 1.264]\n",
    "\n",
    "print(int_list)\n",
    "print(float_list)\n",
    "print(mixed_list)"
   ]
  },
  {
   "cell_type": "code",
   "execution_count": null,
   "id": "5fff826a-3685-460d-a24a-f1128bdb3b4c",
   "metadata": {},
   "outputs": [],
   "source": [
    "# a list inside of a list\n",
    "list_of_lists = [['a', 'list', 'of', 'words'], [1, 5, 209], [True, True, False]]\n",
    "print(list_of_lists)"
   ]
  },
  {
   "cell_type": "code",
   "execution_count": null,
   "id": "c8d544ce-9e47-4acc-b2f6-400d1e4825f5",
   "metadata": {},
   "outputs": [],
   "source": [
    "grocery_list = ['chicken', 'onions', 'rice', 'peppers', 'bananas']\n",
    "\n",
    "# for loop in iterating items in a list\n",
    "for item in grocery_list:\n",
    "    print(item)"
   ]
  },
  {
   "cell_type": "markdown",
   "id": "a775eafe-bf5b-4a11-add5-fc3ef82be551",
   "metadata": {
    "deletable": false,
    "editable": false
   },
   "source": [
    "Sometimes we will combine a for loop with indexing.<br>\n",
    "The `range` function is useful for this. (Range function: returns a sequece of integers between the 1st and 2nd argument-1, using the 3rd argument as the stepsize."
   ]
  },
  {
   "cell_type": "code",
   "execution_count": null,
   "id": "0dd64380-5a65-4d74-a4dd-85218dcae06a",
   "metadata": {},
   "outputs": [],
   "source": [
    "for i in range(0, len(grocery_list)):\n",
    "    print(i, grocery_list[i])"
   ]
  },
  {
   "cell_type": "code",
   "execution_count": null,
   "id": "7e5cc4f5-f975-4240-93da-03b83a5d9798",
   "metadata": {},
   "outputs": [],
   "source": [
    "for i in range(0, len(grocery_list),2):\n",
    "    print(i, grocery_list[i])"
   ]
  },
  {
   "cell_type": "code",
   "execution_count": null,
   "id": "9dd139c0-b942-4846-8914-8fbf2215b75b",
   "metadata": {},
   "outputs": [],
   "source": [
    "print(range(0, 10, 3))\n",
    "print(range(104, 100, -1))\n",
    "print(range(5)) # starts at 0 and counts by 1 by default"
   ]
  },
  {
   "cell_type": "code",
   "execution_count": null,
   "id": "50088502-e62b-4490-8b74-1175df1aabd2",
   "metadata": {},
   "outputs": [],
   "source": [
    "# Using indexing/slicing to replace items in the list\n",
    "grocery_list = ['chicken', 'onions', 'rice', 'peppers', 'bananas']\n",
    "print(grocery_list)\n",
    "\n",
    "grocery_list[-1] = 'grapes'\n",
    "print(grocery_list)\n",
    "\n",
    "grocery_list[1:3] = ['carrots', 'pasta']\n",
    "print(grocery_list)"
   ]
  },
  {
   "cell_type": "code",
   "execution_count": null,
   "id": "9b9ef4be-6aa2-408d-8a9b-c61bfbd53cdf",
   "metadata": {},
   "outputs": [],
   "source": [
    "# Adding items on a list\n",
    "grocery_list = ['chicken', 'onions', 'rice', 'peppers', 'bananas']\n",
    "print(grocery_list)\n",
    "grocery_list.append('squash')\n",
    "print(grocery_list)\n",
    "grocery_list.append(['bread', 'salt'])\n",
    "print(grocery_list)"
   ]
  },
  {
   "cell_type": "code",
   "execution_count": null,
   "id": "e1c94de2-fa8d-42f5-bef4-0927cbea1186",
   "metadata": {},
   "outputs": [],
   "source": [
    "grocery_list = ['chicken', 'onions', 'rice', 'peppers', 'bananas']\n",
    "print(grocery_list)\n",
    "grocery_list.extend(['bread', 'salt'])\n",
    "print(grocery_list)"
   ]
  },
  {
   "cell_type": "code",
   "execution_count": null,
   "id": "0b1b8063-9a41-43e9-97d6-4be20c8699b9",
   "metadata": {},
   "outputs": [],
   "source": [
    "# Removing items on a list\n",
    "print(grocery_list)\n",
    "del grocery_list[-1]\n",
    "print(grocery_list)"
   ]
  },
  {
   "cell_type": "code",
   "execution_count": null,
   "id": "c29dc68f-9a74-4816-9528-2218efac47a5",
   "metadata": {},
   "outputs": [],
   "source": [
    "print(grocery_list)\n",
    "print(grocery_list.pop(-1))  -- default: removes and returns last item of a list\n",
    "print(grocery_list)"
   ]
  },
  {
   "cell_type": "code",
   "execution_count": null,
   "id": "4cf5c1ca-3521-426d-9641-2b4a0e6ab22a",
   "metadata": {},
   "outputs": [],
   "source": [
    "# Sorting a list\n",
    "grocery_list.sort()\n",
    "print(grocery_list)"
   ]
  },
  {
   "cell_type": "markdown",
   "id": "ece1d9bd-23f3-4670-a5cc-b22faf08be0b",
   "metadata": {
    "deletable": false,
    "editable": false
   },
   "source": [
    "### Exercises\n",
    "\n",
    "1. Make a list of 10 elements and select only the last 2 elements\n",
    "2. Take that same list of 10 elements and select every other element starting with the very first element.\n",
    "3. Select every other element starting with the second element."
   ]
  },
  {
   "cell_type": "code",
   "execution_count": null,
   "id": "d2b06028-83fc-44ea-b5b3-3eaae0f998b0",
   "metadata": {},
   "outputs": [],
   "source": [
    "# Solution"
   ]
  },
  {
   "cell_type": "markdown",
   "id": "d14ace91-f4b3-48a3-9af8-8cb05fcc4a07",
   "metadata": {
    "deletable": false,
    "editable": false
   },
   "source": [
    "---\n",
    "## Tuple\n",
    "- very similar to a `list` with 1 major difference -- it is **immutable**\n",
    "- we create a `tuple` using parentheses `()`\n",
    "  "
   ]
  },
  {
   "cell_type": "code",
   "execution_count": null,
   "id": "b436b77b-e0d0-4871-bbdf-7970c1f81904",
   "metadata": {},
   "outputs": [],
   "source": [
    "example_tuple = ('L', 26, 167.6, True)\n",
    "print(example_tuple)"
   ]
  },
  {
   "cell_type": "markdown",
   "id": "4a48192a-32cb-4f17-80db-d951c5d31a0f",
   "metadata": {
    "deletable": false,
    "editable": false
   },
   "source": [
    "- While we can retrieve data through indexing (because `tuple` is ordered), we cannot modify it as it is immutable."
   ]
  },
  {
   "cell_type": "code",
   "execution_count": null,
   "id": "22413bda-6cd0-4531-bcb7-b0f8145c1a72",
   "metadata": {},
   "outputs": [],
   "source": [
    "print(example_tuple[2])\n",
    "print(example_tuple[1:3])\n",
    "print(example_tuple[-2])"
   ]
  },
  {
   "cell_type": "code",
   "execution_count": null,
   "id": "e65916e1-9819-40d3-b1c7-84b6f2cd81be",
   "metadata": {},
   "outputs": [],
   "source": [
    "# # EXPECT ERROR\n",
    "del example_tuple[-1]"
   ]
  },
  {
   "cell_type": "markdown",
   "id": "de3191d9-4c12-49fa-acaf-b4d531b2323d",
   "metadata": {
    "deletable": false,
    "editable": false
   },
   "source": [
    "- While for clarity we should enclose tuples with `()`, Python will assume we want a `tuple` if we don't use any symbols to enclose comma separated values"
   ]
  },
  {
   "cell_type": "code",
   "execution_count": null,
   "id": "1853876d-f441-496c-bf2b-b8bb4b9b88e1",
   "metadata": {},
   "outputs": [],
   "source": [
    "example_tuple = 'Nate', 36, 162.3, True\n",
    "print(example_tuple)\n",
    "print(type(example_tuple))"
   ]
  },
  {
   "cell_type": "markdown",
   "id": "d2527c8d-a94d-404a-afdd-fb9781ca4037",
   "metadata": {
    "deletable": false,
    "editable": false
   },
   "source": [
    "- One common mistake people make with immutability, especially with tuples is to assume data structures inside the tuple are immutable because the tuple is immutable."
   ]
  },
  {
   "cell_type": "code",
   "execution_count": null,
   "id": "3246fc7b-2eb3-40e8-9456-fff2fd062728",
   "metadata": {},
   "outputs": [],
   "source": [
    "tup = tuple([[], 'a'])\n",
    "print(tup)\n",
    "tup[0].append(1)\n",
    "print(tup)"
   ]
  },
  {
   "cell_type": "markdown",
   "id": "8fad060f-0cf6-45e9-a469-642f0a842373",
   "metadata": {
    "deletable": false,
    "editable": false
   },
   "source": [
    "---\n",
    "## Set\n",
    "- Similar to a `list`, except it is **unordered**\n",
    "- Removes duplicates\n",
    "- Created by enclosing data with curly brackets `{}`"
   ]
  },
  {
   "cell_type": "code",
   "execution_count": null,
   "id": "1613db51-9654-4908-9207-2999a0f68708",
   "metadata": {},
   "outputs": [],
   "source": [
    "example_set = {'L', 27, 3.14, True}\n",
    "print(example_set)"
   ]
  },
  {
   "cell_type": "code",
   "execution_count": null,
   "id": "2637bc91-d8ce-4404-a657-bf827ed9142b",
   "metadata": {},
   "outputs": [],
   "source": [
    "# Expect error\n",
    "print(example_set[0])"
   ]
  },
  {
   "cell_type": "markdown",
   "id": "f38d519e-7921-4df2-ba3f-e6d7de4be909",
   "metadata": {
    "deletable": false,
    "editable": false
   },
   "source": [
    "- Items can still be added and deleted from a set"
   ]
  },
  {
   "cell_type": "code",
   "execution_count": null,
   "id": "842074ba-8bf0-464f-9205-9cf9354b1afb",
   "metadata": {},
   "outputs": [],
   "source": [
    "print(example_set)\n",
    "print(example_set.pop())\n",
    "print(example_set)"
   ]
  },
  {
   "cell_type": "code",
   "execution_count": null,
   "id": "46168fa5-93b3-4716-8122-d9ef1ffdd578",
   "metadata": {},
   "outputs": [],
   "source": [
    "example_set.add('True')\n",
    "print(example_set)\n",
    "example_set.update([58.1, 'brown'])\n",
    "print(example_set)"
   ]
  },
  {
   "cell_type": "markdown",
   "id": "8063e182-109a-4e0a-84a6-6bc977f78654",
   "metadata": {
    "deletable": false,
    "editable": false
   },
   "source": [
    "- **`add`** method of `set` = **`append`** method of a `list`\n",
    "= **`update`** method of `set` = **`extend`** method of a `list`"
   ]
  },
  {
   "cell_type": "markdown",
   "id": "318d90ca-c0e9-4683-ad52-fbeb0c8169b1",
   "metadata": {
    "deletable": false,
    "editable": false
   },
   "source": [
    "----\n",
    "## Dictionaries (dict)\n",
    "- a collection of data that occurs in an order, is able to be changed and does not allow duplicates.\n",
    "- data in a dictionary is always presented as **keys** and **values** *(key-value pair)*\n",
    "\n",
    "#### Creating Dictionaries\n",
    "- Dictionaries are written in curly brackets `{}`, with key-value pairs inside: `dct = {key1:value1}`"
   ]
  },
  {
   "cell_type": "code",
   "execution_count": 7,
   "id": "3eb21e44-54ff-420f-9813-809887578629",
   "metadata": {},
   "outputs": [],
   "source": [
    "work_details = {\n",
    "    \"company\": \"GoTyme\",\n",
    "    \"department\": \"Data and Analytics\",\n",
    "    \"members\": 10,\n",
    "}"
   ]
  },
  {
   "cell_type": "markdown",
   "id": "feaeacc7-8893-406e-8a71-8a1db9d56c44",
   "metadata": {
    "deletable": false,
    "editable": false
   },
   "source": [
    "#### Working with Dictionaries\n",
    "- one can **access any item** in a dictionary by using its key name inside square brackets.\n",
    "- use **`get`**: to **retrieve a value**\n",
    "- use **`keys`** method: to access all keys in a dictionary"
   ]
  },
  {
   "cell_type": "code",
   "execution_count": null,
   "id": "5648a99a-ab2a-473c-8e45-973312ca729f",
   "metadata": {},
   "outputs": [],
   "source": [
    "dept = work_details['department']\n",
    "print(dept)"
   ]
  },
  {
   "cell_type": "code",
   "execution_count": null,
   "id": "0d30b3f0-8bcb-4f4e-ac45-1ccdf5fe562b",
   "metadata": {},
   "outputs": [],
   "source": [
    "work_details.get('department')"
   ]
  },
  {
   "cell_type": "code",
   "execution_count": null,
   "id": "74e30b7f-b1db-4811-bdaf-4b2a4c37336f",
   "metadata": {},
   "outputs": [],
   "source": [
    "work_details.keys()"
   ]
  },
  {
   "cell_type": "code",
   "execution_count": null,
   "id": "5c42c24a-0b94-4c13-8e60-b6c0df0b0f5a",
   "metadata": {},
   "outputs": [],
   "source": [
    "# To use keys in a list\n",
    "list(work_details.keys())"
   ]
  },
  {
   "cell_type": "code",
   "execution_count": null,
   "id": "f9a0b6d1-55f7-4ac9-a2b2-8ce92e6fc4e6",
   "metadata": {},
   "outputs": [],
   "source": [
    "# Iterate over keys\n",
    "for k in work_details.keys():\n",
    "    print(k)"
   ]
  },
  {
   "cell_type": "code",
   "execution_count": null,
   "id": "19e3955c-8322-440a-af32-5562f6540041",
   "metadata": {},
   "outputs": [],
   "source": [
    "# Iterate over values\n",
    "for v in work_details.values():\n",
    "    print(v)"
   ]
  },
  {
   "cell_type": "code",
   "execution_count": null,
   "id": "a36e5a5e-9cf7-44ee-b1e7-3f96c06725e1",
   "metadata": {},
   "outputs": [],
   "source": [
    "# Iterate over key-value pairs\n",
    "for k, v in work_details.items():\n",
    "    print(f'{k}: {v}')"
   ]
  },
  {
   "cell_type": "code",
   "execution_count": 10,
   "id": "e6591d81-59d7-4998-a782-1f85b98eae6a",
   "metadata": {},
   "outputs": [],
   "source": [
    "# using .get method to retrieve value of a specific key\n",
    "work_details.get('department')"
   ]
  },
  {
   "cell_type": "markdown",
   "id": "abad032d-7ef6-4f88-bc5c-f27365961519",
   "metadata": {
    "deletable": false,
    "editable": false
   },
   "source": [
    "#### Zipping items\n",
    "Given area_m2 = [235.0, 135.0, 260.0, 170.5]\n",
    "- it might be useful to combine -- or **zip**-- 2 lists together. For example, we might want to create a new list that pairs the house price list  with their corresponding area in the area_m2 list. To do this, we use the **`zip`** method\n",
    "- `Keys` must be immutab;e and unique similar to the elements of a set\n",
    "- can be very handy for creating a dictionary"
   ]
  },
  {
   "cell_type": "code",
   "execution_count": null,
   "id": "bb7713c0-5f5a-42b7-bb6a-53fc9667cce9",
   "metadata": {},
   "outputs": [],
   "source": [
    "price_php = [17000, 8000, 22000, 15000]\n",
    "area_m2 = [235.0, 135.0, 260.0, 150.5]"
   ]
  },
  {
   "cell_type": "code",
   "execution_count": null,
   "id": "29d9fcca-ae40-4e31-a159-14f30cc63f88",
   "metadata": {},
   "outputs": [],
   "source": [
    "new_list = zip(price_php, area_m2)\n",
    "new_list"
   ]
  },
  {
   "cell_type": "code",
   "execution_count": null,
   "id": "7cd634da-96cc-4a17-924d-1d9cc62af49b",
   "metadata": {},
   "outputs": [],
   "source": [
    "zipped_list = list(new_list) # to convert it to a legit list\n",
    "zipped_list"
   ]
  },
  {
   "cell_type": "code",
   "execution_count": null,
   "id": "c00c4f72-2a33-4a57-a8ba-7294bfef0720",
   "metadata": {},
   "outputs": [],
   "source": [
    "person = ['L', 27, 164.5, 50.0, 'black', 'brown', True]"
   ]
  },
  {
   "cell_type": "code",
   "execution_count": null,
   "id": "b09f1c32-5450-42b4-ae57-7df12d952aa6",
   "metadata": {},
   "outputs": [],
   "source": [
    "value_list = person\n",
    "key_list = ['name', 'age', 'height', 'weight', 'hair', 'eyes', 'has dog']\n",
    "\n",
    "print(value_list)\n",
    "print(key_list)"
   ]
  },
  {
   "cell_type": "code",
   "execution_count": null,
   "id": "29d87469-0732-4e84-8b5e-b5581255b99d",
   "metadata": {},
   "outputs": [],
   "source": [
    "key_value_pairs = list(zip(key_list, value_list))\n",
    "print(key_value_pairs)"
   ]
  },
  {
   "cell_type": "code",
   "execution_count": null,
   "id": "e7d0a994-0776-4a1a-87e2-5c0b2115420b",
   "metadata": {},
   "outputs": [],
   "source": [
    "me_dict = dict(key_value_pairs)\n",
    "print(me_dict)"
   ]
  },
  {
   "cell_type": "code",
   "execution_count": null,
   "id": "0006ee02-2e67-4141-97cc-99b45814f83d",
   "metadata": {},
   "outputs": [],
   "source": [
    "# invalid key\n",
    "invalid_dict = {[1, 5]: 'a', 5: 23}"
   ]
  },
  {
   "cell_type": "code",
   "execution_count": null,
   "id": "ad1d734b-fc22-4af4-8813-210978c8ed9d",
   "metadata": {},
   "outputs": [],
   "source": [
    "valid_dict = {(1, 5): 'a', 5: [23, 6]}\n",
    "print(valid_dict)"
   ]
  },
  {
   "cell_type": "code",
   "execution_count": null,
   "id": "2d671ca5-fdb8-4f7d-b002-655899ddd08b",
   "metadata": {},
   "outputs": [],
   "source": [
    "# Adding key-value pair in a dict.\n",
    "print(me_dict)\n",
    "me_dict['favorite book'] =  'The Little Prince'\n",
    "print(me_dict)"
   ]
  },
  {
   "cell_type": "code",
   "execution_count": null,
   "id": "530ca721-2fb2-44a1-8d29-3b7a44bb8b7e",
   "metadata": {},
   "outputs": [],
   "source": [
    "# Update/extend existing dictionary\n",
    "print(me_dict)\n",
    "me_dict.update({'favorite color': 'white/black', 'siblings': 2})\n",
    "print(me_dict)"
   ]
  },
  {
   "cell_type": "code",
   "execution_count": null,
   "id": "1275c356-bab9-4cf3-b8c7-32a19ceda289",
   "metadata": {},
   "outputs": [],
   "source": [
    "# Replacing or deleting key-valye pairs\n",
    "print(me_dict)\n",
    "me_dict['hair'] = 'blonde'\n",
    "print(me_dict)"
   ]
  },
  {
   "cell_type": "code",
   "execution_count": null,
   "id": "ce2e4260-bb7f-4fb0-bce3-60cc16c6f6a5",
   "metadata": {},
   "outputs": [],
   "source": [
    "del me_dict['favorite book']\n",
    "print(me_dict)"
   ]
  },
  {
   "cell_type": "code",
   "execution_count": null,
   "id": "8f6bc251-a894-4408-ab55-3cbe552b103e",
   "metadata": {},
   "outputs": [],
   "source": [
    "print(me_dict.pop('siblings'))\n",
    "print(me_dict)"
   ]
  },
  {
   "cell_type": "markdown",
   "id": "2b25e35f-3d9b-4a02-8713-d979e0235a85",
   "metadata": {
    "deletable": false,
    "editable": false
   },
   "source": [
    "## Switching Data Structures"
   ]
  },
  {
   "cell_type": "code",
   "execution_count": null,
   "id": "5738072b-a482-4af7-814d-2ab0c5ef9353",
   "metadata": {},
   "outputs": [],
   "source": [
    "example_list = ['a', 'b', 23, 10, True, 'a', 10]\n",
    "example_tuple = tuple(example_list)\n",
    "example_set = set(example_tuple)\n",
    "example_list = list(example_set)\n",
    "\n",
    "print(example_tuple)\n",
    "print(example_set)\n",
    "print(example_list) # lost the duplicates because of set"
   ]
  },
  {
   "cell_type": "markdown",
   "id": "5b1b60bc-d276-4745-9bc1-868d563a12ac",
   "metadata": {
    "deletable": false,
    "editable": false
   },
   "source": [
    "### Search"
   ]
  },
  {
   "cell_type": "code",
   "execution_count": null,
   "id": "6de33126-7635-4768-8814-262a4c46df00",
   "metadata": {},
   "outputs": [],
   "source": [
    "print(example_list)\n",
    "print('a' in example_list)\n",
    "print('c' in example_list)"
   ]
  },
  {
   "cell_type": "markdown",
   "id": "0c64987a-45aa-4262-99d5-79d494637ed6",
   "metadata": {
    "deletable": false,
    "editable": false
   },
   "source": [
    "- When dealing with dictionary, we can search keys, but not values"
   ]
  },
  {
   "cell_type": "code",
   "execution_count": null,
   "id": "836a0415-86f7-439a-acc4-25cc30f72c1d",
   "metadata": {},
   "outputs": [],
   "source": [
    "print(me_dict)\n",
    "print('hair' in me_dict)\n",
    "print('has cat' in me_dict)\n",
    "print('brown' in me_dict)"
   ]
  },
  {
   "cell_type": "markdown",
   "id": "2fac8b46-1237-4785-bb17-a3fef4046f16",
   "metadata": {
    "deletable": false,
    "editable": false
   },
   "source": [
    "## Comprehensions\n",
    "- Python has a special syntax called **comprehension** for combining iteration with the creation of a data structure.\n",
    "- essentially a `for` loop wrapped in the appropriate brackets for creating the data structure"
   ]
  },
  {
   "cell_type": "code",
   "execution_count": null,
   "id": "47531676-be93-47ec-aab6-5a0530a4d97e",
   "metadata": {},
   "outputs": [],
   "source": [
    "squares = [x**2 for x in range(10)]\n",
    "square_lut = {x: x**2 for x in range(10)}\n",
    "\n",
    "print(squares)\n",
    "print(square_lut)"
   ]
  },
  {
   "cell_type": "code",
   "execution_count": null,
   "id": "22f4058a-7b98-49b4-bbe8-875fe42c9f26",
   "metadata": {},
   "outputs": [],
   "source": [
    "me_dict_dtypes = {k: type(v) for k, v in me_dict.items()}\n",
    "print(me_dict_dtypes)"
   ]
  },
  {
   "cell_type": "markdown",
   "id": "c3b1792d-765c-4f19-b486-04b0a201f8ab",
   "metadata": {
    "deletable": false,
    "editable": false
   },
   "source": [
    "- Comparing for loop implementation with comprehension"
   ]
  },
  {
   "cell_type": "code",
   "execution_count": null,
   "id": "cd7d607d-c217-4a41-aec5-9137144a578c",
   "metadata": {},
   "outputs": [],
   "source": [
    "# For Loop\n",
    "square_lut = {}\n",
    "for x in range(10):\n",
    "    square_lut[x] = x**2\n",
    "\n",
    "print(square_lut)"
   ]
  },
  {
   "cell_type": "code",
   "execution_count": null,
   "id": "f51f80b6-6f24-4570-bb70-22699649da59",
   "metadata": {},
   "outputs": [],
   "source": [
    "# COmprehension\n",
    "square_lut = {x: x**2 for x in range(10)}\n",
    "\n",
    "print(square_lut)"
   ]
  },
  {
   "cell_type": "code",
   "execution_count": null,
   "id": "01c04f4e-8a72-4ece-890a-691d61be27b7",
   "metadata": {},
   "outputs": [],
   "source": [
    "# Parallel lists = toy \"rows\"\n",
    "customers = [\"Ana\", \"Ben\", \"Ana\", \"Cara\"]\n",
    "products  = [\"Pen\", \"Pen\", \"Notebook\", \"Pen\"]\n",
    "qtys      = [2, 1, 3, 4]\n",
    "unit_price = {\"Pen\": 12.5, \"Notebook\": 40.0}  # dictionary lookup\n",
    "\n",
    "# 1) Compute line totals and aggregate revenue per product using a dict\n",
    "revenue_per_product = {}          # e.g., {\"Pen\": 75.0, \"Notebook\": 120.0}\n",
    "print(\"Line totals:\")\n",
    "for cust, prod, q in zip(customers, products, qtys):\n",
    "    line_total = q * unit_price.get(prod, 0)\n",
    "    print(cust, prod, q, \"->\", line_total)\n",
    "    revenue_per_product[prod] = revenue_per_product.get(prod, 0) + line_total\n",
    "\n",
    "# 2) Unique customers (set)\n",
    "unique_customers = set(customers)\n",
    "\n",
    "# 3) Tuple to represent an immutable (product, min_stock) rule\n",
    "min_stock_rule = (\"Pen\", 5)   # don’t mutate this\n",
    "rule_product, rule_min = min_stock_rule\n",
    "\n",
    "print(\"Revenue per product:\", revenue_per_product)\n",
    "print(\"Unique customers:\", unique_customers)\n",
    "print(\"Rule product:\", rule_product, \"Min stock:\", rule_min)\n"
   ]
  },
  {
   "cell_type": "markdown",
   "id": "dd3fe278-1497-4bc1-95b0-5691b4d861f0",
   "metadata": {
    "deletable": false,
    "editable": false
   },
   "source": [
    "----\n",
    "## JSON\n",
    "- stands for Java Script Object Notation\n",
    "- a text format for storing and transporting data"
   ]
  },
  {
   "cell_type": "markdown",
   "id": "459fcb3f-4858-466c-8b59-44cf16a42d49",
   "metadata": {
    "deletable": false,
    "editable": false
   },
   "source": [
    "#### Working with JSON\n",
    "- works by creating key-value pairs, where kay is data that can be represented by letters (string).\n",
    "- JSON values can be strings, numbers, objects, arrays, boolean data, or null.\n",
    "- usually comes as a list of dictionaries"
   ]
  },
  {
   "cell_type": "code",
   "execution_count": null,
   "id": "62c6ec27-2369-482b-9b5a-76f9ed09ed4c",
   "metadata": {},
   "outputs": [],
   "source": [
    "# Json example\n",
    "[\n",
    "    {\"company\": \"GoTyme\", \"department\": \"Data and Analytics\"},\n",
    "    {\"company\": \"GoTyme\", \"department\": \"Data and Analytics\"},\n",
    "    {\"company\": \"GoTyme\", \"department\": \"Data and Analytics\"},\n",
    "]"
   ]
  },
  {
   "cell_type": "markdown",
   "id": "0494e86c-8195-4272-863b-65fd928f8c00",
   "metadata": {
    "deletable": false,
    "editable": false
   },
   "source": [
    "----\n",
    "## Exercises"
   ]
  },
  {
   "cell_type": "markdown",
   "id": "26db429f-c504-4f97-9047-934538b8a370",
   "metadata": {
    "deletable": false,
    "editable": false
   },
   "source": [
    "#### 1. Clean product names to lowercase, get unique names, and count occurrences."
   ]
  },
  {
   "cell_type": "code",
   "execution_count": null,
   "id": "b67debb8-6914-4034-9b58-8e365b375f68",
   "metadata": {},
   "outputs": [],
   "source": [
    "raw = [\"Pen\", \"pen\", \"PEN\", \"Notebook\", \"Pen\"]"
   ]
  },
  {
   "cell_type": "code",
   "execution_count": null,
   "id": "634066c6-5344-4bd6-a90d-ff4aae495089",
   "metadata": {},
   "outputs": [],
   "source": [
    "# Soln"
   ]
  },
  {
   "cell_type": "markdown",
   "id": "75bbc7ca-5b66-4209-ae69-9e78aea9c15d",
   "metadata": {
    "deletable": false,
    "editable": false
   },
   "source": [
    "#### 2. You have tuples (name, sku, price). Build a dict sku -> price and look up one SKU safely.\n",
    "(sku: just a product code)"
   ]
  },
  {
   "cell_type": "code",
   "execution_count": null,
   "id": "da225951-1ef9-4714-95b6-9bd80c8c3e2d",
   "metadata": {},
   "outputs": [],
   "source": [
    "p1 = (\"Pen\", \"SKU001\", 12.5)\n",
    "p2 = (\"Notebook\", \"SKU002\", 40.0)"
   ]
  },
  {
   "cell_type": "code",
   "execution_count": null,
   "id": "b001d60b-8495-4c60-bfe5-183a39143bcc",
   "metadata": {},
   "outputs": [],
   "source": [
    "# Sol'n"
   ]
  },
  {
   "cell_type": "markdown",
   "id": "7b301070-6cf0-4c3d-91e8-65886139ff16",
   "metadata": {
    "deletable": false,
    "editable": false
   },
   "source": [
    "#### 3. Use zip to walk parallel lists and compute per-row totals and a grand total."
   ]
  },
  {
   "cell_type": "code",
   "execution_count": 1,
   "id": "5219cd3f-bdc0-4c8b-9878-aa8bfb4ac44f",
   "metadata": {},
   "outputs": [],
   "source": [
    "items = [\"Pen\",\"Pen\",\"Notebook\"]\n",
    "qty   = [2, 1, 3]\n",
    "price = [12.5, 12.5, 40.0]"
   ]
  },
  {
   "cell_type": "code",
   "execution_count": null,
   "id": "a0dd9133-b00c-4354-bb50-1c8a3b0dcba2",
   "metadata": {},
   "outputs": [],
   "source": [
    "# Sol'n"
   ]
  },
  {
   "cell_type": "markdown",
   "id": "9bb50a6f-fcab-463c-8f74-332ac55dfb69",
   "metadata": {
    "deletable": false,
    "editable": false
   },
   "source": [
    "#### 4. Compare old vs new prices and label Up/Down/No change."
   ]
  },
  {
   "cell_type": "code",
   "execution_count": null,
   "id": "cd70f463-102b-41dc-a2fa-ea61094b57dd",
   "metadata": {},
   "outputs": [],
   "source": [
    "products = [\"Pen\", \"Notebook\", \"Marker\"]\n",
    "old_p    = [10.0, 40.0, 20.0]\n",
    "new_p    = [12.0, 40.0, 18.0]"
   ]
  },
  {
   "cell_type": "code",
   "execution_count": null,
   "id": "9d0ff0c8-11e3-4b81-8027-a4cb9757c68a",
   "metadata": {},
   "outputs": [],
   "source": [
    "# Sol'n"
   ]
  },
  {
   "cell_type": "markdown",
   "id": "9e0b1d9a-10b6-4543-b3d2-b31c4dc1026f",
   "metadata": {
    "deletable": false,
    "editable": false
   },
   "source": [
    "#### 5. Sum amounts by category"
   ]
  },
  {
   "cell_type": "code",
   "execution_count": null,
   "id": "dca238bd-72a1-48ff-894c-f241ec38e8f8",
   "metadata": {},
   "outputs": [],
   "source": [
    "cats   = [\"food\",\"transport\",\"food\",\"other\",\"food\"]\n",
    "amount = [120,50,80,30,60]"
   ]
  },
  {
   "cell_type": "code",
   "execution_count": null,
   "id": "7d3df238-11c7-4fd3-b577-2c775191d15b",
   "metadata": {},
   "outputs": [],
   "source": [
    "# Sol'n"
   ]
  },
  {
   "cell_type": "markdown",
   "id": "cdf2eb52-3009-40a7-8c3c-dd4aec7e9342",
   "metadata": {
    "deletable": false,
    "editable": false
   },
   "source": [
    "#### 6. Build a quick inventory dict from parallel lists"
   ]
  },
  {
   "cell_type": "code",
   "execution_count": 2,
   "id": "9e6fc26c-a0f8-47c1-8b90-1bc809be789a",
   "metadata": {},
   "outputs": [],
   "source": [
    "items = [\"Mug\", \"T-Shirt\", \"Sticker\"]\n",
    "qtys  = [10, 4, 25]"
   ]
  },
  {
   "cell_type": "code",
   "execution_count": 3,
   "id": "2245cd1f-c743-4163-8aa1-dada03a94289",
   "metadata": {},
   "outputs": [],
   "source": [
    "# Sol'n"
   ]
  },
  {
   "cell_type": "markdown",
   "id": "00f5906a-ef9b-4191-a5ab-18b70b72a050",
   "metadata": {
    "deletable": false,
    "editable": false
   },
   "source": [
    "#### 7. Budget vs Actual (Category Labels). Label each category as \"Under\", \"On\", or \"Over\" budget."
   ]
  },
  {
   "cell_type": "code",
   "execution_count": 4,
   "id": "20f6587a-74f2-421c-914e-08eccfa41aea",
   "metadata": {},
   "outputs": [],
   "source": [
    "cats   = [\"Rent\", \"Groceries\", \"Transport\", \"Phone\"]\n",
    "budget = [8000,     3500,        1200,        600]\n",
    "actual = [8000,     3700,        900,         650]"
   ]
  },
  {
   "cell_type": "code",
   "execution_count": 5,
   "id": "da897070-0bbd-4ba7-aca2-c7d49779fe44",
   "metadata": {},
   "outputs": [],
   "source": [
    "# Sol'n"
   ]
  },
  {
   "cell_type": "markdown",
   "id": "0776ef34-3042-482b-a68e-d2716354c028",
   "metadata": {
    "deletable": false,
    "editable": false
   },
   "source": [
    "---\n",
    "*End of Code*"
   ]
  }
 ],
 "metadata": {
  "kernelspec": {
   "display_name": "Python 3 (ipykernel)",
   "language": "python",
   "name": "python3"
  },
  "language_info": {
   "codemirror_mode": {
    "name": "ipython",
    "version": 3
   },
   "file_extension": ".py",
   "mimetype": "text/x-python",
   "name": "python",
   "nbconvert_exporter": "python",
   "pygments_lexer": "ipython3",
   "version": "3.12.7"
  }
 },
 "nbformat": 4,
 "nbformat_minor": 5
}
