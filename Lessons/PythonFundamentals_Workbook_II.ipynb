{
  "cells": [
    {
      "cell_type": "markdown",
      "metadata": {
        "id": "view-in-github",
        "colab_type": "text"
      },
      "source": [
        "<a href=\"https://colab.research.google.com/github/vivrelavie/Direcho-Trabaho-DS25B/blob/main/Lessons/PythonFundamentals_Workbook_II.ipynb\" target=\"_parent\"><img src=\"https://colab.research.google.com/assets/colab-badge.svg\" alt=\"Open In Colab\"/></a>"
      ]
    },
    {
      "cell_type": "markdown",
      "id": "39d93fa6-a62b-4a76-bf66-4d3e917e76fc",
      "metadata": {
        "deletable": false,
        "editable": false,
        "id": "39d93fa6-a62b-4a76-bf66-4d3e917e76fc"
      },
      "source": [
        "# Python Fundamentals II\n",
        "---\n",
        "- Collection of data that logically belongs together: **Data Set**\n",
        "- Type of variable that we use to store it in Python: **Data Structure**"
      ]
    },
    {
      "cell_type": "markdown",
      "id": "9fb5bd33-91fc-4b02-b03b-a311596025d7",
      "metadata": {
        "deletable": false,
        "editable": false,
        "id": "9fb5bd33-91fc-4b02-b03b-a311596025d7"
      },
      "source": [
        "## Lists\n",
        "- a collection of data that stores multiple items in a single variable.\n",
        "- these items must be ordered, able to be changed after they are created (mutable), and can be duplicated. (very flexible)\n",
        "- can store data of multiple types (not all the items in the list need to be the same type)\n",
        "\n",
        "\n",
        "#### Creating Lists\n",
        "- written with square brackets (`[]`)"
      ]
    },
    {
      "cell_type": "code",
      "execution_count": 1,
      "id": "48b20e1a-2568-442d-8a99-9f0b4525f77f",
      "metadata": {
        "id": "48b20e1a-2568-442d-8a99-9f0b4525f77f",
        "outputId": "ef7accdd-7c08-4432-8f5f-4fe3d2bc7c3b",
        "colab": {
          "base_uri": "https://localhost:8080/"
        }
      },
      "outputs": [
        {
          "output_type": "stream",
          "name": "stdout",
          "text": [
            "[17000, 8000, 22000, 15000]\n"
          ]
        }
      ],
      "source": [
        "price_php = [17000, 8000, 22000, 15000]\n",
        "print(price_php)"
      ]
    },
    {
      "cell_type": "markdown",
      "id": "c9113eda-c488-4a9f-9a78-5b06152ec3a4",
      "metadata": {
        "deletable": false,
        "editable": false,
        "id": "c9113eda-c488-4a9f-9a78-5b06152ec3a4"
      },
      "source": [
        "#### Working with Lists\n",
        "- access any time on the list by referring to the item's **index number**. <br>\n",
        "- access an item at the end of the list, you can use **negative indexing**. (-1: last item, -2, 2nd to the last and so on)\n",
        "- to add an item to a list that already exists, use the **`append`** method\n",
        "- items on a lits can be **aggregated** to make analyzing more useful\n",
        "- **`len`** method: tells the size of the list, how many items the list have (count does not start with zero (0))\n",
        "  \n",
        "*Note: In Python, the first item in a list is always zero (0)*"
      ]
    },
    {
      "cell_type": "code",
      "execution_count": 2,
      "id": "be1aeba6-114d-483f-845c-55bfe0ad3a1d",
      "metadata": {
        "id": "be1aeba6-114d-483f-845c-55bfe0ad3a1d",
        "outputId": "bbcd7716-2a2a-448e-b63e-2504fa5de9ff",
        "colab": {
          "base_uri": "https://localhost:8080/"
        }
      },
      "outputs": [
        {
          "output_type": "stream",
          "name": "stdout",
          "text": [
            "8000\n"
          ]
        }
      ],
      "source": [
        "# Access the 2nd item of the price_php list\n",
        "print(price_php[1])"
      ]
    },
    {
      "cell_type": "code",
      "execution_count": 3,
      "id": "89e067fa-3fd1-40ed-a926-73f2e7a6cde1",
      "metadata": {
        "id": "89e067fa-3fd1-40ed-a926-73f2e7a6cde1",
        "outputId": "ec1f87da-13cc-4c24-e670-a285d770b6bd",
        "colab": {
          "base_uri": "https://localhost:8080/"
        }
      },
      "outputs": [
        {
          "output_type": "stream",
          "name": "stdout",
          "text": [
            "15000\n"
          ]
        }
      ],
      "source": [
        "# Access the last item in the price_php_list\n",
        "print(price_php[-1])"
      ]
    },
    {
      "cell_type": "code",
      "execution_count": 4,
      "id": "dabb798a-676f-42b8-8b27-58d1d5abaa8a",
      "metadata": {
        "id": "dabb798a-676f-42b8-8b27-58d1d5abaa8a",
        "outputId": "43e41347-1e06-4193-894b-8eacd666ea26",
        "colab": {
          "base_uri": "https://localhost:8080/"
        }
      },
      "outputs": [
        {
          "output_type": "stream",
          "name": "stdout",
          "text": [
            "[17000, 8000, 22000, 15000, 12500]\n"
          ]
        }
      ],
      "source": [
        "# Append 12500 price to the price_php list\n",
        "price_php.append(12500)\n",
        "print(price_php)"
      ]
    },
    {
      "cell_type": "code",
      "execution_count": 5,
      "id": "62757a96-76c8-4f3a-8629-ca0581ab493e",
      "metadata": {
        "id": "62757a96-76c8-4f3a-8629-ca0581ab493e",
        "outputId": "cfcc5f65-990f-44c2-a6f6-178310965b32",
        "colab": {
          "base_uri": "https://localhost:8080/"
        }
      },
      "outputs": [
        {
          "output_type": "stream",
          "name": "stdout",
          "text": [
            "[8000, 22000, 15000]\n",
            "[8000, 22000, 15000, 12500]\n",
            "[17000]\n"
          ]
        }
      ],
      "source": [
        "# Retrieving a slice of items from a list\n",
        "print(price_php[1:4])\n",
        "print(price_php[1:])\n",
        "print(price_php[:1])"
      ]
    },
    {
      "cell_type": "code",
      "execution_count": 6,
      "id": "5759cfe0-ab11-413a-a10b-c6cd24b38552",
      "metadata": {
        "id": "5759cfe0-ab11-413a-a10b-c6cd24b38552",
        "outputId": "702ecb96-ec74-49b6-8740-f64d98fb760d",
        "colab": {
          "base_uri": "https://localhost:8080/"
        }
      },
      "outputs": [
        {
          "output_type": "stream",
          "name": "stdout",
          "text": [
            "[1, 3, 5, 7, 9, 11]\n",
            "[5, 4, 3]\n"
          ]
        }
      ],
      "source": [
        "# Slice using a step size\n",
        "nums = [1,2,3,4,5,6,7,8,9,10,11,12]\n",
        "\n",
        "print(nums[::2])\n",
        "print(nums[4:1:-1])"
      ]
    },
    {
      "cell_type": "code",
      "execution_count": 7,
      "id": "a49b8cbb-7116-4fc9-97a3-c8a838636bd5",
      "metadata": {
        "id": "a49b8cbb-7116-4fc9-97a3-c8a838636bd5",
        "outputId": "b161ed6f-de5f-489c-a30a-ba9dc86c74cf",
        "colab": {
          "base_uri": "https://localhost:8080/"
        }
      },
      "outputs": [
        {
          "output_type": "execute_result",
          "data": {
            "text/plain": [
              "74500"
            ]
          },
          "metadata": {},
          "execution_count": 7
        }
      ],
      "source": [
        "# Aggregating the price_php list: total value in Peso of the houses in the list\n",
        "total_php = sum(price_php)\n",
        "total_php"
      ]
    },
    {
      "cell_type": "code",
      "execution_count": 8,
      "id": "b1fbdc25-c7e2-4fa6-9f27-8308dedfce67",
      "metadata": {
        "id": "b1fbdc25-c7e2-4fa6-9f27-8308dedfce67",
        "outputId": "3fa09efd-e1ed-4046-fb04-ce9b24229b2c",
        "colab": {
          "base_uri": "https://localhost:8080/"
        }
      },
      "outputs": [
        {
          "output_type": "execute_result",
          "data": {
            "text/plain": [
              "14900.0"
            ]
          },
          "metadata": {},
          "execution_count": 8
        }
      ],
      "source": [
        "# Average Value in Peso of the houses on the list (ave = sum/total count)\n",
        "average_php = sum(price_php)/len(price_php)\n",
        "average_php"
      ]
    },
    {
      "cell_type": "code",
      "execution_count": 9,
      "id": "89e0b5b8-32fd-4972-93e5-b877c6f50265",
      "metadata": {
        "id": "89e0b5b8-32fd-4972-93e5-b877c6f50265",
        "outputId": "e10e1544-dc74-4143-da97-66ac53966fb1",
        "colab": {
          "base_uri": "https://localhost:8080/"
        }
      },
      "outputs": [
        {
          "output_type": "stream",
          "name": "stdout",
          "text": [
            "[2, 6, 3049, 18, 37]\n",
            "[3.7, 8.2, 178.245, 63.1]\n",
            "[26, False, 'some words', 1.264]\n"
          ]
        }
      ],
      "source": [
        "# Can store any type of data\n",
        "int_list = [2, 6, 3049, 18, 37]\n",
        "float_list = [3.7, 8.2, 178.245, 63.1]\n",
        "mixed_list = [26, False, 'some words', 1.264]\n",
        "\n",
        "print(int_list)\n",
        "print(float_list)\n",
        "print(mixed_list)"
      ]
    },
    {
      "cell_type": "code",
      "execution_count": 10,
      "id": "5fff826a-3685-460d-a24a-f1128bdb3b4c",
      "metadata": {
        "id": "5fff826a-3685-460d-a24a-f1128bdb3b4c",
        "outputId": "59b369fa-0aec-4251-c5f9-592506886b83",
        "colab": {
          "base_uri": "https://localhost:8080/"
        }
      },
      "outputs": [
        {
          "output_type": "stream",
          "name": "stdout",
          "text": [
            "[['a', 'list', 'of', 'words'], [1, 5, 209], [True, True, False]]\n"
          ]
        }
      ],
      "source": [
        "# a list inside of a list\n",
        "list_of_lists = [['a', 'list', 'of', 'words'], [1, 5, 209], [True, True, False]]\n",
        "print(list_of_lists)"
      ]
    },
    {
      "cell_type": "code",
      "execution_count": 11,
      "id": "c8d544ce-9e47-4acc-b2f6-400d1e4825f5",
      "metadata": {
        "id": "c8d544ce-9e47-4acc-b2f6-400d1e4825f5",
        "outputId": "62602440-02fd-4896-ba61-cd1160d06154",
        "colab": {
          "base_uri": "https://localhost:8080/"
        }
      },
      "outputs": [
        {
          "output_type": "stream",
          "name": "stdout",
          "text": [
            "chicken\n",
            "onions\n",
            "rice\n",
            "peppers\n",
            "bananas\n"
          ]
        }
      ],
      "source": [
        "grocery_list = ['chicken', 'onions', 'rice', 'peppers', 'bananas']\n",
        "\n",
        "# for loop in iterating items in a list\n",
        "for item in grocery_list:\n",
        "    print(item)"
      ]
    },
    {
      "cell_type": "markdown",
      "id": "a775eafe-bf5b-4a11-add5-fc3ef82be551",
      "metadata": {
        "deletable": false,
        "editable": false,
        "id": "a775eafe-bf5b-4a11-add5-fc3ef82be551"
      },
      "source": [
        "Sometimes we will combine a for loop with indexing.<br>\n",
        "The `range` function is useful for this. (Range function: returns a sequece of integers between the 1st and 2nd argument-1, using the 3rd argument as the stepsize."
      ]
    },
    {
      "cell_type": "code",
      "execution_count": 12,
      "id": "0dd64380-5a65-4d74-a4dd-85218dcae06a",
      "metadata": {
        "id": "0dd64380-5a65-4d74-a4dd-85218dcae06a",
        "outputId": "066afed6-e307-4187-e388-6dc800da64f2",
        "colab": {
          "base_uri": "https://localhost:8080/"
        }
      },
      "outputs": [
        {
          "output_type": "stream",
          "name": "stdout",
          "text": [
            "0 chicken\n",
            "1 onions\n",
            "2 rice\n",
            "3 peppers\n",
            "4 bananas\n"
          ]
        }
      ],
      "source": [
        "for i in range(0, len(grocery_list)):\n",
        "    print(i, grocery_list[i])"
      ]
    },
    {
      "cell_type": "code",
      "execution_count": 13,
      "id": "7e5cc4f5-f975-4240-93da-03b83a5d9798",
      "metadata": {
        "id": "7e5cc4f5-f975-4240-93da-03b83a5d9798",
        "outputId": "322b26f8-f98a-4553-837b-0d1f0f8f27ac",
        "colab": {
          "base_uri": "https://localhost:8080/"
        }
      },
      "outputs": [
        {
          "output_type": "stream",
          "name": "stdout",
          "text": [
            "0 chicken\n",
            "2 rice\n",
            "4 bananas\n"
          ]
        }
      ],
      "source": [
        "for i in range(0, len(grocery_list),2):\n",
        "    print(i, grocery_list[i])"
      ]
    },
    {
      "cell_type": "code",
      "execution_count": 14,
      "id": "9dd139c0-b942-4846-8914-8fbf2215b75b",
      "metadata": {
        "id": "9dd139c0-b942-4846-8914-8fbf2215b75b",
        "outputId": "5e36aa7f-34a2-460b-fdc0-a4b0585e4d8c",
        "colab": {
          "base_uri": "https://localhost:8080/"
        }
      },
      "outputs": [
        {
          "output_type": "stream",
          "name": "stdout",
          "text": [
            "range(0, 10, 3)\n",
            "range(104, 100, -1)\n",
            "range(0, 5)\n"
          ]
        }
      ],
      "source": [
        "print(range(0, 10, 3))\n",
        "print(range(104, 100, -1))\n",
        "print(range(5)) # starts at 0 and counts by 1 by default"
      ]
    },
    {
      "cell_type": "code",
      "execution_count": 15,
      "id": "50088502-e62b-4490-8b74-1175df1aabd2",
      "metadata": {
        "id": "50088502-e62b-4490-8b74-1175df1aabd2",
        "outputId": "12fc8687-ac8e-47ce-b995-ded558b5a579",
        "colab": {
          "base_uri": "https://localhost:8080/"
        }
      },
      "outputs": [
        {
          "output_type": "stream",
          "name": "stdout",
          "text": [
            "['chicken', 'onions', 'rice', 'peppers', 'bananas']\n",
            "['chicken', 'onions', 'rice', 'peppers', 'grapes']\n",
            "['chicken', 'carrots', 'pasta', 'peppers', 'grapes']\n"
          ]
        }
      ],
      "source": [
        "# Using indexing/slicing to replace items in the list\n",
        "grocery_list = ['chicken', 'onions', 'rice', 'peppers', 'bananas']\n",
        "print(grocery_list)\n",
        "\n",
        "grocery_list[-1] = 'grapes'\n",
        "print(grocery_list)\n",
        "\n",
        "grocery_list[1:3] = ['carrots', 'pasta']\n",
        "print(grocery_list)"
      ]
    },
    {
      "cell_type": "code",
      "execution_count": 16,
      "id": "9b9ef4be-6aa2-408d-8a9b-c61bfbd53cdf",
      "metadata": {
        "id": "9b9ef4be-6aa2-408d-8a9b-c61bfbd53cdf",
        "outputId": "691fbef0-a8b6-4972-b106-734980ba860f",
        "colab": {
          "base_uri": "https://localhost:8080/"
        }
      },
      "outputs": [
        {
          "output_type": "stream",
          "name": "stdout",
          "text": [
            "['chicken', 'onions', 'rice', 'peppers', 'bananas']\n",
            "['chicken', 'onions', 'rice', 'peppers', 'bananas', 'squash']\n",
            "['chicken', 'onions', 'rice', 'peppers', 'bananas', 'squash', ['bread', 'salt']]\n"
          ]
        }
      ],
      "source": [
        "# Adding items on a list\n",
        "grocery_list = ['chicken', 'onions', 'rice', 'peppers', 'bananas']\n",
        "print(grocery_list)\n",
        "grocery_list.append('squash')\n",
        "print(grocery_list)\n",
        "grocery_list.append(['bread', 'salt'])\n",
        "print(grocery_list)"
      ]
    },
    {
      "cell_type": "code",
      "execution_count": 17,
      "id": "e1c94de2-fa8d-42f5-bef4-0927cbea1186",
      "metadata": {
        "id": "e1c94de2-fa8d-42f5-bef4-0927cbea1186",
        "outputId": "93f45802-6386-42ca-f9da-3b1581f0a232",
        "colab": {
          "base_uri": "https://localhost:8080/"
        }
      },
      "outputs": [
        {
          "output_type": "stream",
          "name": "stdout",
          "text": [
            "['chicken', 'onions', 'rice', 'peppers', 'bananas']\n",
            "['chicken', 'onions', 'rice', 'peppers', 'bananas', 'bread', 'salt']\n"
          ]
        }
      ],
      "source": [
        "grocery_list = ['chicken', 'onions', 'rice', 'peppers', 'bananas']\n",
        "print(grocery_list)\n",
        "grocery_list.extend(['bread', 'salt'])\n",
        "print(grocery_list)"
      ]
    },
    {
      "cell_type": "code",
      "execution_count": 18,
      "id": "0b1b8063-9a41-43e9-97d6-4be20c8699b9",
      "metadata": {
        "id": "0b1b8063-9a41-43e9-97d6-4be20c8699b9",
        "outputId": "f1181b22-1c43-4f30-d6f6-b85bb6e72855",
        "colab": {
          "base_uri": "https://localhost:8080/"
        }
      },
      "outputs": [
        {
          "output_type": "stream",
          "name": "stdout",
          "text": [
            "['chicken', 'onions', 'rice', 'peppers', 'bananas', 'bread', 'salt']\n",
            "['chicken', 'onions', 'rice', 'peppers', 'bananas', 'bread']\n"
          ]
        }
      ],
      "source": [
        "# Removing items on a list\n",
        "print(grocery_list)\n",
        "del grocery_list[-1]\n",
        "print(grocery_list)"
      ]
    },
    {
      "cell_type": "code",
      "execution_count": 19,
      "id": "c29dc68f-9a74-4816-9528-2218efac47a5",
      "metadata": {
        "id": "c29dc68f-9a74-4816-9528-2218efac47a5",
        "outputId": "802f33d7-9dd4-4d6e-ff47-8d233f565485",
        "colab": {
          "base_uri": "https://localhost:8080/"
        }
      },
      "outputs": [
        {
          "output_type": "stream",
          "name": "stdout",
          "text": [
            "['chicken', 'onions', 'rice', 'peppers', 'bananas', 'bread']\n",
            "bread\n",
            "['chicken', 'onions', 'rice', 'peppers', 'bananas']\n"
          ]
        }
      ],
      "source": [
        "print(grocery_list)\n",
        "print(grocery_list.pop(-1)) # default: removes and returns last item of a list\n",
        "print(grocery_list)"
      ]
    },
    {
      "cell_type": "code",
      "execution_count": 20,
      "id": "4cf5c1ca-3521-426d-9641-2b4a0e6ab22a",
      "metadata": {
        "id": "4cf5c1ca-3521-426d-9641-2b4a0e6ab22a",
        "outputId": "a7ace235-547d-430d-f985-938da294ed5e",
        "colab": {
          "base_uri": "https://localhost:8080/"
        }
      },
      "outputs": [
        {
          "output_type": "stream",
          "name": "stdout",
          "text": [
            "['bananas', 'chicken', 'onions', 'peppers', 'rice']\n"
          ]
        }
      ],
      "source": [
        "# Sorting a list\n",
        "grocery_list.sort()\n",
        "print(grocery_list)"
      ]
    },
    {
      "cell_type": "markdown",
      "id": "ece1d9bd-23f3-4670-a5cc-b22faf08be0b",
      "metadata": {
        "deletable": false,
        "editable": false,
        "id": "ece1d9bd-23f3-4670-a5cc-b22faf08be0b"
      },
      "source": [
        "### Exercises\n",
        "\n",
        "1. Make a list of 10 elements and select only the last 2 elements\n",
        "2. Take that same list of 10 elements and select every other element starting with the very first element.\n",
        "3. Select every other element starting with the second element."
      ]
    },
    {
      "cell_type": "code",
      "execution_count": 21,
      "id": "d2b06028-83fc-44ea-b5b3-3eaae0f998b0",
      "metadata": {
        "id": "d2b06028-83fc-44ea-b5b3-3eaae0f998b0",
        "outputId": "a75622a8-8dee-4d23-b49e-6c4ce5c81f08",
        "colab": {
          "base_uri": "https://localhost:8080/"
        }
      },
      "outputs": [
        {
          "output_type": "stream",
          "name": "stdout",
          "text": [
            "Original List: [0, 1, 2, 3, 4, 5, 6, 7, 8, 9]\n",
            "\n",
            "Solution 1: [8, 9]\n",
            "Solution 2: [0, 2, 4, 6, 8]\n",
            "Solution 3: [1, 3, 5, 7, 9]\n"
          ]
        }
      ],
      "source": [
        "# Solution\n",
        "lst = list(range(0,10))\n",
        "print(f\"Original List: {lst}\", end=\"\\n\\n\")\n",
        "print(f\"Solution 1: {lst[-2:]}\")\n",
        "print(f\"Solution 2: {lst[::2]}\")\n",
        "print(f\"Solution 3: {lst[1::2]}\")"
      ]
    },
    {
      "cell_type": "markdown",
      "id": "d14ace91-f4b3-48a3-9af8-8cb05fcc4a07",
      "metadata": {
        "deletable": false,
        "editable": false,
        "id": "d14ace91-f4b3-48a3-9af8-8cb05fcc4a07"
      },
      "source": [
        "---\n",
        "## Tuple\n",
        "- very similar to a `list` with 1 major difference -- it is **immutable**\n",
        "- we create a `tuple` using parentheses `()`\n",
        "  "
      ]
    },
    {
      "cell_type": "code",
      "execution_count": 22,
      "id": "b436b77b-e0d0-4871-bbdf-7970c1f81904",
      "metadata": {
        "id": "b436b77b-e0d0-4871-bbdf-7970c1f81904",
        "outputId": "0203e2fe-5de5-4757-a698-cc7c6035a5c8",
        "colab": {
          "base_uri": "https://localhost:8080/"
        }
      },
      "outputs": [
        {
          "output_type": "stream",
          "name": "stdout",
          "text": [
            "('L', 26, 167.6, True)\n"
          ]
        }
      ],
      "source": [
        "example_tuple = ('L', 26, 167.6, True)\n",
        "print(example_tuple)"
      ]
    },
    {
      "cell_type": "markdown",
      "id": "4a48192a-32cb-4f17-80db-d951c5d31a0f",
      "metadata": {
        "deletable": false,
        "editable": false,
        "id": "4a48192a-32cb-4f17-80db-d951c5d31a0f"
      },
      "source": [
        "- While we can retrieve data through indexing (because `tuple` is ordered), we cannot modify it as it is immutable."
      ]
    },
    {
      "cell_type": "code",
      "execution_count": 23,
      "id": "22413bda-6cd0-4531-bcb7-b0f8145c1a72",
      "metadata": {
        "id": "22413bda-6cd0-4531-bcb7-b0f8145c1a72",
        "outputId": "824ca98d-05c8-4218-dce6-70d264e47695",
        "colab": {
          "base_uri": "https://localhost:8080/"
        }
      },
      "outputs": [
        {
          "output_type": "stream",
          "name": "stdout",
          "text": [
            "167.6\n",
            "(26, 167.6)\n",
            "167.6\n"
          ]
        }
      ],
      "source": [
        "print(example_tuple[2])\n",
        "print(example_tuple[1:3])\n",
        "print(example_tuple[-2])"
      ]
    },
    {
      "cell_type": "code",
      "execution_count": 24,
      "id": "e65916e1-9819-40d3-b1c7-84b6f2cd81be",
      "metadata": {
        "id": "e65916e1-9819-40d3-b1c7-84b6f2cd81be"
      },
      "outputs": [],
      "source": [
        "# # EXPECT ERROR\n",
        "# del example_tuple[-1]"
      ]
    },
    {
      "cell_type": "markdown",
      "id": "de3191d9-4c12-49fa-acaf-b4d531b2323d",
      "metadata": {
        "deletable": false,
        "editable": false,
        "id": "de3191d9-4c12-49fa-acaf-b4d531b2323d"
      },
      "source": [
        "- While for clarity we should enclose tuples with `()`, Python will assume we want a `tuple` if we don't use any symbols to enclose comma separated values"
      ]
    },
    {
      "cell_type": "code",
      "execution_count": 25,
      "id": "1853876d-f441-496c-bf2b-b8bb4b9b88e1",
      "metadata": {
        "id": "1853876d-f441-496c-bf2b-b8bb4b9b88e1",
        "outputId": "6d245c8e-53a2-4d1f-e53f-272a9dac96b3",
        "colab": {
          "base_uri": "https://localhost:8080/"
        }
      },
      "outputs": [
        {
          "output_type": "stream",
          "name": "stdout",
          "text": [
            "('Nate', 36, 162.3, True)\n",
            "<class 'tuple'>\n"
          ]
        }
      ],
      "source": [
        "example_tuple = 'Nate', 36, 162.3, True\n",
        "print(example_tuple)\n",
        "print(type(example_tuple))"
      ]
    },
    {
      "cell_type": "markdown",
      "id": "d2527c8d-a94d-404a-afdd-fb9781ca4037",
      "metadata": {
        "deletable": false,
        "editable": false,
        "id": "d2527c8d-a94d-404a-afdd-fb9781ca4037"
      },
      "source": [
        "- One common mistake people make with immutability, especially with tuples is to assume data structures inside the tuple are immutable because the tuple is immutable."
      ]
    },
    {
      "cell_type": "code",
      "execution_count": 26,
      "id": "3246fc7b-2eb3-40e8-9456-fff2fd062728",
      "metadata": {
        "id": "3246fc7b-2eb3-40e8-9456-fff2fd062728",
        "outputId": "d78983fe-8306-4968-f51c-076974e59d20",
        "colab": {
          "base_uri": "https://localhost:8080/"
        }
      },
      "outputs": [
        {
          "output_type": "stream",
          "name": "stdout",
          "text": [
            "([], 'a')\n",
            "([1], 'a')\n"
          ]
        }
      ],
      "source": [
        "tup = tuple([[], 'a'])\n",
        "print(tup)\n",
        "tup[0].append(1)\n",
        "print(tup)"
      ]
    },
    {
      "cell_type": "markdown",
      "id": "8fad060f-0cf6-45e9-a469-642f0a842373",
      "metadata": {
        "deletable": false,
        "editable": false,
        "id": "8fad060f-0cf6-45e9-a469-642f0a842373"
      },
      "source": [
        "---\n",
        "## Set\n",
        "- Similar to a `list`, except it is **unordered**\n",
        "- Removes duplicates\n",
        "- Created by enclosing data with curly brackets `{}`"
      ]
    },
    {
      "cell_type": "code",
      "execution_count": 27,
      "id": "1613db51-9654-4908-9207-2999a0f68708",
      "metadata": {
        "id": "1613db51-9654-4908-9207-2999a0f68708",
        "outputId": "631dd71e-2a53-45f5-aaa2-2a49aec19582",
        "colab": {
          "base_uri": "https://localhost:8080/"
        }
      },
      "outputs": [
        {
          "output_type": "stream",
          "name": "stdout",
          "text": [
            "{3.14, True, 27, 'L'}\n"
          ]
        }
      ],
      "source": [
        "example_set = {'L', 27, 3.14, True}\n",
        "print(example_set)"
      ]
    },
    {
      "cell_type": "code",
      "execution_count": 28,
      "id": "2637bc91-d8ce-4404-a657-bf827ed9142b",
      "metadata": {
        "id": "2637bc91-d8ce-4404-a657-bf827ed9142b"
      },
      "outputs": [],
      "source": [
        "# Expect error\n",
        "# print(example_set[0])"
      ]
    },
    {
      "cell_type": "markdown",
      "id": "f38d519e-7921-4df2-ba3f-e6d7de4be909",
      "metadata": {
        "deletable": false,
        "editable": false,
        "id": "f38d519e-7921-4df2-ba3f-e6d7de4be909"
      },
      "source": [
        "- Items can still be added and deleted from a set"
      ]
    },
    {
      "cell_type": "code",
      "execution_count": 29,
      "id": "842074ba-8bf0-464f-9205-9cf9354b1afb",
      "metadata": {
        "id": "842074ba-8bf0-464f-9205-9cf9354b1afb",
        "outputId": "51b40407-4d6b-4f35-f850-6116ee8e4686",
        "colab": {
          "base_uri": "https://localhost:8080/"
        }
      },
      "outputs": [
        {
          "output_type": "stream",
          "name": "stdout",
          "text": [
            "{3.14, True, 27, 'L'}\n",
            "3.14\n",
            "{True, 27, 'L'}\n"
          ]
        }
      ],
      "source": [
        "print(example_set)\n",
        "print(example_set.pop())\n",
        "print(example_set)"
      ]
    },
    {
      "cell_type": "code",
      "execution_count": 30,
      "id": "46168fa5-93b3-4716-8122-d9ef1ffdd578",
      "metadata": {
        "id": "46168fa5-93b3-4716-8122-d9ef1ffdd578",
        "outputId": "d050eb8a-b426-4829-e281-1c8954291a49",
        "colab": {
          "base_uri": "https://localhost:8080/"
        }
      },
      "outputs": [
        {
          "output_type": "stream",
          "name": "stdout",
          "text": [
            "{True, 'True', 27, 'L'}\n",
            "{True, 'brown', 'True', 58.1, 27, 'L'}\n"
          ]
        }
      ],
      "source": [
        "example_set.add('True')\n",
        "print(example_set)\n",
        "example_set.update([58.1, 'brown'])\n",
        "print(example_set)"
      ]
    },
    {
      "cell_type": "markdown",
      "id": "8063e182-109a-4e0a-84a6-6bc977f78654",
      "metadata": {
        "deletable": false,
        "editable": false,
        "id": "8063e182-109a-4e0a-84a6-6bc977f78654"
      },
      "source": [
        "- **`add`** method of `set` = **`append`** method of a `list`\n",
        "= **`update`** method of `set` = **`extend`** method of a `list`"
      ]
    },
    {
      "cell_type": "markdown",
      "id": "318d90ca-c0e9-4683-ad52-fbeb0c8169b1",
      "metadata": {
        "deletable": false,
        "editable": false,
        "id": "318d90ca-c0e9-4683-ad52-fbeb0c8169b1"
      },
      "source": [
        "----\n",
        "## Dictionaries (dict)\n",
        "- a collection of data that occurs in an order, is able to be changed and does not allow duplicates.\n",
        "- data in a dictionary is always presented as **keys** and **values** *(key-value pair)*\n",
        "\n",
        "#### Creating Dictionaries\n",
        "- Dictionaries are written in curly brackets `{}`, with key-value pairs inside: `dct = {key1:value1}`"
      ]
    },
    {
      "cell_type": "code",
      "execution_count": 31,
      "id": "3eb21e44-54ff-420f-9813-809887578629",
      "metadata": {
        "id": "3eb21e44-54ff-420f-9813-809887578629"
      },
      "outputs": [],
      "source": [
        "work_details = {\n",
        "    \"company\": \"GoTyme\",\n",
        "    \"department\": \"Data and Analytics\",\n",
        "    \"members\": 10\n",
        "}"
      ]
    },
    {
      "cell_type": "markdown",
      "id": "feaeacc7-8893-406e-8a71-8a1db9d56c44",
      "metadata": {
        "deletable": false,
        "editable": false,
        "id": "feaeacc7-8893-406e-8a71-8a1db9d56c44"
      },
      "source": [
        "#### Working with Dictionaries\n",
        "- one can **access any item** in a dictionary by using its key name inside square brackets.\n",
        "- use **`get`**: to **retrieve a value**\n",
        "- use **`keys`** method: to access all keys in a dictionary"
      ]
    },
    {
      "cell_type": "code",
      "execution_count": 32,
      "id": "5648a99a-ab2a-473c-8e45-973312ca729f",
      "metadata": {
        "id": "5648a99a-ab2a-473c-8e45-973312ca729f",
        "outputId": "447c4153-0f72-47f2-c4b6-a2db8918ff39",
        "colab": {
          "base_uri": "https://localhost:8080/"
        }
      },
      "outputs": [
        {
          "output_type": "stream",
          "name": "stdout",
          "text": [
            "Data and Analytics\n"
          ]
        }
      ],
      "source": [
        "dept = work_details['department']\n",
        "print(dept)"
      ]
    },
    {
      "cell_type": "code",
      "execution_count": 33,
      "id": "0d30b3f0-8bcb-4f4e-ac45-1ccdf5fe562b",
      "metadata": {
        "id": "0d30b3f0-8bcb-4f4e-ac45-1ccdf5fe562b",
        "outputId": "a410cb35-19c8-4750-a1d1-376dbe80a3fc",
        "colab": {
          "base_uri": "https://localhost:8080/",
          "height": 36
        }
      },
      "outputs": [
        {
          "output_type": "execute_result",
          "data": {
            "text/plain": [
              "'Data and Analytics'"
            ],
            "application/vnd.google.colaboratory.intrinsic+json": {
              "type": "string"
            }
          },
          "metadata": {},
          "execution_count": 33
        }
      ],
      "source": [
        "work_details.get('department')"
      ]
    },
    {
      "cell_type": "code",
      "execution_count": 34,
      "id": "74e30b7f-b1db-4811-bdaf-4b2a4c37336f",
      "metadata": {
        "id": "74e30b7f-b1db-4811-bdaf-4b2a4c37336f",
        "outputId": "84d49dd1-94a8-4606-9fd2-9e3e3c8690c0",
        "colab": {
          "base_uri": "https://localhost:8080/"
        }
      },
      "outputs": [
        {
          "output_type": "execute_result",
          "data": {
            "text/plain": [
              "dict_keys(['company', 'department', 'members'])"
            ]
          },
          "metadata": {},
          "execution_count": 34
        }
      ],
      "source": [
        "work_details.keys()"
      ]
    },
    {
      "cell_type": "code",
      "execution_count": 35,
      "id": "5c42c24a-0b94-4c13-8e60-b6c0df0b0f5a",
      "metadata": {
        "id": "5c42c24a-0b94-4c13-8e60-b6c0df0b0f5a",
        "outputId": "577edce1-fb17-4d05-89b2-39701a42ad07",
        "colab": {
          "base_uri": "https://localhost:8080/"
        }
      },
      "outputs": [
        {
          "output_type": "execute_result",
          "data": {
            "text/plain": [
              "['company', 'department', 'members']"
            ]
          },
          "metadata": {},
          "execution_count": 35
        }
      ],
      "source": [
        "# To use keys in a list\n",
        "list(work_details.keys())"
      ]
    },
    {
      "cell_type": "code",
      "execution_count": 36,
      "id": "f9a0b6d1-55f7-4ac9-a2b2-8ce92e6fc4e6",
      "metadata": {
        "id": "f9a0b6d1-55f7-4ac9-a2b2-8ce92e6fc4e6",
        "outputId": "9888fe42-d6a0-42bc-8b8a-d343dec1a6b7",
        "colab": {
          "base_uri": "https://localhost:8080/"
        }
      },
      "outputs": [
        {
          "output_type": "stream",
          "name": "stdout",
          "text": [
            "company\n",
            "department\n",
            "members\n"
          ]
        }
      ],
      "source": [
        "# Iterate over keys\n",
        "for k in work_details.keys():\n",
        "    print(k)"
      ]
    },
    {
      "cell_type": "code",
      "execution_count": 37,
      "id": "19e3955c-8322-440a-af32-5562f6540041",
      "metadata": {
        "id": "19e3955c-8322-440a-af32-5562f6540041",
        "outputId": "ee10d377-5b35-4821-9ee7-331141466d0e",
        "colab": {
          "base_uri": "https://localhost:8080/"
        }
      },
      "outputs": [
        {
          "output_type": "stream",
          "name": "stdout",
          "text": [
            "GoTyme\n",
            "Data and Analytics\n",
            "10\n"
          ]
        }
      ],
      "source": [
        "# Iterate over values\n",
        "for v in work_details.values():\n",
        "    print(v)"
      ]
    },
    {
      "cell_type": "code",
      "execution_count": 38,
      "id": "a36e5a5e-9cf7-44ee-b1e7-3f96c06725e1",
      "metadata": {
        "id": "a36e5a5e-9cf7-44ee-b1e7-3f96c06725e1",
        "outputId": "b3206c27-5743-4331-961f-78044d722ec8",
        "colab": {
          "base_uri": "https://localhost:8080/"
        }
      },
      "outputs": [
        {
          "output_type": "stream",
          "name": "stdout",
          "text": [
            "company: GoTyme\n",
            "department: Data and Analytics\n",
            "members: 10\n"
          ]
        }
      ],
      "source": [
        "# Iterate over key-value pairs\n",
        "for k, v in work_details.items():\n",
        "    print(f'{k}: {v}')"
      ]
    },
    {
      "cell_type": "code",
      "execution_count": 39,
      "id": "e6591d81-59d7-4998-a782-1f85b98eae6a",
      "metadata": {
        "id": "e6591d81-59d7-4998-a782-1f85b98eae6a",
        "outputId": "d0c1ed13-45ff-4f3b-d6be-be81b0b291b3",
        "colab": {
          "base_uri": "https://localhost:8080/",
          "height": 36
        }
      },
      "outputs": [
        {
          "output_type": "execute_result",
          "data": {
            "text/plain": [
              "'Data and Analytics'"
            ],
            "application/vnd.google.colaboratory.intrinsic+json": {
              "type": "string"
            }
          },
          "metadata": {},
          "execution_count": 39
        }
      ],
      "source": [
        "# using .get method to retrieve value of a specific key\n",
        "work_details.get('department')"
      ]
    },
    {
      "cell_type": "markdown",
      "id": "abad032d-7ef6-4f88-bc5c-f27365961519",
      "metadata": {
        "deletable": false,
        "editable": false,
        "id": "abad032d-7ef6-4f88-bc5c-f27365961519"
      },
      "source": [
        "#### Zipping items\n",
        "Given area_m2 = [235.0, 135.0, 260.0, 170.5]\n",
        "- it might be useful to combine -- or **zip**-- 2 lists together. For example, we might want to create a new list that pairs the house price list  with their corresponding area in the area_m2 list. To do this, we use the **`zip`** method\n",
        "- `Keys` must be immutab;e and unique similar to the elements of a set\n",
        "- can be very handy for creating a dictionary"
      ]
    },
    {
      "cell_type": "code",
      "execution_count": 40,
      "id": "bb7713c0-5f5a-42b7-bb6a-53fc9667cce9",
      "metadata": {
        "id": "bb7713c0-5f5a-42b7-bb6a-53fc9667cce9"
      },
      "outputs": [],
      "source": [
        "price_php = [17000, 8000, 22000, 15000]\n",
        "area_m2 = [235.0, 135.0, 260.0, 150.5]"
      ]
    },
    {
      "cell_type": "code",
      "execution_count": 41,
      "id": "29d9fcca-ae40-4e31-a159-14f30cc63f88",
      "metadata": {
        "id": "29d9fcca-ae40-4e31-a159-14f30cc63f88",
        "outputId": "df84d97f-c6ba-4920-c76c-c06b4931d163",
        "colab": {
          "base_uri": "https://localhost:8080/"
        }
      },
      "outputs": [
        {
          "output_type": "execute_result",
          "data": {
            "text/plain": [
              "<zip at 0x78a1228c22c0>"
            ]
          },
          "metadata": {},
          "execution_count": 41
        }
      ],
      "source": [
        "new_list = zip(price_php, area_m2)\n",
        "new_list"
      ]
    },
    {
      "cell_type": "code",
      "execution_count": 42,
      "id": "7cd634da-96cc-4a17-924d-1d9cc62af49b",
      "metadata": {
        "id": "7cd634da-96cc-4a17-924d-1d9cc62af49b",
        "outputId": "8f39746a-eb9b-4720-80f6-a182c6a5bae2",
        "colab": {
          "base_uri": "https://localhost:8080/"
        }
      },
      "outputs": [
        {
          "output_type": "execute_result",
          "data": {
            "text/plain": [
              "[(17000, 235.0), (8000, 135.0), (22000, 260.0), (15000, 150.5)]"
            ]
          },
          "metadata": {},
          "execution_count": 42
        }
      ],
      "source": [
        "zipped_list = list(new_list) # to convert it to a legit list\n",
        "zipped_list"
      ]
    },
    {
      "cell_type": "code",
      "execution_count": 43,
      "id": "c00c4f72-2a33-4a57-a8ba-7294bfef0720",
      "metadata": {
        "id": "c00c4f72-2a33-4a57-a8ba-7294bfef0720"
      },
      "outputs": [],
      "source": [
        "person = ['L', 27, 164.5, 50.0, 'black', 'brown', True]"
      ]
    },
    {
      "cell_type": "code",
      "execution_count": 44,
      "id": "b09f1c32-5450-42b4-ae57-7df12d952aa6",
      "metadata": {
        "id": "b09f1c32-5450-42b4-ae57-7df12d952aa6",
        "outputId": "fb2317e4-ca41-4eb5-86f1-0ce2b983dd14",
        "colab": {
          "base_uri": "https://localhost:8080/"
        }
      },
      "outputs": [
        {
          "output_type": "stream",
          "name": "stdout",
          "text": [
            "['L', 27, 164.5, 50.0, 'black', 'brown', True]\n",
            "['name', 'age', 'height', 'weight', 'hair', 'eyes', 'has dog']\n"
          ]
        }
      ],
      "source": [
        "value_list = person\n",
        "key_list = ['name', 'age', 'height', 'weight', 'hair', 'eyes', 'has dog']\n",
        "\n",
        "print(value_list)\n",
        "print(key_list)"
      ]
    },
    {
      "cell_type": "code",
      "execution_count": 45,
      "id": "29d87469-0732-4e84-8b5e-b5581255b99d",
      "metadata": {
        "id": "29d87469-0732-4e84-8b5e-b5581255b99d",
        "outputId": "8562778b-7429-41c5-fb8f-7ca86b4502ec",
        "colab": {
          "base_uri": "https://localhost:8080/"
        }
      },
      "outputs": [
        {
          "output_type": "stream",
          "name": "stdout",
          "text": [
            "[('name', 'L'), ('age', 27), ('height', 164.5), ('weight', 50.0), ('hair', 'black'), ('eyes', 'brown'), ('has dog', True)]\n"
          ]
        }
      ],
      "source": [
        "key_value_pairs = list(zip(key_list, value_list))\n",
        "print(key_value_pairs)"
      ]
    },
    {
      "cell_type": "code",
      "execution_count": 46,
      "id": "e7d0a994-0776-4a1a-87e2-5c0b2115420b",
      "metadata": {
        "id": "e7d0a994-0776-4a1a-87e2-5c0b2115420b",
        "outputId": "138253b2-adf7-4b16-fa7c-a651c15e4d8d",
        "colab": {
          "base_uri": "https://localhost:8080/"
        }
      },
      "outputs": [
        {
          "output_type": "stream",
          "name": "stdout",
          "text": [
            "{'name': 'L', 'age': 27, 'height': 164.5, 'weight': 50.0, 'hair': 'black', 'eyes': 'brown', 'has dog': True}\n"
          ]
        }
      ],
      "source": [
        "me_dict = dict(key_value_pairs)\n",
        "print(me_dict)"
      ]
    },
    {
      "cell_type": "code",
      "execution_count": 47,
      "id": "0006ee02-2e67-4141-97cc-99b45814f83d",
      "metadata": {
        "id": "0006ee02-2e67-4141-97cc-99b45814f83d"
      },
      "outputs": [],
      "source": [
        "# invalid key\n",
        "# invalid_dict = {[1, 5]: 'a', 5: 23}"
      ]
    },
    {
      "cell_type": "code",
      "execution_count": 48,
      "id": "ad1d734b-fc22-4af4-8813-210978c8ed9d",
      "metadata": {
        "id": "ad1d734b-fc22-4af4-8813-210978c8ed9d",
        "outputId": "d3212b1d-6300-4db7-afb9-f2fa518ed2ea",
        "colab": {
          "base_uri": "https://localhost:8080/"
        }
      },
      "outputs": [
        {
          "output_type": "stream",
          "name": "stdout",
          "text": [
            "{(1, 5): 'a', 5: [23, 6]}\n"
          ]
        }
      ],
      "source": [
        "valid_dict = {(1, 5): 'a', 5: [23, 6]}\n",
        "print(valid_dict)"
      ]
    },
    {
      "cell_type": "code",
      "execution_count": 49,
      "id": "2d671ca5-fdb8-4f7d-b002-655899ddd08b",
      "metadata": {
        "id": "2d671ca5-fdb8-4f7d-b002-655899ddd08b",
        "outputId": "ad6cc0ea-75ca-4940-c711-1dff963e953c",
        "colab": {
          "base_uri": "https://localhost:8080/"
        }
      },
      "outputs": [
        {
          "output_type": "stream",
          "name": "stdout",
          "text": [
            "{'name': 'L', 'age': 27, 'height': 164.5, 'weight': 50.0, 'hair': 'black', 'eyes': 'brown', 'has dog': True}\n",
            "{'name': 'L', 'age': 27, 'height': 164.5, 'weight': 50.0, 'hair': 'black', 'eyes': 'brown', 'has dog': True, 'favorite book': 'The Little Prince'}\n"
          ]
        }
      ],
      "source": [
        "# Adding key-value pair in a dict.\n",
        "print(me_dict)\n",
        "me_dict['favorite book'] =  'The Little Prince'\n",
        "print(me_dict)"
      ]
    },
    {
      "cell_type": "code",
      "execution_count": 50,
      "id": "530ca721-2fb2-44a1-8d29-3b7a44bb8b7e",
      "metadata": {
        "id": "530ca721-2fb2-44a1-8d29-3b7a44bb8b7e",
        "outputId": "ddb3f2b9-32b6-4855-a8be-86531cc40750",
        "colab": {
          "base_uri": "https://localhost:8080/"
        }
      },
      "outputs": [
        {
          "output_type": "stream",
          "name": "stdout",
          "text": [
            "{'name': 'L', 'age': 27, 'height': 164.5, 'weight': 50.0, 'hair': 'black', 'eyes': 'brown', 'has dog': True, 'favorite book': 'The Little Prince'}\n",
            "{'name': 'L', 'age': 27, 'height': 164.5, 'weight': 50.0, 'hair': 'black', 'eyes': 'brown', 'has dog': True, 'favorite book': 'The Little Prince', 'favorite color': 'white/black', 'siblings': 2}\n"
          ]
        }
      ],
      "source": [
        "# Update/extend existing dictionary\n",
        "print(me_dict)\n",
        "me_dict.update({'favorite color': 'white/black', 'siblings': 2})\n",
        "print(me_dict)"
      ]
    },
    {
      "cell_type": "code",
      "execution_count": 51,
      "id": "1275c356-bab9-4cf3-b8c7-32a19ceda289",
      "metadata": {
        "id": "1275c356-bab9-4cf3-b8c7-32a19ceda289",
        "outputId": "1c669cb1-dbf6-4295-942e-54278a0aff4b",
        "colab": {
          "base_uri": "https://localhost:8080/"
        }
      },
      "outputs": [
        {
          "output_type": "stream",
          "name": "stdout",
          "text": [
            "{'name': 'L', 'age': 27, 'height': 164.5, 'weight': 50.0, 'hair': 'black', 'eyes': 'brown', 'has dog': True, 'favorite book': 'The Little Prince', 'favorite color': 'white/black', 'siblings': 2}\n",
            "{'name': 'L', 'age': 27, 'height': 164.5, 'weight': 50.0, 'hair': 'blonde', 'eyes': 'brown', 'has dog': True, 'favorite book': 'The Little Prince', 'favorite color': 'white/black', 'siblings': 2}\n"
          ]
        }
      ],
      "source": [
        "# Replacing or deleting key-valye pairs\n",
        "print(me_dict)\n",
        "me_dict['hair'] = 'blonde'\n",
        "print(me_dict)"
      ]
    },
    {
      "cell_type": "code",
      "execution_count": 52,
      "id": "ce2e4260-bb7f-4fb0-bce3-60cc16c6f6a5",
      "metadata": {
        "id": "ce2e4260-bb7f-4fb0-bce3-60cc16c6f6a5",
        "outputId": "7acdc99b-f85f-4113-8abf-f9f7746fa826",
        "colab": {
          "base_uri": "https://localhost:8080/"
        }
      },
      "outputs": [
        {
          "output_type": "stream",
          "name": "stdout",
          "text": [
            "{'name': 'L', 'age': 27, 'height': 164.5, 'weight': 50.0, 'hair': 'blonde', 'eyes': 'brown', 'has dog': True, 'favorite color': 'white/black', 'siblings': 2}\n"
          ]
        }
      ],
      "source": [
        "del me_dict['favorite book']\n",
        "print(me_dict)"
      ]
    },
    {
      "cell_type": "code",
      "execution_count": 53,
      "id": "8f6bc251-a894-4408-ab55-3cbe552b103e",
      "metadata": {
        "id": "8f6bc251-a894-4408-ab55-3cbe552b103e",
        "outputId": "203e637c-0eff-4117-9608-75e8dc59eb39",
        "colab": {
          "base_uri": "https://localhost:8080/"
        }
      },
      "outputs": [
        {
          "output_type": "stream",
          "name": "stdout",
          "text": [
            "2\n",
            "{'name': 'L', 'age': 27, 'height': 164.5, 'weight': 50.0, 'hair': 'blonde', 'eyes': 'brown', 'has dog': True, 'favorite color': 'white/black'}\n"
          ]
        }
      ],
      "source": [
        "print(me_dict.pop('siblings'))\n",
        "print(me_dict)"
      ]
    },
    {
      "cell_type": "markdown",
      "id": "2b25e35f-3d9b-4a02-8713-d979e0235a85",
      "metadata": {
        "deletable": false,
        "editable": false,
        "id": "2b25e35f-3d9b-4a02-8713-d979e0235a85"
      },
      "source": [
        "## Switching Data Structures"
      ]
    },
    {
      "cell_type": "code",
      "execution_count": 54,
      "id": "5738072b-a482-4af7-814d-2ab0c5ef9353",
      "metadata": {
        "id": "5738072b-a482-4af7-814d-2ab0c5ef9353",
        "outputId": "2e0ef6db-5e57-45cf-8e00-e5e3ed6b5dc5",
        "colab": {
          "base_uri": "https://localhost:8080/"
        }
      },
      "outputs": [
        {
          "output_type": "stream",
          "name": "stdout",
          "text": [
            "('a', 'b', 23, 10, True, 'a', 10)\n",
            "{True, 'b', 'a', 10, 23}\n",
            "[True, 'b', 'a', 10, 23]\n"
          ]
        }
      ],
      "source": [
        "example_list = ['a', 'b', 23, 10, True, 'a', 10]\n",
        "example_tuple = tuple(example_list)\n",
        "example_set = set(example_tuple)\n",
        "example_list = list(example_set)\n",
        "\n",
        "print(example_tuple)\n",
        "print(example_set)\n",
        "print(example_list) # lost the duplicates because of set"
      ]
    },
    {
      "cell_type": "markdown",
      "id": "5b1b60bc-d276-4745-9bc1-868d563a12ac",
      "metadata": {
        "deletable": false,
        "editable": false,
        "id": "5b1b60bc-d276-4745-9bc1-868d563a12ac"
      },
      "source": [
        "### Search"
      ]
    },
    {
      "cell_type": "code",
      "execution_count": 55,
      "id": "6de33126-7635-4768-8814-262a4c46df00",
      "metadata": {
        "id": "6de33126-7635-4768-8814-262a4c46df00",
        "outputId": "44fbbd87-7750-465d-9545-42eb43739308",
        "colab": {
          "base_uri": "https://localhost:8080/"
        }
      },
      "outputs": [
        {
          "output_type": "stream",
          "name": "stdout",
          "text": [
            "[True, 'b', 'a', 10, 23]\n",
            "True\n",
            "False\n"
          ]
        }
      ],
      "source": [
        "print(example_list)\n",
        "print('a' in example_list)\n",
        "print('c' in example_list)"
      ]
    },
    {
      "cell_type": "markdown",
      "id": "0c64987a-45aa-4262-99d5-79d494637ed6",
      "metadata": {
        "deletable": false,
        "editable": false,
        "id": "0c64987a-45aa-4262-99d5-79d494637ed6"
      },
      "source": [
        "- When dealing with dictionary, we can search keys, but not values"
      ]
    },
    {
      "cell_type": "code",
      "execution_count": 56,
      "id": "836a0415-86f7-439a-acc4-25cc30f72c1d",
      "metadata": {
        "id": "836a0415-86f7-439a-acc4-25cc30f72c1d",
        "outputId": "cd1b5951-178b-4f97-ee2c-dfef7f15ef9d",
        "colab": {
          "base_uri": "https://localhost:8080/"
        }
      },
      "outputs": [
        {
          "output_type": "stream",
          "name": "stdout",
          "text": [
            "{'name': 'L', 'age': 27, 'height': 164.5, 'weight': 50.0, 'hair': 'blonde', 'eyes': 'brown', 'has dog': True, 'favorite color': 'white/black'}\n",
            "True\n",
            "False\n",
            "False\n"
          ]
        }
      ],
      "source": [
        "print(me_dict)\n",
        "print('hair' in me_dict)\n",
        "print('has cat' in me_dict)\n",
        "print('brown' in me_dict)"
      ]
    },
    {
      "cell_type": "markdown",
      "id": "2fac8b46-1237-4785-bb17-a3fef4046f16",
      "metadata": {
        "deletable": false,
        "editable": false,
        "id": "2fac8b46-1237-4785-bb17-a3fef4046f16"
      },
      "source": [
        "## Comprehensions\n",
        "- Python has a special syntax called **comprehension** for combining iteration with the creation of a data structure.\n",
        "- essentially a `for` loop wrapped in the appropriate brackets for creating the data structure"
      ]
    },
    {
      "cell_type": "code",
      "execution_count": 57,
      "id": "47531676-be93-47ec-aab6-5a0530a4d97e",
      "metadata": {
        "id": "47531676-be93-47ec-aab6-5a0530a4d97e",
        "outputId": "eb5b90c5-0003-4254-ff12-67874138115c",
        "colab": {
          "base_uri": "https://localhost:8080/"
        }
      },
      "outputs": [
        {
          "output_type": "stream",
          "name": "stdout",
          "text": [
            "[0, 1, 4, 9, 16, 25, 36, 49, 64, 81]\n",
            "{0: 0, 1: 1, 2: 4, 3: 9, 4: 16, 5: 25, 6: 36, 7: 49, 8: 64, 9: 81}\n"
          ]
        }
      ],
      "source": [
        "squares = [x**2 for x in range(10)]\n",
        "square_lut = {x: x**2 for x in range(10)}\n",
        "\n",
        "print(squares)\n",
        "print(square_lut)"
      ]
    },
    {
      "cell_type": "code",
      "execution_count": 58,
      "id": "22f4058a-7b98-49b4-bbe8-875fe42c9f26",
      "metadata": {
        "id": "22f4058a-7b98-49b4-bbe8-875fe42c9f26",
        "outputId": "7bcefe2b-3d77-4b48-82d5-f7b4af64046a",
        "colab": {
          "base_uri": "https://localhost:8080/"
        }
      },
      "outputs": [
        {
          "output_type": "stream",
          "name": "stdout",
          "text": [
            "{'name': <class 'str'>, 'age': <class 'int'>, 'height': <class 'float'>, 'weight': <class 'float'>, 'hair': <class 'str'>, 'eyes': <class 'str'>, 'has dog': <class 'bool'>, 'favorite color': <class 'str'>}\n"
          ]
        }
      ],
      "source": [
        "me_dict_dtypes = {k: type(v) for k, v in me_dict.items()}\n",
        "print(me_dict_dtypes)"
      ]
    },
    {
      "cell_type": "markdown",
      "id": "c3b1792d-765c-4f19-b486-04b0a201f8ab",
      "metadata": {
        "deletable": false,
        "editable": false,
        "id": "c3b1792d-765c-4f19-b486-04b0a201f8ab"
      },
      "source": [
        "- Comparing for loop implementation with comprehension"
      ]
    },
    {
      "cell_type": "code",
      "execution_count": 59,
      "id": "cd7d607d-c217-4a41-aec5-9137144a578c",
      "metadata": {
        "id": "cd7d607d-c217-4a41-aec5-9137144a578c",
        "outputId": "dbae6986-cc7e-442c-e569-c4ea599c663b",
        "colab": {
          "base_uri": "https://localhost:8080/"
        }
      },
      "outputs": [
        {
          "output_type": "stream",
          "name": "stdout",
          "text": [
            "{0: 0, 1: 1, 2: 4, 3: 9, 4: 16, 5: 25, 6: 36, 7: 49, 8: 64, 9: 81}\n"
          ]
        }
      ],
      "source": [
        "# For Loop\n",
        "square_lut = {}\n",
        "for x in range(10):\n",
        "    square_lut[x] = x**2\n",
        "\n",
        "print(square_lut)"
      ]
    },
    {
      "cell_type": "code",
      "execution_count": 60,
      "id": "f51f80b6-6f24-4570-bb70-22699649da59",
      "metadata": {
        "id": "f51f80b6-6f24-4570-bb70-22699649da59",
        "outputId": "4978124f-3600-4094-f1ad-2954c83d5671",
        "colab": {
          "base_uri": "https://localhost:8080/"
        }
      },
      "outputs": [
        {
          "output_type": "stream",
          "name": "stdout",
          "text": [
            "{0: 0, 1: 1, 2: 4, 3: 9, 4: 16, 5: 25, 6: 36, 7: 49, 8: 64, 9: 81}\n"
          ]
        }
      ],
      "source": [
        "# COmprehension\n",
        "square_lut = {x: x**2 for x in range(10)}\n",
        "\n",
        "print(square_lut)"
      ]
    },
    {
      "cell_type": "code",
      "execution_count": 61,
      "id": "01c04f4e-8a72-4ece-890a-691d61be27b7",
      "metadata": {
        "id": "01c04f4e-8a72-4ece-890a-691d61be27b7",
        "outputId": "e13833e7-d95a-40e4-eca6-5b3c07a4e596",
        "colab": {
          "base_uri": "https://localhost:8080/"
        }
      },
      "outputs": [
        {
          "output_type": "stream",
          "name": "stdout",
          "text": [
            "Line totals:\n",
            "Ana Pen 2 -> 25.0\n",
            "Ben Pen 1 -> 12.5\n",
            "Ana Notebook 3 -> 120.0\n",
            "Cara Pen 4 -> 50.0\n",
            "Revenue per product: {'Pen': 87.5, 'Notebook': 120.0}\n",
            "Unique customers: {'Ana', 'Cara', 'Ben'}\n",
            "Rule product: Pen Min stock: 5\n"
          ]
        }
      ],
      "source": [
        "# Parallel lists = toy \"rows\"\n",
        "customers = [\"Ana\", \"Ben\", \"Ana\", \"Cara\"]\n",
        "products  = [\"Pen\", \"Pen\", \"Notebook\", \"Pen\"]\n",
        "qtys      = [2, 1, 3, 4]\n",
        "unit_price = {\"Pen\": 12.5, \"Notebook\": 40.0}  # dictionary lookup\n",
        "\n",
        "# 1) Compute line totals and aggregate revenue per product using a dict\n",
        "revenue_per_product = {}          # e.g., {\"Pen\": 75.0, \"Notebook\": 120.0}\n",
        "print(\"Line totals:\")\n",
        "for cust, prod, q in zip(customers, products, qtys):\n",
        "    line_total = q * unit_price.get(prod, 0)\n",
        "    print(cust, prod, q, \"->\", line_total)\n",
        "    revenue_per_product[prod] = revenue_per_product.get(prod, 0) + line_total\n",
        "\n",
        "# 2) Unique customers (set)\n",
        "unique_customers = set(customers)\n",
        "\n",
        "# 3) Tuple to represent an immutable (product, min_stock) rule\n",
        "min_stock_rule = (\"Pen\", 5)   # don’t mutate this\n",
        "rule_product, rule_min = min_stock_rule\n",
        "\n",
        "print(\"Revenue per product:\", revenue_per_product)\n",
        "print(\"Unique customers:\", unique_customers)\n",
        "print(\"Rule product:\", rule_product, \"Min stock:\", rule_min)\n"
      ]
    },
    {
      "cell_type": "markdown",
      "id": "dd3fe278-1497-4bc1-95b0-5691b4d861f0",
      "metadata": {
        "deletable": false,
        "editable": false,
        "id": "dd3fe278-1497-4bc1-95b0-5691b4d861f0"
      },
      "source": [
        "----\n",
        "## JSON\n",
        "- stands for Java Script Object Notation\n",
        "- a text format for storing and transporting data"
      ]
    },
    {
      "cell_type": "markdown",
      "id": "459fcb3f-4858-466c-8b59-44cf16a42d49",
      "metadata": {
        "deletable": false,
        "editable": false,
        "id": "459fcb3f-4858-466c-8b59-44cf16a42d49"
      },
      "source": [
        "#### Working with JSON\n",
        "- works by creating key-value pairs, where kay is data that can be represented by letters (string).\n",
        "- JSON values can be strings, numbers, objects, arrays, boolean data, or null.\n",
        "- usually comes as a list of dictionaries"
      ]
    },
    {
      "cell_type": "code",
      "execution_count": 62,
      "id": "62c6ec27-2369-482b-9b5a-76f9ed09ed4c",
      "metadata": {
        "id": "62c6ec27-2369-482b-9b5a-76f9ed09ed4c",
        "outputId": "202e6581-b45f-485f-8d71-8aff8c33c7ea",
        "colab": {
          "base_uri": "https://localhost:8080/"
        }
      },
      "outputs": [
        {
          "output_type": "execute_result",
          "data": {
            "text/plain": [
              "[{'company': 'GoTyme', 'department': 'Data and Analytics'},\n",
              " {'company': 'GoTyme', 'department': 'Data and Analytics'},\n",
              " {'company': 'GoTyme', 'department': 'Data and Analytics'}]"
            ]
          },
          "metadata": {},
          "execution_count": 62
        }
      ],
      "source": [
        "# Json example\n",
        "[\n",
        "    {\"company\": \"GoTyme\", \"department\": \"Data and Analytics\"},\n",
        "    {\"company\": \"GoTyme\", \"department\": \"Data and Analytics\"},\n",
        "    {\"company\": \"GoTyme\", \"department\": \"Data and Analytics\"},\n",
        "]"
      ]
    },
    {
      "cell_type": "markdown",
      "id": "0494e86c-8195-4272-863b-65fd928f8c00",
      "metadata": {
        "deletable": false,
        "editable": false,
        "id": "0494e86c-8195-4272-863b-65fd928f8c00"
      },
      "source": [
        "----\n",
        "## Exercises"
      ]
    },
    {
      "cell_type": "markdown",
      "id": "26db429f-c504-4f97-9047-934538b8a370",
      "metadata": {
        "deletable": false,
        "editable": false,
        "id": "26db429f-c504-4f97-9047-934538b8a370"
      },
      "source": [
        "#### 1. Clean product names to lowercase, get unique names, and count occurrences."
      ]
    },
    {
      "cell_type": "code",
      "execution_count": 63,
      "id": "b67debb8-6914-4034-9b58-8e365b375f68",
      "metadata": {
        "id": "b67debb8-6914-4034-9b58-8e365b375f68"
      },
      "outputs": [],
      "source": [
        "# Given data\n",
        "raw = [\"Pen\", \"pen\", \"PEN\", \"Notebook\", \"Pen\"]"
      ]
    },
    {
      "cell_type": "markdown",
      "source": [
        "##### Function: `to_lower`\n",
        "- Accepts a list as the argument.\n",
        "- Utilize list comprehension to make a new list and return the list.\n",
        "- The list comprehension will iterate through `str_list` and append the lowercase values of each element."
      ],
      "metadata": {
        "id": "OeKeSopjW-BO"
      },
      "id": "OeKeSopjW-BO"
    },
    {
      "cell_type": "code",
      "execution_count": 64,
      "id": "634066c6-5344-4bd6-a90d-ff4aae495089",
      "metadata": {
        "id": "634066c6-5344-4bd6-a90d-ff4aae495089"
      },
      "outputs": [],
      "source": [
        "def to_lower(str_list: list) -> list:\n",
        "  return [x.lower() for x in str_list]  # List comprehension"
      ]
    },
    {
      "cell_type": "markdown",
      "source": [
        "##### Function: `get_unique`\n",
        "- Converts `str_list` to a set, leaving only the unique names.\n",
        "- Converts the set back into a list and returns the list."
      ],
      "metadata": {
        "id": "3-kzcVtZZSQ5"
      },
      "id": "3-kzcVtZZSQ5"
    },
    {
      "cell_type": "code",
      "source": [
        "def get_unique(str_list) -> list:\n",
        "  return list(set(str_list))"
      ],
      "metadata": {
        "id": "pVwVhJubRFEB"
      },
      "id": "pVwVhJubRFEB",
      "execution_count": 65,
      "outputs": []
    },
    {
      "cell_type": "markdown",
      "source": [
        "##### Function: `count_occurences`\n",
        "- Utilize dictionary comprehension and return the dictionary.\n",
        "- The dictionary comprehension will iterate through `str_list` and add the results as the key value pair of `x` as the key where x is an element from `str_list` and the value as the value returned by the method `str_list.count()`"
      ],
      "metadata": {
        "id": "z82vaKaeaX9M"
      },
      "id": "z82vaKaeaX9M"
    },
    {
      "cell_type": "code",
      "source": [
        "def count_occurrences(str_list) -> dict:\n",
        "  return {x: str_list.count(x) for x in str_list} # Dictionary Comprehension"
      ],
      "metadata": {
        "id": "GunveCYbRFTj"
      },
      "id": "GunveCYbRFTj",
      "execution_count": 66,
      "outputs": []
    },
    {
      "cell_type": "code",
      "source": [
        "lowercase_data = to_lower(raw)\n",
        "unique_data = get_unique(lowercase_data)\n",
        "occurrences_dict = count_occurrences(lowercase_data)\n",
        "\n",
        "print(f\"Product Names changed to lowercase: {lowercase_data}\")\n",
        "print(f\"Unique product names: {unique_data}\")\n",
        "print(f\"Occurrences of each product: {occurrences_dict}\")"
      ],
      "metadata": {
        "id": "2xGUNoGBRyrI",
        "outputId": "13cd8a6b-307a-443d-b582-08ef9fd5e4d1",
        "colab": {
          "base_uri": "https://localhost:8080/"
        }
      },
      "id": "2xGUNoGBRyrI",
      "execution_count": 67,
      "outputs": [
        {
          "output_type": "stream",
          "name": "stdout",
          "text": [
            "Product Names changed to lowercase: ['pen', 'pen', 'pen', 'notebook', 'pen']\n",
            "Unique product names: ['pen', 'notebook']\n",
            "Occurrences of each product: {'pen': 4, 'notebook': 1}\n"
          ]
        }
      ]
    },
    {
      "cell_type": "markdown",
      "id": "75bbc7ca-5b66-4209-ae69-9e78aea9c15d",
      "metadata": {
        "deletable": false,
        "editable": false,
        "id": "75bbc7ca-5b66-4209-ae69-9e78aea9c15d"
      },
      "source": [
        "#### 2. You have tuples (name, sku, price). Build a dict sku -> price and look up one SKU safely.\n",
        "(sku: just a product code)"
      ]
    },
    {
      "cell_type": "code",
      "execution_count": 68,
      "id": "da225951-1ef9-4714-95b6-9bd80c8c3e2d",
      "metadata": {
        "id": "da225951-1ef9-4714-95b6-9bd80c8c3e2d"
      },
      "outputs": [],
      "source": [
        "p1 = (\"Pen\", \"SKU001\", 12.5)\n",
        "p2 = (\"Notebook\", \"SKU002\", 40.0)"
      ]
    },
    {
      "cell_type": "code",
      "execution_count": 69,
      "id": "b001d60b-8495-4c60-bfe5-183a39143bcc",
      "metadata": {
        "id": "b001d60b-8495-4c60-bfe5-183a39143bcc"
      },
      "outputs": [],
      "source": [
        "def to_dict(p_tuples) -> dict:\n",
        "  # sku_map = {}\n",
        "  # for name, sku, price in p_tuples:\n",
        "  #   sku_map[sku] = price\n",
        "  # return sku_map\n",
        "  return {sku : price for name, sku, price in p_tuples}"
      ]
    },
    {
      "cell_type": "code",
      "source": [
        "def lookup_price(sku_map, sku: str) -> float:\n",
        "  return sku_map.get(sku, None)"
      ],
      "metadata": {
        "id": "YhTZ431Yq_eu"
      },
      "id": "YhTZ431Yq_eu",
      "execution_count": 70,
      "outputs": []
    },
    {
      "cell_type": "code",
      "source": [
        "product_list = [p1, p2]\n",
        "\n",
        "skumap = to_dict(product_list)\n",
        "\n",
        "print(f\"Product List\")\n",
        "print(\"-\" * 50)\n",
        "\n",
        "print(f\"   {'Product Name':<20} {'Product Code':<15} {'Price':>10}\")\n",
        "for name, sku, price in product_list:\n",
        "  print(f\"-> {name:<20} {sku:<15} {price:>10}\")\n",
        "\n",
        "print(\"-\" * 50)\n",
        "\n",
        "print(f\"Price of SKU001: {lookup_price(skumap, 'SKU001')}\")"
      ],
      "metadata": {
        "id": "5PP0nelNjTB_",
        "outputId": "138e8436-bc59-4df8-be9c-15dccd92a978",
        "colab": {
          "base_uri": "https://localhost:8080/"
        }
      },
      "id": "5PP0nelNjTB_",
      "execution_count": 97,
      "outputs": [
        {
          "output_type": "stream",
          "name": "stdout",
          "text": [
            "Product List\n",
            "--------------------------------------------------\n",
            "   Product Name         Product Code         Price\n",
            "-> Pen                  SKU001                12.5\n",
            "-> Notebook             SKU002                40.0\n",
            "--------------------------------------------------\n",
            "Price of SKU001: 12.5\n"
          ]
        }
      ]
    },
    {
      "cell_type": "markdown",
      "id": "7b301070-6cf0-4c3d-91e8-65886139ff16",
      "metadata": {
        "deletable": false,
        "editable": false,
        "id": "7b301070-6cf0-4c3d-91e8-65886139ff16"
      },
      "source": [
        "#### 3. Use zip to walk parallel lists and compute per-row totals and a grand total."
      ]
    },
    {
      "cell_type": "code",
      "execution_count": 5,
      "id": "5219cd3f-bdc0-4c8b-9878-aa8bfb4ac44f",
      "metadata": {
        "id": "5219cd3f-bdc0-4c8b-9878-aa8bfb4ac44f"
      },
      "outputs": [],
      "source": [
        "items = [\"Pen\",\"Pen\",\"Notebook\"]\n",
        "qty   = [2, 1, 3]\n",
        "price = [12.5, 12.5, 40.0]"
      ]
    },
    {
      "cell_type": "code",
      "source": [
        "def compute_item_total(tuple_data):\n",
        "  grand_total = 0\n",
        "  for item_name, quantity, item_price in tuple_data:\n",
        "    row_total = quantity * item_price\n",
        "    grand_total += row_total\n",
        "    print(f\"   {item_name:<20} {quantity:<20} {item_price:<15} {row_total:>10}\")\n",
        "  return grand_total"
      ],
      "metadata": {
        "id": "8WBJU-VexhML"
      },
      "id": "8WBJU-VexhML",
      "execution_count": 3,
      "outputs": []
    },
    {
      "cell_type": "code",
      "source": [
        "data = zip(items, qty, price)\n",
        "\n",
        "print(\"Products List\\n\" + '-' * 80)\n",
        "print(f\"   {'Product Name':<20} {'Product Quantity':<20} {'Price':<15} {'Total':>10}\")\n",
        "\n",
        "computed_total = compute_item_total(data)\n",
        "\n",
        "print('-' * 80)\n",
        "print(f\"Grand Total: {computed_total}\")"
      ],
      "metadata": {
        "id": "gcooDs_B22mp",
        "outputId": "1e51d8f6-6d40-4160-a871-b29ea8452fe6",
        "colab": {
          "base_uri": "https://localhost:8080/"
        }
      },
      "id": "gcooDs_B22mp",
      "execution_count": 12,
      "outputs": [
        {
          "output_type": "stream",
          "name": "stdout",
          "text": [
            "Products List\n",
            "--------------------------------------------------------------------------------\n",
            "   Product Name         Product Quantity     Price                Total\n",
            "   Pen                  2                    12.5                  25.0\n",
            "   Pen                  1                    12.5                  12.5\n",
            "   Notebook             3                    40.0                 120.0\n",
            "--------------------------------------------------------------------------------\n",
            "Grand Total: 157.5\n"
          ]
        }
      ]
    },
    {
      "cell_type": "markdown",
      "id": "9bb50a6f-fcab-463c-8f74-332ac55dfb69",
      "metadata": {
        "deletable": false,
        "editable": false,
        "id": "9bb50a6f-fcab-463c-8f74-332ac55dfb69"
      },
      "source": [
        "#### 4. Compare old vs new prices and label Up/Down/No change."
      ]
    },
    {
      "cell_type": "code",
      "execution_count": null,
      "id": "cd70f463-102b-41dc-a2fa-ea61094b57dd",
      "metadata": {
        "id": "cd70f463-102b-41dc-a2fa-ea61094b57dd"
      },
      "outputs": [],
      "source": [
        "products = [\"Pen\", \"Notebook\", \"Marker\"]\n",
        "old_p    = [10.0, 40.0, 20.0]\n",
        "new_p    = [12.0, 40.0, 18.0]"
      ]
    },
    {
      "cell_type": "code",
      "execution_count": null,
      "id": "9d0ff0c8-11e3-4b81-8027-a4cb9757c68a",
      "metadata": {
        "id": "9d0ff0c8-11e3-4b81-8027-a4cb9757c68a"
      },
      "outputs": [],
      "source": [
        "# Sol'n"
      ]
    },
    {
      "cell_type": "markdown",
      "id": "9e0b1d9a-10b6-4543-b3d2-b31c4dc1026f",
      "metadata": {
        "deletable": false,
        "editable": false,
        "id": "9e0b1d9a-10b6-4543-b3d2-b31c4dc1026f"
      },
      "source": [
        "#### 5. Sum amounts by category"
      ]
    },
    {
      "cell_type": "code",
      "execution_count": null,
      "id": "dca238bd-72a1-48ff-894c-f241ec38e8f8",
      "metadata": {
        "id": "dca238bd-72a1-48ff-894c-f241ec38e8f8"
      },
      "outputs": [],
      "source": [
        "cats   = [\"food\",\"transport\",\"food\",\"other\",\"food\"]\n",
        "amount = [120,50,80,30,60]"
      ]
    },
    {
      "cell_type": "code",
      "execution_count": null,
      "id": "7d3df238-11c7-4fd3-b577-2c775191d15b",
      "metadata": {
        "id": "7d3df238-11c7-4fd3-b577-2c775191d15b"
      },
      "outputs": [],
      "source": [
        "# Sol'n"
      ]
    },
    {
      "cell_type": "markdown",
      "id": "cdf2eb52-3009-40a7-8c3c-dd4aec7e9342",
      "metadata": {
        "deletable": false,
        "editable": false,
        "id": "cdf2eb52-3009-40a7-8c3c-dd4aec7e9342"
      },
      "source": [
        "#### 6. Build a quick inventory dict from parallel lists"
      ]
    },
    {
      "cell_type": "code",
      "execution_count": null,
      "id": "9e6fc26c-a0f8-47c1-8b90-1bc809be789a",
      "metadata": {
        "id": "9e6fc26c-a0f8-47c1-8b90-1bc809be789a"
      },
      "outputs": [],
      "source": [
        "items = [\"Mug\", \"T-Shirt\", \"Sticker\"]\n",
        "qtys  = [10, 4, 25]"
      ]
    },
    {
      "cell_type": "code",
      "execution_count": null,
      "id": "2245cd1f-c743-4163-8aa1-dada03a94289",
      "metadata": {
        "id": "2245cd1f-c743-4163-8aa1-dada03a94289"
      },
      "outputs": [],
      "source": [
        "# Sol'n"
      ]
    },
    {
      "cell_type": "markdown",
      "id": "00f5906a-ef9b-4191-a5ab-18b70b72a050",
      "metadata": {
        "deletable": false,
        "editable": false,
        "id": "00f5906a-ef9b-4191-a5ab-18b70b72a050"
      },
      "source": [
        "#### 7. Budget vs Actual (Category Labels). Label each category as \"Under\", \"On\", or \"Over\" budget."
      ]
    },
    {
      "cell_type": "code",
      "execution_count": null,
      "id": "20f6587a-74f2-421c-914e-08eccfa41aea",
      "metadata": {
        "id": "20f6587a-74f2-421c-914e-08eccfa41aea"
      },
      "outputs": [],
      "source": [
        "cats   = [\"Rent\", \"Groceries\", \"Transport\", \"Phone\"]\n",
        "budget = [8000,     3500,        1200,        600]\n",
        "actual = [8000,     3700,        900,         650]"
      ]
    },
    {
      "cell_type": "code",
      "execution_count": null,
      "id": "da897070-0bbd-4ba7-aca2-c7d49779fe44",
      "metadata": {
        "id": "da897070-0bbd-4ba7-aca2-c7d49779fe44"
      },
      "outputs": [],
      "source": [
        "# Sol'n"
      ]
    },
    {
      "cell_type": "markdown",
      "id": "0776ef34-3042-482b-a68e-d2716354c028",
      "metadata": {
        "deletable": false,
        "editable": false,
        "id": "0776ef34-3042-482b-a68e-d2716354c028"
      },
      "source": [
        "---\n",
        "*End of Code*"
      ]
    }
  ],
  "metadata": {
    "kernelspec": {
      "display_name": "Python 3 (ipykernel)",
      "language": "python",
      "name": "python3"
    },
    "language_info": {
      "codemirror_mode": {
        "name": "ipython",
        "version": 3
      },
      "file_extension": ".py",
      "mimetype": "text/x-python",
      "name": "python",
      "nbconvert_exporter": "python",
      "pygments_lexer": "ipython3",
      "version": "3.12.7"
    },
    "colab": {
      "provenance": [],
      "include_colab_link": true
    }
  },
  "nbformat": 4,
  "nbformat_minor": 5
}