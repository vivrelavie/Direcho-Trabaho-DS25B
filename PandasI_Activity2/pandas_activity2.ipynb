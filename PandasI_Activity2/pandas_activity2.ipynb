{
 "cells": [
  {
   "cell_type": "markdown",
   "id": "71c50a4e",
   "metadata": {},
   "source": [
    "# 🧪 Mini Lab — Pandas Practice with Kaggle Bike Sharing (Instructions Only)\n",
    "\n",
    "**Scope (covered so far):**\n",
    "- Data loading\n",
    "- Creating DataFrames\n",
    "- DataFrame indices\n",
    "- Inspecting (`head`, `shape`, `info`)\n",
    "- Sorting\n",
    "- Working with columns (add, drop, rename, replace)\n",
    "- Access substring in a Series\n",
    "- Replacing string characters\n",
    "- Unique values and counts\n",
    "- Concatenating DataFrames\n",
    "- Saving as CSV\n"
   ]
  },
  {
   "cell_type": "markdown",
   "id": "be18db6f",
   "metadata": {},
   "source": [
    "## 1) Load & Inspect\n",
    "1. Load **`hour.csv`** → `df_hour`\n",
    "2. Load **`day.csv`** → `df_day`\n",
    "3. Inspect each dataset\n"
   ]
  },
  {
   "cell_type": "code",
   "execution_count": null,
   "id": "f2f0003c",
   "metadata": {},
   "outputs": [],
   "source": [
    "\n"
   ]
  },
  {
   "cell_type": "markdown",
   "id": "ea9a6536",
   "metadata": {},
   "source": [
    "## 2) Sort & Filter (df_hour)\n",
    "1. Sort by `cnt` (descending) → show top 5\n",
    "2. Sort by `temp` (ascending) → show bottom 5\n",
    "3. Filter rows where `weathersit == 1` and `cnt > 200` → show first 5\n"
   ]
  },
  {
   "cell_type": "code",
   "execution_count": null,
   "id": "4ef5aa6c",
   "metadata": {},
   "outputs": [],
   "source": []
  },
  {
   "cell_type": "markdown",
   "id": "91ddba56",
   "metadata": {},
   "source": [
    "## 3) Columns (df_hour)\n",
    "1. Rename: `temp`→`temperature`, `hum`→`humidity`, `windspeed`→`wind_speed`\n",
    "2. Add: `hr_plus_one = hr + 1`, then `rentals_per_hour = cnt / hr_plus_one`\n",
    "3. Drop: `hr_plus_one`\n",
    "4. Replace: make any negative `cnt` → `0` (use `clip(lower=0)` or similar)\n"
   ]
  },
  {
   "cell_type": "code",
   "execution_count": null,
   "id": "3943026b",
   "metadata": {},
   "outputs": [],
   "source": [
    "\n"
   ]
  },
  {
   "cell_type": "markdown",
   "id": "b71c1890",
   "metadata": {},
   "source": [
    "## 4) Strings & Dates\n",
    "Using either DataFrame:\n",
    "1. Create `dteday_str` = `dteday` as string\n",
    "2. Create `year_month` = first 7 chars of `dteday_str` (YYYY-MM)\n",
    "3. Create `dteday_slash` = replace `-` with `/` in `dteday_str`\n",
    "4. (Optional) Create a DatetimeIndex from `dteday` and sort the index\n"
   ]
  },
  {
   "cell_type": "code",
   "execution_count": null,
   "id": "01ac9d86",
   "metadata": {},
   "outputs": [],
   "source": [
    "\n"
   ]
  },
  {
   "cell_type": "markdown",
   "id": "2425386a",
   "metadata": {},
   "source": [
    "## 5) Unique Values & Counts\n",
    "1. In `df_day`, show unique values and unique counts for season\n",
    "2. In `df_hour`, show `weathersit.unique()`\n",
    "3. In `df_hour`, show `hr.value_counts()` sorted by hour\n"
   ]
  },
  {
   "cell_type": "code",
   "execution_count": null,
   "id": "e9b05486",
   "metadata": {},
   "outputs": [],
   "source": [
    "\n"
   ]
  },
  {
   "cell_type": "markdown",
   "id": "fbc1ab29",
   "metadata": {},
   "source": [
    "## 6) Concatenate (Align, then Combine)\n",
    "1. Choose common columns from `df_day` and `df_hour` (e.g., `dteday`, `season`, `weathersit`, `temp/temperature`, `hum/humidity`, `windspeed/wind_speed`, `cnt`)\n",
    "2. Rename so both selected DataFrames share the **same column names**\n",
    "3. Concatenate row-wise into `df_all`\n",
    "4. Show `df_all.shape` and `df_all.head(5)`\n"
   ]
  },
  {
   "cell_type": "code",
   "execution_count": null,
   "id": "5ead905a",
   "metadata": {},
   "outputs": [],
   "source": []
  },
  {
   "cell_type": "markdown",
   "id": "3dcdb081",
   "metadata": {},
   "source": [
    "## 7) Save\n",
    "Save `df_all` to `bike_sharing_cleaned.csv` (no index)."
   ]
  },
  {
   "cell_type": "code",
   "execution_count": null,
   "id": "29d80b8e",
   "metadata": {},
   "outputs": [],
   "source": [
    "\n"
   ]
  },
  {
   "cell_type": "markdown",
   "id": "c6a57ec3",
   "metadata": {},
   "source": [
    "---\n",
    "\n",
    "✅ **End of Mini Lab**\n",
    "\n"
   ]
  }
 ],
 "metadata": {
  "kernelspec": {
   "display_name": "Python 3 (ipykernel)",
   "language": "python",
   "name": "python3"
  },
  "language_info": {
   "codemirror_mode": {
    "name": "ipython",
    "version": 3
   },
   "file_extension": ".py",
   "mimetype": "text/x-python",
   "name": "python",
   "nbconvert_exporter": "python",
   "pygments_lexer": "ipython3",
   "version": "3.12.7"
  }
 },
 "nbformat": 4,
 "nbformat_minor": 5
}
